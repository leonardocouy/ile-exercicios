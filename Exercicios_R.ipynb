{
 "cells": [
  {
   "cell_type": "markdown",
   "metadata": {},
   "source": [
    "# Exercícios Avaliativos R\n",
    "\n",
    "* **Matéria:** Introdução a Linguagens Estatísticas\n",
    "* **Professor:** Leonardo Vilela\n",
    "* **Aluno:** Leonardo Flores\n",
    "\n",
    "**CIÊNCIA DE DADOS & BIG DATA - PUC MINAS 2017/1**"
   ]
  },
  {
   "cell_type": "markdown",
   "metadata": {},
   "source": [
    "## Lista de Exercícios 1"
   ]
  },
  {
   "cell_type": "markdown",
   "metadata": {},
   "source": [
    "### Exercício 1.1\n",
    "\n",
    "Crie um vetor chamado vec contendo os elementos {26, NA, 72, 45, 12, 16, NA, 88} e obtenha o que se pede:\n",
    "\n",
    "**a)** Obtenha um novo vetor (vec1) contendo o primeiro e o último elementos do vetor vec;\n",
    "\n",
    "**b)** Insira entre os elementos 72 e 45 do vetor vec os elementos {24, 13, 42}. Dica: a função append()\n",
    "pode ser útil;\n",
    "\n",
    "**c)** Obtenha o produto dos elementos do vetor vec;\n",
    "\n",
    "**d)** Obtenha os valores que não sejam NA;\n",
    "\n",
    "**e)** Obtenha os valores maiores que a média dos elementos do vetor vec.\n",
    "\n",
    "**f)** Obtenha um vetor contendo os valores que imediatamente antecedem e sucedem a cada NA. Dica: a função which() pode ser útil;\n",
    "\n",
    "**g)** Dadososvetoresa <- c(14, 27, 45, 72, 19, -12)eb <- c(6, 9, 8, NA, 7, 5),calculea + b + 5;\n",
    "\n",
    "**h)** Crie um vetor num_pares contendo os números inteiros pares menores que 100;\n",
    "\n",
    "**i)** Exclua deste vetor os valores maiores que 60 e menores que 80;\n",
    "\n",
    "**j)** Encontre a variância dos valores remanescentes.\n"
   ]
  },
  {
   "cell_type": "code",
   "execution_count": 1,
   "metadata": {},
   "outputs": [
    {
     "data": {
      "text/html": [
       "<ol class=list-inline>\n",
       "\t<li>26</li>\n",
       "\t<li>NA</li>\n",
       "\t<li>72</li>\n",
       "\t<li>45</li>\n",
       "\t<li>12</li>\n",
       "\t<li>16</li>\n",
       "\t<li>NA</li>\n",
       "\t<li>88</li>\n",
       "</ol>\n"
      ],
      "text/latex": [
       "\\begin{enumerate*}\n",
       "\\item 26\n",
       "\\item NA\n",
       "\\item 72\n",
       "\\item 45\n",
       "\\item 12\n",
       "\\item 16\n",
       "\\item NA\n",
       "\\item 88\n",
       "\\end{enumerate*}\n"
      ],
      "text/markdown": [
       "1. 26\n",
       "2. NA\n",
       "3. 72\n",
       "4. 45\n",
       "5. 12\n",
       "6. 16\n",
       "7. NA\n",
       "8. 88\n",
       "\n",
       "\n"
      ],
      "text/plain": [
       "[1] 26 NA 72 45 12 16 NA 88"
      ]
     },
     "metadata": {},
     "output_type": "display_data"
    }
   ],
   "source": [
    "# Definindo vetor antes de tudo\n",
    "vec <- c(26, NA, 72, 45, 12, 16, NA, 88)\n",
    "vec"
   ]
  },
  {
   "cell_type": "code",
   "execution_count": 2,
   "metadata": {},
   "outputs": [
    {
     "data": {
      "text/html": [
       "<ol class=list-inline>\n",
       "\t<li>26</li>\n",
       "\t<li>88</li>\n",
       "</ol>\n"
      ],
      "text/latex": [
       "\\begin{enumerate*}\n",
       "\\item 26\n",
       "\\item 88\n",
       "\\end{enumerate*}\n"
      ],
      "text/markdown": [
       "1. 26\n",
       "2. 88\n",
       "\n",
       "\n"
      ],
      "text/plain": [
       "[1] 26 88"
      ]
     },
     "metadata": {},
     "output_type": "display_data"
    }
   ],
   "source": [
    "# a) Obtenha um novo vetor (vec1) contendo o primeiro e o último elementos do vetor vec;\n",
    "tamanho <- length(vec)\n",
    "vec1 <- c(vec[1], vec[tamanho])\n",
    "vec1"
   ]
  },
  {
   "cell_type": "code",
   "execution_count": 3,
   "metadata": {},
   "outputs": [
    {
     "data": {
      "text/html": [
       "<ol class=list-inline>\n",
       "\t<li>26</li>\n",
       "\t<li>NA</li>\n",
       "\t<li>72</li>\n",
       "\t<li>24</li>\n",
       "\t<li>13</li>\n",
       "\t<li>42</li>\n",
       "\t<li>45</li>\n",
       "\t<li>12</li>\n",
       "\t<li>16</li>\n",
       "\t<li>NA</li>\n",
       "\t<li>88</li>\n",
       "</ol>\n"
      ],
      "text/latex": [
       "\\begin{enumerate*}\n",
       "\\item 26\n",
       "\\item NA\n",
       "\\item 72\n",
       "\\item 24\n",
       "\\item 13\n",
       "\\item 42\n",
       "\\item 45\n",
       "\\item 12\n",
       "\\item 16\n",
       "\\item NA\n",
       "\\item 88\n",
       "\\end{enumerate*}\n"
      ],
      "text/markdown": [
       "1. 26\n",
       "2. NA\n",
       "3. 72\n",
       "4. 24\n",
       "5. 13\n",
       "6. 42\n",
       "7. 45\n",
       "8. 12\n",
       "9. 16\n",
       "10. NA\n",
       "11. 88\n",
       "\n",
       "\n"
      ],
      "text/plain": [
       " [1] 26 NA 72 24 13 42 45 12 16 NA 88"
      ]
     },
     "metadata": {},
     "output_type": "display_data"
    }
   ],
   "source": [
    "# b) Insira entre os elementos 72 e 45 do vetor vec os elementos {24, 13, 42}. Dica: a função append()\n",
    "# pode ser útil;\n",
    "\n",
    "append(vec, c(24, 13, 42), after=3)"
   ]
  },
  {
   "cell_type": "code",
   "execution_count": 4,
   "metadata": {},
   "outputs": [
    {
     "data": {
      "text/html": [
       "1423319040"
      ],
      "text/latex": [
       "1423319040"
      ],
      "text/markdown": [
       "1423319040"
      ],
      "text/plain": [
       "[1] 1423319040"
      ]
     },
     "metadata": {},
     "output_type": "display_data"
    }
   ],
   "source": [
    "# c) Obtenha o produto dos elementos do vetor vec;\n",
    "\n",
    "prod(vec, na.rm = TRUE)"
   ]
  },
  {
   "cell_type": "code",
   "execution_count": 5,
   "metadata": {},
   "outputs": [
    {
     "data": {
      "text/html": [
       "<ol class=list-inline>\n",
       "\t<li>26</li>\n",
       "\t<li>72</li>\n",
       "\t<li>45</li>\n",
       "\t<li>12</li>\n",
       "\t<li>16</li>\n",
       "\t<li>88</li>\n",
       "</ol>\n"
      ],
      "text/latex": [
       "\\begin{enumerate*}\n",
       "\\item 26\n",
       "\\item 72\n",
       "\\item 45\n",
       "\\item 12\n",
       "\\item 16\n",
       "\\item 88\n",
       "\\end{enumerate*}\n"
      ],
      "text/markdown": [
       "1. 26\n",
       "2. 72\n",
       "3. 45\n",
       "4. 12\n",
       "5. 16\n",
       "6. 88\n",
       "\n",
       "\n"
      ],
      "text/plain": [
       "[1] 26 72 45 12 16 88"
      ]
     },
     "metadata": {},
     "output_type": "display_data"
    }
   ],
   "source": [
    "# d) Obtenha os valores que não sejam NA;\n",
    "\n",
    "vec[!is.na(vec)]"
   ]
  },
  {
   "cell_type": "code",
   "execution_count": 6,
   "metadata": {},
   "outputs": [
    {
     "data": {
      "text/html": [
       "<ol class=list-inline>\n",
       "\t<li>26</li>\n",
       "\t<li>NA</li>\n",
       "\t<li>72</li>\n",
       "\t<li>45</li>\n",
       "\t<li>12</li>\n",
       "\t<li>16</li>\n",
       "\t<li>NA</li>\n",
       "\t<li>88</li>\n",
       "</ol>\n"
      ],
      "text/latex": [
       "\\begin{enumerate*}\n",
       "\\item 26\n",
       "\\item NA\n",
       "\\item 72\n",
       "\\item 45\n",
       "\\item 12\n",
       "\\item 16\n",
       "\\item NA\n",
       "\\item 88\n",
       "\\end{enumerate*}\n"
      ],
      "text/markdown": [
       "1. 26\n",
       "2. NA\n",
       "3. 72\n",
       "4. 45\n",
       "5. 12\n",
       "6. 16\n",
       "7. NA\n",
       "8. 88\n",
       "\n",
       "\n"
      ],
      "text/plain": [
       "[1] 26 NA 72 45 12 16 NA 88"
      ]
     },
     "metadata": {},
     "output_type": "display_data"
    }
   ],
   "source": [
    "# e) Obtenha os valores maiores que a média dos elementos do vetor vec.\n",
    "media <- mean(!is.na(vec))\n",
    "vec[vec > media ]"
   ]
  },
  {
   "cell_type": "code",
   "execution_count": 7,
   "metadata": {},
   "outputs": [
    {
     "data": {
      "text/html": [
       "26"
      ],
      "text/latex": [
       "26"
      ],
      "text/markdown": [
       "26"
      ],
      "text/plain": [
       "[1] 26"
      ]
     },
     "metadata": {},
     "output_type": "display_data"
    },
    {
     "data": {
      "text/html": [
       "<ol class=list-inline>\n",
       "\t<li>72</li>\n",
       "\t<li>45</li>\n",
       "\t<li>12</li>\n",
       "\t<li>16</li>\n",
       "\t<li>NA</li>\n",
       "\t<li>88</li>\n",
       "</ol>\n"
      ],
      "text/latex": [
       "\\begin{enumerate*}\n",
       "\\item 72\n",
       "\\item 45\n",
       "\\item 12\n",
       "\\item 16\n",
       "\\item NA\n",
       "\\item 88\n",
       "\\end{enumerate*}\n"
      ],
      "text/markdown": [
       "1. 72\n",
       "2. 45\n",
       "3. 12\n",
       "4. 16\n",
       "5. NA\n",
       "6. 88\n",
       "\n",
       "\n"
      ],
      "text/plain": [
       "[1] 72 45 12 16 NA 88"
      ]
     },
     "metadata": {},
     "output_type": "display_data"
    },
    {
     "data": {
      "text/html": [
       "<ol class=list-inline>\n",
       "\t<li>16</li>\n",
       "\t<li>12</li>\n",
       "\t<li>45</li>\n",
       "\t<li>72</li>\n",
       "\t<li>NA</li>\n",
       "\t<li>26</li>\n",
       "</ol>\n"
      ],
      "text/latex": [
       "\\begin{enumerate*}\n",
       "\\item 16\n",
       "\\item 12\n",
       "\\item 45\n",
       "\\item 72\n",
       "\\item NA\n",
       "\\item 26\n",
       "\\end{enumerate*}\n"
      ],
      "text/markdown": [
       "1. 16\n",
       "2. 12\n",
       "3. 45\n",
       "4. 72\n",
       "5. NA\n",
       "6. 26\n",
       "\n",
       "\n"
      ],
      "text/plain": [
       "[1] 16 12 45 72 NA 26"
      ]
     },
     "metadata": {},
     "output_type": "display_data"
    },
    {
     "data": {
      "text/html": [
       "88"
      ],
      "text/latex": [
       "88"
      ],
      "text/markdown": [
       "88"
      ],
      "text/plain": [
       "[1] 88"
      ]
     },
     "metadata": {},
     "output_type": "display_data"
    }
   ],
   "source": [
    "# f) Obtenha um vetor contendo os valores que imediatamente antecedem e sucedem a cada NA. Dica: a função which() pode ser útil;\n",
    "na_indexes <- which(is.na(vec))\n",
    "\n",
    "first_NA = na_indexes[1]\n",
    "second_NA = na_indexes[2]\n",
    "\n",
    "\n",
    "# antecessores do primeiro NA\n",
    "vec[0: (first_NA - 1)]\n",
    "\n",
    "# sucessores do primeiro NA\n",
    "vec[(first_NA + 1): length(vec)]\n",
    "\n",
    "# antecessores do segundo NA\n",
    "vec[(second_NA - 1):1]\n",
    "\n",
    "# sucessores do segundo NA\n",
    "vec[(second_NA + 1): length(vec)]"
   ]
  },
  {
   "cell_type": "code",
   "execution_count": 8,
   "metadata": {},
   "outputs": [
    {
     "data": {
      "text/html": [
       "<ol class=list-inline>\n",
       "\t<li>25</li>\n",
       "\t<li>41</li>\n",
       "\t<li>58</li>\n",
       "\t<li>NA</li>\n",
       "\t<li>31</li>\n",
       "\t<li>-2</li>\n",
       "</ol>\n"
      ],
      "text/latex": [
       "\\begin{enumerate*}\n",
       "\\item 25\n",
       "\\item 41\n",
       "\\item 58\n",
       "\\item NA\n",
       "\\item 31\n",
       "\\item -2\n",
       "\\end{enumerate*}\n"
      ],
      "text/markdown": [
       "1. 25\n",
       "2. 41\n",
       "3. 58\n",
       "4. NA\n",
       "5. 31\n",
       "6. -2\n",
       "\n",
       "\n"
      ],
      "text/plain": [
       "[1] 25 41 58 NA 31 -2"
      ]
     },
     "metadata": {},
     "output_type": "display_data"
    }
   ],
   "source": [
    "# g) Dadososvetoresa <- c(14, 27, 45, 72, 19, -12)eb <- c(6, 9, 8, NA, 7, 5),calculea + b + 5;\n",
    "\n",
    "a <- c(14, 27, 45, 72, 19, -12)\n",
    "b <- c(6, 9, 8, NA, 7, 5)\n",
    "\n",
    "a + b + 5"
   ]
  },
  {
   "cell_type": "code",
   "execution_count": 9,
   "metadata": {},
   "outputs": [
    {
     "data": {
      "text/html": [
       "<ol class=list-inline>\n",
       "\t<li>0</li>\n",
       "\t<li>2</li>\n",
       "\t<li>4</li>\n",
       "\t<li>6</li>\n",
       "\t<li>8</li>\n",
       "\t<li>10</li>\n",
       "\t<li>12</li>\n",
       "\t<li>14</li>\n",
       "\t<li>16</li>\n",
       "\t<li>18</li>\n",
       "\t<li>20</li>\n",
       "\t<li>22</li>\n",
       "\t<li>24</li>\n",
       "\t<li>26</li>\n",
       "\t<li>28</li>\n",
       "\t<li>30</li>\n",
       "\t<li>32</li>\n",
       "\t<li>34</li>\n",
       "\t<li>36</li>\n",
       "\t<li>38</li>\n",
       "\t<li>40</li>\n",
       "\t<li>42</li>\n",
       "\t<li>44</li>\n",
       "\t<li>46</li>\n",
       "\t<li>48</li>\n",
       "\t<li>50</li>\n",
       "\t<li>52</li>\n",
       "\t<li>54</li>\n",
       "\t<li>56</li>\n",
       "\t<li>58</li>\n",
       "\t<li>60</li>\n",
       "\t<li>62</li>\n",
       "\t<li>64</li>\n",
       "\t<li>66</li>\n",
       "\t<li>68</li>\n",
       "\t<li>70</li>\n",
       "\t<li>72</li>\n",
       "\t<li>74</li>\n",
       "\t<li>76</li>\n",
       "\t<li>78</li>\n",
       "\t<li>80</li>\n",
       "\t<li>82</li>\n",
       "\t<li>84</li>\n",
       "\t<li>86</li>\n",
       "\t<li>88</li>\n",
       "\t<li>90</li>\n",
       "\t<li>92</li>\n",
       "\t<li>94</li>\n",
       "\t<li>96</li>\n",
       "\t<li>98</li>\n",
       "</ol>\n"
      ],
      "text/latex": [
       "\\begin{enumerate*}\n",
       "\\item 0\n",
       "\\item 2\n",
       "\\item 4\n",
       "\\item 6\n",
       "\\item 8\n",
       "\\item 10\n",
       "\\item 12\n",
       "\\item 14\n",
       "\\item 16\n",
       "\\item 18\n",
       "\\item 20\n",
       "\\item 22\n",
       "\\item 24\n",
       "\\item 26\n",
       "\\item 28\n",
       "\\item 30\n",
       "\\item 32\n",
       "\\item 34\n",
       "\\item 36\n",
       "\\item 38\n",
       "\\item 40\n",
       "\\item 42\n",
       "\\item 44\n",
       "\\item 46\n",
       "\\item 48\n",
       "\\item 50\n",
       "\\item 52\n",
       "\\item 54\n",
       "\\item 56\n",
       "\\item 58\n",
       "\\item 60\n",
       "\\item 62\n",
       "\\item 64\n",
       "\\item 66\n",
       "\\item 68\n",
       "\\item 70\n",
       "\\item 72\n",
       "\\item 74\n",
       "\\item 76\n",
       "\\item 78\n",
       "\\item 80\n",
       "\\item 82\n",
       "\\item 84\n",
       "\\item 86\n",
       "\\item 88\n",
       "\\item 90\n",
       "\\item 92\n",
       "\\item 94\n",
       "\\item 96\n",
       "\\item 98\n",
       "\\end{enumerate*}\n"
      ],
      "text/markdown": [
       "1. 0\n",
       "2. 2\n",
       "3. 4\n",
       "4. 6\n",
       "5. 8\n",
       "6. 10\n",
       "7. 12\n",
       "8. 14\n",
       "9. 16\n",
       "10. 18\n",
       "11. 20\n",
       "12. 22\n",
       "13. 24\n",
       "14. 26\n",
       "15. 28\n",
       "16. 30\n",
       "17. 32\n",
       "18. 34\n",
       "19. 36\n",
       "20. 38\n",
       "21. 40\n",
       "22. 42\n",
       "23. 44\n",
       "24. 46\n",
       "25. 48\n",
       "26. 50\n",
       "27. 52\n",
       "28. 54\n",
       "29. 56\n",
       "30. 58\n",
       "31. 60\n",
       "32. 62\n",
       "33. 64\n",
       "34. 66\n",
       "35. 68\n",
       "36. 70\n",
       "37. 72\n",
       "38. 74\n",
       "39. 76\n",
       "40. 78\n",
       "41. 80\n",
       "42. 82\n",
       "43. 84\n",
       "44. 86\n",
       "45. 88\n",
       "46. 90\n",
       "47. 92\n",
       "48. 94\n",
       "49. 96\n",
       "50. 98\n",
       "\n",
       "\n"
      ],
      "text/plain": [
       " [1]  0  2  4  6  8 10 12 14 16 18 20 22 24 26 28 30 32 34 36 38 40 42 44 46 48\n",
       "[26] 50 52 54 56 58 60 62 64 66 68 70 72 74 76 78 80 82 84 86 88 90 92 94 96 98"
      ]
     },
     "metadata": {},
     "output_type": "display_data"
    }
   ],
   "source": [
    "# h) Crie um vetor num_pares contendo os números inteiros pares menores que 100;\n",
    "num_pares <- seq(0, 99, 2)\n",
    "num_pares"
   ]
  },
  {
   "cell_type": "code",
   "execution_count": 10,
   "metadata": {},
   "outputs": [
    {
     "data": {
      "text/html": [
       "<ol class=list-inline>\n",
       "\t<li>0</li>\n",
       "\t<li>2</li>\n",
       "\t<li>4</li>\n",
       "\t<li>6</li>\n",
       "\t<li>8</li>\n",
       "\t<li>10</li>\n",
       "\t<li>12</li>\n",
       "\t<li>14</li>\n",
       "\t<li>16</li>\n",
       "\t<li>18</li>\n",
       "\t<li>20</li>\n",
       "\t<li>22</li>\n",
       "\t<li>24</li>\n",
       "\t<li>26</li>\n",
       "\t<li>28</li>\n",
       "\t<li>30</li>\n",
       "\t<li>32</li>\n",
       "\t<li>34</li>\n",
       "\t<li>36</li>\n",
       "\t<li>38</li>\n",
       "\t<li>40</li>\n",
       "\t<li>42</li>\n",
       "\t<li>44</li>\n",
       "\t<li>46</li>\n",
       "\t<li>48</li>\n",
       "\t<li>50</li>\n",
       "\t<li>52</li>\n",
       "\t<li>54</li>\n",
       "\t<li>56</li>\n",
       "\t<li>58</li>\n",
       "\t<li>60</li>\n",
       "\t<li>80</li>\n",
       "\t<li>82</li>\n",
       "\t<li>84</li>\n",
       "\t<li>86</li>\n",
       "\t<li>88</li>\n",
       "\t<li>90</li>\n",
       "\t<li>92</li>\n",
       "\t<li>94</li>\n",
       "\t<li>96</li>\n",
       "\t<li>98</li>\n",
       "</ol>\n"
      ],
      "text/latex": [
       "\\begin{enumerate*}\n",
       "\\item 0\n",
       "\\item 2\n",
       "\\item 4\n",
       "\\item 6\n",
       "\\item 8\n",
       "\\item 10\n",
       "\\item 12\n",
       "\\item 14\n",
       "\\item 16\n",
       "\\item 18\n",
       "\\item 20\n",
       "\\item 22\n",
       "\\item 24\n",
       "\\item 26\n",
       "\\item 28\n",
       "\\item 30\n",
       "\\item 32\n",
       "\\item 34\n",
       "\\item 36\n",
       "\\item 38\n",
       "\\item 40\n",
       "\\item 42\n",
       "\\item 44\n",
       "\\item 46\n",
       "\\item 48\n",
       "\\item 50\n",
       "\\item 52\n",
       "\\item 54\n",
       "\\item 56\n",
       "\\item 58\n",
       "\\item 60\n",
       "\\item 80\n",
       "\\item 82\n",
       "\\item 84\n",
       "\\item 86\n",
       "\\item 88\n",
       "\\item 90\n",
       "\\item 92\n",
       "\\item 94\n",
       "\\item 96\n",
       "\\item 98\n",
       "\\end{enumerate*}\n"
      ],
      "text/markdown": [
       "1. 0\n",
       "2. 2\n",
       "3. 4\n",
       "4. 6\n",
       "5. 8\n",
       "6. 10\n",
       "7. 12\n",
       "8. 14\n",
       "9. 16\n",
       "10. 18\n",
       "11. 20\n",
       "12. 22\n",
       "13. 24\n",
       "14. 26\n",
       "15. 28\n",
       "16. 30\n",
       "17. 32\n",
       "18. 34\n",
       "19. 36\n",
       "20. 38\n",
       "21. 40\n",
       "22. 42\n",
       "23. 44\n",
       "24. 46\n",
       "25. 48\n",
       "26. 50\n",
       "27. 52\n",
       "28. 54\n",
       "29. 56\n",
       "30. 58\n",
       "31. 60\n",
       "32. 80\n",
       "33. 82\n",
       "34. 84\n",
       "35. 86\n",
       "36. 88\n",
       "37. 90\n",
       "38. 92\n",
       "39. 94\n",
       "40. 96\n",
       "41. 98\n",
       "\n",
       "\n"
      ],
      "text/plain": [
       " [1]  0  2  4  6  8 10 12 14 16 18 20 22 24 26 28 30 32 34 36 38 40 42 44 46 48\n",
       "[26] 50 52 54 56 58 60 80 82 84 86 88 90 92 94 96 98"
      ]
     },
     "metadata": {},
     "output_type": "display_data"
    }
   ],
   "source": [
    "# i) Exclua deste vetor os valores maiores que 60 e menores que 80;\n",
    "x <- num_pares[num_pares > 60 & num_pares < 80]\n",
    "remanescentes <- num_pares[! num_pares %in% x]\n",
    "remanescentes"
   ]
  },
  {
   "cell_type": "code",
   "execution_count": 11,
   "metadata": {},
   "outputs": [
    {
     "data": {
      "text/html": [
       "914.243902439024"
      ],
      "text/latex": [
       "914.243902439024"
      ],
      "text/markdown": [
       "914.243902439024"
      ],
      "text/plain": [
       "[1] 914.2439"
      ]
     },
     "metadata": {},
     "output_type": "display_data"
    }
   ],
   "source": [
    "# j) Encontre a variância dos valores remanescentes.\n",
    "\n",
    "var(remanescentes)"
   ]
  },
  {
   "cell_type": "markdown",
   "metadata": {},
   "source": [
    "### Exercício 1.2\n",
    "\n",
    "O volume de um cone de raio R e altura H é dado por 1 × π × R2 × H. Tendo obtido o volume e a 3\n",
    "altura de seis cones, apresentados a seguir, calcule o volume de cada um deles.\n",
    "\n",
    "R = {2.27, 1.98, 1.69, 1.88, 1.64, 2.14}\n",
    "\n",
    "H = {8.28, 8.04, 9.06, 8.70, 7.58, 8.34}"
   ]
  },
  {
   "cell_type": "code",
   "execution_count": 12,
   "metadata": {},
   "outputs": [
    {
     "data": {
      "text/html": [
       "<ol class=list-inline>\n",
       "\t<li>5.1529</li>\n",
       "\t<li>3.9204</li>\n",
       "\t<li>2.8561</li>\n",
       "\t<li>3.5344</li>\n",
       "\t<li>2.6896</li>\n",
       "\t<li>4.5796</li>\n",
       "</ol>\n"
      ],
      "text/latex": [
       "\\begin{enumerate*}\n",
       "\\item 5.1529\n",
       "\\item 3.9204\n",
       "\\item 2.8561\n",
       "\\item 3.5344\n",
       "\\item 2.6896\n",
       "\\item 4.5796\n",
       "\\end{enumerate*}\n"
      ],
      "text/markdown": [
       "1. 5.1529\n",
       "2. 3.9204\n",
       "3. 2.8561\n",
       "4. 3.5344\n",
       "5. 2.6896\n",
       "6. 4.5796\n",
       "\n",
       "\n"
      ],
      "text/plain": [
       "[1] 5.1529 3.9204 2.8561 3.5344 2.6896 4.5796"
      ]
     },
     "metadata": {},
     "output_type": "display_data"
    },
    {
     "data": {
      "text/html": [
       "<ol class=list-inline>\n",
       "\t<li>44.6797432857246</li>\n",
       "\t<li>33.0076835688776</li>\n",
       "\t<li>27.0975623893118</li>\n",
       "\t<li>32.2005707170585</li>\n",
       "\t<li>21.3493924054336</li>\n",
       "\t<li>39.9965208515359</li>\n",
       "</ol>\n"
      ],
      "text/latex": [
       "\\begin{enumerate*}\n",
       "\\item 44.6797432857246\n",
       "\\item 33.0076835688776\n",
       "\\item 27.0975623893118\n",
       "\\item 32.2005707170585\n",
       "\\item 21.3493924054336\n",
       "\\item 39.9965208515359\n",
       "\\end{enumerate*}\n"
      ],
      "text/markdown": [
       "1. 44.6797432857246\n",
       "2. 33.0076835688776\n",
       "3. 27.0975623893118\n",
       "4. 32.2005707170585\n",
       "5. 21.3493924054336\n",
       "6. 39.9965208515359\n",
       "\n",
       "\n"
      ],
      "text/plain": [
       "[1] 44.67974 33.00768 27.09756 32.20057 21.34939 39.99652"
      ]
     },
     "metadata": {},
     "output_type": "display_data"
    }
   ],
   "source": [
    "R <- c(2.27, 1.98, 1.69, 1.88, 1.64, 2.14)\n",
    "H <- c(8.28, 8.04, 9.06, 8.70, 7.58, 8.34)\n",
    "\n",
    "R ** 2\n",
    "\n",
    "area = (1/3 * pi * R**2 * H)\n",
    "area"
   ]
  },
  {
   "cell_type": "markdown",
   "metadata": {},
   "source": [
    "### Exercício 1.3\n",
    "\n",
    "Calcule o que se pede:\n",
    "\n",
    "a) 3+9/5\n",
    "\n",
    "b) 564 + 29\n",
    "\n",
    "c) 76\n",
    "\n",
    "d) ln12345\n",
    "\n",
    "e) log2 12345\n",
    "\n",
    "f) log10 12345\n",
    "\n",
    "g)  6  - combinatório de seis, dois a dois (Dica: existe uma função que calcula isso). \n",
    "\n",
    "h) |18−50|\n",
    "\n",
    "i) sin(π),cos(π),tan(π)\n",
    "\n",
    "j) Arredonde o valor de π para 4 casas decimais;"
   ]
  },
  {
   "cell_type": "code",
   "execution_count": 13,
   "metadata": {},
   "outputs": [
    {
     "data": {
      "text/html": [
       "4.8"
      ],
      "text/latex": [
       "4.8"
      ],
      "text/markdown": [
       "4.8"
      ],
      "text/plain": [
       "[1] 4.8"
      ]
     },
     "metadata": {},
     "output_type": "display_data"
    }
   ],
   "source": [
    "# Letra A\n",
    "3 + 9/5"
   ]
  },
  {
   "cell_type": "code",
   "execution_count": 14,
   "metadata": {},
   "outputs": [
    {
     "data": {
      "text/html": [
       "9834501.8"
      ],
      "text/latex": [
       "9834501.8"
      ],
      "text/markdown": [
       "9834501.8"
      ],
      "text/plain": [
       "[1] 9834502"
      ]
     },
     "metadata": {},
     "output_type": "display_data"
    }
   ],
   "source": [
    "# Letra B\n",
    "56 ** 4 + 29/5"
   ]
  },
  {
   "cell_type": "code",
   "execution_count": 15,
   "metadata": {},
   "outputs": [
    {
     "data": {
      "text/html": [
       "8.71779788708135"
      ],
      "text/latex": [
       "8.71779788708135"
      ],
      "text/markdown": [
       "8.71779788708135"
      ],
      "text/plain": [
       "[1] 8.717798"
      ]
     },
     "metadata": {},
     "output_type": "display_data"
    }
   ],
   "source": [
    "# Letra C\n",
    "sqrt(76)"
   ]
  },
  {
   "cell_type": "code",
   "execution_count": 16,
   "metadata": {},
   "outputs": [
    {
     "data": {
      "text/html": [
       "9.42100640177928"
      ],
      "text/latex": [
       "9.42100640177928"
      ],
      "text/markdown": [
       "9.42100640177928"
      ],
      "text/plain": [
       "[1] 9.421006"
      ]
     },
     "metadata": {},
     "output_type": "display_data"
    }
   ],
   "source": [
    "# Letra D\n",
    "log(12345)"
   ]
  },
  {
   "cell_type": "code",
   "execution_count": 17,
   "metadata": {},
   "outputs": [
    {
     "data": {
      "text/html": [
       "13.5916392160301"
      ],
      "text/latex": [
       "13.5916392160301"
      ],
      "text/markdown": [
       "13.5916392160301"
      ],
      "text/plain": [
       "[1] 13.59164"
      ]
     },
     "metadata": {},
     "output_type": "display_data"
    }
   ],
   "source": [
    "# Letra E\n",
    "log2(12345)"
   ]
  },
  {
   "cell_type": "code",
   "execution_count": 18,
   "metadata": {},
   "outputs": [
    {
     "data": {
      "text/html": [
       "4.09149109426795"
      ],
      "text/latex": [
       "4.09149109426795"
      ],
      "text/markdown": [
       "4.09149109426795"
      ],
      "text/plain": [
       "[1] 4.091491"
      ]
     },
     "metadata": {},
     "output_type": "display_data"
    }
   ],
   "source": [
    "# Letra F\n",
    "log10(12345)"
   ]
  },
  {
   "cell_type": "code",
   "execution_count": 19,
   "metadata": {},
   "outputs": [
    {
     "data": {
      "text/html": [
       "<table>\n",
       "<tbody>\n",
       "\t<tr><td>1</td><td>1</td><td>1</td><td>1</td><td>1</td><td>2</td><td>2</td><td>2</td><td>2</td><td>3</td><td>3</td><td>3</td><td>4</td><td>4</td><td>5</td></tr>\n",
       "\t<tr><td>2</td><td>3</td><td>4</td><td>5</td><td>6</td><td>3</td><td>4</td><td>5</td><td>6</td><td>4</td><td>5</td><td>6</td><td>5</td><td>6</td><td>6</td></tr>\n",
       "</tbody>\n",
       "</table>\n"
      ],
      "text/latex": [
       "\\begin{tabular}{lllllllllllllll}\n",
       "\t 1 & 1 & 1 & 1 & 1 & 2 & 2 & 2 & 2 & 3 & 3 & 3 & 4 & 4 & 5\\\\\n",
       "\t 2 & 3 & 4 & 5 & 6 & 3 & 4 & 5 & 6 & 4 & 5 & 6 & 5 & 6 & 6\\\\\n",
       "\\end{tabular}\n"
      ],
      "text/markdown": [
       "\n",
       "| 1 | 1 | 1 | 1 | 1 | 2 | 2 | 2 | 2 | 3 | 3 | 3 | 4 | 4 | 5 | \n",
       "| 2 | 3 | 4 | 5 | 6 | 3 | 4 | 5 | 6 | 4 | 5 | 6 | 5 | 6 | 6 | \n",
       "\n",
       "\n"
      ],
      "text/plain": [
       "     [,1] [,2] [,3] [,4] [,5] [,6] [,7] [,8] [,9] [,10] [,11] [,12] [,13] [,14]\n",
       "[1,] 1    1    1    1    1    2    2    2    2    3     3     3     4     4    \n",
       "[2,] 2    3    4    5    6    3    4    5    6    4     5     6     5     6    \n",
       "     [,15]\n",
       "[1,] 5    \n",
       "[2,] 6    "
      ]
     },
     "metadata": {},
     "output_type": "display_data"
    }
   ],
   "source": [
    "# Letra G\n",
    "combn(6, 2)"
   ]
  },
  {
   "cell_type": "code",
   "execution_count": 20,
   "metadata": {},
   "outputs": [
    {
     "data": {
      "text/html": [
       "32"
      ],
      "text/latex": [
       "32"
      ],
      "text/markdown": [
       "32"
      ],
      "text/plain": [
       "[1] 32"
      ]
     },
     "metadata": {},
     "output_type": "display_data"
    }
   ],
   "source": [
    "# Letra H\n",
    "calc <- 18 - 50\n",
    "abs(calc)"
   ]
  },
  {
   "cell_type": "code",
   "execution_count": 21,
   "metadata": {},
   "outputs": [
    {
     "data": {
      "text/html": [
       "1.22464679914735e-16"
      ],
      "text/latex": [
       "1.22464679914735e-16"
      ],
      "text/markdown": [
       "1.22464679914735e-16"
      ],
      "text/plain": [
       "[1] 1.224647e-16"
      ]
     },
     "metadata": {},
     "output_type": "display_data"
    },
    {
     "data": {
      "text/html": [
       "-1"
      ],
      "text/latex": [
       "-1"
      ],
      "text/markdown": [
       "-1"
      ],
      "text/plain": [
       "[1] -1"
      ]
     },
     "metadata": {},
     "output_type": "display_data"
    },
    {
     "data": {
      "text/html": [
       "-1.22464679914735e-16"
      ],
      "text/latex": [
       "-1.22464679914735e-16"
      ],
      "text/markdown": [
       "-1.22464679914735e-16"
      ],
      "text/plain": [
       "[1] -1.224647e-16"
      ]
     },
     "metadata": {},
     "output_type": "display_data"
    }
   ],
   "source": [
    "# Letra I\n",
    "\n",
    "sin(pi)\n",
    "cos(pi)\n",
    "tan(pi)"
   ]
  },
  {
   "cell_type": "code",
   "execution_count": 22,
   "metadata": {},
   "outputs": [
    {
     "data": {
      "text/html": [
       "3.1416"
      ],
      "text/latex": [
       "3.1416"
      ],
      "text/markdown": [
       "3.1416"
      ],
      "text/plain": [
       "[1] 3.1416"
      ]
     },
     "metadata": {},
     "output_type": "display_data"
    }
   ],
   "source": [
    "# Letra J\n",
    "\n",
    "round(pi, 4)"
   ]
  },
  {
   "cell_type": "markdown",
   "metadata": {},
   "source": [
    "### Exercício 1.4\n",
    "\n",
    "Dada a matriz A definida a seguir, obtenha o que se pede:\n",
    "\n",
    "\n",
    "A=\n",
    "\n",
    "\n",
    "|35 72 45| \n",
    "\n",
    "|20 9 17 |\n",
    "\n",
    "|13 16 78|\n",
    "\n",
    "a) obtenha os elementos da diagonal principal. Dica: existe uma função que faz isso. . . ; \n",
    "\n",
    "b) obtenha a soma dos elementos da matriz;\n",
    "\n",
    "c) obtenha a soma dos elementos da primeira linha e da segunda coluna (A11 +A12 +A13 +A12 +A22 +A32) \n",
    "\n",
    "d) obtenha a soma da primeira coluna com com a terceira linha (A.1 + A3.)\n",
    "\n",
    "e) faça a trasposição da matriz;\n",
    "\n",
    "f) crie duas novas colunas com os valores: coluna 4:{27, 48, 23}, coluna 5:{12, 3, 9};\n",
    "\n",
    "g) substitua a terceira coluna de A pela soma da segunda e terceira colunas;"
   ]
  },
  {
   "cell_type": "code",
   "execution_count": 23,
   "metadata": {},
   "outputs": [
    {
     "data": {
      "text/html": [
       "<table>\n",
       "<tbody>\n",
       "\t<tr><td>35</td><td>72</td><td>45</td></tr>\n",
       "\t<tr><td>20</td><td> 9</td><td>17</td></tr>\n",
       "\t<tr><td>13</td><td>16</td><td>78</td></tr>\n",
       "</tbody>\n",
       "</table>\n"
      ],
      "text/latex": [
       "\\begin{tabular}{lll}\n",
       "\t 35 & 72 & 45\\\\\n",
       "\t 20 &  9 & 17\\\\\n",
       "\t 13 & 16 & 78\\\\\n",
       "\\end{tabular}\n"
      ],
      "text/markdown": [
       "\n",
       "| 35 | 72 | 45 | \n",
       "| 20 |  9 | 17 | \n",
       "| 13 | 16 | 78 | \n",
       "\n",
       "\n"
      ],
      "text/plain": [
       "     [,1] [,2] [,3]\n",
       "[1,] 35   72   45  \n",
       "[2,] 20    9   17  \n",
       "[3,] 13   16   78  "
      ]
     },
     "metadata": {},
     "output_type": "display_data"
    }
   ],
   "source": [
    "A = matrix(c(35, 20, 13, 72, 9, 16, 45, 17, 78), nrow=3, ncol=3)\n",
    "A"
   ]
  },
  {
   "cell_type": "code",
   "execution_count": 24,
   "metadata": {},
   "outputs": [
    {
     "data": {
      "text/html": [
       "<ol class=list-inline>\n",
       "\t<li>35</li>\n",
       "\t<li>9</li>\n",
       "\t<li>78</li>\n",
       "</ol>\n"
      ],
      "text/latex": [
       "\\begin{enumerate*}\n",
       "\\item 35\n",
       "\\item 9\n",
       "\\item 78\n",
       "\\end{enumerate*}\n"
      ],
      "text/markdown": [
       "1. 35\n",
       "2. 9\n",
       "3. 78\n",
       "\n",
       "\n"
      ],
      "text/plain": [
       "[1] 35  9 78"
      ]
     },
     "metadata": {},
     "output_type": "display_data"
    }
   ],
   "source": [
    "# a) obtenha os elementos da diagonal principal. Dica: existe uma função que faz isso. . . ;\n",
    "\n",
    "diag(A)"
   ]
  },
  {
   "cell_type": "code",
   "execution_count": 25,
   "metadata": {},
   "outputs": [
    {
     "data": {
      "text/html": [
       "305"
      ],
      "text/latex": [
       "305"
      ],
      "text/markdown": [
       "305"
      ],
      "text/plain": [
       "[1] 305"
      ]
     },
     "metadata": {},
     "output_type": "display_data"
    }
   ],
   "source": [
    "# b) obtenha a soma dos elementos da matriz;\n",
    "\n",
    "sum(A)"
   ]
  },
  {
   "cell_type": "code",
   "execution_count": 26,
   "metadata": {},
   "outputs": [
    {
     "data": {
      "text/html": [
       "249"
      ],
      "text/latex": [
       "249"
      ],
      "text/markdown": [
       "249"
      ],
      "text/plain": [
       "[1] 249"
      ]
     },
     "metadata": {},
     "output_type": "display_data"
    }
   ],
   "source": [
    "# c) obtenha a soma dos elementos da primeira linha e da segunda coluna (A11 +A12 +A13 +A12 +A22 +A32)\n",
    "\n",
    "first_row = A[1,]\n",
    "second_column = A[, 2]\n",
    "\n",
    "sum(first_row + second_column)"
   ]
  },
  {
   "cell_type": "code",
   "execution_count": 27,
   "metadata": {},
   "outputs": [
    {
     "data": {
      "text/html": [
       "175"
      ],
      "text/latex": [
       "175"
      ],
      "text/markdown": [
       "175"
      ],
      "text/plain": [
       "[1] 175"
      ]
     },
     "metadata": {},
     "output_type": "display_data"
    }
   ],
   "source": [
    "# d) obtenha a soma da primeira coluna com com a terceira linha (A.1 + A3.)\n",
    "\n",
    "first_column = A[, 1]\n",
    "third_row = A[3,]\n",
    "\n",
    "sum(first_column + third_row)"
   ]
  },
  {
   "cell_type": "code",
   "execution_count": 28,
   "metadata": {},
   "outputs": [
    {
     "data": {
      "text/html": [
       "<table>\n",
       "<tbody>\n",
       "\t<tr><td>35</td><td>20</td><td>13</td></tr>\n",
       "\t<tr><td>72</td><td> 9</td><td>16</td></tr>\n",
       "\t<tr><td>45</td><td>17</td><td>78</td></tr>\n",
       "</tbody>\n",
       "</table>\n"
      ],
      "text/latex": [
       "\\begin{tabular}{lll}\n",
       "\t 35 & 20 & 13\\\\\n",
       "\t 72 &  9 & 16\\\\\n",
       "\t 45 & 17 & 78\\\\\n",
       "\\end{tabular}\n"
      ],
      "text/markdown": [
       "\n",
       "| 35 | 20 | 13 | \n",
       "| 72 |  9 | 16 | \n",
       "| 45 | 17 | 78 | \n",
       "\n",
       "\n"
      ],
      "text/plain": [
       "     [,1] [,2] [,3]\n",
       "[1,] 35   20   13  \n",
       "[2,] 72    9   16  \n",
       "[3,] 45   17   78  "
      ]
     },
     "metadata": {},
     "output_type": "display_data"
    }
   ],
   "source": [
    "# e) faça a transposição da matriz.\n",
    "\n",
    "t(A)"
   ]
  },
  {
   "cell_type": "code",
   "execution_count": 29,
   "metadata": {},
   "outputs": [
    {
     "data": {
      "text/html": [
       "<table>\n",
       "<tbody>\n",
       "\t<tr><td>35</td><td>72</td><td>45</td><td>27</td><td>12</td></tr>\n",
       "\t<tr><td>20</td><td> 9</td><td>17</td><td>48</td><td> 3</td></tr>\n",
       "\t<tr><td>13</td><td>16</td><td>78</td><td>23</td><td> 9</td></tr>\n",
       "</tbody>\n",
       "</table>\n"
      ],
      "text/latex": [
       "\\begin{tabular}{lllll}\n",
       "\t 35 & 72 & 45 & 27 & 12\\\\\n",
       "\t 20 &  9 & 17 & 48 &  3\\\\\n",
       "\t 13 & 16 & 78 & 23 &  9\\\\\n",
       "\\end{tabular}\n"
      ],
      "text/markdown": [
       "\n",
       "| 35 | 72 | 45 | 27 | 12 | \n",
       "| 20 |  9 | 17 | 48 |  3 | \n",
       "| 13 | 16 | 78 | 23 |  9 | \n",
       "\n",
       "\n"
      ],
      "text/plain": [
       "     [,1] [,2] [,3] [,4] [,5]\n",
       "[1,] 35   72   45   27   12  \n",
       "[2,] 20    9   17   48    3  \n",
       "[3,] 13   16   78   23    9  "
      ]
     },
     "metadata": {},
     "output_type": "display_data"
    }
   ],
   "source": [
    "# f) crie duas novas colunas com os valores: coluna 4:{27, 48, 23}, coluna 5:{12, 3, 9};\n",
    "\n",
    "A <- cbind(A, c(27, 48, 23)) \n",
    "A <- cbind(A, c(12, 3, 9))\n",
    "A"
   ]
  },
  {
   "cell_type": "code",
   "execution_count": 30,
   "metadata": {},
   "outputs": [
    {
     "data": {
      "text/html": [
       "<table>\n",
       "<tbody>\n",
       "\t<tr><td>35 </td><td>72 </td><td>117</td><td>27 </td><td>12 </td></tr>\n",
       "\t<tr><td>20 </td><td> 9 </td><td> 26</td><td>48 </td><td> 3 </td></tr>\n",
       "\t<tr><td>13 </td><td>16 </td><td> 94</td><td>23 </td><td> 9 </td></tr>\n",
       "</tbody>\n",
       "</table>\n"
      ],
      "text/latex": [
       "\\begin{tabular}{lllll}\n",
       "\t 35  & 72  & 117 & 27  & 12 \\\\\n",
       "\t 20  &  9  &  26 & 48  &  3 \\\\\n",
       "\t 13  & 16  &  94 & 23  &  9 \\\\\n",
       "\\end{tabular}\n"
      ],
      "text/markdown": [
       "\n",
       "| 35  | 72  | 117 | 27  | 12  | \n",
       "| 20  |  9  |  26 | 48  |  3  | \n",
       "| 13  | 16  |  94 | 23  |  9  | \n",
       "\n",
       "\n"
      ],
      "text/plain": [
       "     [,1] [,2] [,3] [,4] [,5]\n",
       "[1,] 35   72   117  27   12  \n",
       "[2,] 20    9    26  48    3  \n",
       "[3,] 13   16    94  23    9  "
      ]
     },
     "metadata": {},
     "output_type": "display_data"
    }
   ],
   "source": [
    "# g) substitua a terceira coluna de A pela soma da segunda e terceira colunas;\n",
    "\n",
    "A[, 3] = A[, 2] + A[, 3]\n",
    "A"
   ]
  },
  {
   "cell_type": "markdown",
   "metadata": {},
   "source": [
    "### Exercício 1.5\n",
    "\n",
    "a) Obtenha as linhas para as quais existam NA. Dica: a função complete.cases() pode ser útil; \n",
    "\n",
    "b) Obtenha a soma dos valores da coluna idade;\n",
    "\n",
    "c) Selecione a linha contendo o nome da pessoa de menor idade;\n",
    "\n",
    "d) Obtenha as linas para as quais não existam NA;\n",
    "\n",
    "e) Calcule as dimensões de df['idade'] e df[['idade']]. Use a função dim(); \n",
    "\n",
    "f) Obtenha os nomes das variáveis do data frame df;\n",
    "\n",
    "g) Adicione ao data frame os seguintes valores {Felipe, 36}, {Carla, 49} e {Rosane, 18}; \n",
    "\n",
    "h) Obtenha os números das linhas para as quais existam NA;"
   ]
  },
  {
   "cell_type": "code",
   "execution_count": 31,
   "metadata": {},
   "outputs": [
    {
     "data": {
      "text/html": [
       "<table>\n",
       "<thead><tr><th scope=col>nome</th><th scope=col>idade</th></tr></thead>\n",
       "<tbody>\n",
       "\t<tr><td>Marcos </td><td>44     </td></tr>\n",
       "\t<tr><td>João   </td><td>26     </td></tr>\n",
       "\t<tr><td>José   </td><td>NA     </td></tr>\n",
       "\t<tr><td>NA     </td><td>29     </td></tr>\n",
       "\t<tr><td>Maria  </td><td>41     </td></tr>\n",
       "\t<tr><td>Helena </td><td>55     </td></tr>\n",
       "\t<tr><td>Jordana</td><td>72     </td></tr>\n",
       "</tbody>\n",
       "</table>\n"
      ],
      "text/latex": [
       "\\begin{tabular}{r|ll}\n",
       " nome & idade\\\\\n",
       "\\hline\n",
       "\t Marcos  & 44     \\\\\n",
       "\t João    & 26     \\\\\n",
       "\t José    & NA     \\\\\n",
       "\t NA      & 29     \\\\\n",
       "\t Maria   & 41     \\\\\n",
       "\t Helena  & 55     \\\\\n",
       "\t Jordana & 72     \\\\\n",
       "\\end{tabular}\n"
      ],
      "text/markdown": [
       "\n",
       "nome | idade | \n",
       "|---|---|---|---|---|---|---|\n",
       "| Marcos  | 44      | \n",
       "| João    | 26      | \n",
       "| José    | NA      | \n",
       "| NA      | 29      | \n",
       "| Maria   | 41      | \n",
       "| Helena  | 55      | \n",
       "| Jordana | 72      | \n",
       "\n",
       "\n"
      ],
      "text/plain": [
       "  nome    idade\n",
       "1 Marcos  44   \n",
       "2 João    26   \n",
       "3 José    NA   \n",
       "4 NA      29   \n",
       "5 Maria   41   \n",
       "6 Helena  55   \n",
       "7 Jordana 72   "
      ]
     },
     "metadata": {},
     "output_type": "display_data"
    }
   ],
   "source": [
    "df <- data.frame(\n",
    "           nome = c('Marcos', 'João', 'José', NA, 'Maria', 'Helena', 'Jordana'),\n",
    "           idade = c(44, 26, NA, 29, 41, 55, 72),\n",
    "            stringsAsFactors=FALSE)\n",
    "df"
   ]
  },
  {
   "cell_type": "code",
   "execution_count": 32,
   "metadata": {},
   "outputs": [
    {
     "data": {
      "text/html": [
       "<table>\n",
       "<thead><tr><th></th><th scope=col>nome</th><th scope=col>idade</th></tr></thead>\n",
       "<tbody>\n",
       "\t<tr><th scope=row>3</th><td>José</td><td>NA  </td></tr>\n",
       "\t<tr><th scope=row>4</th><td>NA  </td><td>29  </td></tr>\n",
       "</tbody>\n",
       "</table>\n"
      ],
      "text/latex": [
       "\\begin{tabular}{r|ll}\n",
       "  & nome & idade\\\\\n",
       "\\hline\n",
       "\t3 & José & NA  \\\\\n",
       "\t4 & NA   & 29  \\\\\n",
       "\\end{tabular}\n"
      ],
      "text/markdown": [
       "\n",
       "| <!--/--> | nome | idade | \n",
       "|---|---|\n",
       "| 3 | José | NA   | \n",
       "| 4 | NA   | 29   | \n",
       "\n",
       "\n"
      ],
      "text/plain": [
       "  nome idade\n",
       "3 José NA   \n",
       "4 NA   29   "
      ]
     },
     "metadata": {},
     "output_type": "display_data"
    }
   ],
   "source": [
    "# a) Obtenha as linhas para as quais existam NA. Dica: a função complete.cases() pode ser útil;\n",
    "\n",
    "df[!complete.cases(df),]"
   ]
  },
  {
   "cell_type": "code",
   "execution_count": 33,
   "metadata": {},
   "outputs": [
    {
     "data": {
      "text/html": [
       "267"
      ],
      "text/latex": [
       "267"
      ],
      "text/markdown": [
       "267"
      ],
      "text/plain": [
       "[1] 267"
      ]
     },
     "metadata": {},
     "output_type": "display_data"
    }
   ],
   "source": [
    "# b) Obtenha a soma dos valores da coluna idade;\n",
    "\n",
    "sum(df[, \"idade\"], na.rm = T)"
   ]
  },
  {
   "cell_type": "code",
   "execution_count": 34,
   "metadata": {},
   "outputs": [
    {
     "data": {
      "text/html": [
       "<table>\n",
       "<thead><tr><th></th><th scope=col>nome</th><th scope=col>idade</th></tr></thead>\n",
       "<tbody>\n",
       "\t<tr><th scope=row>2</th><td>João</td><td>26  </td></tr>\n",
       "</tbody>\n",
       "</table>\n"
      ],
      "text/latex": [
       "\\begin{tabular}{r|ll}\n",
       "  & nome & idade\\\\\n",
       "\\hline\n",
       "\t2 & João & 26  \\\\\n",
       "\\end{tabular}\n"
      ],
      "text/markdown": [
       "\n",
       "| <!--/--> | nome | idade | \n",
       "|---|\n",
       "| 2 | João | 26   | \n",
       "\n",
       "\n"
      ],
      "text/plain": [
       "  nome idade\n",
       "2 João 26   "
      ]
     },
     "metadata": {},
     "output_type": "display_data"
    }
   ],
   "source": [
    "# c) Selecione a linha contendo o nome da pessoa de menor idade;\n",
    "\n",
    "min_idade = min(df[, \"idade\"], na.rm = T)\n",
    "\n",
    "df[which(df$idade == min_idade),]"
   ]
  },
  {
   "cell_type": "code",
   "execution_count": 35,
   "metadata": {},
   "outputs": [
    {
     "data": {
      "text/html": [
       "<table>\n",
       "<thead><tr><th></th><th scope=col>nome</th><th scope=col>idade</th></tr></thead>\n",
       "<tbody>\n",
       "\t<tr><th scope=row>1</th><td>Marcos </td><td>44     </td></tr>\n",
       "\t<tr><th scope=row>2</th><td>João   </td><td>26     </td></tr>\n",
       "\t<tr><th scope=row>5</th><td>Maria  </td><td>41     </td></tr>\n",
       "\t<tr><th scope=row>6</th><td>Helena </td><td>55     </td></tr>\n",
       "\t<tr><th scope=row>7</th><td>Jordana</td><td>72     </td></tr>\n",
       "</tbody>\n",
       "</table>\n"
      ],
      "text/latex": [
       "\\begin{tabular}{r|ll}\n",
       "  & nome & idade\\\\\n",
       "\\hline\n",
       "\t1 & Marcos  & 44     \\\\\n",
       "\t2 & João    & 26     \\\\\n",
       "\t5 & Maria   & 41     \\\\\n",
       "\t6 & Helena  & 55     \\\\\n",
       "\t7 & Jordana & 72     \\\\\n",
       "\\end{tabular}\n"
      ],
      "text/markdown": [
       "\n",
       "| <!--/--> | nome | idade | \n",
       "|---|---|---|---|---|\n",
       "| 1 | Marcos  | 44      | \n",
       "| 2 | João    | 26      | \n",
       "| 5 | Maria   | 41      | \n",
       "| 6 | Helena  | 55      | \n",
       "| 7 | Jordana | 72      | \n",
       "\n",
       "\n"
      ],
      "text/plain": [
       "  nome    idade\n",
       "1 Marcos  44   \n",
       "2 João    26   \n",
       "5 Maria   41   \n",
       "6 Helena  55   \n",
       "7 Jordana 72   "
      ]
     },
     "metadata": {},
     "output_type": "display_data"
    }
   ],
   "source": [
    "# d) Obtenha as linas para as quais não existam NA;\n",
    "\n",
    "df[complete.cases(df),]"
   ]
  },
  {
   "cell_type": "code",
   "execution_count": 36,
   "metadata": {},
   "outputs": [
    {
     "data": {
      "text/html": [
       "<ol class=list-inline>\n",
       "\t<li>7</li>\n",
       "\t<li>1</li>\n",
       "</ol>\n"
      ],
      "text/latex": [
       "\\begin{enumerate*}\n",
       "\\item 7\n",
       "\\item 1\n",
       "\\end{enumerate*}\n"
      ],
      "text/markdown": [
       "1. 7\n",
       "2. 1\n",
       "\n",
       "\n"
      ],
      "text/plain": [
       "[1] 7 1"
      ]
     },
     "metadata": {},
     "output_type": "display_data"
    },
    {
     "data": {
      "text/plain": [
       "NULL"
      ]
     },
     "metadata": {},
     "output_type": "display_data"
    }
   ],
   "source": [
    "# e) Calcule as dimensões de df['idade'] e df[['idade']]. Use a função dim();\n",
    "\n",
    "dim(df['idade'])\n",
    "dim(df[['idade']])"
   ]
  },
  {
   "cell_type": "code",
   "execution_count": 37,
   "metadata": {},
   "outputs": [
    {
     "data": {
      "text/html": [
       "<ol class=list-inline>\n",
       "\t<li>'nome'</li>\n",
       "\t<li>'idade'</li>\n",
       "</ol>\n"
      ],
      "text/latex": [
       "\\begin{enumerate*}\n",
       "\\item 'nome'\n",
       "\\item 'idade'\n",
       "\\end{enumerate*}\n"
      ],
      "text/markdown": [
       "1. 'nome'\n",
       "2. 'idade'\n",
       "\n",
       "\n"
      ],
      "text/plain": [
       "[1] \"nome\"  \"idade\""
      ]
     },
     "metadata": {},
     "output_type": "display_data"
    }
   ],
   "source": [
    "# f) Obtenha os nomes das varáveis do dataframe df\n",
    "\n",
    "colnames(df)"
   ]
  },
  {
   "cell_type": "code",
   "execution_count": 38,
   "metadata": {},
   "outputs": [
    {
     "data": {
      "text/html": [
       "<table>\n",
       "<thead><tr><th scope=col>nome</th><th scope=col>idade</th></tr></thead>\n",
       "<tbody>\n",
       "\t<tr><td>Marcos </td><td>44     </td></tr>\n",
       "\t<tr><td>João   </td><td>26     </td></tr>\n",
       "\t<tr><td>José   </td><td>NA     </td></tr>\n",
       "\t<tr><td>NA     </td><td>29     </td></tr>\n",
       "\t<tr><td>Maria  </td><td>41     </td></tr>\n",
       "\t<tr><td>Helena </td><td>55     </td></tr>\n",
       "\t<tr><td>Jordana</td><td>72     </td></tr>\n",
       "\t<tr><td>Felipe </td><td>36     </td></tr>\n",
       "\t<tr><td>Carla  </td><td>49     </td></tr>\n",
       "\t<tr><td>Rosane </td><td>18     </td></tr>\n",
       "</tbody>\n",
       "</table>\n"
      ],
      "text/latex": [
       "\\begin{tabular}{r|ll}\n",
       " nome & idade\\\\\n",
       "\\hline\n",
       "\t Marcos  & 44     \\\\\n",
       "\t João    & 26     \\\\\n",
       "\t José    & NA     \\\\\n",
       "\t NA      & 29     \\\\\n",
       "\t Maria   & 41     \\\\\n",
       "\t Helena  & 55     \\\\\n",
       "\t Jordana & 72     \\\\\n",
       "\t Felipe  & 36     \\\\\n",
       "\t Carla   & 49     \\\\\n",
       "\t Rosane  & 18     \\\\\n",
       "\\end{tabular}\n"
      ],
      "text/markdown": [
       "\n",
       "nome | idade | \n",
       "|---|---|---|---|---|---|---|---|---|---|\n",
       "| Marcos  | 44      | \n",
       "| João    | 26      | \n",
       "| José    | NA      | \n",
       "| NA      | 29      | \n",
       "| Maria   | 41      | \n",
       "| Helena  | 55      | \n",
       "| Jordana | 72      | \n",
       "| Felipe  | 36      | \n",
       "| Carla   | 49      | \n",
       "| Rosane  | 18      | \n",
       "\n",
       "\n"
      ],
      "text/plain": [
       "   nome    idade\n",
       "1  Marcos  44   \n",
       "2  João    26   \n",
       "3  José    NA   \n",
       "4  NA      29   \n",
       "5  Maria   41   \n",
       "6  Helena  55   \n",
       "7  Jordana 72   \n",
       "8  Felipe  36   \n",
       "9  Carla   49   \n",
       "10 Rosane  18   "
      ]
     },
     "metadata": {},
     "output_type": "display_data"
    }
   ],
   "source": [
    "# g) Adicione ao data frame os seguintes valores {Felipe, 36}, {Carla, 49} e {Rosane, 18};\n",
    "\n",
    "# Data 1\n",
    "new_row1 <- c(\"Felipe\", 36)\n",
    "new_row2 <- c(\"Carla\", 49)\n",
    "new_row3 <- c(\"Rosane\", 18)\n",
    "\n",
    "df <- rbind(df, new_row1)\n",
    "df <- rbind(df, new_row2)\n",
    "df <- rbind(df, new_row3)\n",
    "df"
   ]
  },
  {
   "cell_type": "code",
   "execution_count": 39,
   "metadata": {},
   "outputs": [
    {
     "data": {
      "text/html": [
       "2"
      ],
      "text/latex": [
       "2"
      ],
      "text/markdown": [
       "2"
      ],
      "text/plain": [
       "[1] 2"
      ]
     },
     "metadata": {},
     "output_type": "display_data"
    }
   ],
   "source": [
    "# h) Obtenha o número de linhas para as quais existam NA.\n",
    "\n",
    "nrow(df[!complete.cases(df),])"
   ]
  },
  {
   "cell_type": "markdown",
   "metadata": {},
   "source": [
    "### Exercício 1.6 \n",
    "Considere que você possua dados sobre o peso (em kg) e altura (em cm) de um conjunto de pessoas, conforme mostrado na tabela abaixo.\n",
    "\n",
    "Calcule o índice de massa corporal das 4 pessoas e identifique qual delas está com o IMC maior que 25."
   ]
  },
  {
   "cell_type": "code",
   "execution_count": 40,
   "metadata": {},
   "outputs": [
    {
     "data": {
      "text/html": [
       "<table>\n",
       "<thead><tr><th></th><th scope=col>Nome</th><th scope=col>Altura</th><th scope=col>Peso</th><th scope=col>IMC</th></tr></thead>\n",
       "<tbody>\n",
       "\t<tr><th scope=row>1</th><td>Pedro   </td><td>180     </td><td>87      </td><td>26.85185</td></tr>\n",
       "\t<tr><th scope=row>3</th><td>Maria   </td><td>160     </td><td>65      </td><td>25.39062</td></tr>\n",
       "\t<tr><th scope=row>4</th><td>Sandra  </td><td>193     </td><td>100     </td><td>26.84636</td></tr>\n",
       "</tbody>\n",
       "</table>\n"
      ],
      "text/latex": [
       "\\begin{tabular}{r|llll}\n",
       "  & Nome & Altura & Peso & IMC\\\\\n",
       "\\hline\n",
       "\t1 & Pedro    & 180      & 87       & 26.85185\\\\\n",
       "\t3 & Maria    & 160      & 65       & 25.39062\\\\\n",
       "\t4 & Sandra   & 193      & 100      & 26.84636\\\\\n",
       "\\end{tabular}\n"
      ],
      "text/markdown": [
       "\n",
       "| <!--/--> | Nome | Altura | Peso | IMC | \n",
       "|---|---|---|\n",
       "| 1 | Pedro    | 180      | 87       | 26.85185 | \n",
       "| 3 | Maria    | 160      | 65       | 25.39062 | \n",
       "| 4 | Sandra   | 193      | 100      | 26.84636 | \n",
       "\n",
       "\n"
      ],
      "text/plain": [
       "  Nome   Altura Peso IMC     \n",
       "1 Pedro  180    87   26.85185\n",
       "3 Maria  160    65   25.39062\n",
       "4 Sandra 193    100  26.84636"
      ]
     },
     "metadata": {},
     "output_type": "display_data"
    }
   ],
   "source": [
    "people <- matrix(c(\n",
    "    \"Pedro\", 180, 87, \n",
    "    \"José\", 165 , 58,\n",
    "    \"Maria\", 160, 65, \n",
    "    \"Sandra\", 193, 100\n",
    "    ), ncol=3, byrow=TRUE)\n",
    "\n",
    "\n",
    "colnames(people) <- c(\"Nome\", \"Altura\", \"Peso\")\n",
    "\n",
    "people <- as.data.frame(people, stringAsFactor=F)\n",
    " \n",
    "people_heights <- as.numeric(as.character(people$Altura)) / 100 # cm\n",
    "people_weights <- as.numeric(as.character(people$Peso))\n",
    "\n",
    "people$IMC <- people_weights / people_heights ** 2\n",
    "\n",
    "people[which(people$IMC > 25),]"
   ]
  },
  {
   "cell_type": "markdown",
   "metadata": {},
   "source": [
    "### Exercício 1.7\n",
    "\n",
    "Experimente o comando which.min(c(3,5,1,7,8)). Explique o valor retornado pela função.\n",
    "\n",
    "**RESPOSTA:** Está sendo retornado o menor valor do VETOR! O **which** procura por um valor e neste caso, o método **min** pega o valor mínimo."
   ]
  },
  {
   "cell_type": "code",
   "execution_count": 41,
   "metadata": {},
   "outputs": [
    {
     "data": {
      "text/html": [
       "3"
      ],
      "text/latex": [
       "3"
      ],
      "text/markdown": [
       "3"
      ],
      "text/plain": [
       "[1] 3"
      ]
     },
     "metadata": {},
     "output_type": "display_data"
    }
   ],
   "source": [
    "which.min(c(3,5,1,7,8))"
   ]
  },
  {
   "cell_type": "markdown",
   "metadata": {},
   "source": [
    "### Exercício 1.8\n",
    "\n",
    "Considere a lista x.lis definida da seguinte forma: x.lis <- list(a=1:10, b=letters[1:3], c=matrix(1:10,ncol=2)).\n",
    "\n",
    "a) Obtenha a soma acumulada dos elementos da primeira componente; \n",
    "\n",
    "b) Obtenha a segunda componente;\n",
    "\n",
    "c) Obtenha os nomes das componentes da lista;\n",
    "\n",
    "d) Adicione o vetor vec criado anteriormente à lista;"
   ]
  },
  {
   "cell_type": "code",
   "execution_count": 42,
   "metadata": {},
   "outputs": [
    {
     "data": {
      "text/html": [
       "<ol class=list-inline>\n",
       "\t<li>1</li>\n",
       "\t<li>2</li>\n",
       "\t<li>3</li>\n",
       "\t<li>4</li>\n",
       "\t<li>5</li>\n",
       "\t<li>6</li>\n",
       "\t<li>7</li>\n",
       "\t<li>8</li>\n",
       "\t<li>9</li>\n",
       "\t<li>10</li>\n",
       "</ol>\n"
      ],
      "text/latex": [
       "\\begin{enumerate*}\n",
       "\\item 1\n",
       "\\item 2\n",
       "\\item 3\n",
       "\\item 4\n",
       "\\item 5\n",
       "\\item 6\n",
       "\\item 7\n",
       "\\item 8\n",
       "\\item 9\n",
       "\\item 10\n",
       "\\end{enumerate*}\n"
      ],
      "text/markdown": [
       "1. 1\n",
       "2. 2\n",
       "3. 3\n",
       "4. 4\n",
       "5. 5\n",
       "6. 6\n",
       "7. 7\n",
       "8. 8\n",
       "9. 9\n",
       "10. 10\n",
       "\n",
       "\n"
      ],
      "text/plain": [
       " [1]  1  2  3  4  5  6  7  8  9 10"
      ]
     },
     "metadata": {},
     "output_type": "display_data"
    }
   ],
   "source": [
    "x.lis <- list(a=1:10, b=letters[1:3], c=matrix(1:10,ncol=2))\n",
    "x.lis$a"
   ]
  },
  {
   "cell_type": "code",
   "execution_count": 43,
   "metadata": {},
   "outputs": [
    {
     "data": {
      "text/html": [
       "55"
      ],
      "text/latex": [
       "55"
      ],
      "text/markdown": [
       "55"
      ],
      "text/plain": [
       "[1] 55"
      ]
     },
     "metadata": {},
     "output_type": "display_data"
    }
   ],
   "source": [
    "# a) Obtenha a soma acumulada dos elementos da primeira componente;\n",
    "sum(x.lis$a)"
   ]
  },
  {
   "cell_type": "code",
   "execution_count": 44,
   "metadata": {},
   "outputs": [
    {
     "data": {
      "text/html": [
       "<ol class=list-inline>\n",
       "\t<li>'a'</li>\n",
       "\t<li>'b'</li>\n",
       "\t<li>'c'</li>\n",
       "</ol>\n"
      ],
      "text/latex": [
       "\\begin{enumerate*}\n",
       "\\item 'a'\n",
       "\\item 'b'\n",
       "\\item 'c'\n",
       "\\end{enumerate*}\n"
      ],
      "text/markdown": [
       "1. 'a'\n",
       "2. 'b'\n",
       "3. 'c'\n",
       "\n",
       "\n"
      ],
      "text/plain": [
       "[1] \"a\" \"b\" \"c\""
      ]
     },
     "metadata": {},
     "output_type": "display_data"
    }
   ],
   "source": [
    "# b) Obtenha a segunda componente;\n",
    "x.lis$b"
   ]
  },
  {
   "cell_type": "code",
   "execution_count": 45,
   "metadata": {},
   "outputs": [
    {
     "data": {
      "text/html": [
       "<ol class=list-inline>\n",
       "\t<li>'a'</li>\n",
       "\t<li>'b'</li>\n",
       "\t<li>'c'</li>\n",
       "</ol>\n"
      ],
      "text/latex": [
       "\\begin{enumerate*}\n",
       "\\item 'a'\n",
       "\\item 'b'\n",
       "\\item 'c'\n",
       "\\end{enumerate*}\n"
      ],
      "text/markdown": [
       "1. 'a'\n",
       "2. 'b'\n",
       "3. 'c'\n",
       "\n",
       "\n"
      ],
      "text/plain": [
       "[1] \"a\" \"b\" \"c\""
      ]
     },
     "metadata": {},
     "output_type": "display_data"
    }
   ],
   "source": [
    "# c) Obtenha os nomes das componentes da lista;\n",
    "names(x.lis)"
   ]
  },
  {
   "cell_type": "code",
   "execution_count": 46,
   "metadata": {},
   "outputs": [
    {
     "data": {
      "text/html": [
       "<dl>\n",
       "\t<dt>$a</dt>\n",
       "\t\t<dd><ol class=list-inline>\n",
       "\t<li>1</li>\n",
       "\t<li>2</li>\n",
       "\t<li>3</li>\n",
       "\t<li>4</li>\n",
       "\t<li>5</li>\n",
       "\t<li>6</li>\n",
       "\t<li>7</li>\n",
       "\t<li>8</li>\n",
       "\t<li>9</li>\n",
       "\t<li>10</li>\n",
       "</ol>\n",
       "</dd>\n",
       "\t<dt>$b</dt>\n",
       "\t\t<dd><ol class=list-inline>\n",
       "\t<li>'a'</li>\n",
       "\t<li>'b'</li>\n",
       "\t<li>'c'</li>\n",
       "</ol>\n",
       "</dd>\n",
       "\t<dt>$c</dt>\n",
       "\t\t<dd><table>\n",
       "<tbody>\n",
       "\t<tr><td>1 </td><td> 6</td></tr>\n",
       "\t<tr><td>2 </td><td> 7</td></tr>\n",
       "\t<tr><td>3 </td><td> 8</td></tr>\n",
       "\t<tr><td>4 </td><td> 9</td></tr>\n",
       "\t<tr><td>5 </td><td>10</td></tr>\n",
       "</tbody>\n",
       "</table>\n",
       "</dd>\n",
       "\t<dt>$vec</dt>\n",
       "\t\t<dd><ol class=list-inline>\n",
       "\t<li>26</li>\n",
       "\t<li>NA</li>\n",
       "\t<li>72</li>\n",
       "\t<li>45</li>\n",
       "\t<li>12</li>\n",
       "\t<li>16</li>\n",
       "\t<li>NA</li>\n",
       "\t<li>88</li>\n",
       "</ol>\n",
       "</dd>\n",
       "</dl>\n"
      ],
      "text/latex": [
       "\\begin{description}\n",
       "\\item[\\$a] \\begin{enumerate*}\n",
       "\\item 1\n",
       "\\item 2\n",
       "\\item 3\n",
       "\\item 4\n",
       "\\item 5\n",
       "\\item 6\n",
       "\\item 7\n",
       "\\item 8\n",
       "\\item 9\n",
       "\\item 10\n",
       "\\end{enumerate*}\n",
       "\n",
       "\\item[\\$b] \\begin{enumerate*}\n",
       "\\item 'a'\n",
       "\\item 'b'\n",
       "\\item 'c'\n",
       "\\end{enumerate*}\n",
       "\n",
       "\\item[\\$c] \\begin{tabular}{ll}\n",
       "\t 1  &  6\\\\\n",
       "\t 2  &  7\\\\\n",
       "\t 3  &  8\\\\\n",
       "\t 4  &  9\\\\\n",
       "\t 5  & 10\\\\\n",
       "\\end{tabular}\n",
       "\n",
       "\\item[\\$vec] \\begin{enumerate*}\n",
       "\\item 26\n",
       "\\item NA\n",
       "\\item 72\n",
       "\\item 45\n",
       "\\item 12\n",
       "\\item 16\n",
       "\\item NA\n",
       "\\item 88\n",
       "\\end{enumerate*}\n",
       "\n",
       "\\end{description}\n"
      ],
      "text/markdown": [
       "$a\n",
       ":   1. 1\n",
       "2. 2\n",
       "3. 3\n",
       "4. 4\n",
       "5. 5\n",
       "6. 6\n",
       "7. 7\n",
       "8. 8\n",
       "9. 9\n",
       "10. 10\n",
       "\n",
       "\n",
       "\n",
       "$b\n",
       ":   1. 'a'\n",
       "2. 'b'\n",
       "3. 'c'\n",
       "\n",
       "\n",
       "\n",
       "$c\n",
       ":   \n",
       "| 1  |  6 | \n",
       "| 2  |  7 | \n",
       "| 3  |  8 | \n",
       "| 4  |  9 | \n",
       "| 5  | 10 | \n",
       "\n",
       "\n",
       "\n",
       "$vec\n",
       ":   1. 26\n",
       "2. NA\n",
       "3. 72\n",
       "4. 45\n",
       "5. 12\n",
       "6. 16\n",
       "7. NA\n",
       "8. 88\n",
       "\n",
       "\n",
       "\n",
       "\n",
       "\n"
      ],
      "text/plain": [
       "$a\n",
       " [1]  1  2  3  4  5  6  7  8  9 10\n",
       "\n",
       "$b\n",
       "[1] \"a\" \"b\" \"c\"\n",
       "\n",
       "$c\n",
       "     [,1] [,2]\n",
       "[1,]    1    6\n",
       "[2,]    2    7\n",
       "[3,]    3    8\n",
       "[4,]    4    9\n",
       "[5,]    5   10\n",
       "\n",
       "$vec\n",
       "[1] 26 NA 72 45 12 16 NA 88\n"
      ]
     },
     "metadata": {},
     "output_type": "display_data"
    }
   ],
   "source": [
    "# d) Adicione o vetor vec criado anteriormente à lista;\n",
    "x.lis$vec <- c(26, NA, 72, 45, 12, 16, NA, 88)\n",
    "x.lis"
   ]
  },
  {
   "cell_type": "markdown",
   "metadata": {},
   "source": [
    "## Lista de Exercícios 2"
   ]
  },
  {
   "cell_type": "markdown",
   "metadata": {},
   "source": [
    "### Antes de tudo, configurar o working directory que contém os arquivos"
   ]
  },
  {
   "cell_type": "code",
   "execution_count": 47,
   "metadata": {
    "collapsed": true
   },
   "outputs": [],
   "source": [
    "wd <- \"/Users/leonardoflores/Dropbox/PUC/ILE/Dados_Curso_R\"\n",
    "setwd(wd)"
   ]
  },
  {
   "cell_type": "markdown",
   "metadata": {},
   "source": [
    "### Exercício 2.1\n",
    "\n",
    "No portal da transparência do governo federal na seção denominada Download de dados é possível baixar diversos conjuntos de dados disponíveis no portal. Dentre estes dados consta o CADASTRO NA- CIONAL DE EMPRESAS INIDÔNEAS E SUSPENSAS (CEIS), que é um arquivo contendo a relação das empreas que foram declaradas inidôneas ou foram suspensas de contratar com a administração pública.\n",
    "\n",
    "Importe o conjunto de dados contido no arquivo 20160306_CEIS.zip e informe quantos registros tem a base de dados."
   ]
  },
  {
   "cell_type": "code",
   "execution_count": 48,
   "metadata": {},
   "outputs": [
    {
     "name": "stderr",
     "output_type": "stream",
     "text": [
      "Warning message in read.table(file = file, header = header, sep = sep, quote = quote, :\n",
      "“line 2 appears to contain embedded nulls”Warning message in read.table(file = file, header = header, sep = sep, quote = quote, :\n",
      "“line 3 appears to contain embedded nulls”Warning message in read.table(file = file, header = header, sep = sep, quote = quote, :\n",
      "“line 4 appears to contain embedded nulls”Warning message in read.table(file = file, header = header, sep = sep, quote = quote, :\n",
      "“line 5 appears to contain embedded nulls”Warning message in scan(file = file, what = what, sep = sep, quote = quote, dec = dec, :\n",
      "“embedded nul(s) found in input”"
     ]
    },
    {
     "data": {
      "text/html": [
       "'O número de registros presentes neste conjunto de dados do CEIS é equivalente à 8853 registros!'"
      ],
      "text/latex": [
       "'O número de registros presentes neste conjunto de dados do CEIS é equivalente à 8853 registros!'"
      ],
      "text/markdown": [
       "'O número de registros presentes neste conjunto de dados do CEIS é equivalente à 8853 registros!'"
      ],
      "text/plain": [
       "[1] \"O número de registros presentes neste conjunto de dados do CEIS é equivalente à 8853 registros!\""
      ]
     },
     "metadata": {},
     "output_type": "display_data"
    }
   ],
   "source": [
    "library(readr)\n",
    "filename <- '20160306_CEIS.csv'\n",
    "\n",
    "\n",
    "CEISData <- read.csv(file=filename, sep=\"\\t\", fileEncoding=\"ISO-8859-1\")\n",
    "\n",
    "n_rows <- NROW(CEISData)\n",
    "\n",
    "sprintf(\"O número de registros presentes neste conjunto de dados do CEIS é equivalente à %i registros!\", n_rows)\n"
   ]
  },
  {
   "cell_type": "markdown",
   "metadata": {},
   "source": [
    "### Exercício 2.2\n",
    "\n",
    "O Tribunal de Contas da União vem colhendo informações junto a seus jurisdicionados visando obter um perfil da Governança de TI dos mesmos. Os dados relativos ao ciclo de 2014 estão disponíveis no endereço eletrônico http://dados.gov.br/dataset/dados-coletados-no-perfil-de-governanca-de-ti.\n",
    "\n",
    "Importe o conjunto de dados DadosColetados_PerfilGovTI 2014.xlsx e diga quantos registros tem a base de dados."
   ]
  },
  {
   "cell_type": "code",
   "execution_count": 49,
   "metadata": {},
   "outputs": [
    {
     "data": {
      "text/html": [
       "'O número de registros presentes neste conjunto de dados do PerfilGovTi é equivalente à 372 registros!'"
      ],
      "text/latex": [
       "'O número de registros presentes neste conjunto de dados do PerfilGovTi é equivalente à 372 registros!'"
      ],
      "text/markdown": [
       "'O número de registros presentes neste conjunto de dados do PerfilGovTi é equivalente à 372 registros!'"
      ],
      "text/plain": [
       "[1] \"O número de registros presentes neste conjunto de dados do PerfilGovTi é equivalente à 372 registros!\""
      ]
     },
     "metadata": {},
     "output_type": "display_data"
    }
   ],
   "source": [
    "library(\"readxl\")\n",
    "\n",
    "filename <- \"DadosColetados_PerfilGovTI\\ 2014.xlsx\"\n",
    "\n",
    "PGovTiData <- read_excel(filename, sheet = 1, skip=2)\n",
    "\n",
    "n_rows <- NROW(PGovTiData)\n",
    "\n",
    "sprintf(\"O número de registros presentes neste conjunto de dados do PerfilGovTi é equivalente à %i registros!\", n_rows)\n"
   ]
  },
  {
   "cell_type": "markdown",
   "metadata": {},
   "source": [
    "### Exercício 2.3\n",
    "\n",
    "Utilizando o pacote sqldf e o conjunto de dados ESCOLAS.CSV importe os registros relativos às escolas do município do Rio de Janeiro.\n",
    "Para fazer esta seleção as variáveis FK_COD_MUNICIPIO e ID_DEPENDENCIA_ADM devem ser, respectivamente, iguais á 3304557 e 3.\n"
   ]
  },
  {
   "cell_type": "code",
   "execution_count": 50,
   "metadata": {},
   "outputs": [
    {
     "name": "stderr",
     "output_type": "stream",
     "text": [
      "Loading required package: gsubfn\n",
      "Loading required package: proto\n",
      "Loading required package: RSQLite\n",
      "Loading required package: tcltk\n",
      "Warning message:\n",
      "“Quoted identifiers should have class SQL, use DBI::SQL() if the caller performs the quoting.”"
     ]
    },
    {
     "data": {
      "text/html": [
       "<table>\n",
       "<thead><tr><th scope=col>ANO_CENSO</th><th scope=col>PK_COD_ENTIDADE</th><th scope=col>NO_ENTIDADE</th><th scope=col>COD_ORGAO_REGIONAL_INEP</th><th scope=col>DESC_SITUACAO_FUNCIONAMENTO</th><th scope=col>DESC_SITUACAO_CENSO</th><th scope=col>DT_ANO_LETIVO_INICIO</th><th scope=col>DT_ANO_LETIVO_TERMINO</th><th scope=col>FK_COD_ESTADO</th><th scope=col>FK_COD_MUNICIPIO</th><th scope=col>⋯</th><th scope=col>ID_MATERIAL_ESP_NAO_UTILIZA</th><th scope=col>ID_MATERIAL_ESP_QUILOMBOLA</th><th scope=col>ID_MATERIAL_ESP_INDIGENA</th><th scope=col>ID_EDUCACAO_INDIGENA</th><th scope=col>ID_LINGUA_INDIGENA</th><th scope=col>FK_COD_LINGUA_INDIGENA</th><th scope=col>ID_LINGUA_PORTUGUESA</th><th scope=col>ID_ESPACO_TURMA_PBA</th><th scope=col>ID_ABRE_FINAL_SEMANA</th><th scope=col>ID_PROPOSTA_PEDAG_ALTERNANCIA</th></tr></thead>\n",
       "<tbody>\n",
       "\t<tr><td>2014                                                       </td><td>33066329                                                   </td><td>0107502 ESCOLA MUNICIPAL MESTRE WALDEMIRO                  </td><td>00160                                                      </td><td>1                                                          </td><td>0                                                          </td><td>11FEB2014:00:00:00                                         </td><td>19DEC2014:00:00:00                                         </td><td>33                                                         </td><td>3304557                                                    </td><td>⋯                                                          </td><td> 1                                                         </td><td> 0                                                         </td><td> 0                                                         </td><td> 0                                                         </td><td>NA                                                         </td><td>NA                                                         </td><td>NA                                                         </td><td> 0                                                         </td><td> 0                                                         </td><td> 0                                                         </td></tr>\n",
       "\t<tr><td>2014                                                       </td><td>33164800                                                   </td><td>POLO DE EDUCACAO PELO TRABALHO ALZIRA ARAUJO               </td><td>00240                                                      </td><td>2                                                          </td><td>0                                                          </td><td>                                                           </td><td>                                                           </td><td>33                                                         </td><td>3304557                                                    </td><td>⋯                                                          </td><td>NA                                                         </td><td>NA                                                         </td><td>NA                                                         </td><td>NA                                                         </td><td>NA                                                         </td><td>NA                                                         </td><td>NA                                                         </td><td>NA                                                         </td><td>NA                                                         </td><td>NA                                                         </td></tr>\n",
       "\t<tr><td>2014                                                       </td><td>33081760                                                   </td><td>0918510 CIEP ARMINDO MARCILIO DOUTEL DE ANDRADE            </td><td>00240                                                      </td><td>1                                                          </td><td>0                                                          </td><td>11FEB2014:00:00:00                                         </td><td>19DEC2014:00:00:00                                         </td><td>33                                                         </td><td>3304557                                                    </td><td>⋯                                                          </td><td> 1                                                         </td><td> 0                                                         </td><td> 0                                                         </td><td> 0                                                         </td><td>NA                                                         </td><td>NA                                                         </td><td>NA                                                         </td><td> 0                                                         </td><td> 0                                                         </td><td> 0                                                         </td></tr>\n",
       "\t<tr><td>2014                                                       </td><td>33087130                                                   </td><td>0625029 ESCOLA MUNICIPAL JOSE PEDRO VARELA                 </td><td>00210                                                      </td><td>1                                                          </td><td>0                                                          </td><td>11FEB2014:00:00:00                                         </td><td>19DEC2014:00:00:00                                         </td><td>33                                                         </td><td>3304557                                                    </td><td>⋯                                                          </td><td> 1                                                         </td><td> 0                                                         </td><td> 0                                                         </td><td> 0                                                         </td><td>NA                                                         </td><td>NA                                                         </td><td>NA                                                         </td><td> 0                                                         </td><td> 0                                                         </td><td> 0                                                         </td></tr>\n",
       "\t<tr><td>2014                                                       </td><td>33087237                                                   </td><td>0622008 ESCOLA MUNICIPAL NARBAL FONTES                     </td><td>00210                                                      </td><td>1                                                          </td><td>0                                                          </td><td>11FEB2014:00:00:00                                         </td><td>19DEC2014:00:00:00                                         </td><td>33                                                         </td><td>3304557                                                    </td><td>⋯                                                          </td><td> 1                                                         </td><td> 0                                                         </td><td> 0                                                         </td><td> 0                                                         </td><td>NA                                                         </td><td>NA                                                         </td><td>NA                                                         </td><td> 0                                                         </td><td> 0                                                         </td><td> 0                                                         </td></tr>\n",
       "\t<tr><td>2014                                                       </td><td>33066515                                                   </td><td>0208501 CIEP SAMUEL WAINER                                 </td><td>00170                                                      </td><td>1                                                          </td><td>0                                                          </td><td>11FEB2014:00:00:00                                         </td><td>19DEC2014:00:00:00                                         </td><td>33                                                         </td><td>3304557                                                    </td><td>⋯                                                          </td><td> 1                                                         </td><td> 0                                                         </td><td> 0                                                         </td><td> 0                                                         </td><td>NA                                                         </td><td>NA                                                         </td><td>NA                                                         </td><td> 0                                                         </td><td> 0                                                         </td><td> 0                                                         </td></tr>\n",
       "\t<tr><td>2014                                                       </td><td>33130370                                                   </td><td>0716605 CRECHE MUNICIPAL SEMPRE VIDA NISE DA SILVEIRA      </td><td>00220                                                      </td><td>1                                                          </td><td>0                                                          </td><td>11FEB2014:00:00:00                                         </td><td>19DEC2014:00:00:00                                         </td><td>33                                                         </td><td>3304557                                                    </td><td>⋯                                                          </td><td> 1                                                         </td><td> 0                                                         </td><td> 0                                                         </td><td> 0                                                         </td><td>NA                                                         </td><td>NA                                                         </td><td>NA                                                         </td><td> 0                                                         </td><td> 0                                                         </td><td> 0                                                         </td></tr>\n",
       "\t<tr><td>2014                                                       </td><td>33076014                                                   </td><td>0515052 ESCOLA MUNICIPAL AZEVEDO JUNIOR                    </td><td>00200                                                      </td><td>1                                                          </td><td>0                                                          </td><td>11FEB2014:00:00:00                                         </td><td>19DEC2014:00:00:00                                         </td><td>33                                                         </td><td>3304557                                                    </td><td>⋯                                                          </td><td> 1                                                         </td><td> 0                                                         </td><td> 0                                                         </td><td> 0                                                         </td><td>NA                                                         </td><td>NA                                                         </td><td>NA                                                         </td><td> 0                                                         </td><td> 0                                                         </td><td> 0                                                         </td></tr>\n",
       "\t<tr><td>2014                                                       </td><td>33076022                                                   </td><td>0515034 ESCOLA MUNICIPAL EM 0515034 BARAO DE ITARARE       </td><td>00200                                                      </td><td>1                                                          </td><td>0                                                          </td><td>11FEB2014:00:00:00                                         </td><td>19DEC2014:00:00:00                                         </td><td>33                                                         </td><td>3304557                                                    </td><td>⋯                                                          </td><td> 1                                                         </td><td> 0                                                         </td><td> 0                                                         </td><td> 0                                                         </td><td>NA                                                         </td><td>NA                                                         </td><td>NA                                                         </td><td> 0                                                         </td><td> 0                                                         </td><td> 0                                                         </td></tr>\n",
       "\t<tr><td>2014                                                       </td><td>33076049                                                   </td><td>0515054 ESCOLA MUNICIPAL CARDEAL ARCOVERDE                 </td><td>00200                                                      </td><td>1                                                          </td><td>0                                                          </td><td>11FEB2014:00:00:00                                         </td><td>19DEC2014:00:00:00                                         </td><td>33                                                         </td><td>3304557                                                    </td><td>⋯                                                          </td><td> 1                                                         </td><td> 0                                                         </td><td> 0                                                         </td><td> 0                                                         </td><td>NA                                                         </td><td>NA                                                         </td><td>NA                                                         </td><td> 0                                                         </td><td> 0                                                         </td><td> 0                                                         </td></tr>\n",
       "\t<tr><td>2014                                                       </td><td>33081247                                                   </td><td>0817024 ESCOLA MUNICIPAL WALDIR AZEVEDO FRANCO             </td><td>00230                                                      </td><td>1                                                          </td><td>0                                                          </td><td>11FEB2014:00:00:00                                         </td><td>19DEC2014:00:00:00                                         </td><td>33                                                         </td><td>3304557                                                    </td><td>⋯                                                          </td><td> 1                                                         </td><td> 0                                                         </td><td> 0                                                         </td><td> 0                                                         </td><td>NA                                                         </td><td>NA                                                         </td><td>NA                                                         </td><td> 0                                                         </td><td> 0                                                         </td><td> 0                                                         </td></tr>\n",
       "\t<tr><td>2014                                                       </td><td>33104824                                                   </td><td>1019612 CRECHE MUNICIPAL DANIELA PEREZ                     </td><td>00250                                                      </td><td>1                                                          </td><td>0                                                          </td><td>11FEB2014:00:00:00                                         </td><td>19DEC2014:00:00:00                                         </td><td>33                                                         </td><td>3304557                                                    </td><td>⋯                                                          </td><td> 1                                                         </td><td> 0                                                         </td><td> 0                                                         </td><td> 0                                                         </td><td>NA                                                         </td><td>NA                                                         </td><td>NA                                                         </td><td> 0                                                         </td><td> 1                                                         </td><td> 0                                                         </td></tr>\n",
       "\t<tr><td>2014                                                       </td><td>33087040                                                   </td><td>0625026 ESCOLA MUNICIPAL EUGENIA DUTRA HAMANN              </td><td>00210                                                      </td><td>1                                                          </td><td>0                                                          </td><td>11FEB2014:00:00:00                                         </td><td>19DEC2014:00:00:00                                         </td><td>33                                                         </td><td>3304557                                                    </td><td>⋯                                                          </td><td> 1                                                         </td><td> 0                                                         </td><td> 0                                                         </td><td> 0                                                         </td><td>NA                                                         </td><td>NA                                                         </td><td>NA                                                         </td><td> 0                                                         </td><td> 0                                                         </td><td> 0                                                         </td></tr>\n",
       "\t<tr><td>2014                                                       </td><td>33074429                                                   </td><td>0514026 ESCOLA MUNICIPAL FRANCISCO SERTORIO PORTINHO       </td><td>00200                                                      </td><td>1                                                          </td><td>0                                                          </td><td>11FEB2014:00:00:00                                         </td><td>19DEC2014:00:00:00                                         </td><td>33                                                         </td><td>3304557                                                    </td><td>⋯                                                          </td><td> 1                                                         </td><td> 0                                                         </td><td> 0                                                         </td><td> 0                                                         </td><td>NA                                                         </td><td>NA                                                         </td><td>NA                                                         </td><td> 0                                                         </td><td> 0                                                         </td><td> 0                                                         </td></tr>\n",
       "\t<tr><td>2014                                                       </td><td>33074437                                                   </td><td>0514023 ESCOLA MUNICIPAL GASPAR VIANNA                     </td><td>00200                                                      </td><td>1                                                          </td><td>0                                                          </td><td>11FEB2014:00:00:00                                         </td><td>19DEC2014:00:00:00                                         </td><td>33                                                         </td><td>3304557                                                    </td><td>⋯                                                          </td><td> 1                                                         </td><td> 0                                                         </td><td> 0                                                         </td><td> 0                                                         </td><td>NA                                                         </td><td>NA                                                         </td><td>NA                                                         </td><td> 0                                                         </td><td> 0                                                         </td><td> 0                                                         </td></tr>\n",
       "\t<tr><td>2014                                                       </td><td>33070610                                                   </td><td>0431026 ESCOLA MUNICIPAL HERBERT MOSES                     </td><td>00190                                                      </td><td>1                                                          </td><td>0                                                          </td><td>11FEB2014:00:00:00                                         </td><td>19DEC2014:00:00:00                                         </td><td>33                                                         </td><td>3304557                                                    </td><td>⋯                                                          </td><td> 1                                                         </td><td> 0                                                         </td><td> 0                                                         </td><td> 0                                                         </td><td>NA                                                         </td><td>NA                                                         </td><td>NA                                                         </td><td> 0                                                         </td><td> 0                                                         </td><td> 0                                                         </td></tr>\n",
       "\t<tr><td>2014                                                       </td><td>33070628                                                   </td><td>0411014 ESCOLA MUNICIPAL JOAO DE DEUS                      </td><td>00190                                                      </td><td>1                                                          </td><td>0                                                          </td><td>11FEB2014:00:00:00                                         </td><td>19DEC2014:00:00:00                                         </td><td>33                                                         </td><td>3304557                                                    </td><td>⋯                                                          </td><td> 1                                                         </td><td> 0                                                         </td><td> 0                                                         </td><td> 0                                                         </td><td>NA                                                         </td><td>NA                                                         </td><td>NA                                                         </td><td> 0                                                         </td><td> 0                                                         </td><td> 0                                                         </td></tr>\n",
       "\t<tr><td>2014                                                       </td><td>33083347                                                   </td><td>0918064 ESCOLA MUNICIPAL RAINHA VITORIA                    </td><td>00240                                                      </td><td>1                                                          </td><td>0                                                          </td><td>11FEB2014:00:00:00                                         </td><td>19DEC2014:00:00:00                                         </td><td>33                                                         </td><td>3304557                                                    </td><td>⋯                                                          </td><td> 1                                                         </td><td> 0                                                         </td><td> 0                                                         </td><td> 0                                                         </td><td>NA                                                         </td><td>NA                                                         </td><td>NA                                                         </td><td> 0                                                         </td><td> 0                                                         </td><td> 0                                                         </td></tr>\n",
       "\t<tr><td>2014                                                       </td><td>33083363                                                   </td><td>0918049 ESCOLA MUNICIPAL RIO GRANDE DO NORTE               </td><td>00240                                                      </td><td>1                                                          </td><td>0                                                          </td><td>11FEB2014:00:00:00                                         </td><td>19DEC2014:00:00:00                                         </td><td>33                                                         </td><td>3304557                                                    </td><td>⋯                                                          </td><td> 1                                                         </td><td> 0                                                         </td><td> 0                                                         </td><td> 0                                                         </td><td>NA                                                         </td><td>NA                                                         </td><td>NA                                                         </td><td> 0                                                         </td><td> 0                                                         </td><td> 0                                                         </td></tr>\n",
       "\t<tr><td>2014                                                       </td><td>33147345                                                   </td><td>0123601 CRECHE MUNICIPAL JOSE MARINHO DE OLIVEIRA          </td><td>00160                                                      </td><td>1                                                          </td><td>0                                                          </td><td>11FEB2014:00:00:00                                         </td><td>19DEC2014:00:00:00                                         </td><td>33                                                         </td><td>3304557                                                    </td><td>⋯                                                          </td><td> 1                                                         </td><td> 0                                                         </td><td> 0                                                         </td><td> 0                                                         </td><td>NA                                                         </td><td>NA                                                         </td><td>NA                                                         </td><td> 0                                                         </td><td> 0                                                         </td><td> 0                                                         </td></tr>\n",
       "\t<tr><td>2014                                                       </td><td>33147353                                                   </td><td>0328604 CRECHE MUNICIPAL COMUNIDADE DO JACAREZINHO         </td><td>00180                                                      </td><td>1                                                          </td><td>0                                                          </td><td>11FEB2014:00:00:00                                         </td><td>19DEC2014:00:00:00                                         </td><td>33                                                         </td><td>3304557                                                    </td><td>⋯                                                          </td><td> 1                                                         </td><td> 0                                                         </td><td> 0                                                         </td><td> 0                                                         </td><td>NA                                                         </td><td>NA                                                         </td><td>NA                                                         </td><td> 0                                                         </td><td> 0                                                         </td><td> 0                                                         </td></tr>\n",
       "\t<tr><td>2014                                                       </td><td>33075964                                                   </td><td>0515042ESCOLA ESPECIAL MUNICIPAL MAURICIO DE MEDEIROS      </td><td>00200                                                      </td><td>1                                                          </td><td>0                                                          </td><td>11FEB2014:00:00:00                                         </td><td>19DEC2014:00:00:00                                         </td><td>33                                                         </td><td>3304557                                                    </td><td>⋯                                                          </td><td> 1                                                         </td><td> 0                                                         </td><td> 0                                                         </td><td> 0                                                         </td><td>NA                                                         </td><td>NA                                                         </td><td>NA                                                         </td><td> 0                                                         </td><td> 0                                                         </td><td> 0                                                         </td></tr>\n",
       "\t<tr><td>2014                                                       </td><td>33080640                                                   </td><td>0817009 ESCOLA MUNICIPAL JOSE MARIA BELLO                  </td><td>00230                                                      </td><td>1                                                          </td><td>0                                                          </td><td>11FEB2014:00:00:00                                         </td><td>19DEC2014:00:00:00                                         </td><td>33                                                         </td><td>3304557                                                    </td><td>⋯                                                          </td><td> 1                                                         </td><td> 0                                                         </td><td> 0                                                         </td><td> 0                                                         </td><td>NA                                                         </td><td>NA                                                         </td><td>NA                                                         </td><td> 0                                                         </td><td> 0                                                         </td><td> 0                                                         </td></tr>\n",
       "\t<tr><td>2014                                                       </td><td>33149283                                                   </td><td>0515064 ESCOLA MUNICIPAL MESTRE DARCY DO JONGO             </td><td>00200                                                      </td><td>1                                                          </td><td>0                                                          </td><td>11FEB2014:00:00:00                                         </td><td>19DEC2014:00:00:00                                         </td><td>33                                                         </td><td>3304557                                                    </td><td>⋯                                                          </td><td> 1                                                         </td><td> 0                                                         </td><td> 0                                                         </td><td> 0                                                         </td><td>NA                                                         </td><td>NA                                                         </td><td>NA                                                         </td><td> 0                                                         </td><td> 0                                                         </td><td> 0                                                         </td></tr>\n",
       "\t<tr><td>2014                                                       </td><td>33078262                                                   </td><td>0716053 ESCOLA MUNICIPAL PROFESSORA DYLA SYLVIA DE SA      </td><td>00220                                                      </td><td>1                                                          </td><td>0                                                          </td><td>11FEB2014:00:00:00                                         </td><td>19DEC2014:00:00:00                                         </td><td>33                                                         </td><td>3304557                                                    </td><td>⋯                                                          </td><td> 1                                                         </td><td> 0                                                         </td><td> 0                                                         </td><td> 0                                                         </td><td>NA                                                         </td><td>NA                                                         </td><td>NA                                                         </td><td> 0                                                         </td><td> 0                                                         </td><td> 0                                                         </td></tr>\n",
       "\t<tr><td>2014                                                       </td><td>33078300                                                   </td><td>0724019 ESCOLA MUNICIPAL PROFESSOR TEOFILO MOREIRA DA COSTA</td><td>00220                                                      </td><td>1                                                          </td><td>0                                                          </td><td>11FEB2014:00:00:00                                         </td><td>19DEC2014:00:00:00                                         </td><td>33                                                         </td><td>3304557                                                    </td><td>⋯                                                          </td><td> 1                                                         </td><td> 0                                                         </td><td> 0                                                         </td><td> 0                                                         </td><td>NA                                                         </td><td>NA                                                         </td><td>NA                                                         </td><td> 0                                                         </td><td> 0                                                         </td><td> 0                                                         </td></tr>\n",
       "\t<tr><td>2014                                                       </td><td>33084114                                                   </td><td>1019211 CIEP MAJOR MANOEL GOMES ARCHER                     </td><td>00250                                                      </td><td>1                                                          </td><td>0                                                          </td><td>11FEB2014:00:00:00                                         </td><td>19DEC2014:00:00:00                                         </td><td>33                                                         </td><td>3304557                                                    </td><td>⋯                                                          </td><td> 1                                                         </td><td> 0                                                         </td><td> 0                                                         </td><td> 0                                                         </td><td>NA                                                         </td><td>NA                                                         </td><td>NA                                                         </td><td> 0                                                         </td><td> 1                                                         </td><td> 0                                                         </td></tr>\n",
       "\t<tr><td>2014                                                       </td><td>33083371                                                   </td><td>0918009 ESCOLA MUNICIPAL ROMULO GALLEGOS                   </td><td>00240                                                      </td><td>1                                                          </td><td>0                                                          </td><td>11FEB2014:00:00:00                                         </td><td>19DEC2014:00:00:00                                         </td><td>33                                                         </td><td>3304557                                                    </td><td>⋯                                                          </td><td> 1                                                         </td><td> 0                                                         </td><td> 0                                                         </td><td> 0                                                         </td><td>NA                                                         </td><td>NA                                                         </td><td>NA                                                         </td><td> 0                                                         </td><td> 0                                                         </td><td> 0                                                         </td></tr>\n",
       "\t<tr><td>2014                                                       </td><td>33078238                                                   </td><td>0716038 ESCOLA MUNICIPAL PEDRO AMERICO                     </td><td>00220                                                      </td><td>1                                                          </td><td>0                                                          </td><td>11FEB2014:00:00:00                                         </td><td>19DEC2014:00:00:00                                         </td><td>33                                                         </td><td>3304557                                                    </td><td>⋯                                                          </td><td> 1                                                         </td><td> 0                                                         </td><td> 0                                                         </td><td> 0                                                         </td><td>NA                                                         </td><td>NA                                                         </td><td>NA                                                         </td><td> 0                                                         </td><td> 0                                                         </td><td> 0                                                         </td></tr>\n",
       "\t<tr><td>2014                                                       </td><td>33084610                                                   </td><td>1019014 ESCOLA MUNICIPAL CORONEL BERTHIER                  </td><td>00250                                                      </td><td>1                                                          </td><td>0                                                          </td><td>11FEB2014:00:00:00                                         </td><td>19DEC2014:00:00:00                                         </td><td>33                                                         </td><td>3304557                                                    </td><td>⋯                                                          </td><td> 1                                                         </td><td> 0                                                         </td><td> 0                                                         </td><td> 0                                                         </td><td>NA                                                         </td><td>NA                                                         </td><td>NA                                                         </td><td> 0                                                         </td><td> 0                                                         </td><td> 0                                                         </td></tr>\n",
       "\t<tr><td>⋮</td><td>⋮</td><td>⋮</td><td>⋮</td><td>⋮</td><td>⋮</td><td>⋮</td><td>⋮</td><td>⋮</td><td>⋮</td><td>⋱</td><td>⋮</td><td>⋮</td><td>⋮</td><td>⋮</td><td>⋮</td><td>⋮</td><td>⋮</td><td>⋮</td><td>⋮</td><td>⋮</td></tr>\n",
       "\t<tr><td>2014                                                          </td><td>33163642                                                      </td><td>0918802 EDI PINTANDO O SETE                                   </td><td>00240                                                         </td><td>1                                                             </td><td>0                                                             </td><td>11FEB2014:00:00:00                                            </td><td>19DEC2014:00:00:00                                            </td><td>33                                                            </td><td>3304557                                                       </td><td>⋯                                                             </td><td> 1                                                            </td><td> 0                                                            </td><td> 0                                                            </td><td> 0                                                            </td><td>NA                                                            </td><td>NA                                                            </td><td>NA                                                            </td><td> 0                                                            </td><td> 0                                                            </td><td> 0                                                            </td></tr>\n",
       "\t<tr><td>2014                                                          </td><td>33085080                                                      </td><td>1019050 ESCOLA MUNICIPAL ROBERTO COELHO                       </td><td>00250                                                         </td><td>1                                                             </td><td>0                                                             </td><td>11FEB2014:00:00:00                                            </td><td>19DEC2014:00:00:00                                            </td><td>33                                                            </td><td>3304557                                                       </td><td>⋯                                                             </td><td> 1                                                            </td><td> 0                                                            </td><td> 0                                                            </td><td> 0                                                            </td><td>NA                                                            </td><td>NA                                                            </td><td>NA                                                            </td><td> 0                                                            </td><td> 0                                                            </td><td> 0                                                            </td></tr>\n",
       "\t<tr><td>2014                                                          </td><td>33094551                                                      </td><td>0716503 CIEP DOUTOR ADELINO DA PALMA CARLOS                   </td><td>00220                                                         </td><td>1                                                             </td><td>0                                                             </td><td>11FEB2014:00:00:00                                            </td><td>19DEC2014:00:00:00                                            </td><td>33                                                            </td><td>3304557                                                       </td><td>⋯                                                             </td><td> 1                                                            </td><td> 0                                                            </td><td> 0                                                            </td><td> 0                                                            </td><td>NA                                                            </td><td>NA                                                            </td><td>NA                                                            </td><td> 0                                                            </td><td> 0                                                            </td><td> 0                                                            </td></tr>\n",
       "\t<tr><td>2014                                                          </td><td>33165688                                                      </td><td>CLUBE ESCOLAR PROFESSOR SESME RAMADA DA SILVA                 </td><td>00250                                                         </td><td>2                                                             </td><td>0                                                             </td><td>                                                              </td><td>                                                              </td><td>33                                                            </td><td>3304557                                                       </td><td>⋯                                                             </td><td>NA                                                            </td><td>NA                                                            </td><td>NA                                                            </td><td>NA                                                            </td><td>NA                                                            </td><td>NA                                                            </td><td>NA                                                            </td><td>NA                                                            </td><td>NA                                                            </td><td>NA                                                            </td></tr>\n",
       "\t<tr><td>2014                                                          </td><td>33163600                                                      </td><td>0817807 EDI MARIA DO CARMO SOUZA PIRAN                        </td><td>00230                                                         </td><td>1                                                             </td><td>0                                                             </td><td>11FEB2014:00:00:00                                            </td><td>19DEC2014:00:00:00                                            </td><td>33                                                            </td><td>3304557                                                       </td><td>⋯                                                             </td><td> 1                                                            </td><td> 0                                                            </td><td> 0                                                            </td><td> 0                                                            </td><td>NA                                                            </td><td>NA                                                            </td><td>NA                                                            </td><td> 0                                                            </td><td> 0                                                            </td><td> 0                                                            </td></tr>\n",
       "\t<tr><td>2014                                                          </td><td>33126577                                                      </td><td>0107603 CRECHE MUNICIPAL VOVO LUCIOLA                         </td><td>00160                                                         </td><td>1                                                             </td><td>0                                                             </td><td>11FEB2014:00:00:00                                            </td><td>19DEC2014:00:00:00                                            </td><td>33                                                            </td><td>3304557                                                       </td><td>⋯                                                             </td><td> 1                                                            </td><td> 0                                                            </td><td> 0                                                            </td><td> 0                                                            </td><td>NA                                                            </td><td>NA                                                            </td><td>NA                                                            </td><td> 0                                                            </td><td> 0                                                            </td><td> 0                                                            </td></tr>\n",
       "\t<tr><td>2014                                                          </td><td>33147370                                                      </td><td>0103604 CRECHE MUNICIPAL SONHO INFANTIL                       </td><td>00160                                                         </td><td>1                                                             </td><td>0                                                             </td><td>11FEB2014:00:00:00                                            </td><td>19DEC2014:00:00:00                                            </td><td>33                                                            </td><td>3304557                                                       </td><td>⋯                                                             </td><td> 1                                                            </td><td> 0                                                            </td><td> 0                                                            </td><td> 0                                                            </td><td>NA                                                            </td><td>NA                                                            </td><td>NA                                                            </td><td> 0                                                            </td><td> 0                                                            </td><td> 0                                                            </td></tr>\n",
       "\t<tr><td>2014                                                          </td><td>33068739                                                      </td><td>0430502 CIEP ELIS REGINA                                      </td><td>00190                                                         </td><td>1                                                             </td><td>0                                                             </td><td>11FEB2014:00:00:00                                            </td><td>19DEC2014:00:00:00                                            </td><td>33                                                            </td><td>3304557                                                       </td><td>⋯                                                             </td><td> 1                                                            </td><td> 0                                                            </td><td> 0                                                            </td><td> 0                                                            </td><td>NA                                                            </td><td>NA                                                            </td><td>NA                                                            </td><td> 0                                                            </td><td> 0                                                            </td><td> 0                                                            </td></tr>\n",
       "\t<tr><td>2014                                                          </td><td>33068771                                                      </td><td>0430201 CIEP MINISTRO GUSTAVO CAPANEMA                        </td><td>00190                                                         </td><td>1                                                             </td><td>0                                                             </td><td>11FEB2014:00:00:00                                            </td><td>19DEC2014:00:00:00                                            </td><td>33                                                            </td><td>3304557                                                       </td><td>⋯                                                             </td><td> 1                                                            </td><td> 0                                                            </td><td> 0                                                            </td><td> 0                                                            </td><td>NA                                                            </td><td>NA                                                            </td><td>NA                                                            </td><td> 0                                                            </td><td> 0                                                            </td><td> 0                                                            </td></tr>\n",
       "\t<tr><td>2014                                                          </td><td>33062439                                                      </td><td>0101003 ESCOLA MUNICIPAL DARCY VARGAS                         </td><td>00160                                                         </td><td>1                                                             </td><td>0                                                             </td><td>11FEB2014:00:00:00                                            </td><td>19DEC2014:00:00:00                                            </td><td>33                                                            </td><td>3304557                                                       </td><td>⋯                                                             </td><td> 1                                                            </td><td> 0                                                            </td><td> 0                                                            </td><td> 0                                                            </td><td>NA                                                            </td><td>NA                                                            </td><td>NA                                                            </td><td> 0                                                            </td><td> 0                                                            </td><td> 0                                                            </td></tr>\n",
       "\t<tr><td>2014                                                          </td><td>33168016                                                      </td><td>0716810 EDI EU SOU                                            </td><td>00220                                                         </td><td>1                                                             </td><td>0                                                             </td><td>11FEB2014:00:00:00                                            </td><td>19DEC2014:00:00:00                                            </td><td>33                                                            </td><td>3304557                                                       </td><td>⋯                                                             </td><td> 1                                                            </td><td> 0                                                            </td><td> 0                                                            </td><td> 0                                                            </td><td>NA                                                            </td><td>NA                                                            </td><td>NA                                                            </td><td> 0                                                            </td><td> 0                                                            </td><td> 0                                                            </td></tr>\n",
       "\t<tr><td>2014                                                          </td><td>33080097                                                      </td><td>0817029 ESCOLA MUNICIPAL ANTONIO BANDEIRA                     </td><td>00230                                                         </td><td>1                                                             </td><td>0                                                             </td><td>11FEB2014:00:00:00                                            </td><td>19DEC2014:00:00:00                                            </td><td>33                                                            </td><td>3304557                                                       </td><td>⋯                                                             </td><td> 1                                                            </td><td> 0                                                            </td><td> 0                                                            </td><td> 0                                                            </td><td>NA                                                            </td><td>NA                                                            </td><td>NA                                                            </td><td> 0                                                            </td><td> 0                                                            </td><td> 0                                                            </td></tr>\n",
       "\t<tr><td>2014                                                          </td><td>33144621                                                      </td><td>0107604 CRECHE MUNICIPAL HOMERO JOSE DOS SANTOS               </td><td>00160                                                         </td><td>1                                                             </td><td>0                                                             </td><td>11FEB2014:00:00:00                                            </td><td>19DEC2014:00:00:00                                            </td><td>33                                                            </td><td>3304557                                                       </td><td>⋯                                                             </td><td> 1                                                            </td><td> 0                                                            </td><td> 0                                                            </td><td> 0                                                            </td><td>NA                                                            </td><td>NA                                                            </td><td>NA                                                            </td><td> 0                                                            </td><td> 0                                                            </td><td> 0                                                            </td></tr>\n",
       "\t<tr><td>2014                                                          </td><td>33122768                                                      </td><td>0411607 CRECHE MUNICIPAL MARIA ALTAMIRA C OLEGARIO            </td><td>00190                                                         </td><td>1                                                             </td><td>0                                                             </td><td>11FEB2014:00:00:00                                            </td><td>19DEC2014:00:00:00                                            </td><td>33                                                            </td><td>3304557                                                       </td><td>⋯                                                             </td><td> 1                                                            </td><td> 0                                                            </td><td> 0                                                            </td><td> 0                                                            </td><td>NA                                                            </td><td>NA                                                            </td><td>NA                                                            </td><td> 0                                                            </td><td> 0                                                            </td><td> 0                                                            </td></tr>\n",
       "\t<tr><td>2014                                                          </td><td>33088055                                                      </td><td>0625809 EDI SEBASTIAO TAVARES DO NASCIMENTO                   </td><td>00210                                                         </td><td>1                                                             </td><td>0                                                             </td><td>11FEB2014:00:00:00                                            </td><td>19DEC2014:00:00:00                                            </td><td>33                                                            </td><td>3304557                                                       </td><td>⋯                                                             </td><td> 1                                                            </td><td> 0                                                            </td><td> 0                                                            </td><td> 0                                                            </td><td>NA                                                            </td><td>NA                                                            </td><td>NA                                                            </td><td> 0                                                            </td><td> 0                                                            </td><td> 0                                                            </td></tr>\n",
       "\t<tr><td>2014                                                          </td><td>33080712                                                      </td><td>0817018 ESCOLA MUNICIPAL LEONIDAS SOBRINO PORTO               </td><td>00230                                                         </td><td>1                                                             </td><td>0                                                             </td><td>11FEB2014:00:00:00                                            </td><td>19DEC2014:00:00:00                                            </td><td>33                                                            </td><td>3304557                                                       </td><td>⋯                                                             </td><td> 1                                                            </td><td> 0                                                            </td><td> 0                                                            </td><td> 0                                                            </td><td>NA                                                            </td><td>NA                                                            </td><td>NA                                                            </td><td> 0                                                            </td><td> 0                                                            </td><td> 0                                                            </td></tr>\n",
       "\t<tr><td>2014                                                          </td><td>33065624                                                      </td><td>0206012 ESCOLA MUNICIPAL CAMILO CASTELO BRANCO                </td><td>00170                                                         </td><td>1                                                             </td><td>0                                                             </td><td>11FEB2014:00:00:00                                            </td><td>19DEC2014:00:00:00                                            </td><td>33                                                            </td><td>3304557                                                       </td><td>⋯                                                             </td><td> 1                                                            </td><td> 0                                                            </td><td> 0                                                            </td><td> 0                                                            </td><td>NA                                                            </td><td>NA                                                            </td><td>NA                                                            </td><td> 0                                                            </td><td> 0                                                            </td><td> 0                                                            </td></tr>\n",
       "\t<tr><td>2014                                                          </td><td>33074313                                                      </td><td>0514011 ESCOLA MUNICIPAL ALFREDO DE PAULA FREITAS             </td><td>00200                                                         </td><td>1                                                             </td><td>0                                                             </td><td>11FEB2014:00:00:00                                            </td><td>19DEC2014:00:00:00                                            </td><td>33                                                            </td><td>3304557                                                       </td><td>⋯                                                             </td><td> 1                                                            </td><td> 0                                                            </td><td> 0                                                            </td><td> 0                                                            </td><td>NA                                                            </td><td>NA                                                            </td><td>NA                                                            </td><td> 0                                                            </td><td> 0                                                            </td><td> 0                                                            </td></tr>\n",
       "\t<tr><td>2014                                                          </td><td>33068232                                                      </td><td>0209005 ESCOLA MUNICIPAL BARAO HOMEM DE MELLO                 </td><td>00170                                                         </td><td>1                                                             </td><td>0                                                             </td><td>11FEB2014:00:00:00                                            </td><td>19DEC2014:00:00:00                                            </td><td>33                                                            </td><td>3304557                                                       </td><td>⋯                                                             </td><td> 1                                                            </td><td> 0                                                            </td><td> 0                                                            </td><td> 0                                                            </td><td>NA                                                            </td><td>NA                                                            </td><td>NA                                                            </td><td> 0                                                            </td><td> 0                                                            </td><td> 0                                                            </td></tr>\n",
       "\t<tr><td>2014                                                          </td><td>33144737                                                      </td><td>0515602 CRECHE MUNICIPAL SAO MIGUEL ARCANJO                   </td><td>00200                                                         </td><td>1                                                             </td><td>0                                                             </td><td>11FEB2014:00:00:00                                            </td><td>19DEC2014:00:00:00                                            </td><td>33                                                            </td><td>3304557                                                       </td><td>⋯                                                             </td><td> 1                                                            </td><td> 0                                                            </td><td> 0                                                            </td><td> 0                                                            </td><td>NA                                                            </td><td>NA                                                            </td><td>NA                                                            </td><td> 0                                                            </td><td> 0                                                            </td><td> 0                                                            </td></tr>\n",
       "\t<tr><td>2014                                                          </td><td>33078270                                                      </td><td>0716046 ESCOLA MUNICIPAL PROFESSORA FELICIDADE DE MOURA CASTRO</td><td>00220                                                         </td><td>1                                                             </td><td>0                                                             </td><td>11FEB2014:00:00:00                                            </td><td>19DEC2014:00:00:00                                            </td><td>33                                                            </td><td>3304557                                                       </td><td>⋯                                                             </td><td> 1                                                            </td><td> 0                                                            </td><td> 0                                                            </td><td> 0                                                            </td><td>NA                                                            </td><td>NA                                                            </td><td>NA                                                            </td><td> 0                                                            </td><td> 0                                                            </td><td> 0                                                            </td></tr>\n",
       "\t<tr><td>2014                                                          </td><td>33083398                                                      </td><td>0918027 ESCOLA MUNICIPAL RUBENS DE FARIAS NEVES               </td><td>00240                                                         </td><td>1                                                             </td><td>0                                                             </td><td>11FEB2014:00:00:00                                            </td><td>19DEC2014:00:00:00                                            </td><td>33                                                            </td><td>3304557                                                       </td><td>⋯                                                             </td><td> 1                                                            </td><td> 0                                                            </td><td> 0                                                            </td><td> 0                                                            </td><td>NA                                                            </td><td>NA                                                            </td><td>NA                                                            </td><td> 0                                                            </td><td> 0                                                            </td><td> 0                                                            </td></tr>\n",
       "\t<tr><td>2014                                                          </td><td>33078360                                                      </td><td>0716012 ESCOLA MUNICIPAL VICTOR HUGO                          </td><td>00220                                                         </td><td>1                                                             </td><td>0                                                             </td><td>11FEB2014:00:00:00                                            </td><td>19DEC2014:00:00:00                                            </td><td>33                                                            </td><td>3304557                                                       </td><td>⋯                                                             </td><td> 1                                                            </td><td> 0                                                            </td><td> 0                                                            </td><td> 0                                                            </td><td>NA                                                            </td><td>NA                                                            </td><td>NA                                                            </td><td> 0                                                            </td><td> 1                                                            </td><td> 0                                                            </td></tr>\n",
       "\t<tr><td>2014                                                          </td><td>33080887                                                      </td><td>0817065 ESCOLA MUNICIPAL PABLO PICASSO                        </td><td>00230                                                         </td><td>1                                                             </td><td>0                                                             </td><td>11FEB2014:00:00:00                                            </td><td>19DEC2014:00:00:00                                            </td><td>33                                                            </td><td>3304557                                                       </td><td>⋯                                                             </td><td> 1                                                            </td><td> 0                                                            </td><td> 0                                                            </td><td> 0                                                            </td><td>NA                                                            </td><td>NA                                                            </td><td>NA                                                            </td><td> 0                                                            </td><td> 0                                                            </td><td> 0                                                            </td></tr>\n",
       "\t<tr><td>2014                                                          </td><td>33072639                                                      </td><td>0312016 ESCOLA MUNICIPAL CEARA                                </td><td>00180                                                         </td><td>1                                                             </td><td>0                                                             </td><td>11FEB2014:00:00:00                                            </td><td>19DEC2014:00:00:00                                            </td><td>33                                                            </td><td>3304557                                                       </td><td>⋯                                                             </td><td> 1                                                            </td><td> 0                                                            </td><td> 0                                                            </td><td> 0                                                            </td><td>NA                                                            </td><td>NA                                                            </td><td>NA                                                            </td><td> 0                                                            </td><td> 0                                                            </td><td> 0                                                            </td></tr>\n",
       "\t<tr><td>2014                                                          </td><td>33082960                                                      </td><td>0918015 ESCOLA MUNICIPAL HENRIQUE DIAS                        </td><td>00240                                                         </td><td>1                                                             </td><td>0                                                             </td><td>11FEB2014:00:00:00                                            </td><td>19DEC2014:00:00:00                                            </td><td>33                                                            </td><td>3304557                                                       </td><td>⋯                                                             </td><td> 1                                                            </td><td> 0                                                            </td><td> 0                                                            </td><td> 0                                                            </td><td>NA                                                            </td><td>NA                                                            </td><td>NA                                                            </td><td> 0                                                            </td><td> 0                                                            </td><td> 0                                                            </td></tr>\n",
       "\t<tr><td>2014                                                          </td><td>33164134                                                      </td><td>0103804 EDI ZELIA GATTAI AMADO                                </td><td>00160                                                         </td><td>1                                                             </td><td>0                                                             </td><td>11FEB2014:00:00:00                                            </td><td>19DEC2014:00:00:00                                            </td><td>33                                                            </td><td>3304557                                                       </td><td>⋯                                                             </td><td> 1                                                            </td><td> 0                                                            </td><td> 0                                                            </td><td> 0                                                            </td><td>NA                                                            </td><td>NA                                                            </td><td>NA                                                            </td><td> 0                                                            </td><td> 1                                                            </td><td> 0                                                            </td></tr>\n",
       "\t<tr><td>2014                                                          </td><td>33072965                                                      </td><td>0312012 ESCOLA MUNICIPAL MANOEL BOMFIM                        </td><td>00180                                                         </td><td>1                                                             </td><td>0                                                             </td><td>11FEB2014:00:00:00                                            </td><td>19DEC2014:00:00:00                                            </td><td>33                                                            </td><td>3304557                                                       </td><td>⋯                                                             </td><td> 1                                                            </td><td> 0                                                            </td><td> 0                                                            </td><td> 0                                                            </td><td>NA                                                            </td><td>NA                                                            </td><td>NA                                                            </td><td> 0                                                            </td><td> 0                                                            </td><td> 0                                                            </td></tr>\n",
       "\t<tr><td>2014                                                          </td><td>33069468                                                      </td><td>0410008 ESCOLA MUNICIPAL WALT DISNEY                          </td><td>00190                                                         </td><td>1                                                             </td><td>0                                                             </td><td>11FEB2014:00:00:00                                            </td><td>19DEC2014:00:00:00                                            </td><td>33                                                            </td><td>3304557                                                       </td><td>⋯                                                             </td><td> 1                                                            </td><td> 0                                                            </td><td> 0                                                            </td><td> 0                                                            </td><td>NA                                                            </td><td>NA                                                            </td><td>NA                                                            </td><td> 0                                                            </td><td> 0                                                            </td><td> 0                                                            </td></tr>\n",
       "\t<tr><td>2014                                                          </td><td>33164142                                                      </td><td>0107801 EDI PROFESSORA DAYSE MALAGOLE                         </td><td>00160                                                         </td><td>1                                                             </td><td>0                                                             </td><td>11FEB2014:00:00:00                                            </td><td>19DEC2014:00:00:00                                            </td><td>33                                                            </td><td>3304557                                                       </td><td>⋯                                                             </td><td> 1                                                            </td><td> 0                                                            </td><td> 0                                                            </td><td> 0                                                            </td><td>NA                                                            </td><td>NA                                                            </td><td>NA                                                            </td><td> 0                                                            </td><td> 0                                                            </td><td> 0                                                            </td></tr>\n",
       "</tbody>\n",
       "</table>\n"
      ],
      "text/latex": [
       "\\begin{tabular}{r|lllllllllllllllllllllllllllllllllllllllllllllllllllllllllllllllllllllllllllllllllllllllllllllllllllllllllllllllllllllllllllllllllllllllllllll}\n",
       " ANO\\_CENSO & PK\\_COD\\_ENTIDADE & NO\\_ENTIDADE & COD\\_ORGAO\\_REGIONAL\\_INEP & DESC\\_SITUACAO\\_FUNCIONAMENTO & DESC\\_SITUACAO\\_CENSO & DT\\_ANO\\_LETIVO\\_INICIO & DT\\_ANO\\_LETIVO\\_TERMINO & FK\\_COD\\_ESTADO & FK\\_COD\\_MUNICIPIO & ⋯ & ID\\_MATERIAL\\_ESP\\_NAO\\_UTILIZA & ID\\_MATERIAL\\_ESP\\_QUILOMBOLA & ID\\_MATERIAL\\_ESP\\_INDIGENA & ID\\_EDUCACAO\\_INDIGENA & ID\\_LINGUA\\_INDIGENA & FK\\_COD\\_LINGUA\\_INDIGENA & ID\\_LINGUA\\_PORTUGUESA & ID\\_ESPACO\\_TURMA\\_PBA & ID\\_ABRE\\_FINAL\\_SEMANA & ID\\_PROPOSTA\\_PEDAG\\_ALTERNANCIA\\\\\n",
       "\\hline\n",
       "\t 2014                                                        & 33066329                                                    & 0107502 ESCOLA MUNICIPAL MESTRE WALDEMIRO                   & 00160                                                       & 1                                                           & 0                                                           & 11FEB2014:00:00:00                                          & 19DEC2014:00:00:00                                          & 33                                                          & 3304557                                                     & ⋯                                                           &  1                                                          &  0                                                          &  0                                                          &  0                                                          & NA                                                          & NA                                                          & NA                                                          &  0                                                          &  0                                                          &  0                                                         \\\\\n",
       "\t 2014                                                        & 33164800                                                    & POLO DE EDUCACAO PELO TRABALHO ALZIRA ARAUJO                & 00240                                                       & 2                                                           & 0                                                           &                                                             &                                                             & 33                                                          & 3304557                                                     & ⋯                                                           & NA                                                          & NA                                                          & NA                                                          & NA                                                          & NA                                                          & NA                                                          & NA                                                          & NA                                                          & NA                                                          & NA                                                         \\\\\n",
       "\t 2014                                                        & 33081760                                                    & 0918510 CIEP ARMINDO MARCILIO DOUTEL DE ANDRADE             & 00240                                                       & 1                                                           & 0                                                           & 11FEB2014:00:00:00                                          & 19DEC2014:00:00:00                                          & 33                                                          & 3304557                                                     & ⋯                                                           &  1                                                          &  0                                                          &  0                                                          &  0                                                          & NA                                                          & NA                                                          & NA                                                          &  0                                                          &  0                                                          &  0                                                         \\\\\n",
       "\t 2014                                                        & 33087130                                                    & 0625029 ESCOLA MUNICIPAL JOSE PEDRO VARELA                  & 00210                                                       & 1                                                           & 0                                                           & 11FEB2014:00:00:00                                          & 19DEC2014:00:00:00                                          & 33                                                          & 3304557                                                     & ⋯                                                           &  1                                                          &  0                                                          &  0                                                          &  0                                                          & NA                                                          & NA                                                          & NA                                                          &  0                                                          &  0                                                          &  0                                                         \\\\\n",
       "\t 2014                                                        & 33087237                                                    & 0622008 ESCOLA MUNICIPAL NARBAL FONTES                      & 00210                                                       & 1                                                           & 0                                                           & 11FEB2014:00:00:00                                          & 19DEC2014:00:00:00                                          & 33                                                          & 3304557                                                     & ⋯                                                           &  1                                                          &  0                                                          &  0                                                          &  0                                                          & NA                                                          & NA                                                          & NA                                                          &  0                                                          &  0                                                          &  0                                                         \\\\\n",
       "\t 2014                                                        & 33066515                                                    & 0208501 CIEP SAMUEL WAINER                                  & 00170                                                       & 1                                                           & 0                                                           & 11FEB2014:00:00:00                                          & 19DEC2014:00:00:00                                          & 33                                                          & 3304557                                                     & ⋯                                                           &  1                                                          &  0                                                          &  0                                                          &  0                                                          & NA                                                          & NA                                                          & NA                                                          &  0                                                          &  0                                                          &  0                                                         \\\\\n",
       "\t 2014                                                        & 33130370                                                    & 0716605 CRECHE MUNICIPAL SEMPRE VIDA NISE DA SILVEIRA       & 00220                                                       & 1                                                           & 0                                                           & 11FEB2014:00:00:00                                          & 19DEC2014:00:00:00                                          & 33                                                          & 3304557                                                     & ⋯                                                           &  1                                                          &  0                                                          &  0                                                          &  0                                                          & NA                                                          & NA                                                          & NA                                                          &  0                                                          &  0                                                          &  0                                                         \\\\\n",
       "\t 2014                                                        & 33076014                                                    & 0515052 ESCOLA MUNICIPAL AZEVEDO JUNIOR                     & 00200                                                       & 1                                                           & 0                                                           & 11FEB2014:00:00:00                                          & 19DEC2014:00:00:00                                          & 33                                                          & 3304557                                                     & ⋯                                                           &  1                                                          &  0                                                          &  0                                                          &  0                                                          & NA                                                          & NA                                                          & NA                                                          &  0                                                          &  0                                                          &  0                                                         \\\\\n",
       "\t 2014                                                        & 33076022                                                    & 0515034 ESCOLA MUNICIPAL EM 0515034 BARAO DE ITARARE        & 00200                                                       & 1                                                           & 0                                                           & 11FEB2014:00:00:00                                          & 19DEC2014:00:00:00                                          & 33                                                          & 3304557                                                     & ⋯                                                           &  1                                                          &  0                                                          &  0                                                          &  0                                                          & NA                                                          & NA                                                          & NA                                                          &  0                                                          &  0                                                          &  0                                                         \\\\\n",
       "\t 2014                                                        & 33076049                                                    & 0515054 ESCOLA MUNICIPAL CARDEAL ARCOVERDE                  & 00200                                                       & 1                                                           & 0                                                           & 11FEB2014:00:00:00                                          & 19DEC2014:00:00:00                                          & 33                                                          & 3304557                                                     & ⋯                                                           &  1                                                          &  0                                                          &  0                                                          &  0                                                          & NA                                                          & NA                                                          & NA                                                          &  0                                                          &  0                                                          &  0                                                         \\\\\n",
       "\t 2014                                                        & 33081247                                                    & 0817024 ESCOLA MUNICIPAL WALDIR AZEVEDO FRANCO              & 00230                                                       & 1                                                           & 0                                                           & 11FEB2014:00:00:00                                          & 19DEC2014:00:00:00                                          & 33                                                          & 3304557                                                     & ⋯                                                           &  1                                                          &  0                                                          &  0                                                          &  0                                                          & NA                                                          & NA                                                          & NA                                                          &  0                                                          &  0                                                          &  0                                                         \\\\\n",
       "\t 2014                                                        & 33104824                                                    & 1019612 CRECHE MUNICIPAL DANIELA PEREZ                      & 00250                                                       & 1                                                           & 0                                                           & 11FEB2014:00:00:00                                          & 19DEC2014:00:00:00                                          & 33                                                          & 3304557                                                     & ⋯                                                           &  1                                                          &  0                                                          &  0                                                          &  0                                                          & NA                                                          & NA                                                          & NA                                                          &  0                                                          &  1                                                          &  0                                                         \\\\\n",
       "\t 2014                                                        & 33087040                                                    & 0625026 ESCOLA MUNICIPAL EUGENIA DUTRA HAMANN               & 00210                                                       & 1                                                           & 0                                                           & 11FEB2014:00:00:00                                          & 19DEC2014:00:00:00                                          & 33                                                          & 3304557                                                     & ⋯                                                           &  1                                                          &  0                                                          &  0                                                          &  0                                                          & NA                                                          & NA                                                          & NA                                                          &  0                                                          &  0                                                          &  0                                                         \\\\\n",
       "\t 2014                                                        & 33074429                                                    & 0514026 ESCOLA MUNICIPAL FRANCISCO SERTORIO PORTINHO        & 00200                                                       & 1                                                           & 0                                                           & 11FEB2014:00:00:00                                          & 19DEC2014:00:00:00                                          & 33                                                          & 3304557                                                     & ⋯                                                           &  1                                                          &  0                                                          &  0                                                          &  0                                                          & NA                                                          & NA                                                          & NA                                                          &  0                                                          &  0                                                          &  0                                                         \\\\\n",
       "\t 2014                                                        & 33074437                                                    & 0514023 ESCOLA MUNICIPAL GASPAR VIANNA                      & 00200                                                       & 1                                                           & 0                                                           & 11FEB2014:00:00:00                                          & 19DEC2014:00:00:00                                          & 33                                                          & 3304557                                                     & ⋯                                                           &  1                                                          &  0                                                          &  0                                                          &  0                                                          & NA                                                          & NA                                                          & NA                                                          &  0                                                          &  0                                                          &  0                                                         \\\\\n",
       "\t 2014                                                        & 33070610                                                    & 0431026 ESCOLA MUNICIPAL HERBERT MOSES                      & 00190                                                       & 1                                                           & 0                                                           & 11FEB2014:00:00:00                                          & 19DEC2014:00:00:00                                          & 33                                                          & 3304557                                                     & ⋯                                                           &  1                                                          &  0                                                          &  0                                                          &  0                                                          & NA                                                          & NA                                                          & NA                                                          &  0                                                          &  0                                                          &  0                                                         \\\\\n",
       "\t 2014                                                        & 33070628                                                    & 0411014 ESCOLA MUNICIPAL JOAO DE DEUS                       & 00190                                                       & 1                                                           & 0                                                           & 11FEB2014:00:00:00                                          & 19DEC2014:00:00:00                                          & 33                                                          & 3304557                                                     & ⋯                                                           &  1                                                          &  0                                                          &  0                                                          &  0                                                          & NA                                                          & NA                                                          & NA                                                          &  0                                                          &  0                                                          &  0                                                         \\\\\n",
       "\t 2014                                                        & 33083347                                                    & 0918064 ESCOLA MUNICIPAL RAINHA VITORIA                     & 00240                                                       & 1                                                           & 0                                                           & 11FEB2014:00:00:00                                          & 19DEC2014:00:00:00                                          & 33                                                          & 3304557                                                     & ⋯                                                           &  1                                                          &  0                                                          &  0                                                          &  0                                                          & NA                                                          & NA                                                          & NA                                                          &  0                                                          &  0                                                          &  0                                                         \\\\\n",
       "\t 2014                                                        & 33083363                                                    & 0918049 ESCOLA MUNICIPAL RIO GRANDE DO NORTE                & 00240                                                       & 1                                                           & 0                                                           & 11FEB2014:00:00:00                                          & 19DEC2014:00:00:00                                          & 33                                                          & 3304557                                                     & ⋯                                                           &  1                                                          &  0                                                          &  0                                                          &  0                                                          & NA                                                          & NA                                                          & NA                                                          &  0                                                          &  0                                                          &  0                                                         \\\\\n",
       "\t 2014                                                        & 33147345                                                    & 0123601 CRECHE MUNICIPAL JOSE MARINHO DE OLIVEIRA           & 00160                                                       & 1                                                           & 0                                                           & 11FEB2014:00:00:00                                          & 19DEC2014:00:00:00                                          & 33                                                          & 3304557                                                     & ⋯                                                           &  1                                                          &  0                                                          &  0                                                          &  0                                                          & NA                                                          & NA                                                          & NA                                                          &  0                                                          &  0                                                          &  0                                                         \\\\\n",
       "\t 2014                                                        & 33147353                                                    & 0328604 CRECHE MUNICIPAL COMUNIDADE DO JACAREZINHO          & 00180                                                       & 1                                                           & 0                                                           & 11FEB2014:00:00:00                                          & 19DEC2014:00:00:00                                          & 33                                                          & 3304557                                                     & ⋯                                                           &  1                                                          &  0                                                          &  0                                                          &  0                                                          & NA                                                          & NA                                                          & NA                                                          &  0                                                          &  0                                                          &  0                                                         \\\\\n",
       "\t 2014                                                        & 33075964                                                    & 0515042ESCOLA ESPECIAL MUNICIPAL MAURICIO DE MEDEIROS       & 00200                                                       & 1                                                           & 0                                                           & 11FEB2014:00:00:00                                          & 19DEC2014:00:00:00                                          & 33                                                          & 3304557                                                     & ⋯                                                           &  1                                                          &  0                                                          &  0                                                          &  0                                                          & NA                                                          & NA                                                          & NA                                                          &  0                                                          &  0                                                          &  0                                                         \\\\\n",
       "\t 2014                                                        & 33080640                                                    & 0817009 ESCOLA MUNICIPAL JOSE MARIA BELLO                   & 00230                                                       & 1                                                           & 0                                                           & 11FEB2014:00:00:00                                          & 19DEC2014:00:00:00                                          & 33                                                          & 3304557                                                     & ⋯                                                           &  1                                                          &  0                                                          &  0                                                          &  0                                                          & NA                                                          & NA                                                          & NA                                                          &  0                                                          &  0                                                          &  0                                                         \\\\\n",
       "\t 2014                                                        & 33149283                                                    & 0515064 ESCOLA MUNICIPAL MESTRE DARCY DO JONGO              & 00200                                                       & 1                                                           & 0                                                           & 11FEB2014:00:00:00                                          & 19DEC2014:00:00:00                                          & 33                                                          & 3304557                                                     & ⋯                                                           &  1                                                          &  0                                                          &  0                                                          &  0                                                          & NA                                                          & NA                                                          & NA                                                          &  0                                                          &  0                                                          &  0                                                         \\\\\n",
       "\t 2014                                                        & 33078262                                                    & 0716053 ESCOLA MUNICIPAL PROFESSORA DYLA SYLVIA DE SA       & 00220                                                       & 1                                                           & 0                                                           & 11FEB2014:00:00:00                                          & 19DEC2014:00:00:00                                          & 33                                                          & 3304557                                                     & ⋯                                                           &  1                                                          &  0                                                          &  0                                                          &  0                                                          & NA                                                          & NA                                                          & NA                                                          &  0                                                          &  0                                                          &  0                                                         \\\\\n",
       "\t 2014                                                        & 33078300                                                    & 0724019 ESCOLA MUNICIPAL PROFESSOR TEOFILO MOREIRA DA COSTA & 00220                                                       & 1                                                           & 0                                                           & 11FEB2014:00:00:00                                          & 19DEC2014:00:00:00                                          & 33                                                          & 3304557                                                     & ⋯                                                           &  1                                                          &  0                                                          &  0                                                          &  0                                                          & NA                                                          & NA                                                          & NA                                                          &  0                                                          &  0                                                          &  0                                                         \\\\\n",
       "\t 2014                                                        & 33084114                                                    & 1019211 CIEP MAJOR MANOEL GOMES ARCHER                      & 00250                                                       & 1                                                           & 0                                                           & 11FEB2014:00:00:00                                          & 19DEC2014:00:00:00                                          & 33                                                          & 3304557                                                     & ⋯                                                           &  1                                                          &  0                                                          &  0                                                          &  0                                                          & NA                                                          & NA                                                          & NA                                                          &  0                                                          &  1                                                          &  0                                                         \\\\\n",
       "\t 2014                                                        & 33083371                                                    & 0918009 ESCOLA MUNICIPAL ROMULO GALLEGOS                    & 00240                                                       & 1                                                           & 0                                                           & 11FEB2014:00:00:00                                          & 19DEC2014:00:00:00                                          & 33                                                          & 3304557                                                     & ⋯                                                           &  1                                                          &  0                                                          &  0                                                          &  0                                                          & NA                                                          & NA                                                          & NA                                                          &  0                                                          &  0                                                          &  0                                                         \\\\\n",
       "\t 2014                                                        & 33078238                                                    & 0716038 ESCOLA MUNICIPAL PEDRO AMERICO                      & 00220                                                       & 1                                                           & 0                                                           & 11FEB2014:00:00:00                                          & 19DEC2014:00:00:00                                          & 33                                                          & 3304557                                                     & ⋯                                                           &  1                                                          &  0                                                          &  0                                                          &  0                                                          & NA                                                          & NA                                                          & NA                                                          &  0                                                          &  0                                                          &  0                                                         \\\\\n",
       "\t 2014                                                        & 33084610                                                    & 1019014 ESCOLA MUNICIPAL CORONEL BERTHIER                   & 00250                                                       & 1                                                           & 0                                                           & 11FEB2014:00:00:00                                          & 19DEC2014:00:00:00                                          & 33                                                          & 3304557                                                     & ⋯                                                           &  1                                                          &  0                                                          &  0                                                          &  0                                                          & NA                                                          & NA                                                          & NA                                                          &  0                                                          &  0                                                          &  0                                                         \\\\\n",
       "\t ⋮ & ⋮ & ⋮ & ⋮ & ⋮ & ⋮ & ⋮ & ⋮ & ⋮ & ⋮ & ⋱ & ⋮ & ⋮ & ⋮ & ⋮ & ⋮ & ⋮ & ⋮ & ⋮ & ⋮ & ⋮\\\\\n",
       "\t 2014                                                           & 33163642                                                       & 0918802 EDI PINTANDO O SETE                                    & 00240                                                          & 1                                                              & 0                                                              & 11FEB2014:00:00:00                                             & 19DEC2014:00:00:00                                             & 33                                                             & 3304557                                                        & ⋯                                                              &  1                                                             &  0                                                             &  0                                                             &  0                                                             & NA                                                             & NA                                                             & NA                                                             &  0                                                             &  0                                                             &  0                                                            \\\\\n",
       "\t 2014                                                           & 33085080                                                       & 1019050 ESCOLA MUNICIPAL ROBERTO COELHO                        & 00250                                                          & 1                                                              & 0                                                              & 11FEB2014:00:00:00                                             & 19DEC2014:00:00:00                                             & 33                                                             & 3304557                                                        & ⋯                                                              &  1                                                             &  0                                                             &  0                                                             &  0                                                             & NA                                                             & NA                                                             & NA                                                             &  0                                                             &  0                                                             &  0                                                            \\\\\n",
       "\t 2014                                                           & 33094551                                                       & 0716503 CIEP DOUTOR ADELINO DA PALMA CARLOS                    & 00220                                                          & 1                                                              & 0                                                              & 11FEB2014:00:00:00                                             & 19DEC2014:00:00:00                                             & 33                                                             & 3304557                                                        & ⋯                                                              &  1                                                             &  0                                                             &  0                                                             &  0                                                             & NA                                                             & NA                                                             & NA                                                             &  0                                                             &  0                                                             &  0                                                            \\\\\n",
       "\t 2014                                                           & 33165688                                                       & CLUBE ESCOLAR PROFESSOR SESME RAMADA DA SILVA                  & 00250                                                          & 2                                                              & 0                                                              &                                                                &                                                                & 33                                                             & 3304557                                                        & ⋯                                                              & NA                                                             & NA                                                             & NA                                                             & NA                                                             & NA                                                             & NA                                                             & NA                                                             & NA                                                             & NA                                                             & NA                                                            \\\\\n",
       "\t 2014                                                           & 33163600                                                       & 0817807 EDI MARIA DO CARMO SOUZA PIRAN                         & 00230                                                          & 1                                                              & 0                                                              & 11FEB2014:00:00:00                                             & 19DEC2014:00:00:00                                             & 33                                                             & 3304557                                                        & ⋯                                                              &  1                                                             &  0                                                             &  0                                                             &  0                                                             & NA                                                             & NA                                                             & NA                                                             &  0                                                             &  0                                                             &  0                                                            \\\\\n",
       "\t 2014                                                           & 33126577                                                       & 0107603 CRECHE MUNICIPAL VOVO LUCIOLA                          & 00160                                                          & 1                                                              & 0                                                              & 11FEB2014:00:00:00                                             & 19DEC2014:00:00:00                                             & 33                                                             & 3304557                                                        & ⋯                                                              &  1                                                             &  0                                                             &  0                                                             &  0                                                             & NA                                                             & NA                                                             & NA                                                             &  0                                                             &  0                                                             &  0                                                            \\\\\n",
       "\t 2014                                                           & 33147370                                                       & 0103604 CRECHE MUNICIPAL SONHO INFANTIL                        & 00160                                                          & 1                                                              & 0                                                              & 11FEB2014:00:00:00                                             & 19DEC2014:00:00:00                                             & 33                                                             & 3304557                                                        & ⋯                                                              &  1                                                             &  0                                                             &  0                                                             &  0                                                             & NA                                                             & NA                                                             & NA                                                             &  0                                                             &  0                                                             &  0                                                            \\\\\n",
       "\t 2014                                                           & 33068739                                                       & 0430502 CIEP ELIS REGINA                                       & 00190                                                          & 1                                                              & 0                                                              & 11FEB2014:00:00:00                                             & 19DEC2014:00:00:00                                             & 33                                                             & 3304557                                                        & ⋯                                                              &  1                                                             &  0                                                             &  0                                                             &  0                                                             & NA                                                             & NA                                                             & NA                                                             &  0                                                             &  0                                                             &  0                                                            \\\\\n",
       "\t 2014                                                           & 33068771                                                       & 0430201 CIEP MINISTRO GUSTAVO CAPANEMA                         & 00190                                                          & 1                                                              & 0                                                              & 11FEB2014:00:00:00                                             & 19DEC2014:00:00:00                                             & 33                                                             & 3304557                                                        & ⋯                                                              &  1                                                             &  0                                                             &  0                                                             &  0                                                             & NA                                                             & NA                                                             & NA                                                             &  0                                                             &  0                                                             &  0                                                            \\\\\n",
       "\t 2014                                                           & 33062439                                                       & 0101003 ESCOLA MUNICIPAL DARCY VARGAS                          & 00160                                                          & 1                                                              & 0                                                              & 11FEB2014:00:00:00                                             & 19DEC2014:00:00:00                                             & 33                                                             & 3304557                                                        & ⋯                                                              &  1                                                             &  0                                                             &  0                                                             &  0                                                             & NA                                                             & NA                                                             & NA                                                             &  0                                                             &  0                                                             &  0                                                            \\\\\n",
       "\t 2014                                                           & 33168016                                                       & 0716810 EDI EU SOU                                             & 00220                                                          & 1                                                              & 0                                                              & 11FEB2014:00:00:00                                             & 19DEC2014:00:00:00                                             & 33                                                             & 3304557                                                        & ⋯                                                              &  1                                                             &  0                                                             &  0                                                             &  0                                                             & NA                                                             & NA                                                             & NA                                                             &  0                                                             &  0                                                             &  0                                                            \\\\\n",
       "\t 2014                                                           & 33080097                                                       & 0817029 ESCOLA MUNICIPAL ANTONIO BANDEIRA                      & 00230                                                          & 1                                                              & 0                                                              & 11FEB2014:00:00:00                                             & 19DEC2014:00:00:00                                             & 33                                                             & 3304557                                                        & ⋯                                                              &  1                                                             &  0                                                             &  0                                                             &  0                                                             & NA                                                             & NA                                                             & NA                                                             &  0                                                             &  0                                                             &  0                                                            \\\\\n",
       "\t 2014                                                           & 33144621                                                       & 0107604 CRECHE MUNICIPAL HOMERO JOSE DOS SANTOS                & 00160                                                          & 1                                                              & 0                                                              & 11FEB2014:00:00:00                                             & 19DEC2014:00:00:00                                             & 33                                                             & 3304557                                                        & ⋯                                                              &  1                                                             &  0                                                             &  0                                                             &  0                                                             & NA                                                             & NA                                                             & NA                                                             &  0                                                             &  0                                                             &  0                                                            \\\\\n",
       "\t 2014                                                           & 33122768                                                       & 0411607 CRECHE MUNICIPAL MARIA ALTAMIRA C OLEGARIO             & 00190                                                          & 1                                                              & 0                                                              & 11FEB2014:00:00:00                                             & 19DEC2014:00:00:00                                             & 33                                                             & 3304557                                                        & ⋯                                                              &  1                                                             &  0                                                             &  0                                                             &  0                                                             & NA                                                             & NA                                                             & NA                                                             &  0                                                             &  0                                                             &  0                                                            \\\\\n",
       "\t 2014                                                           & 33088055                                                       & 0625809 EDI SEBASTIAO TAVARES DO NASCIMENTO                    & 00210                                                          & 1                                                              & 0                                                              & 11FEB2014:00:00:00                                             & 19DEC2014:00:00:00                                             & 33                                                             & 3304557                                                        & ⋯                                                              &  1                                                             &  0                                                             &  0                                                             &  0                                                             & NA                                                             & NA                                                             & NA                                                             &  0                                                             &  0                                                             &  0                                                            \\\\\n",
       "\t 2014                                                           & 33080712                                                       & 0817018 ESCOLA MUNICIPAL LEONIDAS SOBRINO PORTO                & 00230                                                          & 1                                                              & 0                                                              & 11FEB2014:00:00:00                                             & 19DEC2014:00:00:00                                             & 33                                                             & 3304557                                                        & ⋯                                                              &  1                                                             &  0                                                             &  0                                                             &  0                                                             & NA                                                             & NA                                                             & NA                                                             &  0                                                             &  0                                                             &  0                                                            \\\\\n",
       "\t 2014                                                           & 33065624                                                       & 0206012 ESCOLA MUNICIPAL CAMILO CASTELO BRANCO                 & 00170                                                          & 1                                                              & 0                                                              & 11FEB2014:00:00:00                                             & 19DEC2014:00:00:00                                             & 33                                                             & 3304557                                                        & ⋯                                                              &  1                                                             &  0                                                             &  0                                                             &  0                                                             & NA                                                             & NA                                                             & NA                                                             &  0                                                             &  0                                                             &  0                                                            \\\\\n",
       "\t 2014                                                           & 33074313                                                       & 0514011 ESCOLA MUNICIPAL ALFREDO DE PAULA FREITAS              & 00200                                                          & 1                                                              & 0                                                              & 11FEB2014:00:00:00                                             & 19DEC2014:00:00:00                                             & 33                                                             & 3304557                                                        & ⋯                                                              &  1                                                             &  0                                                             &  0                                                             &  0                                                             & NA                                                             & NA                                                             & NA                                                             &  0                                                             &  0                                                             &  0                                                            \\\\\n",
       "\t 2014                                                           & 33068232                                                       & 0209005 ESCOLA MUNICIPAL BARAO HOMEM DE MELLO                  & 00170                                                          & 1                                                              & 0                                                              & 11FEB2014:00:00:00                                             & 19DEC2014:00:00:00                                             & 33                                                             & 3304557                                                        & ⋯                                                              &  1                                                             &  0                                                             &  0                                                             &  0                                                             & NA                                                             & NA                                                             & NA                                                             &  0                                                             &  0                                                             &  0                                                            \\\\\n",
       "\t 2014                                                           & 33144737                                                       & 0515602 CRECHE MUNICIPAL SAO MIGUEL ARCANJO                    & 00200                                                          & 1                                                              & 0                                                              & 11FEB2014:00:00:00                                             & 19DEC2014:00:00:00                                             & 33                                                             & 3304557                                                        & ⋯                                                              &  1                                                             &  0                                                             &  0                                                             &  0                                                             & NA                                                             & NA                                                             & NA                                                             &  0                                                             &  0                                                             &  0                                                            \\\\\n",
       "\t 2014                                                           & 33078270                                                       & 0716046 ESCOLA MUNICIPAL PROFESSORA FELICIDADE DE MOURA CASTRO & 00220                                                          & 1                                                              & 0                                                              & 11FEB2014:00:00:00                                             & 19DEC2014:00:00:00                                             & 33                                                             & 3304557                                                        & ⋯                                                              &  1                                                             &  0                                                             &  0                                                             &  0                                                             & NA                                                             & NA                                                             & NA                                                             &  0                                                             &  0                                                             &  0                                                            \\\\\n",
       "\t 2014                                                           & 33083398                                                       & 0918027 ESCOLA MUNICIPAL RUBENS DE FARIAS NEVES                & 00240                                                          & 1                                                              & 0                                                              & 11FEB2014:00:00:00                                             & 19DEC2014:00:00:00                                             & 33                                                             & 3304557                                                        & ⋯                                                              &  1                                                             &  0                                                             &  0                                                             &  0                                                             & NA                                                             & NA                                                             & NA                                                             &  0                                                             &  0                                                             &  0                                                            \\\\\n",
       "\t 2014                                                           & 33078360                                                       & 0716012 ESCOLA MUNICIPAL VICTOR HUGO                           & 00220                                                          & 1                                                              & 0                                                              & 11FEB2014:00:00:00                                             & 19DEC2014:00:00:00                                             & 33                                                             & 3304557                                                        & ⋯                                                              &  1                                                             &  0                                                             &  0                                                             &  0                                                             & NA                                                             & NA                                                             & NA                                                             &  0                                                             &  1                                                             &  0                                                            \\\\\n",
       "\t 2014                                                           & 33080887                                                       & 0817065 ESCOLA MUNICIPAL PABLO PICASSO                         & 00230                                                          & 1                                                              & 0                                                              & 11FEB2014:00:00:00                                             & 19DEC2014:00:00:00                                             & 33                                                             & 3304557                                                        & ⋯                                                              &  1                                                             &  0                                                             &  0                                                             &  0                                                             & NA                                                             & NA                                                             & NA                                                             &  0                                                             &  0                                                             &  0                                                            \\\\\n",
       "\t 2014                                                           & 33072639                                                       & 0312016 ESCOLA MUNICIPAL CEARA                                 & 00180                                                          & 1                                                              & 0                                                              & 11FEB2014:00:00:00                                             & 19DEC2014:00:00:00                                             & 33                                                             & 3304557                                                        & ⋯                                                              &  1                                                             &  0                                                             &  0                                                             &  0                                                             & NA                                                             & NA                                                             & NA                                                             &  0                                                             &  0                                                             &  0                                                            \\\\\n",
       "\t 2014                                                           & 33082960                                                       & 0918015 ESCOLA MUNICIPAL HENRIQUE DIAS                         & 00240                                                          & 1                                                              & 0                                                              & 11FEB2014:00:00:00                                             & 19DEC2014:00:00:00                                             & 33                                                             & 3304557                                                        & ⋯                                                              &  1                                                             &  0                                                             &  0                                                             &  0                                                             & NA                                                             & NA                                                             & NA                                                             &  0                                                             &  0                                                             &  0                                                            \\\\\n",
       "\t 2014                                                           & 33164134                                                       & 0103804 EDI ZELIA GATTAI AMADO                                 & 00160                                                          & 1                                                              & 0                                                              & 11FEB2014:00:00:00                                             & 19DEC2014:00:00:00                                             & 33                                                             & 3304557                                                        & ⋯                                                              &  1                                                             &  0                                                             &  0                                                             &  0                                                             & NA                                                             & NA                                                             & NA                                                             &  0                                                             &  1                                                             &  0                                                            \\\\\n",
       "\t 2014                                                           & 33072965                                                       & 0312012 ESCOLA MUNICIPAL MANOEL BOMFIM                         & 00180                                                          & 1                                                              & 0                                                              & 11FEB2014:00:00:00                                             & 19DEC2014:00:00:00                                             & 33                                                             & 3304557                                                        & ⋯                                                              &  1                                                             &  0                                                             &  0                                                             &  0                                                             & NA                                                             & NA                                                             & NA                                                             &  0                                                             &  0                                                             &  0                                                            \\\\\n",
       "\t 2014                                                           & 33069468                                                       & 0410008 ESCOLA MUNICIPAL WALT DISNEY                           & 00190                                                          & 1                                                              & 0                                                              & 11FEB2014:00:00:00                                             & 19DEC2014:00:00:00                                             & 33                                                             & 3304557                                                        & ⋯                                                              &  1                                                             &  0                                                             &  0                                                             &  0                                                             & NA                                                             & NA                                                             & NA                                                             &  0                                                             &  0                                                             &  0                                                            \\\\\n",
       "\t 2014                                                           & 33164142                                                       & 0107801 EDI PROFESSORA DAYSE MALAGOLE                          & 00160                                                          & 1                                                              & 0                                                              & 11FEB2014:00:00:00                                             & 19DEC2014:00:00:00                                             & 33                                                             & 3304557                                                        & ⋯                                                              &  1                                                             &  0                                                             &  0                                                             &  0                                                             & NA                                                             & NA                                                             & NA                                                             &  0                                                             &  0                                                             &  0                                                            \\\\\n",
       "\\end{tabular}\n"
      ],
      "text/markdown": [
       "\n",
       "ANO_CENSO | PK_COD_ENTIDADE | NO_ENTIDADE | COD_ORGAO_REGIONAL_INEP | DESC_SITUACAO_FUNCIONAMENTO | DESC_SITUACAO_CENSO | DT_ANO_LETIVO_INICIO | DT_ANO_LETIVO_TERMINO | FK_COD_ESTADO | FK_COD_MUNICIPIO | ⋯ | ID_MATERIAL_ESP_NAO_UTILIZA | ID_MATERIAL_ESP_QUILOMBOLA | ID_MATERIAL_ESP_INDIGENA | ID_EDUCACAO_INDIGENA | ID_LINGUA_INDIGENA | FK_COD_LINGUA_INDIGENA | ID_LINGUA_PORTUGUESA | ID_ESPACO_TURMA_PBA | ID_ABRE_FINAL_SEMANA | ID_PROPOSTA_PEDAG_ALTERNANCIA | \n",
       "|---|---|---|---|---|---|---|---|---|---|---|---|---|---|---|---|---|---|---|---|---|---|---|---|---|---|---|---|---|---|---|---|---|---|---|---|---|---|---|---|---|---|---|---|---|---|---|---|---|---|---|---|---|---|---|---|---|---|---|---|---|\n",
       "| 2014                                                        | 33066329                                                    | 0107502 ESCOLA MUNICIPAL MESTRE WALDEMIRO                   | 00160                                                       | 1                                                           | 0                                                           | 11FEB2014:00:00:00                                          | 19DEC2014:00:00:00                                          | 33                                                          | 3304557                                                     | ⋯                                                           |  1                                                          |  0                                                          |  0                                                          |  0                                                          | NA                                                          | NA                                                          | NA                                                          |  0                                                          |  0                                                          |  0                                                          | \n",
       "| 2014                                                        | 33164800                                                    | POLO DE EDUCACAO PELO TRABALHO ALZIRA ARAUJO                | 00240                                                       | 2                                                           | 0                                                           |                                                             |                                                             | 33                                                          | 3304557                                                     | ⋯                                                           | NA                                                          | NA                                                          | NA                                                          | NA                                                          | NA                                                          | NA                                                          | NA                                                          | NA                                                          | NA                                                          | NA                                                          | \n",
       "| 2014                                                        | 33081760                                                    | 0918510 CIEP ARMINDO MARCILIO DOUTEL DE ANDRADE             | 00240                                                       | 1                                                           | 0                                                           | 11FEB2014:00:00:00                                          | 19DEC2014:00:00:00                                          | 33                                                          | 3304557                                                     | ⋯                                                           |  1                                                          |  0                                                          |  0                                                          |  0                                                          | NA                                                          | NA                                                          | NA                                                          |  0                                                          |  0                                                          |  0                                                          | \n",
       "| 2014                                                        | 33087130                                                    | 0625029 ESCOLA MUNICIPAL JOSE PEDRO VARELA                  | 00210                                                       | 1                                                           | 0                                                           | 11FEB2014:00:00:00                                          | 19DEC2014:00:00:00                                          | 33                                                          | 3304557                                                     | ⋯                                                           |  1                                                          |  0                                                          |  0                                                          |  0                                                          | NA                                                          | NA                                                          | NA                                                          |  0                                                          |  0                                                          |  0                                                          | \n",
       "| 2014                                                        | 33087237                                                    | 0622008 ESCOLA MUNICIPAL NARBAL FONTES                      | 00210                                                       | 1                                                           | 0                                                           | 11FEB2014:00:00:00                                          | 19DEC2014:00:00:00                                          | 33                                                          | 3304557                                                     | ⋯                                                           |  1                                                          |  0                                                          |  0                                                          |  0                                                          | NA                                                          | NA                                                          | NA                                                          |  0                                                          |  0                                                          |  0                                                          | \n",
       "| 2014                                                        | 33066515                                                    | 0208501 CIEP SAMUEL WAINER                                  | 00170                                                       | 1                                                           | 0                                                           | 11FEB2014:00:00:00                                          | 19DEC2014:00:00:00                                          | 33                                                          | 3304557                                                     | ⋯                                                           |  1                                                          |  0                                                          |  0                                                          |  0                                                          | NA                                                          | NA                                                          | NA                                                          |  0                                                          |  0                                                          |  0                                                          | \n",
       "| 2014                                                        | 33130370                                                    | 0716605 CRECHE MUNICIPAL SEMPRE VIDA NISE DA SILVEIRA       | 00220                                                       | 1                                                           | 0                                                           | 11FEB2014:00:00:00                                          | 19DEC2014:00:00:00                                          | 33                                                          | 3304557                                                     | ⋯                                                           |  1                                                          |  0                                                          |  0                                                          |  0                                                          | NA                                                          | NA                                                          | NA                                                          |  0                                                          |  0                                                          |  0                                                          | \n",
       "| 2014                                                        | 33076014                                                    | 0515052 ESCOLA MUNICIPAL AZEVEDO JUNIOR                     | 00200                                                       | 1                                                           | 0                                                           | 11FEB2014:00:00:00                                          | 19DEC2014:00:00:00                                          | 33                                                          | 3304557                                                     | ⋯                                                           |  1                                                          |  0                                                          |  0                                                          |  0                                                          | NA                                                          | NA                                                          | NA                                                          |  0                                                          |  0                                                          |  0                                                          | \n",
       "| 2014                                                        | 33076022                                                    | 0515034 ESCOLA MUNICIPAL EM 0515034 BARAO DE ITARARE        | 00200                                                       | 1                                                           | 0                                                           | 11FEB2014:00:00:00                                          | 19DEC2014:00:00:00                                          | 33                                                          | 3304557                                                     | ⋯                                                           |  1                                                          |  0                                                          |  0                                                          |  0                                                          | NA                                                          | NA                                                          | NA                                                          |  0                                                          |  0                                                          |  0                                                          | \n",
       "| 2014                                                        | 33076049                                                    | 0515054 ESCOLA MUNICIPAL CARDEAL ARCOVERDE                  | 00200                                                       | 1                                                           | 0                                                           | 11FEB2014:00:00:00                                          | 19DEC2014:00:00:00                                          | 33                                                          | 3304557                                                     | ⋯                                                           |  1                                                          |  0                                                          |  0                                                          |  0                                                          | NA                                                          | NA                                                          | NA                                                          |  0                                                          |  0                                                          |  0                                                          | \n",
       "| 2014                                                        | 33081247                                                    | 0817024 ESCOLA MUNICIPAL WALDIR AZEVEDO FRANCO              | 00230                                                       | 1                                                           | 0                                                           | 11FEB2014:00:00:00                                          | 19DEC2014:00:00:00                                          | 33                                                          | 3304557                                                     | ⋯                                                           |  1                                                          |  0                                                          |  0                                                          |  0                                                          | NA                                                          | NA                                                          | NA                                                          |  0                                                          |  0                                                          |  0                                                          | \n",
       "| 2014                                                        | 33104824                                                    | 1019612 CRECHE MUNICIPAL DANIELA PEREZ                      | 00250                                                       | 1                                                           | 0                                                           | 11FEB2014:00:00:00                                          | 19DEC2014:00:00:00                                          | 33                                                          | 3304557                                                     | ⋯                                                           |  1                                                          |  0                                                          |  0                                                          |  0                                                          | NA                                                          | NA                                                          | NA                                                          |  0                                                          |  1                                                          |  0                                                          | \n",
       "| 2014                                                        | 33087040                                                    | 0625026 ESCOLA MUNICIPAL EUGENIA DUTRA HAMANN               | 00210                                                       | 1                                                           | 0                                                           | 11FEB2014:00:00:00                                          | 19DEC2014:00:00:00                                          | 33                                                          | 3304557                                                     | ⋯                                                           |  1                                                          |  0                                                          |  0                                                          |  0                                                          | NA                                                          | NA                                                          | NA                                                          |  0                                                          |  0                                                          |  0                                                          | \n",
       "| 2014                                                        | 33074429                                                    | 0514026 ESCOLA MUNICIPAL FRANCISCO SERTORIO PORTINHO        | 00200                                                       | 1                                                           | 0                                                           | 11FEB2014:00:00:00                                          | 19DEC2014:00:00:00                                          | 33                                                          | 3304557                                                     | ⋯                                                           |  1                                                          |  0                                                          |  0                                                          |  0                                                          | NA                                                          | NA                                                          | NA                                                          |  0                                                          |  0                                                          |  0                                                          | \n",
       "| 2014                                                        | 33074437                                                    | 0514023 ESCOLA MUNICIPAL GASPAR VIANNA                      | 00200                                                       | 1                                                           | 0                                                           | 11FEB2014:00:00:00                                          | 19DEC2014:00:00:00                                          | 33                                                          | 3304557                                                     | ⋯                                                           |  1                                                          |  0                                                          |  0                                                          |  0                                                          | NA                                                          | NA                                                          | NA                                                          |  0                                                          |  0                                                          |  0                                                          | \n",
       "| 2014                                                        | 33070610                                                    | 0431026 ESCOLA MUNICIPAL HERBERT MOSES                      | 00190                                                       | 1                                                           | 0                                                           | 11FEB2014:00:00:00                                          | 19DEC2014:00:00:00                                          | 33                                                          | 3304557                                                     | ⋯                                                           |  1                                                          |  0                                                          |  0                                                          |  0                                                          | NA                                                          | NA                                                          | NA                                                          |  0                                                          |  0                                                          |  0                                                          | \n",
       "| 2014                                                        | 33070628                                                    | 0411014 ESCOLA MUNICIPAL JOAO DE DEUS                       | 00190                                                       | 1                                                           | 0                                                           | 11FEB2014:00:00:00                                          | 19DEC2014:00:00:00                                          | 33                                                          | 3304557                                                     | ⋯                                                           |  1                                                          |  0                                                          |  0                                                          |  0                                                          | NA                                                          | NA                                                          | NA                                                          |  0                                                          |  0                                                          |  0                                                          | \n",
       "| 2014                                                        | 33083347                                                    | 0918064 ESCOLA MUNICIPAL RAINHA VITORIA                     | 00240                                                       | 1                                                           | 0                                                           | 11FEB2014:00:00:00                                          | 19DEC2014:00:00:00                                          | 33                                                          | 3304557                                                     | ⋯                                                           |  1                                                          |  0                                                          |  0                                                          |  0                                                          | NA                                                          | NA                                                          | NA                                                          |  0                                                          |  0                                                          |  0                                                          | \n",
       "| 2014                                                        | 33083363                                                    | 0918049 ESCOLA MUNICIPAL RIO GRANDE DO NORTE                | 00240                                                       | 1                                                           | 0                                                           | 11FEB2014:00:00:00                                          | 19DEC2014:00:00:00                                          | 33                                                          | 3304557                                                     | ⋯                                                           |  1                                                          |  0                                                          |  0                                                          |  0                                                          | NA                                                          | NA                                                          | NA                                                          |  0                                                          |  0                                                          |  0                                                          | \n",
       "| 2014                                                        | 33147345                                                    | 0123601 CRECHE MUNICIPAL JOSE MARINHO DE OLIVEIRA           | 00160                                                       | 1                                                           | 0                                                           | 11FEB2014:00:00:00                                          | 19DEC2014:00:00:00                                          | 33                                                          | 3304557                                                     | ⋯                                                           |  1                                                          |  0                                                          |  0                                                          |  0                                                          | NA                                                          | NA                                                          | NA                                                          |  0                                                          |  0                                                          |  0                                                          | \n",
       "| 2014                                                        | 33147353                                                    | 0328604 CRECHE MUNICIPAL COMUNIDADE DO JACAREZINHO          | 00180                                                       | 1                                                           | 0                                                           | 11FEB2014:00:00:00                                          | 19DEC2014:00:00:00                                          | 33                                                          | 3304557                                                     | ⋯                                                           |  1                                                          |  0                                                          |  0                                                          |  0                                                          | NA                                                          | NA                                                          | NA                                                          |  0                                                          |  0                                                          |  0                                                          | \n",
       "| 2014                                                        | 33075964                                                    | 0515042ESCOLA ESPECIAL MUNICIPAL MAURICIO DE MEDEIROS       | 00200                                                       | 1                                                           | 0                                                           | 11FEB2014:00:00:00                                          | 19DEC2014:00:00:00                                          | 33                                                          | 3304557                                                     | ⋯                                                           |  1                                                          |  0                                                          |  0                                                          |  0                                                          | NA                                                          | NA                                                          | NA                                                          |  0                                                          |  0                                                          |  0                                                          | \n",
       "| 2014                                                        | 33080640                                                    | 0817009 ESCOLA MUNICIPAL JOSE MARIA BELLO                   | 00230                                                       | 1                                                           | 0                                                           | 11FEB2014:00:00:00                                          | 19DEC2014:00:00:00                                          | 33                                                          | 3304557                                                     | ⋯                                                           |  1                                                          |  0                                                          |  0                                                          |  0                                                          | NA                                                          | NA                                                          | NA                                                          |  0                                                          |  0                                                          |  0                                                          | \n",
       "| 2014                                                        | 33149283                                                    | 0515064 ESCOLA MUNICIPAL MESTRE DARCY DO JONGO              | 00200                                                       | 1                                                           | 0                                                           | 11FEB2014:00:00:00                                          | 19DEC2014:00:00:00                                          | 33                                                          | 3304557                                                     | ⋯                                                           |  1                                                          |  0                                                          |  0                                                          |  0                                                          | NA                                                          | NA                                                          | NA                                                          |  0                                                          |  0                                                          |  0                                                          | \n",
       "| 2014                                                        | 33078262                                                    | 0716053 ESCOLA MUNICIPAL PROFESSORA DYLA SYLVIA DE SA       | 00220                                                       | 1                                                           | 0                                                           | 11FEB2014:00:00:00                                          | 19DEC2014:00:00:00                                          | 33                                                          | 3304557                                                     | ⋯                                                           |  1                                                          |  0                                                          |  0                                                          |  0                                                          | NA                                                          | NA                                                          | NA                                                          |  0                                                          |  0                                                          |  0                                                          | \n",
       "| 2014                                                        | 33078300                                                    | 0724019 ESCOLA MUNICIPAL PROFESSOR TEOFILO MOREIRA DA COSTA | 00220                                                       | 1                                                           | 0                                                           | 11FEB2014:00:00:00                                          | 19DEC2014:00:00:00                                          | 33                                                          | 3304557                                                     | ⋯                                                           |  1                                                          |  0                                                          |  0                                                          |  0                                                          | NA                                                          | NA                                                          | NA                                                          |  0                                                          |  0                                                          |  0                                                          | \n",
       "| 2014                                                        | 33084114                                                    | 1019211 CIEP MAJOR MANOEL GOMES ARCHER                      | 00250                                                       | 1                                                           | 0                                                           | 11FEB2014:00:00:00                                          | 19DEC2014:00:00:00                                          | 33                                                          | 3304557                                                     | ⋯                                                           |  1                                                          |  0                                                          |  0                                                          |  0                                                          | NA                                                          | NA                                                          | NA                                                          |  0                                                          |  1                                                          |  0                                                          | \n",
       "| 2014                                                        | 33083371                                                    | 0918009 ESCOLA MUNICIPAL ROMULO GALLEGOS                    | 00240                                                       | 1                                                           | 0                                                           | 11FEB2014:00:00:00                                          | 19DEC2014:00:00:00                                          | 33                                                          | 3304557                                                     | ⋯                                                           |  1                                                          |  0                                                          |  0                                                          |  0                                                          | NA                                                          | NA                                                          | NA                                                          |  0                                                          |  0                                                          |  0                                                          | \n",
       "| 2014                                                        | 33078238                                                    | 0716038 ESCOLA MUNICIPAL PEDRO AMERICO                      | 00220                                                       | 1                                                           | 0                                                           | 11FEB2014:00:00:00                                          | 19DEC2014:00:00:00                                          | 33                                                          | 3304557                                                     | ⋯                                                           |  1                                                          |  0                                                          |  0                                                          |  0                                                          | NA                                                          | NA                                                          | NA                                                          |  0                                                          |  0                                                          |  0                                                          | \n",
       "| 2014                                                        | 33084610                                                    | 1019014 ESCOLA MUNICIPAL CORONEL BERTHIER                   | 00250                                                       | 1                                                           | 0                                                           | 11FEB2014:00:00:00                                          | 19DEC2014:00:00:00                                          | 33                                                          | 3304557                                                     | ⋯                                                           |  1                                                          |  0                                                          |  0                                                          |  0                                                          | NA                                                          | NA                                                          | NA                                                          |  0                                                          |  0                                                          |  0                                                          | \n",
       "| ⋮ | ⋮ | ⋮ | ⋮ | ⋮ | ⋮ | ⋮ | ⋮ | ⋮ | ⋮ | ⋱ | ⋮ | ⋮ | ⋮ | ⋮ | ⋮ | ⋮ | ⋮ | ⋮ | ⋮ | ⋮ | \n",
       "| 2014                                                           | 33163642                                                       | 0918802 EDI PINTANDO O SETE                                    | 00240                                                          | 1                                                              | 0                                                              | 11FEB2014:00:00:00                                             | 19DEC2014:00:00:00                                             | 33                                                             | 3304557                                                        | ⋯                                                              |  1                                                             |  0                                                             |  0                                                             |  0                                                             | NA                                                             | NA                                                             | NA                                                             |  0                                                             |  0                                                             |  0                                                             | \n",
       "| 2014                                                           | 33085080                                                       | 1019050 ESCOLA MUNICIPAL ROBERTO COELHO                        | 00250                                                          | 1                                                              | 0                                                              | 11FEB2014:00:00:00                                             | 19DEC2014:00:00:00                                             | 33                                                             | 3304557                                                        | ⋯                                                              |  1                                                             |  0                                                             |  0                                                             |  0                                                             | NA                                                             | NA                                                             | NA                                                             |  0                                                             |  0                                                             |  0                                                             | \n",
       "| 2014                                                           | 33094551                                                       | 0716503 CIEP DOUTOR ADELINO DA PALMA CARLOS                    | 00220                                                          | 1                                                              | 0                                                              | 11FEB2014:00:00:00                                             | 19DEC2014:00:00:00                                             | 33                                                             | 3304557                                                        | ⋯                                                              |  1                                                             |  0                                                             |  0                                                             |  0                                                             | NA                                                             | NA                                                             | NA                                                             |  0                                                             |  0                                                             |  0                                                             | \n",
       "| 2014                                                           | 33165688                                                       | CLUBE ESCOLAR PROFESSOR SESME RAMADA DA SILVA                  | 00250                                                          | 2                                                              | 0                                                              |                                                                |                                                                | 33                                                             | 3304557                                                        | ⋯                                                              | NA                                                             | NA                                                             | NA                                                             | NA                                                             | NA                                                             | NA                                                             | NA                                                             | NA                                                             | NA                                                             | NA                                                             | \n",
       "| 2014                                                           | 33163600                                                       | 0817807 EDI MARIA DO CARMO SOUZA PIRAN                         | 00230                                                          | 1                                                              | 0                                                              | 11FEB2014:00:00:00                                             | 19DEC2014:00:00:00                                             | 33                                                             | 3304557                                                        | ⋯                                                              |  1                                                             |  0                                                             |  0                                                             |  0                                                             | NA                                                             | NA                                                             | NA                                                             |  0                                                             |  0                                                             |  0                                                             | \n",
       "| 2014                                                           | 33126577                                                       | 0107603 CRECHE MUNICIPAL VOVO LUCIOLA                          | 00160                                                          | 1                                                              | 0                                                              | 11FEB2014:00:00:00                                             | 19DEC2014:00:00:00                                             | 33                                                             | 3304557                                                        | ⋯                                                              |  1                                                             |  0                                                             |  0                                                             |  0                                                             | NA                                                             | NA                                                             | NA                                                             |  0                                                             |  0                                                             |  0                                                             | \n",
       "| 2014                                                           | 33147370                                                       | 0103604 CRECHE MUNICIPAL SONHO INFANTIL                        | 00160                                                          | 1                                                              | 0                                                              | 11FEB2014:00:00:00                                             | 19DEC2014:00:00:00                                             | 33                                                             | 3304557                                                        | ⋯                                                              |  1                                                             |  0                                                             |  0                                                             |  0                                                             | NA                                                             | NA                                                             | NA                                                             |  0                                                             |  0                                                             |  0                                                             | \n",
       "| 2014                                                           | 33068739                                                       | 0430502 CIEP ELIS REGINA                                       | 00190                                                          | 1                                                              | 0                                                              | 11FEB2014:00:00:00                                             | 19DEC2014:00:00:00                                             | 33                                                             | 3304557                                                        | ⋯                                                              |  1                                                             |  0                                                             |  0                                                             |  0                                                             | NA                                                             | NA                                                             | NA                                                             |  0                                                             |  0                                                             |  0                                                             | \n",
       "| 2014                                                           | 33068771                                                       | 0430201 CIEP MINISTRO GUSTAVO CAPANEMA                         | 00190                                                          | 1                                                              | 0                                                              | 11FEB2014:00:00:00                                             | 19DEC2014:00:00:00                                             | 33                                                             | 3304557                                                        | ⋯                                                              |  1                                                             |  0                                                             |  0                                                             |  0                                                             | NA                                                             | NA                                                             | NA                                                             |  0                                                             |  0                                                             |  0                                                             | \n",
       "| 2014                                                           | 33062439                                                       | 0101003 ESCOLA MUNICIPAL DARCY VARGAS                          | 00160                                                          | 1                                                              | 0                                                              | 11FEB2014:00:00:00                                             | 19DEC2014:00:00:00                                             | 33                                                             | 3304557                                                        | ⋯                                                              |  1                                                             |  0                                                             |  0                                                             |  0                                                             | NA                                                             | NA                                                             | NA                                                             |  0                                                             |  0                                                             |  0                                                             | \n",
       "| 2014                                                           | 33168016                                                       | 0716810 EDI EU SOU                                             | 00220                                                          | 1                                                              | 0                                                              | 11FEB2014:00:00:00                                             | 19DEC2014:00:00:00                                             | 33                                                             | 3304557                                                        | ⋯                                                              |  1                                                             |  0                                                             |  0                                                             |  0                                                             | NA                                                             | NA                                                             | NA                                                             |  0                                                             |  0                                                             |  0                                                             | \n",
       "| 2014                                                           | 33080097                                                       | 0817029 ESCOLA MUNICIPAL ANTONIO BANDEIRA                      | 00230                                                          | 1                                                              | 0                                                              | 11FEB2014:00:00:00                                             | 19DEC2014:00:00:00                                             | 33                                                             | 3304557                                                        | ⋯                                                              |  1                                                             |  0                                                             |  0                                                             |  0                                                             | NA                                                             | NA                                                             | NA                                                             |  0                                                             |  0                                                             |  0                                                             | \n",
       "| 2014                                                           | 33144621                                                       | 0107604 CRECHE MUNICIPAL HOMERO JOSE DOS SANTOS                | 00160                                                          | 1                                                              | 0                                                              | 11FEB2014:00:00:00                                             | 19DEC2014:00:00:00                                             | 33                                                             | 3304557                                                        | ⋯                                                              |  1                                                             |  0                                                             |  0                                                             |  0                                                             | NA                                                             | NA                                                             | NA                                                             |  0                                                             |  0                                                             |  0                                                             | \n",
       "| 2014                                                           | 33122768                                                       | 0411607 CRECHE MUNICIPAL MARIA ALTAMIRA C OLEGARIO             | 00190                                                          | 1                                                              | 0                                                              | 11FEB2014:00:00:00                                             | 19DEC2014:00:00:00                                             | 33                                                             | 3304557                                                        | ⋯                                                              |  1                                                             |  0                                                             |  0                                                             |  0                                                             | NA                                                             | NA                                                             | NA                                                             |  0                                                             |  0                                                             |  0                                                             | \n",
       "| 2014                                                           | 33088055                                                       | 0625809 EDI SEBASTIAO TAVARES DO NASCIMENTO                    | 00210                                                          | 1                                                              | 0                                                              | 11FEB2014:00:00:00                                             | 19DEC2014:00:00:00                                             | 33                                                             | 3304557                                                        | ⋯                                                              |  1                                                             |  0                                                             |  0                                                             |  0                                                             | NA                                                             | NA                                                             | NA                                                             |  0                                                             |  0                                                             |  0                                                             | \n",
       "| 2014                                                           | 33080712                                                       | 0817018 ESCOLA MUNICIPAL LEONIDAS SOBRINO PORTO                | 00230                                                          | 1                                                              | 0                                                              | 11FEB2014:00:00:00                                             | 19DEC2014:00:00:00                                             | 33                                                             | 3304557                                                        | ⋯                                                              |  1                                                             |  0                                                             |  0                                                             |  0                                                             | NA                                                             | NA                                                             | NA                                                             |  0                                                             |  0                                                             |  0                                                             | \n",
       "| 2014                                                           | 33065624                                                       | 0206012 ESCOLA MUNICIPAL CAMILO CASTELO BRANCO                 | 00170                                                          | 1                                                              | 0                                                              | 11FEB2014:00:00:00                                             | 19DEC2014:00:00:00                                             | 33                                                             | 3304557                                                        | ⋯                                                              |  1                                                             |  0                                                             |  0                                                             |  0                                                             | NA                                                             | NA                                                             | NA                                                             |  0                                                             |  0                                                             |  0                                                             | \n",
       "| 2014                                                           | 33074313                                                       | 0514011 ESCOLA MUNICIPAL ALFREDO DE PAULA FREITAS              | 00200                                                          | 1                                                              | 0                                                              | 11FEB2014:00:00:00                                             | 19DEC2014:00:00:00                                             | 33                                                             | 3304557                                                        | ⋯                                                              |  1                                                             |  0                                                             |  0                                                             |  0                                                             | NA                                                             | NA                                                             | NA                                                             |  0                                                             |  0                                                             |  0                                                             | \n",
       "| 2014                                                           | 33068232                                                       | 0209005 ESCOLA MUNICIPAL BARAO HOMEM DE MELLO                  | 00170                                                          | 1                                                              | 0                                                              | 11FEB2014:00:00:00                                             | 19DEC2014:00:00:00                                             | 33                                                             | 3304557                                                        | ⋯                                                              |  1                                                             |  0                                                             |  0                                                             |  0                                                             | NA                                                             | NA                                                             | NA                                                             |  0                                                             |  0                                                             |  0                                                             | \n",
       "| 2014                                                           | 33144737                                                       | 0515602 CRECHE MUNICIPAL SAO MIGUEL ARCANJO                    | 00200                                                          | 1                                                              | 0                                                              | 11FEB2014:00:00:00                                             | 19DEC2014:00:00:00                                             | 33                                                             | 3304557                                                        | ⋯                                                              |  1                                                             |  0                                                             |  0                                                             |  0                                                             | NA                                                             | NA                                                             | NA                                                             |  0                                                             |  0                                                             |  0                                                             | \n",
       "| 2014                                                           | 33078270                                                       | 0716046 ESCOLA MUNICIPAL PROFESSORA FELICIDADE DE MOURA CASTRO | 00220                                                          | 1                                                              | 0                                                              | 11FEB2014:00:00:00                                             | 19DEC2014:00:00:00                                             | 33                                                             | 3304557                                                        | ⋯                                                              |  1                                                             |  0                                                             |  0                                                             |  0                                                             | NA                                                             | NA                                                             | NA                                                             |  0                                                             |  0                                                             |  0                                                             | \n",
       "| 2014                                                           | 33083398                                                       | 0918027 ESCOLA MUNICIPAL RUBENS DE FARIAS NEVES                | 00240                                                          | 1                                                              | 0                                                              | 11FEB2014:00:00:00                                             | 19DEC2014:00:00:00                                             | 33                                                             | 3304557                                                        | ⋯                                                              |  1                                                             |  0                                                             |  0                                                             |  0                                                             | NA                                                             | NA                                                             | NA                                                             |  0                                                             |  0                                                             |  0                                                             | \n",
       "| 2014                                                           | 33078360                                                       | 0716012 ESCOLA MUNICIPAL VICTOR HUGO                           | 00220                                                          | 1                                                              | 0                                                              | 11FEB2014:00:00:00                                             | 19DEC2014:00:00:00                                             | 33                                                             | 3304557                                                        | ⋯                                                              |  1                                                             |  0                                                             |  0                                                             |  0                                                             | NA                                                             | NA                                                             | NA                                                             |  0                                                             |  1                                                             |  0                                                             | \n",
       "| 2014                                                           | 33080887                                                       | 0817065 ESCOLA MUNICIPAL PABLO PICASSO                         | 00230                                                          | 1                                                              | 0                                                              | 11FEB2014:00:00:00                                             | 19DEC2014:00:00:00                                             | 33                                                             | 3304557                                                        | ⋯                                                              |  1                                                             |  0                                                             |  0                                                             |  0                                                             | NA                                                             | NA                                                             | NA                                                             |  0                                                             |  0                                                             |  0                                                             | \n",
       "| 2014                                                           | 33072639                                                       | 0312016 ESCOLA MUNICIPAL CEARA                                 | 00180                                                          | 1                                                              | 0                                                              | 11FEB2014:00:00:00                                             | 19DEC2014:00:00:00                                             | 33                                                             | 3304557                                                        | ⋯                                                              |  1                                                             |  0                                                             |  0                                                             |  0                                                             | NA                                                             | NA                                                             | NA                                                             |  0                                                             |  0                                                             |  0                                                             | \n",
       "| 2014                                                           | 33082960                                                       | 0918015 ESCOLA MUNICIPAL HENRIQUE DIAS                         | 00240                                                          | 1                                                              | 0                                                              | 11FEB2014:00:00:00                                             | 19DEC2014:00:00:00                                             | 33                                                             | 3304557                                                        | ⋯                                                              |  1                                                             |  0                                                             |  0                                                             |  0                                                             | NA                                                             | NA                                                             | NA                                                             |  0                                                             |  0                                                             |  0                                                             | \n",
       "| 2014                                                           | 33164134                                                       | 0103804 EDI ZELIA GATTAI AMADO                                 | 00160                                                          | 1                                                              | 0                                                              | 11FEB2014:00:00:00                                             | 19DEC2014:00:00:00                                             | 33                                                             | 3304557                                                        | ⋯                                                              |  1                                                             |  0                                                             |  0                                                             |  0                                                             | NA                                                             | NA                                                             | NA                                                             |  0                                                             |  1                                                             |  0                                                             | \n",
       "| 2014                                                           | 33072965                                                       | 0312012 ESCOLA MUNICIPAL MANOEL BOMFIM                         | 00180                                                          | 1                                                              | 0                                                              | 11FEB2014:00:00:00                                             | 19DEC2014:00:00:00                                             | 33                                                             | 3304557                                                        | ⋯                                                              |  1                                                             |  0                                                             |  0                                                             |  0                                                             | NA                                                             | NA                                                             | NA                                                             |  0                                                             |  0                                                             |  0                                                             | \n",
       "| 2014                                                           | 33069468                                                       | 0410008 ESCOLA MUNICIPAL WALT DISNEY                           | 00190                                                          | 1                                                              | 0                                                              | 11FEB2014:00:00:00                                             | 19DEC2014:00:00:00                                             | 33                                                             | 3304557                                                        | ⋯                                                              |  1                                                             |  0                                                             |  0                                                             |  0                                                             | NA                                                             | NA                                                             | NA                                                             |  0                                                             |  0                                                             |  0                                                             | \n",
       "| 2014                                                           | 33164142                                                       | 0107801 EDI PROFESSORA DAYSE MALAGOLE                          | 00160                                                          | 1                                                              | 0                                                              | 11FEB2014:00:00:00                                             | 19DEC2014:00:00:00                                             | 33                                                             | 3304557                                                        | ⋯                                                              |  1                                                             |  0                                                             |  0                                                             |  0                                                             | NA                                                             | NA                                                             | NA                                                             |  0                                                             |  0                                                             |  0                                                             | \n",
       "\n",
       "\n"
      ],
      "text/plain": [
       "     ANO_CENSO PK_COD_ENTIDADE\n",
       "1    2014      33066329       \n",
       "2    2014      33164800       \n",
       "3    2014      33081760       \n",
       "4    2014      33087130       \n",
       "5    2014      33087237       \n",
       "6    2014      33066515       \n",
       "7    2014      33130370       \n",
       "8    2014      33076014       \n",
       "9    2014      33076022       \n",
       "10   2014      33076049       \n",
       "11   2014      33081247       \n",
       "12   2014      33104824       \n",
       "13   2014      33087040       \n",
       "14   2014      33074429       \n",
       "15   2014      33074437       \n",
       "16   2014      33070610       \n",
       "17   2014      33070628       \n",
       "18   2014      33083347       \n",
       "19   2014      33083363       \n",
       "20   2014      33147345       \n",
       "21   2014      33147353       \n",
       "22   2014      33075964       \n",
       "23   2014      33080640       \n",
       "24   2014      33149283       \n",
       "25   2014      33078262       \n",
       "26   2014      33078300       \n",
       "27   2014      33084114       \n",
       "28   2014      33083371       \n",
       "29   2014      33078238       \n",
       "30   2014      33084610       \n",
       "⋮    ⋮         ⋮              \n",
       "1471 2014      33163642       \n",
       "1472 2014      33085080       \n",
       "1473 2014      33094551       \n",
       "1474 2014      33165688       \n",
       "1475 2014      33163600       \n",
       "1476 2014      33126577       \n",
       "1477 2014      33147370       \n",
       "1478 2014      33068739       \n",
       "1479 2014      33068771       \n",
       "1480 2014      33062439       \n",
       "1481 2014      33168016       \n",
       "1482 2014      33080097       \n",
       "1483 2014      33144621       \n",
       "1484 2014      33122768       \n",
       "1485 2014      33088055       \n",
       "1486 2014      33080712       \n",
       "1487 2014      33065624       \n",
       "1488 2014      33074313       \n",
       "1489 2014      33068232       \n",
       "1490 2014      33144737       \n",
       "1491 2014      33078270       \n",
       "1492 2014      33083398       \n",
       "1493 2014      33078360       \n",
       "1494 2014      33080887       \n",
       "1495 2014      33072639       \n",
       "1496 2014      33082960       \n",
       "1497 2014      33164134       \n",
       "1498 2014      33072965       \n",
       "1499 2014      33069468       \n",
       "1500 2014      33164142       \n",
       "     NO_ENTIDADE                                                   \n",
       "1    0107502 ESCOLA MUNICIPAL MESTRE WALDEMIRO                     \n",
       "2    POLO DE EDUCACAO PELO TRABALHO ALZIRA ARAUJO                  \n",
       "3    0918510 CIEP ARMINDO MARCILIO DOUTEL DE ANDRADE               \n",
       "4    0625029 ESCOLA MUNICIPAL JOSE PEDRO VARELA                    \n",
       "5    0622008 ESCOLA MUNICIPAL NARBAL FONTES                        \n",
       "6    0208501 CIEP SAMUEL WAINER                                    \n",
       "7    0716605 CRECHE MUNICIPAL SEMPRE VIDA NISE DA SILVEIRA         \n",
       "8    0515052 ESCOLA MUNICIPAL AZEVEDO JUNIOR                       \n",
       "9    0515034 ESCOLA MUNICIPAL EM 0515034 BARAO DE ITARARE          \n",
       "10   0515054 ESCOLA MUNICIPAL CARDEAL ARCOVERDE                    \n",
       "11   0817024 ESCOLA MUNICIPAL WALDIR AZEVEDO FRANCO                \n",
       "12   1019612 CRECHE MUNICIPAL DANIELA PEREZ                        \n",
       "13   0625026 ESCOLA MUNICIPAL EUGENIA DUTRA HAMANN                 \n",
       "14   0514026 ESCOLA MUNICIPAL FRANCISCO SERTORIO PORTINHO          \n",
       "15   0514023 ESCOLA MUNICIPAL GASPAR VIANNA                        \n",
       "16   0431026 ESCOLA MUNICIPAL HERBERT MOSES                        \n",
       "17   0411014 ESCOLA MUNICIPAL JOAO DE DEUS                         \n",
       "18   0918064 ESCOLA MUNICIPAL RAINHA VITORIA                       \n",
       "19   0918049 ESCOLA MUNICIPAL RIO GRANDE DO NORTE                  \n",
       "20   0123601 CRECHE MUNICIPAL JOSE MARINHO DE OLIVEIRA             \n",
       "21   0328604 CRECHE MUNICIPAL COMUNIDADE DO JACAREZINHO            \n",
       "22   0515042ESCOLA ESPECIAL MUNICIPAL MAURICIO DE MEDEIROS         \n",
       "23   0817009 ESCOLA MUNICIPAL JOSE MARIA BELLO                     \n",
       "24   0515064 ESCOLA MUNICIPAL MESTRE DARCY DO JONGO                \n",
       "25   0716053 ESCOLA MUNICIPAL PROFESSORA DYLA SYLVIA DE SA         \n",
       "26   0724019 ESCOLA MUNICIPAL PROFESSOR TEOFILO MOREIRA DA COSTA   \n",
       "27   1019211 CIEP MAJOR MANOEL GOMES ARCHER                        \n",
       "28   0918009 ESCOLA MUNICIPAL ROMULO GALLEGOS                      \n",
       "29   0716038 ESCOLA MUNICIPAL PEDRO AMERICO                        \n",
       "30   1019014 ESCOLA MUNICIPAL CORONEL BERTHIER                     \n",
       "⋮    ⋮                                                             \n",
       "1471 0918802 EDI PINTANDO O SETE                                   \n",
       "1472 1019050 ESCOLA MUNICIPAL ROBERTO COELHO                       \n",
       "1473 0716503 CIEP DOUTOR ADELINO DA PALMA CARLOS                   \n",
       "1474 CLUBE ESCOLAR PROFESSOR SESME RAMADA DA SILVA                 \n",
       "1475 0817807 EDI MARIA DO CARMO SOUZA PIRAN                        \n",
       "1476 0107603 CRECHE MUNICIPAL VOVO LUCIOLA                         \n",
       "1477 0103604 CRECHE MUNICIPAL SONHO INFANTIL                       \n",
       "1478 0430502 CIEP ELIS REGINA                                      \n",
       "1479 0430201 CIEP MINISTRO GUSTAVO CAPANEMA                        \n",
       "1480 0101003 ESCOLA MUNICIPAL DARCY VARGAS                         \n",
       "1481 0716810 EDI EU SOU                                            \n",
       "1482 0817029 ESCOLA MUNICIPAL ANTONIO BANDEIRA                     \n",
       "1483 0107604 CRECHE MUNICIPAL HOMERO JOSE DOS SANTOS               \n",
       "1484 0411607 CRECHE MUNICIPAL MARIA ALTAMIRA C OLEGARIO            \n",
       "1485 0625809 EDI SEBASTIAO TAVARES DO NASCIMENTO                   \n",
       "1486 0817018 ESCOLA MUNICIPAL LEONIDAS SOBRINO PORTO               \n",
       "1487 0206012 ESCOLA MUNICIPAL CAMILO CASTELO BRANCO                \n",
       "1488 0514011 ESCOLA MUNICIPAL ALFREDO DE PAULA FREITAS             \n",
       "1489 0209005 ESCOLA MUNICIPAL BARAO HOMEM DE MELLO                 \n",
       "1490 0515602 CRECHE MUNICIPAL SAO MIGUEL ARCANJO                   \n",
       "1491 0716046 ESCOLA MUNICIPAL PROFESSORA FELICIDADE DE MOURA CASTRO\n",
       "1492 0918027 ESCOLA MUNICIPAL RUBENS DE FARIAS NEVES               \n",
       "1493 0716012 ESCOLA MUNICIPAL VICTOR HUGO                          \n",
       "1494 0817065 ESCOLA MUNICIPAL PABLO PICASSO                        \n",
       "1495 0312016 ESCOLA MUNICIPAL CEARA                                \n",
       "1496 0918015 ESCOLA MUNICIPAL HENRIQUE DIAS                        \n",
       "1497 0103804 EDI ZELIA GATTAI AMADO                                \n",
       "1498 0312012 ESCOLA MUNICIPAL MANOEL BOMFIM                        \n",
       "1499 0410008 ESCOLA MUNICIPAL WALT DISNEY                          \n",
       "1500 0107801 EDI PROFESSORA DAYSE MALAGOLE                         \n",
       "     COD_ORGAO_REGIONAL_INEP DESC_SITUACAO_FUNCIONAMENTO DESC_SITUACAO_CENSO\n",
       "1    00160                   1                           0                  \n",
       "2    00240                   2                           0                  \n",
       "3    00240                   1                           0                  \n",
       "4    00210                   1                           0                  \n",
       "5    00210                   1                           0                  \n",
       "6    00170                   1                           0                  \n",
       "7    00220                   1                           0                  \n",
       "8    00200                   1                           0                  \n",
       "9    00200                   1                           0                  \n",
       "10   00200                   1                           0                  \n",
       "11   00230                   1                           0                  \n",
       "12   00250                   1                           0                  \n",
       "13   00210                   1                           0                  \n",
       "14   00200                   1                           0                  \n",
       "15   00200                   1                           0                  \n",
       "16   00190                   1                           0                  \n",
       "17   00190                   1                           0                  \n",
       "18   00240                   1                           0                  \n",
       "19   00240                   1                           0                  \n",
       "20   00160                   1                           0                  \n",
       "21   00180                   1                           0                  \n",
       "22   00200                   1                           0                  \n",
       "23   00230                   1                           0                  \n",
       "24   00200                   1                           0                  \n",
       "25   00220                   1                           0                  \n",
       "26   00220                   1                           0                  \n",
       "27   00250                   1                           0                  \n",
       "28   00240                   1                           0                  \n",
       "29   00220                   1                           0                  \n",
       "30   00250                   1                           0                  \n",
       "⋮    ⋮                       ⋮                           ⋮                  \n",
       "1471 00240                   1                           0                  \n",
       "1472 00250                   1                           0                  \n",
       "1473 00220                   1                           0                  \n",
       "1474 00250                   2                           0                  \n",
       "1475 00230                   1                           0                  \n",
       "1476 00160                   1                           0                  \n",
       "1477 00160                   1                           0                  \n",
       "1478 00190                   1                           0                  \n",
       "1479 00190                   1                           0                  \n",
       "1480 00160                   1                           0                  \n",
       "1481 00220                   1                           0                  \n",
       "1482 00230                   1                           0                  \n",
       "1483 00160                   1                           0                  \n",
       "1484 00190                   1                           0                  \n",
       "1485 00210                   1                           0                  \n",
       "1486 00230                   1                           0                  \n",
       "1487 00170                   1                           0                  \n",
       "1488 00200                   1                           0                  \n",
       "1489 00170                   1                           0                  \n",
       "1490 00200                   1                           0                  \n",
       "1491 00220                   1                           0                  \n",
       "1492 00240                   1                           0                  \n",
       "1493 00220                   1                           0                  \n",
       "1494 00230                   1                           0                  \n",
       "1495 00180                   1                           0                  \n",
       "1496 00240                   1                           0                  \n",
       "1497 00160                   1                           0                  \n",
       "1498 00180                   1                           0                  \n",
       "1499 00190                   1                           0                  \n",
       "1500 00160                   1                           0                  \n",
       "     DT_ANO_LETIVO_INICIO DT_ANO_LETIVO_TERMINO FK_COD_ESTADO FK_COD_MUNICIPIO\n",
       "1    11FEB2014:00:00:00   19DEC2014:00:00:00    33            3304557         \n",
       "2                                               33            3304557         \n",
       "3    11FEB2014:00:00:00   19DEC2014:00:00:00    33            3304557         \n",
       "4    11FEB2014:00:00:00   19DEC2014:00:00:00    33            3304557         \n",
       "5    11FEB2014:00:00:00   19DEC2014:00:00:00    33            3304557         \n",
       "6    11FEB2014:00:00:00   19DEC2014:00:00:00    33            3304557         \n",
       "7    11FEB2014:00:00:00   19DEC2014:00:00:00    33            3304557         \n",
       "8    11FEB2014:00:00:00   19DEC2014:00:00:00    33            3304557         \n",
       "9    11FEB2014:00:00:00   19DEC2014:00:00:00    33            3304557         \n",
       "10   11FEB2014:00:00:00   19DEC2014:00:00:00    33            3304557         \n",
       "11   11FEB2014:00:00:00   19DEC2014:00:00:00    33            3304557         \n",
       "12   11FEB2014:00:00:00   19DEC2014:00:00:00    33            3304557         \n",
       "13   11FEB2014:00:00:00   19DEC2014:00:00:00    33            3304557         \n",
       "14   11FEB2014:00:00:00   19DEC2014:00:00:00    33            3304557         \n",
       "15   11FEB2014:00:00:00   19DEC2014:00:00:00    33            3304557         \n",
       "16   11FEB2014:00:00:00   19DEC2014:00:00:00    33            3304557         \n",
       "17   11FEB2014:00:00:00   19DEC2014:00:00:00    33            3304557         \n",
       "18   11FEB2014:00:00:00   19DEC2014:00:00:00    33            3304557         \n",
       "19   11FEB2014:00:00:00   19DEC2014:00:00:00    33            3304557         \n",
       "20   11FEB2014:00:00:00   19DEC2014:00:00:00    33            3304557         \n",
       "21   11FEB2014:00:00:00   19DEC2014:00:00:00    33            3304557         \n",
       "22   11FEB2014:00:00:00   19DEC2014:00:00:00    33            3304557         \n",
       "23   11FEB2014:00:00:00   19DEC2014:00:00:00    33            3304557         \n",
       "24   11FEB2014:00:00:00   19DEC2014:00:00:00    33            3304557         \n",
       "25   11FEB2014:00:00:00   19DEC2014:00:00:00    33            3304557         \n",
       "26   11FEB2014:00:00:00   19DEC2014:00:00:00    33            3304557         \n",
       "27   11FEB2014:00:00:00   19DEC2014:00:00:00    33            3304557         \n",
       "28   11FEB2014:00:00:00   19DEC2014:00:00:00    33            3304557         \n",
       "29   11FEB2014:00:00:00   19DEC2014:00:00:00    33            3304557         \n",
       "30   11FEB2014:00:00:00   19DEC2014:00:00:00    33            3304557         \n",
       "⋮    ⋮                    ⋮                     ⋮             ⋮               \n",
       "1471 11FEB2014:00:00:00   19DEC2014:00:00:00    33            3304557         \n",
       "1472 11FEB2014:00:00:00   19DEC2014:00:00:00    33            3304557         \n",
       "1473 11FEB2014:00:00:00   19DEC2014:00:00:00    33            3304557         \n",
       "1474                                            33            3304557         \n",
       "1475 11FEB2014:00:00:00   19DEC2014:00:00:00    33            3304557         \n",
       "1476 11FEB2014:00:00:00   19DEC2014:00:00:00    33            3304557         \n",
       "1477 11FEB2014:00:00:00   19DEC2014:00:00:00    33            3304557         \n",
       "1478 11FEB2014:00:00:00   19DEC2014:00:00:00    33            3304557         \n",
       "1479 11FEB2014:00:00:00   19DEC2014:00:00:00    33            3304557         \n",
       "1480 11FEB2014:00:00:00   19DEC2014:00:00:00    33            3304557         \n",
       "1481 11FEB2014:00:00:00   19DEC2014:00:00:00    33            3304557         \n",
       "1482 11FEB2014:00:00:00   19DEC2014:00:00:00    33            3304557         \n",
       "1483 11FEB2014:00:00:00   19DEC2014:00:00:00    33            3304557         \n",
       "1484 11FEB2014:00:00:00   19DEC2014:00:00:00    33            3304557         \n",
       "1485 11FEB2014:00:00:00   19DEC2014:00:00:00    33            3304557         \n",
       "1486 11FEB2014:00:00:00   19DEC2014:00:00:00    33            3304557         \n",
       "1487 11FEB2014:00:00:00   19DEC2014:00:00:00    33            3304557         \n",
       "1488 11FEB2014:00:00:00   19DEC2014:00:00:00    33            3304557         \n",
       "1489 11FEB2014:00:00:00   19DEC2014:00:00:00    33            3304557         \n",
       "1490 11FEB2014:00:00:00   19DEC2014:00:00:00    33            3304557         \n",
       "1491 11FEB2014:00:00:00   19DEC2014:00:00:00    33            3304557         \n",
       "1492 11FEB2014:00:00:00   19DEC2014:00:00:00    33            3304557         \n",
       "1493 11FEB2014:00:00:00   19DEC2014:00:00:00    33            3304557         \n",
       "1494 11FEB2014:00:00:00   19DEC2014:00:00:00    33            3304557         \n",
       "1495 11FEB2014:00:00:00   19DEC2014:00:00:00    33            3304557         \n",
       "1496 11FEB2014:00:00:00   19DEC2014:00:00:00    33            3304557         \n",
       "1497 11FEB2014:00:00:00   19DEC2014:00:00:00    33            3304557         \n",
       "1498 11FEB2014:00:00:00   19DEC2014:00:00:00    33            3304557         \n",
       "1499 11FEB2014:00:00:00   19DEC2014:00:00:00    33            3304557         \n",
       "1500 11FEB2014:00:00:00   19DEC2014:00:00:00    33            3304557         \n",
       "     ⋯ ID_MATERIAL_ESP_NAO_UTILIZA ID_MATERIAL_ESP_QUILOMBOLA\n",
       "1    ⋯  1                           0                        \n",
       "2    ⋯ NA                          NA                        \n",
       "3    ⋯  1                           0                        \n",
       "4    ⋯  1                           0                        \n",
       "5    ⋯  1                           0                        \n",
       "6    ⋯  1                           0                        \n",
       "7    ⋯  1                           0                        \n",
       "8    ⋯  1                           0                        \n",
       "9    ⋯  1                           0                        \n",
       "10   ⋯  1                           0                        \n",
       "11   ⋯  1                           0                        \n",
       "12   ⋯  1                           0                        \n",
       "13   ⋯  1                           0                        \n",
       "14   ⋯  1                           0                        \n",
       "15   ⋯  1                           0                        \n",
       "16   ⋯  1                           0                        \n",
       "17   ⋯  1                           0                        \n",
       "18   ⋯  1                           0                        \n",
       "19   ⋯  1                           0                        \n",
       "20   ⋯  1                           0                        \n",
       "21   ⋯  1                           0                        \n",
       "22   ⋯  1                           0                        \n",
       "23   ⋯  1                           0                        \n",
       "24   ⋯  1                           0                        \n",
       "25   ⋯  1                           0                        \n",
       "26   ⋯  1                           0                        \n",
       "27   ⋯  1                           0                        \n",
       "28   ⋯  1                           0                        \n",
       "29   ⋯  1                           0                        \n",
       "30   ⋯  1                           0                        \n",
       "⋮    ⋱ ⋮                           ⋮                         \n",
       "1471 ⋯  1                           0                        \n",
       "1472 ⋯  1                           0                        \n",
       "1473 ⋯  1                           0                        \n",
       "1474 ⋯ NA                          NA                        \n",
       "1475 ⋯  1                           0                        \n",
       "1476 ⋯  1                           0                        \n",
       "1477 ⋯  1                           0                        \n",
       "1478 ⋯  1                           0                        \n",
       "1479 ⋯  1                           0                        \n",
       "1480 ⋯  1                           0                        \n",
       "1481 ⋯  1                           0                        \n",
       "1482 ⋯  1                           0                        \n",
       "1483 ⋯  1                           0                        \n",
       "1484 ⋯  1                           0                        \n",
       "1485 ⋯  1                           0                        \n",
       "1486 ⋯  1                           0                        \n",
       "1487 ⋯  1                           0                        \n",
       "1488 ⋯  1                           0                        \n",
       "1489 ⋯  1                           0                        \n",
       "1490 ⋯  1                           0                        \n",
       "1491 ⋯  1                           0                        \n",
       "1492 ⋯  1                           0                        \n",
       "1493 ⋯  1                           0                        \n",
       "1494 ⋯  1                           0                        \n",
       "1495 ⋯  1                           0                        \n",
       "1496 ⋯  1                           0                        \n",
       "1497 ⋯  1                           0                        \n",
       "1498 ⋯  1                           0                        \n",
       "1499 ⋯  1                           0                        \n",
       "1500 ⋯  1                           0                        \n",
       "     ID_MATERIAL_ESP_INDIGENA ID_EDUCACAO_INDIGENA ID_LINGUA_INDIGENA\n",
       "1     0                        0                   NA                \n",
       "2    NA                       NA                   NA                \n",
       "3     0                        0                   NA                \n",
       "4     0                        0                   NA                \n",
       "5     0                        0                   NA                \n",
       "6     0                        0                   NA                \n",
       "7     0                        0                   NA                \n",
       "8     0                        0                   NA                \n",
       "9     0                        0                   NA                \n",
       "10    0                        0                   NA                \n",
       "11    0                        0                   NA                \n",
       "12    0                        0                   NA                \n",
       "13    0                        0                   NA                \n",
       "14    0                        0                   NA                \n",
       "15    0                        0                   NA                \n",
       "16    0                        0                   NA                \n",
       "17    0                        0                   NA                \n",
       "18    0                        0                   NA                \n",
       "19    0                        0                   NA                \n",
       "20    0                        0                   NA                \n",
       "21    0                        0                   NA                \n",
       "22    0                        0                   NA                \n",
       "23    0                        0                   NA                \n",
       "24    0                        0                   NA                \n",
       "25    0                        0                   NA                \n",
       "26    0                        0                   NA                \n",
       "27    0                        0                   NA                \n",
       "28    0                        0                   NA                \n",
       "29    0                        0                   NA                \n",
       "30    0                        0                   NA                \n",
       "⋮    ⋮                        ⋮                    ⋮                 \n",
       "1471  0                        0                   NA                \n",
       "1472  0                        0                   NA                \n",
       "1473  0                        0                   NA                \n",
       "1474 NA                       NA                   NA                \n",
       "1475  0                        0                   NA                \n",
       "1476  0                        0                   NA                \n",
       "1477  0                        0                   NA                \n",
       "1478  0                        0                   NA                \n",
       "1479  0                        0                   NA                \n",
       "1480  0                        0                   NA                \n",
       "1481  0                        0                   NA                \n",
       "1482  0                        0                   NA                \n",
       "1483  0                        0                   NA                \n",
       "1484  0                        0                   NA                \n",
       "1485  0                        0                   NA                \n",
       "1486  0                        0                   NA                \n",
       "1487  0                        0                   NA                \n",
       "1488  0                        0                   NA                \n",
       "1489  0                        0                   NA                \n",
       "1490  0                        0                   NA                \n",
       "1491  0                        0                   NA                \n",
       "1492  0                        0                   NA                \n",
       "1493  0                        0                   NA                \n",
       "1494  0                        0                   NA                \n",
       "1495  0                        0                   NA                \n",
       "1496  0                        0                   NA                \n",
       "1497  0                        0                   NA                \n",
       "1498  0                        0                   NA                \n",
       "1499  0                        0                   NA                \n",
       "1500  0                        0                   NA                \n",
       "     FK_COD_LINGUA_INDIGENA ID_LINGUA_PORTUGUESA ID_ESPACO_TURMA_PBA\n",
       "1    NA                     NA                    0                 \n",
       "2    NA                     NA                   NA                 \n",
       "3    NA                     NA                    0                 \n",
       "4    NA                     NA                    0                 \n",
       "5    NA                     NA                    0                 \n",
       "6    NA                     NA                    0                 \n",
       "7    NA                     NA                    0                 \n",
       "8    NA                     NA                    0                 \n",
       "9    NA                     NA                    0                 \n",
       "10   NA                     NA                    0                 \n",
       "11   NA                     NA                    0                 \n",
       "12   NA                     NA                    0                 \n",
       "13   NA                     NA                    0                 \n",
       "14   NA                     NA                    0                 \n",
       "15   NA                     NA                    0                 \n",
       "16   NA                     NA                    0                 \n",
       "17   NA                     NA                    0                 \n",
       "18   NA                     NA                    0                 \n",
       "19   NA                     NA                    0                 \n",
       "20   NA                     NA                    0                 \n",
       "21   NA                     NA                    0                 \n",
       "22   NA                     NA                    0                 \n",
       "23   NA                     NA                    0                 \n",
       "24   NA                     NA                    0                 \n",
       "25   NA                     NA                    0                 \n",
       "26   NA                     NA                    0                 \n",
       "27   NA                     NA                    0                 \n",
       "28   NA                     NA                    0                 \n",
       "29   NA                     NA                    0                 \n",
       "30   NA                     NA                    0                 \n",
       "⋮    ⋮                      ⋮                    ⋮                  \n",
       "1471 NA                     NA                    0                 \n",
       "1472 NA                     NA                    0                 \n",
       "1473 NA                     NA                    0                 \n",
       "1474 NA                     NA                   NA                 \n",
       "1475 NA                     NA                    0                 \n",
       "1476 NA                     NA                    0                 \n",
       "1477 NA                     NA                    0                 \n",
       "1478 NA                     NA                    0                 \n",
       "1479 NA                     NA                    0                 \n",
       "1480 NA                     NA                    0                 \n",
       "1481 NA                     NA                    0                 \n",
       "1482 NA                     NA                    0                 \n",
       "1483 NA                     NA                    0                 \n",
       "1484 NA                     NA                    0                 \n",
       "1485 NA                     NA                    0                 \n",
       "1486 NA                     NA                    0                 \n",
       "1487 NA                     NA                    0                 \n",
       "1488 NA                     NA                    0                 \n",
       "1489 NA                     NA                    0                 \n",
       "1490 NA                     NA                    0                 \n",
       "1491 NA                     NA                    0                 \n",
       "1492 NA                     NA                    0                 \n",
       "1493 NA                     NA                    0                 \n",
       "1494 NA                     NA                    0                 \n",
       "1495 NA                     NA                    0                 \n",
       "1496 NA                     NA                    0                 \n",
       "1497 NA                     NA                    0                 \n",
       "1498 NA                     NA                    0                 \n",
       "1499 NA                     NA                    0                 \n",
       "1500 NA                     NA                    0                 \n",
       "     ID_ABRE_FINAL_SEMANA ID_PROPOSTA_PEDAG_ALTERNANCIA\n",
       "1     0                    0                           \n",
       "2    NA                   NA                           \n",
       "3     0                    0                           \n",
       "4     0                    0                           \n",
       "5     0                    0                           \n",
       "6     0                    0                           \n",
       "7     0                    0                           \n",
       "8     0                    0                           \n",
       "9     0                    0                           \n",
       "10    0                    0                           \n",
       "11    0                    0                           \n",
       "12    1                    0                           \n",
       "13    0                    0                           \n",
       "14    0                    0                           \n",
       "15    0                    0                           \n",
       "16    0                    0                           \n",
       "17    0                    0                           \n",
       "18    0                    0                           \n",
       "19    0                    0                           \n",
       "20    0                    0                           \n",
       "21    0                    0                           \n",
       "22    0                    0                           \n",
       "23    0                    0                           \n",
       "24    0                    0                           \n",
       "25    0                    0                           \n",
       "26    0                    0                           \n",
       "27    1                    0                           \n",
       "28    0                    0                           \n",
       "29    0                    0                           \n",
       "30    0                    0                           \n",
       "⋮    ⋮                    ⋮                            \n",
       "1471  0                    0                           \n",
       "1472  0                    0                           \n",
       "1473  0                    0                           \n",
       "1474 NA                   NA                           \n",
       "1475  0                    0                           \n",
       "1476  0                    0                           \n",
       "1477  0                    0                           \n",
       "1478  0                    0                           \n",
       "1479  0                    0                           \n",
       "1480  0                    0                           \n",
       "1481  0                    0                           \n",
       "1482  0                    0                           \n",
       "1483  0                    0                           \n",
       "1484  0                    0                           \n",
       "1485  0                    0                           \n",
       "1486  0                    0                           \n",
       "1487  0                    0                           \n",
       "1488  0                    0                           \n",
       "1489  0                    0                           \n",
       "1490  0                    0                           \n",
       "1491  0                    0                           \n",
       "1492  0                    0                           \n",
       "1493  1                    0                           \n",
       "1494  0                    0                           \n",
       "1495  0                    0                           \n",
       "1496  0                    0                           \n",
       "1497  1                    0                           \n",
       "1498  0                    0                           \n",
       "1499  0                    0                           \n",
       "1500  0                    0                           "
      ]
     },
     "metadata": {},
     "output_type": "display_data"
    }
   ],
   "source": [
    "library(sqldf)\n",
    "\n",
    "filename <- 'ESCOLAS.csv'\n",
    "\n",
    "escolas <- read.csv(file=filename, sep=\"|\")\n",
    "\n",
    "sqldf('select * from escolas WHERE FK_COD_MUNICIPIO = 3304557 AND ID_DEPENDENCIA_ADM = 3')\n"
   ]
  },
  {
   "cell_type": "markdown",
   "metadata": {},
   "source": [
    "### Exercício 2.4\n",
    "\n",
    "No site do Sistema de Inoformações Contábeis e Fiscais(Siconfi) é possível baixar diversos conjuntos de dados contábeis e fiscais de estados e municípios.\n",
    "O arquivo finbraRREO_MUN_Receitarealizadatotal(ultimos12meses).zip, obtido no site em referência, contém um arquivo .csv com informações relativas ao Anexo 03-Demonstrativo da Receita Corrente Líquida para o primeiro bimestre de 2015. Importe o conteúdo do arquivo. Quantos registros tem o conjunto de dados?\n"
   ]
  },
  {
   "cell_type": "code",
   "execution_count": 51,
   "metadata": {},
   "outputs": [
    {
     "data": {
      "text/html": [
       "'O número de registros presentes neste conjunto de dados do FinbraRREOData é equivalente à 41133 registros!'"
      ],
      "text/latex": [
       "'O número de registros presentes neste conjunto de dados do FinbraRREOData é equivalente à 41133 registros!'"
      ],
      "text/markdown": [
       "'O número de registros presentes neste conjunto de dados do FinbraRREOData é equivalente à 41133 registros!'"
      ],
      "text/plain": [
       "[1] \"O número de registros presentes neste conjunto de dados do FinbraRREOData é equivalente à 41133 registros!\""
      ]
     },
     "metadata": {},
     "output_type": "display_data"
    }
   ],
   "source": [
    "library(sqldf)\n",
    "\n",
    "filename <- 'finbraRREO.csv'\n",
    "\n",
    "FinbraRREOData <- read.csv(file=filename, sep=\";\", skip=5, fileEncoding=\"ISO-8859-1\")\n",
    "\n",
    "n_rows <- NROW(FinbraRREOData)\n",
    "\n",
    "sprintf(\"O número de registros presentes neste conjunto de dados do FinbraRREOData é equivalente à %i registros!\", n_rows)\n"
   ]
  },
  {
   "cell_type": "markdown",
   "metadata": {},
   "source": [
    "### Exercício 2.5\n",
    "\n",
    "O arquivo SICONFI_DCA_6561_ANUAL_1.xls contém dados contábeis do município de Angra dos Reis relativos ao exercício de 2014. Utilizando qualquer um dos pacotes para importação de arquivos em excel vistos em sala de aula, importe o conteúdo da planilha DCA-Anexo I-G."
   ]
  },
  {
   "cell_type": "code",
   "execution_count": 52,
   "metadata": {},
   "outputs": [
    {
     "data": {
      "text/html": [
       "<table>\n",
       "<thead><tr><th scope=col>Despesas por Função</th><th scope=col>Restos a Pagar Não Processados Pagos</th><th scope=col>Restos a Pagar Não Processados Cancelados</th><th scope=col>Restos a Pagar Processados Pagos</th><th scope=col>Restos a Pagar Processados Cancelados</th></tr></thead>\n",
       "<tbody>\n",
       "\t<tr><td>Despesas (Exceto Intraorçamentárias)                       </td><td>3.00975e+07                                                </td><td>32295.9                                                    </td><td>87372583.4                                                 </td><td>32295.9                                                    </td></tr>\n",
       "\t<tr><td>01 - Legislativa                                           </td><td>809056                                                     </td><td>    0.0                                                    </td><td>  520554.1                                                 </td><td>    0.0                                                    </td></tr>\n",
       "\t<tr><td>01.031 - Ação Legislativa                                  </td><td>809056                                                     </td><td>    0.0                                                    </td><td>  520554.1                                                 </td><td>    0.0                                                    </td></tr>\n",
       "\t<tr><td>01.032 - Controle Externo                                  </td><td>0                                                          </td><td>    0.0                                                    </td><td>       0.0                                                 </td><td>    0.0                                                    </td></tr>\n",
       "\t<tr><td>01.999 - Demais Subfunções Legislativa                     </td><td>0                                                          </td><td>    0.0                                                    </td><td>       0.0                                                 </td><td>    0.0                                                    </td></tr>\n",
       "\t<tr><td>02 - Judiciária                                            </td><td>0                                                          </td><td>    0.0                                                    </td><td>       0.0                                                 </td><td>    0.0                                                    </td></tr>\n",
       "\t<tr><td>02.061 - Ação Judiciária                                   </td><td>0                                                          </td><td>    0.0                                                    </td><td>       0.0                                                 </td><td>    0.0                                                    </td></tr>\n",
       "\t<tr><td>02.062 - Defesa do Interesse Público no Processo Judiciário</td><td>0                                                          </td><td>    0.0                                                    </td><td>       0.0                                                 </td><td>    0.0                                                    </td></tr>\n",
       "\t<tr><td>02.999 - Demais Subfunções Judiciária                      </td><td>0                                                          </td><td>    0.0                                                    </td><td>       0.0                                                 </td><td>    0.0                                                    </td></tr>\n",
       "\t<tr><td>03 - Essencial à Justiça                                   </td><td>0                                                          </td><td>    0.0                                                    </td><td>       0.0                                                 </td><td>    0.0                                                    </td></tr>\n",
       "\t<tr><td>03.091 - Defesa da Ordem Jurídica                          </td><td>0                                                          </td><td>    0.0                                                    </td><td>       0.0                                                 </td><td>    0.0                                                    </td></tr>\n",
       "\t<tr><td>03.092 - Representação Judicial e Extrajudicial            </td><td>0                                                          </td><td>    0.0                                                    </td><td>       0.0                                                 </td><td>    0.0                                                    </td></tr>\n",
       "\t<tr><td>03.999 - Demais Subfunções Essencial à Justiça             </td><td>0                                                          </td><td>    0.0                                                    </td><td>       0.0                                                 </td><td>    0.0                                                    </td></tr>\n",
       "\t<tr><td>04 - Administração                                         </td><td>2.04873e+06                                                </td><td>    0.0                                                    </td><td>17272421.0                                                 </td><td>    0.0                                                    </td></tr>\n",
       "\t<tr><td>04.121 - Planejamento e Orçamento                          </td><td>0                                                          </td><td>    0.0                                                    </td><td>       0.0                                                 </td><td>    0.0                                                    </td></tr>\n",
       "\t<tr><td>04.122 - Administração Geral                               </td><td>2.01483e+06                                                </td><td>    0.0                                                    </td><td>16741378.8                                                 </td><td>    0.0                                                    </td></tr>\n",
       "\t<tr><td>04.123 - Administração Financeira                          </td><td>0                                                          </td><td>    0.0                                                    </td><td>       0.0                                                 </td><td>    0.0                                                    </td></tr>\n",
       "\t<tr><td>04.124 - Controle Interno                                  </td><td>0                                                          </td><td>    0.0                                                    </td><td>       0.0                                                 </td><td>    0.0                                                    </td></tr>\n",
       "\t<tr><td>04.125 - Normatização e Fiscalização                       </td><td>0                                                          </td><td>    0.0                                                    </td><td>       0.0                                                 </td><td>    0.0                                                    </td></tr>\n",
       "\t<tr><td>04.126 - Tecnologia da Informação                          </td><td>0                                                          </td><td>    0.0                                                    </td><td>  423587.7                                                 </td><td>    0.0                                                    </td></tr>\n",
       "\t<tr><td>04.127 - Ordenamento Territorial                           </td><td>0                                                          </td><td>    0.0                                                    </td><td>       0.0                                                 </td><td>    0.0                                                    </td></tr>\n",
       "\t<tr><td>04.128 - Formação de Recursos Humanos                      </td><td>0                                                          </td><td>    0.0                                                    </td><td>       0.0                                                 </td><td>    0.0                                                    </td></tr>\n",
       "\t<tr><td>04.129 - Administração de Receitas                         </td><td>0                                                          </td><td>    0.0                                                    </td><td>       0.0                                                 </td><td>    0.0                                                    </td></tr>\n",
       "\t<tr><td>04.130 - Administração de Concessões                       </td><td>0                                                          </td><td>    0.0                                                    </td><td>       0.0                                                 </td><td>    0.0                                                    </td></tr>\n",
       "\t<tr><td>04.131 - Comunicação Social                                </td><td>0                                                          </td><td>    0.0                                                    </td><td>       0.0                                                 </td><td>    0.0                                                    </td></tr>\n",
       "\t<tr><td>04.999 - Demais Subfunções Administração                   </td><td>33898.3                                                    </td><td>    0.0                                                    </td><td>  107454.5                                                 </td><td>    0.0                                                    </td></tr>\n",
       "\t<tr><td>05 - Defesa Nacional                                       </td><td>0                                                          </td><td>    0.0                                                    </td><td>       0.0                                                 </td><td>    0.0                                                    </td></tr>\n",
       "\t<tr><td>05.151 - Defesa Área                                       </td><td>0                                                          </td><td>    0.0                                                    </td><td>       0.0                                                 </td><td>    0.0                                                    </td></tr>\n",
       "\t<tr><td>05.152 - Defesa Naval                                      </td><td>0                                                          </td><td>    0.0                                                    </td><td>       0.0                                                 </td><td>    0.0                                                    </td></tr>\n",
       "\t<tr><td>05.153 - Defesa Terrestre                                  </td><td>0                                                          </td><td>    0.0                                                    </td><td>       0.0                                                 </td><td>    0.0                                                    </td></tr>\n",
       "\t<tr><td>⋮</td><td>⋮</td><td>⋮</td><td>⋮</td><td>⋮</td></tr>\n",
       "\t<tr><td>26.781 - Transporte Aéreo                                                                     </td><td>0                                                                                             </td><td> 0                                                                                            </td><td>       0.00                                                                                   </td><td> 0                                                                                            </td></tr>\n",
       "\t<tr><td>26.782 - Transporte Rodoviário                                                                </td><td>4.05634e+06                                                                                   </td><td> 0                                                                                            </td><td>13027543.85                                                                                   </td><td> 0                                                                                            </td></tr>\n",
       "\t<tr><td>26.783 - Transporte Ferroviário                                                               </td><td>0                                                                                             </td><td> 0                                                                                            </td><td>       0.00                                                                                   </td><td> 0                                                                                            </td></tr>\n",
       "\t<tr><td>26.784 - Transporte Hidroviário                                                               </td><td>0                                                                                             </td><td> 0                                                                                            </td><td>       0.00                                                                                   </td><td> 0                                                                                            </td></tr>\n",
       "\t<tr><td>26.785 - Transportes Especiais                                                                </td><td>0                                                                                             </td><td> 0                                                                                            </td><td>       0.00                                                                                   </td><td> 0                                                                                            </td></tr>\n",
       "\t<tr><td>26.999 - Demais Subfunções Transporte                                                         </td><td>0                                                                                             </td><td> 0                                                                                            </td><td>       0.00                                                                                   </td><td> 0                                                                                            </td></tr>\n",
       "\t<tr><td>27 - Desporto e Lazer                                                                         </td><td>19428.4                                                                                       </td><td> 0                                                                                            </td><td>   48988.78                                                                                   </td><td> 0                                                                                            </td></tr>\n",
       "\t<tr><td>27.811 - Desporto de Rendimento                                                               </td><td>0                                                                                             </td><td> 0                                                                                            </td><td>       0.00                                                                                   </td><td> 0                                                                                            </td></tr>\n",
       "\t<tr><td>27.812 - Desporto Comunitário                                                                 </td><td>19428.4                                                                                       </td><td> 0                                                                                            </td><td>   48988.78                                                                                   </td><td> 0                                                                                            </td></tr>\n",
       "\t<tr><td>27.813 - Lazer                                                                                </td><td>0                                                                                             </td><td> 0                                                                                            </td><td>       0.00                                                                                   </td><td> 0                                                                                            </td></tr>\n",
       "\t<tr><td>27.999 - Demais Subfunções Desporto e Lazer                                                   </td><td>0                                                                                             </td><td> 0                                                                                            </td><td>       0.00                                                                                   </td><td> 0                                                                                            </td></tr>\n",
       "\t<tr><td>28 - Encargos Especiais                                                                       </td><td>0                                                                                             </td><td> 0                                                                                            </td><td>   64613.41                                                                                   </td><td> 0                                                                                            </td></tr>\n",
       "\t<tr><td>28.841 - Refinanciamento da Dívida Interna                                                    </td><td>0                                                                                             </td><td> 0                                                                                            </td><td>       0.00                                                                                   </td><td> 0                                                                                            </td></tr>\n",
       "\t<tr><td>28.842 - Refinanciamento da Dívida Externa                                                    </td><td>0                                                                                             </td><td> 0                                                                                            </td><td>       0.00                                                                                   </td><td> 0                                                                                            </td></tr>\n",
       "\t<tr><td>28.843 - Serviço da Dívida Interna                                                            </td><td>0                                                                                             </td><td> 0                                                                                            </td><td>   64613.41                                                                                   </td><td> 0                                                                                            </td></tr>\n",
       "\t<tr><td>28.844 - Serviço da Dívida Externa                                                            </td><td>0                                                                                             </td><td> 0                                                                                            </td><td>       0.00                                                                                   </td><td> 0                                                                                            </td></tr>\n",
       "\t<tr><td>28.845 - Outras Transferências                                                                </td><td>0                                                                                             </td><td> 0                                                                                            </td><td>       0.00                                                                                   </td><td> 0                                                                                            </td></tr>\n",
       "\t<tr><td>28.846 - Outros Encargos Especiais                                                            </td><td>0                                                                                             </td><td> 0                                                                                            </td><td>       0.00                                                                                   </td><td> 0                                                                                            </td></tr>\n",
       "\t<tr><td>28.847 - Transferências para a Educação Básica                                                </td><td>0                                                                                             </td><td> 0                                                                                            </td><td>       0.00                                                                                   </td><td> 0                                                                                            </td></tr>\n",
       "\t<tr><td>28.999 - Demais Subfunções Encargos Especiais                                                 </td><td>0                                                                                             </td><td> 0                                                                                            </td><td>       0.00                                                                                   </td><td> 0                                                                                            </td></tr>\n",
       "\t<tr><td>Despesas (Intraorçamentárias)                                                                 </td><td>3.17265e+06                                                                                   </td><td> 0                                                                                            </td><td> 4218096.87                                                                                   </td><td> 0                                                                                            </td></tr>\n",
       "\t<tr><td>NA                                                                                            </td><td>NA                                                                                            </td><td>NA                                                                                            </td><td>         NA                                                                                   </td><td>NA                                                                                            </td></tr>\n",
       "\t<tr><td>NA                                                                                            </td><td>NA                                                                                            </td><td>NA                                                                                            </td><td>         NA                                                                                   </td><td>NA                                                                                            </td></tr>\n",
       "\t<tr><td>Grupo: Balanço Orçamentário - Despesas por Função - Sub Quadro - Execução \n",
       "dos Restos a Pagar</td><td>NA                                                                                            </td><td>NA                                                                                            </td><td>         NA                                                                                   </td><td>NA                                                                                            </td></tr>\n",
       "\t<tr><td>Tabela: Notas Explicativas - Despesas por Função - Sub Quadro - Execução de \n",
       "Restos a Pagar  </td><td>NA                                                                                            </td><td>NA                                                                                            </td><td>         NA                                                                                   </td><td>NA                                                                                            </td></tr>\n",
       "\t<tr><td>Rótulo: Padrao                                                                                </td><td>NA                                                                                            </td><td>NA                                                                                            </td><td>         NA                                                                                   </td><td>NA                                                                                            </td></tr>\n",
       "\t<tr><td>Notas Explicativas - Despesas por Função - Sub Quadro - Execução de Restos a Pagar            </td><td>Valores                                                                                       </td><td>NA                                                                                            </td><td>         NA                                                                                   </td><td>NA                                                                                            </td></tr>\n",
       "\t<tr><td>NA                                                                                            </td><td>31/12/2014                                                                                    </td><td>NA                                                                                            </td><td>         NA                                                                                   </td><td>NA                                                                                            </td></tr>\n",
       "\t<tr><td>Notas Explicativas - Despesas por Função - Sub Quadro - Execução dos \n",
       "Restos a Pagar         </td><td>NA                                                                                            </td><td>NA                                                                                            </td><td>         NA                                                                                   </td><td>NA                                                                                            </td></tr>\n",
       "\t<tr><td>Notas Explicativas                                                                            </td><td>NA                                                                                            </td><td>NA                                                                                            </td><td>         NA                                                                                   </td><td>NA                                                                                            </td></tr>\n",
       "</tbody>\n",
       "</table>\n"
      ],
      "text/latex": [
       "\\begin{tabular}{r|lllll}\n",
       " Despesas por Função & Restos a Pagar Não Processados Pagos & Restos a Pagar Não Processados Cancelados & Restos a Pagar Processados Pagos & Restos a Pagar Processados Cancelados\\\\\n",
       "\\hline\n",
       "\t Despesas (Exceto Intraorçamentárias)                        & 3.00975e+07                                                 & 32295.9                                                     & 87372583.4                                                  & 32295.9                                                    \\\\\n",
       "\t 01 - Legislativa                                            & 809056                                                      &     0.0                                                     &   520554.1                                                  &     0.0                                                    \\\\\n",
       "\t 01.031 - Ação Legislativa                                   & 809056                                                      &     0.0                                                     &   520554.1                                                  &     0.0                                                    \\\\\n",
       "\t 01.032 - Controle Externo                                   & 0                                                           &     0.0                                                     &        0.0                                                  &     0.0                                                    \\\\\n",
       "\t 01.999 - Demais Subfunções Legislativa                      & 0                                                           &     0.0                                                     &        0.0                                                  &     0.0                                                    \\\\\n",
       "\t 02 - Judiciária                                             & 0                                                           &     0.0                                                     &        0.0                                                  &     0.0                                                    \\\\\n",
       "\t 02.061 - Ação Judiciária                                    & 0                                                           &     0.0                                                     &        0.0                                                  &     0.0                                                    \\\\\n",
       "\t 02.062 - Defesa do Interesse Público no Processo Judiciário & 0                                                           &     0.0                                                     &        0.0                                                  &     0.0                                                    \\\\\n",
       "\t 02.999 - Demais Subfunções Judiciária                       & 0                                                           &     0.0                                                     &        0.0                                                  &     0.0                                                    \\\\\n",
       "\t 03 - Essencial à Justiça                                    & 0                                                           &     0.0                                                     &        0.0                                                  &     0.0                                                    \\\\\n",
       "\t 03.091 - Defesa da Ordem Jurídica                           & 0                                                           &     0.0                                                     &        0.0                                                  &     0.0                                                    \\\\\n",
       "\t 03.092 - Representação Judicial e Extrajudicial             & 0                                                           &     0.0                                                     &        0.0                                                  &     0.0                                                    \\\\\n",
       "\t 03.999 - Demais Subfunções Essencial à Justiça              & 0                                                           &     0.0                                                     &        0.0                                                  &     0.0                                                    \\\\\n",
       "\t 04 - Administração                                          & 2.04873e+06                                                 &     0.0                                                     & 17272421.0                                                  &     0.0                                                    \\\\\n",
       "\t 04.121 - Planejamento e Orçamento                           & 0                                                           &     0.0                                                     &        0.0                                                  &     0.0                                                    \\\\\n",
       "\t 04.122 - Administração Geral                                & 2.01483e+06                                                 &     0.0                                                     & 16741378.8                                                  &     0.0                                                    \\\\\n",
       "\t 04.123 - Administração Financeira                           & 0                                                           &     0.0                                                     &        0.0                                                  &     0.0                                                    \\\\\n",
       "\t 04.124 - Controle Interno                                   & 0                                                           &     0.0                                                     &        0.0                                                  &     0.0                                                    \\\\\n",
       "\t 04.125 - Normatização e Fiscalização                        & 0                                                           &     0.0                                                     &        0.0                                                  &     0.0                                                    \\\\\n",
       "\t 04.126 - Tecnologia da Informação                           & 0                                                           &     0.0                                                     &   423587.7                                                  &     0.0                                                    \\\\\n",
       "\t 04.127 - Ordenamento Territorial                            & 0                                                           &     0.0                                                     &        0.0                                                  &     0.0                                                    \\\\\n",
       "\t 04.128 - Formação de Recursos Humanos                       & 0                                                           &     0.0                                                     &        0.0                                                  &     0.0                                                    \\\\\n",
       "\t 04.129 - Administração de Receitas                          & 0                                                           &     0.0                                                     &        0.0                                                  &     0.0                                                    \\\\\n",
       "\t 04.130 - Administração de Concessões                        & 0                                                           &     0.0                                                     &        0.0                                                  &     0.0                                                    \\\\\n",
       "\t 04.131 - Comunicação Social                                 & 0                                                           &     0.0                                                     &        0.0                                                  &     0.0                                                    \\\\\n",
       "\t 04.999 - Demais Subfunções Administração                    & 33898.3                                                     &     0.0                                                     &   107454.5                                                  &     0.0                                                    \\\\\n",
       "\t 05 - Defesa Nacional                                        & 0                                                           &     0.0                                                     &        0.0                                                  &     0.0                                                    \\\\\n",
       "\t 05.151 - Defesa Área                                        & 0                                                           &     0.0                                                     &        0.0                                                  &     0.0                                                    \\\\\n",
       "\t 05.152 - Defesa Naval                                       & 0                                                           &     0.0                                                     &        0.0                                                  &     0.0                                                    \\\\\n",
       "\t 05.153 - Defesa Terrestre                                   & 0                                                           &     0.0                                                     &        0.0                                                  &     0.0                                                    \\\\\n",
       "\t ⋮ & ⋮ & ⋮ & ⋮ & ⋮\\\\\n",
       "\t 26.781 - Transporte Aéreo                                                                      & 0                                                                                              &  0                                                                                             &        0.00                                                                                    &  0                                                                                            \\\\\n",
       "\t 26.782 - Transporte Rodoviário                                                                 & 4.05634e+06                                                                                    &  0                                                                                             & 13027543.85                                                                                    &  0                                                                                            \\\\\n",
       "\t 26.783 - Transporte Ferroviário                                                                & 0                                                                                              &  0                                                                                             &        0.00                                                                                    &  0                                                                                            \\\\\n",
       "\t 26.784 - Transporte Hidroviário                                                                & 0                                                                                              &  0                                                                                             &        0.00                                                                                    &  0                                                                                            \\\\\n",
       "\t 26.785 - Transportes Especiais                                                                 & 0                                                                                              &  0                                                                                             &        0.00                                                                                    &  0                                                                                            \\\\\n",
       "\t 26.999 - Demais Subfunções Transporte                                                          & 0                                                                                              &  0                                                                                             &        0.00                                                                                    &  0                                                                                            \\\\\n",
       "\t 27 - Desporto e Lazer                                                                          & 19428.4                                                                                        &  0                                                                                             &    48988.78                                                                                    &  0                                                                                            \\\\\n",
       "\t 27.811 - Desporto de Rendimento                                                                & 0                                                                                              &  0                                                                                             &        0.00                                                                                    &  0                                                                                            \\\\\n",
       "\t 27.812 - Desporto Comunitário                                                                  & 19428.4                                                                                        &  0                                                                                             &    48988.78                                                                                    &  0                                                                                            \\\\\n",
       "\t 27.813 - Lazer                                                                                 & 0                                                                                              &  0                                                                                             &        0.00                                                                                    &  0                                                                                            \\\\\n",
       "\t 27.999 - Demais Subfunções Desporto e Lazer                                                    & 0                                                                                              &  0                                                                                             &        0.00                                                                                    &  0                                                                                            \\\\\n",
       "\t 28 - Encargos Especiais                                                                        & 0                                                                                              &  0                                                                                             &    64613.41                                                                                    &  0                                                                                            \\\\\n",
       "\t 28.841 - Refinanciamento da Dívida Interna                                                     & 0                                                                                              &  0                                                                                             &        0.00                                                                                    &  0                                                                                            \\\\\n",
       "\t 28.842 - Refinanciamento da Dívida Externa                                                     & 0                                                                                              &  0                                                                                             &        0.00                                                                                    &  0                                                                                            \\\\\n",
       "\t 28.843 - Serviço da Dívida Interna                                                             & 0                                                                                              &  0                                                                                             &    64613.41                                                                                    &  0                                                                                            \\\\\n",
       "\t 28.844 - Serviço da Dívida Externa                                                             & 0                                                                                              &  0                                                                                             &        0.00                                                                                    &  0                                                                                            \\\\\n",
       "\t 28.845 - Outras Transferências                                                                 & 0                                                                                              &  0                                                                                             &        0.00                                                                                    &  0                                                                                            \\\\\n",
       "\t 28.846 - Outros Encargos Especiais                                                             & 0                                                                                              &  0                                                                                             &        0.00                                                                                    &  0                                                                                            \\\\\n",
       "\t 28.847 - Transferências para a Educação Básica                                                 & 0                                                                                              &  0                                                                                             &        0.00                                                                                    &  0                                                                                            \\\\\n",
       "\t 28.999 - Demais Subfunções Encargos Especiais                                                  & 0                                                                                              &  0                                                                                             &        0.00                                                                                    &  0                                                                                            \\\\\n",
       "\t Despesas (Intraorçamentárias)                                                                  & 3.17265e+06                                                                                    &  0                                                                                             &  4218096.87                                                                                    &  0                                                                                            \\\\\n",
       "\t NA                                                                                             & NA                                                                                             & NA                                                                                             &          NA                                                                                    & NA                                                                                            \\\\\n",
       "\t NA                                                                                             & NA                                                                                             & NA                                                                                             &          NA                                                                                    & NA                                                                                            \\\\\n",
       "\t Grupo: Balanço Orçamentário - Despesas por Função - Sub Quadro - Execução \n",
       "dos Restos a Pagar & NA                                                                                             & NA                                                                                             &          NA                                                                                    & NA                                                                                            \\\\\n",
       "\t Tabela: Notas Explicativas - Despesas por Função - Sub Quadro - Execução de \n",
       "Restos a Pagar   & NA                                                                                             & NA                                                                                             &          NA                                                                                    & NA                                                                                            \\\\\n",
       "\t Rótulo: Padrao                                                                                 & NA                                                                                             & NA                                                                                             &          NA                                                                                    & NA                                                                                            \\\\\n",
       "\t Notas Explicativas - Despesas por Função - Sub Quadro - Execução de Restos a Pagar             & Valores                                                                                        & NA                                                                                             &          NA                                                                                    & NA                                                                                            \\\\\n",
       "\t NA                                                                                             & 31/12/2014                                                                                     & NA                                                                                             &          NA                                                                                    & NA                                                                                            \\\\\n",
       "\t Notas Explicativas - Despesas por Função - Sub Quadro - Execução dos \n",
       "Restos a Pagar          & NA                                                                                             & NA                                                                                             &          NA                                                                                    & NA                                                                                            \\\\\n",
       "\t Notas Explicativas                                                                             & NA                                                                                             & NA                                                                                             &          NA                                                                                    & NA                                                                                            \\\\\n",
       "\\end{tabular}\n"
      ],
      "text/markdown": [
       "\n",
       "Despesas por Função | Restos a Pagar Não Processados Pagos | Restos a Pagar Não Processados Cancelados | Restos a Pagar Processados Pagos | Restos a Pagar Processados Cancelados | \n",
       "|---|---|---|---|---|---|---|---|---|---|---|---|---|---|---|---|---|---|---|---|---|---|---|---|---|---|---|---|---|---|---|---|---|---|---|---|---|---|---|---|---|---|---|---|---|---|---|---|---|---|---|---|---|---|---|---|---|---|---|---|---|\n",
       "| Despesas (Exceto Intraorçamentárias)                        | 3.00975e+07                                                 | 32295.9                                                     | 87372583.4                                                  | 32295.9                                                     | \n",
       "| 01 - Legislativa                                            | 809056                                                      |     0.0                                                     |   520554.1                                                  |     0.0                                                     | \n",
       "| 01.031 - Ação Legislativa                                   | 809056                                                      |     0.0                                                     |   520554.1                                                  |     0.0                                                     | \n",
       "| 01.032 - Controle Externo                                   | 0                                                           |     0.0                                                     |        0.0                                                  |     0.0                                                     | \n",
       "| 01.999 - Demais Subfunções Legislativa                      | 0                                                           |     0.0                                                     |        0.0                                                  |     0.0                                                     | \n",
       "| 02 - Judiciária                                             | 0                                                           |     0.0                                                     |        0.0                                                  |     0.0                                                     | \n",
       "| 02.061 - Ação Judiciária                                    | 0                                                           |     0.0                                                     |        0.0                                                  |     0.0                                                     | \n",
       "| 02.062 - Defesa do Interesse Público no Processo Judiciário | 0                                                           |     0.0                                                     |        0.0                                                  |     0.0                                                     | \n",
       "| 02.999 - Demais Subfunções Judiciária                       | 0                                                           |     0.0                                                     |        0.0                                                  |     0.0                                                     | \n",
       "| 03 - Essencial à Justiça                                    | 0                                                           |     0.0                                                     |        0.0                                                  |     0.0                                                     | \n",
       "| 03.091 - Defesa da Ordem Jurídica                           | 0                                                           |     0.0                                                     |        0.0                                                  |     0.0                                                     | \n",
       "| 03.092 - Representação Judicial e Extrajudicial             | 0                                                           |     0.0                                                     |        0.0                                                  |     0.0                                                     | \n",
       "| 03.999 - Demais Subfunções Essencial à Justiça              | 0                                                           |     0.0                                                     |        0.0                                                  |     0.0                                                     | \n",
       "| 04 - Administração                                          | 2.04873e+06                                                 |     0.0                                                     | 17272421.0                                                  |     0.0                                                     | \n",
       "| 04.121 - Planejamento e Orçamento                           | 0                                                           |     0.0                                                     |        0.0                                                  |     0.0                                                     | \n",
       "| 04.122 - Administração Geral                                | 2.01483e+06                                                 |     0.0                                                     | 16741378.8                                                  |     0.0                                                     | \n",
       "| 04.123 - Administração Financeira                           | 0                                                           |     0.0                                                     |        0.0                                                  |     0.0                                                     | \n",
       "| 04.124 - Controle Interno                                   | 0                                                           |     0.0                                                     |        0.0                                                  |     0.0                                                     | \n",
       "| 04.125 - Normatização e Fiscalização                        | 0                                                           |     0.0                                                     |        0.0                                                  |     0.0                                                     | \n",
       "| 04.126 - Tecnologia da Informação                           | 0                                                           |     0.0                                                     |   423587.7                                                  |     0.0                                                     | \n",
       "| 04.127 - Ordenamento Territorial                            | 0                                                           |     0.0                                                     |        0.0                                                  |     0.0                                                     | \n",
       "| 04.128 - Formação de Recursos Humanos                       | 0                                                           |     0.0                                                     |        0.0                                                  |     0.0                                                     | \n",
       "| 04.129 - Administração de Receitas                          | 0                                                           |     0.0                                                     |        0.0                                                  |     0.0                                                     | \n",
       "| 04.130 - Administração de Concessões                        | 0                                                           |     0.0                                                     |        0.0                                                  |     0.0                                                     | \n",
       "| 04.131 - Comunicação Social                                 | 0                                                           |     0.0                                                     |        0.0                                                  |     0.0                                                     | \n",
       "| 04.999 - Demais Subfunções Administração                    | 33898.3                                                     |     0.0                                                     |   107454.5                                                  |     0.0                                                     | \n",
       "| 05 - Defesa Nacional                                        | 0                                                           |     0.0                                                     |        0.0                                                  |     0.0                                                     | \n",
       "| 05.151 - Defesa Área                                        | 0                                                           |     0.0                                                     |        0.0                                                  |     0.0                                                     | \n",
       "| 05.152 - Defesa Naval                                       | 0                                                           |     0.0                                                     |        0.0                                                  |     0.0                                                     | \n",
       "| 05.153 - Defesa Terrestre                                   | 0                                                           |     0.0                                                     |        0.0                                                  |     0.0                                                     | \n",
       "| ⋮ | ⋮ | ⋮ | ⋮ | ⋮ | \n",
       "| 26.781 - Transporte Aéreo                                                                      | 0                                                                                              |  0                                                                                             |        0.00                                                                                    |  0                                                                                             | \n",
       "| 26.782 - Transporte Rodoviário                                                                 | 4.05634e+06                                                                                    |  0                                                                                             | 13027543.85                                                                                    |  0                                                                                             | \n",
       "| 26.783 - Transporte Ferroviário                                                                | 0                                                                                              |  0                                                                                             |        0.00                                                                                    |  0                                                                                             | \n",
       "| 26.784 - Transporte Hidroviário                                                                | 0                                                                                              |  0                                                                                             |        0.00                                                                                    |  0                                                                                             | \n",
       "| 26.785 - Transportes Especiais                                                                 | 0                                                                                              |  0                                                                                             |        0.00                                                                                    |  0                                                                                             | \n",
       "| 26.999 - Demais Subfunções Transporte                                                          | 0                                                                                              |  0                                                                                             |        0.00                                                                                    |  0                                                                                             | \n",
       "| 27 - Desporto e Lazer                                                                          | 19428.4                                                                                        |  0                                                                                             |    48988.78                                                                                    |  0                                                                                             | \n",
       "| 27.811 - Desporto de Rendimento                                                                | 0                                                                                              |  0                                                                                             |        0.00                                                                                    |  0                                                                                             | \n",
       "| 27.812 - Desporto Comunitário                                                                  | 19428.4                                                                                        |  0                                                                                             |    48988.78                                                                                    |  0                                                                                             | \n",
       "| 27.813 - Lazer                                                                                 | 0                                                                                              |  0                                                                                             |        0.00                                                                                    |  0                                                                                             | \n",
       "| 27.999 - Demais Subfunções Desporto e Lazer                                                    | 0                                                                                              |  0                                                                                             |        0.00                                                                                    |  0                                                                                             | \n",
       "| 28 - Encargos Especiais                                                                        | 0                                                                                              |  0                                                                                             |    64613.41                                                                                    |  0                                                                                             | \n",
       "| 28.841 - Refinanciamento da Dívida Interna                                                     | 0                                                                                              |  0                                                                                             |        0.00                                                                                    |  0                                                                                             | \n",
       "| 28.842 - Refinanciamento da Dívida Externa                                                     | 0                                                                                              |  0                                                                                             |        0.00                                                                                    |  0                                                                                             | \n",
       "| 28.843 - Serviço da Dívida Interna                                                             | 0                                                                                              |  0                                                                                             |    64613.41                                                                                    |  0                                                                                             | \n",
       "| 28.844 - Serviço da Dívida Externa                                                             | 0                                                                                              |  0                                                                                             |        0.00                                                                                    |  0                                                                                             | \n",
       "| 28.845 - Outras Transferências                                                                 | 0                                                                                              |  0                                                                                             |        0.00                                                                                    |  0                                                                                             | \n",
       "| 28.846 - Outros Encargos Especiais                                                             | 0                                                                                              |  0                                                                                             |        0.00                                                                                    |  0                                                                                             | \n",
       "| 28.847 - Transferências para a Educação Básica                                                 | 0                                                                                              |  0                                                                                             |        0.00                                                                                    |  0                                                                                             | \n",
       "| 28.999 - Demais Subfunções Encargos Especiais                                                  | 0                                                                                              |  0                                                                                             |        0.00                                                                                    |  0                                                                                             | \n",
       "| Despesas (Intraorçamentárias)                                                                  | 3.17265e+06                                                                                    |  0                                                                                             |  4218096.87                                                                                    |  0                                                                                             | \n",
       "| NA                                                                                             | NA                                                                                             | NA                                                                                             |          NA                                                                                    | NA                                                                                             | \n",
       "| NA                                                                                             | NA                                                                                             | NA                                                                                             |          NA                                                                                    | NA                                                                                             | \n",
       "| Grupo: Balanço Orçamentário - Despesas por Função - Sub Quadro - Execução \n",
       "dos Restos a Pagar | NA                                                                                             | NA                                                                                             |          NA                                                                                    | NA                                                                                             | \n",
       "| Tabela: Notas Explicativas - Despesas por Função - Sub Quadro - Execução de \n",
       "Restos a Pagar   | NA                                                                                             | NA                                                                                             |          NA                                                                                    | NA                                                                                             | \n",
       "| Rótulo: Padrao                                                                                 | NA                                                                                             | NA                                                                                             |          NA                                                                                    | NA                                                                                             | \n",
       "| Notas Explicativas - Despesas por Função - Sub Quadro - Execução de Restos a Pagar             | Valores                                                                                        | NA                                                                                             |          NA                                                                                    | NA                                                                                             | \n",
       "| NA                                                                                             | 31/12/2014                                                                                     | NA                                                                                             |          NA                                                                                    | NA                                                                                             | \n",
       "| Notas Explicativas - Despesas por Função - Sub Quadro - Execução dos \n",
       "Restos a Pagar          | NA                                                                                             | NA                                                                                             |          NA                                                                                    | NA                                                                                             | \n",
       "| Notas Explicativas                                                                             | NA                                                                                             | NA                                                                                             |          NA                                                                                    | NA                                                                                             | \n",
       "\n",
       "\n"
      ],
      "text/plain": [
       "    Despesas por Função                                                                           \n",
       "1   Despesas (Exceto Intraorçamentárias)                                                          \n",
       "2   01 - Legislativa                                                                              \n",
       "3   01.031 - Ação Legislativa                                                                     \n",
       "4   01.032 - Controle Externo                                                                     \n",
       "5   01.999 - Demais Subfunções Legislativa                                                        \n",
       "6   02 - Judiciária                                                                               \n",
       "7   02.061 - Ação Judiciária                                                                      \n",
       "8   02.062 - Defesa do Interesse Público no Processo Judiciário                                   \n",
       "9   02.999 - Demais Subfunções Judiciária                                                         \n",
       "10  03 - Essencial à Justiça                                                                      \n",
       "11  03.091 - Defesa da Ordem Jurídica                                                             \n",
       "12  03.092 - Representação Judicial e Extrajudicial                                               \n",
       "13  03.999 - Demais Subfunções Essencial à Justiça                                                \n",
       "14  04 - Administração                                                                            \n",
       "15  04.121 - Planejamento e Orçamento                                                             \n",
       "16  04.122 - Administração Geral                                                                  \n",
       "17  04.123 - Administração Financeira                                                             \n",
       "18  04.124 - Controle Interno                                                                     \n",
       "19  04.125 - Normatização e Fiscalização                                                          \n",
       "20  04.126 - Tecnologia da Informação                                                             \n",
       "21  04.127 - Ordenamento Territorial                                                              \n",
       "22  04.128 - Formação de Recursos Humanos                                                         \n",
       "23  04.129 - Administração de Receitas                                                            \n",
       "24  04.130 - Administração de Concessões                                                          \n",
       "25  04.131 - Comunicação Social                                                                   \n",
       "26  04.999 - Demais Subfunções Administração                                                      \n",
       "27  05 - Defesa Nacional                                                                          \n",
       "28  05.151 - Defesa Área                                                                          \n",
       "29  05.152 - Defesa Naval                                                                         \n",
       "30  05.153 - Defesa Terrestre                                                                     \n",
       "⋮   ⋮                                                                                             \n",
       "147 26.781 - Transporte Aéreo                                                                     \n",
       "148 26.782 - Transporte Rodoviário                                                                \n",
       "149 26.783 - Transporte Ferroviário                                                               \n",
       "150 26.784 - Transporte Hidroviário                                                               \n",
       "151 26.785 - Transportes Especiais                                                                \n",
       "152 26.999 - Demais Subfunções Transporte                                                         \n",
       "153 27 - Desporto e Lazer                                                                         \n",
       "154 27.811 - Desporto de Rendimento                                                               \n",
       "155 27.812 - Desporto Comunitário                                                                 \n",
       "156 27.813 - Lazer                                                                                \n",
       "157 27.999 - Demais Subfunções Desporto e Lazer                                                   \n",
       "158 28 - Encargos Especiais                                                                       \n",
       "159 28.841 - Refinanciamento da Dívida Interna                                                    \n",
       "160 28.842 - Refinanciamento da Dívida Externa                                                    \n",
       "161 28.843 - Serviço da Dívida Interna                                                            \n",
       "162 28.844 - Serviço da Dívida Externa                                                            \n",
       "163 28.845 - Outras Transferências                                                                \n",
       "164 28.846 - Outros Encargos Especiais                                                            \n",
       "165 28.847 - Transferências para a Educação Básica                                                \n",
       "166 28.999 - Demais Subfunções Encargos Especiais                                                 \n",
       "167 Despesas (Intraorçamentárias)                                                                 \n",
       "168 NA                                                                                            \n",
       "169 NA                                                                                            \n",
       "170 Grupo: Balanço Orçamentário - Despesas por Função - Sub Quadro - Execução \\ndos Restos a Pagar\n",
       "171 Tabela: Notas Explicativas - Despesas por Função - Sub Quadro - Execução de \\nRestos a Pagar  \n",
       "172 Rótulo: Padrao                                                                                \n",
       "173 Notas Explicativas - Despesas por Função - Sub Quadro - Execução de Restos a Pagar            \n",
       "174 NA                                                                                            \n",
       "175 Notas Explicativas - Despesas por Função - Sub Quadro - Execução dos \\nRestos a Pagar         \n",
       "176 Notas Explicativas                                                                            \n",
       "    Restos a Pagar Não Processados Pagos\n",
       "1   3.00975e+07                         \n",
       "2   809056                              \n",
       "3   809056                              \n",
       "4   0                                   \n",
       "5   0                                   \n",
       "6   0                                   \n",
       "7   0                                   \n",
       "8   0                                   \n",
       "9   0                                   \n",
       "10  0                                   \n",
       "11  0                                   \n",
       "12  0                                   \n",
       "13  0                                   \n",
       "14  2.04873e+06                         \n",
       "15  0                                   \n",
       "16  2.01483e+06                         \n",
       "17  0                                   \n",
       "18  0                                   \n",
       "19  0                                   \n",
       "20  0                                   \n",
       "21  0                                   \n",
       "22  0                                   \n",
       "23  0                                   \n",
       "24  0                                   \n",
       "25  0                                   \n",
       "26  33898.3                             \n",
       "27  0                                   \n",
       "28  0                                   \n",
       "29  0                                   \n",
       "30  0                                   \n",
       "⋮   ⋮                                   \n",
       "147 0                                   \n",
       "148 4.05634e+06                         \n",
       "149 0                                   \n",
       "150 0                                   \n",
       "151 0                                   \n",
       "152 0                                   \n",
       "153 19428.4                             \n",
       "154 0                                   \n",
       "155 19428.4                             \n",
       "156 0                                   \n",
       "157 0                                   \n",
       "158 0                                   \n",
       "159 0                                   \n",
       "160 0                                   \n",
       "161 0                                   \n",
       "162 0                                   \n",
       "163 0                                   \n",
       "164 0                                   \n",
       "165 0                                   \n",
       "166 0                                   \n",
       "167 3.17265e+06                         \n",
       "168 NA                                  \n",
       "169 NA                                  \n",
       "170 NA                                  \n",
       "171 NA                                  \n",
       "172 NA                                  \n",
       "173 Valores                             \n",
       "174 31/12/2014                          \n",
       "175 NA                                  \n",
       "176 NA                                  \n",
       "    Restos a Pagar Não Processados Cancelados Restos a Pagar Processados Pagos\n",
       "1   32295.9                                   87372583.4                      \n",
       "2       0.0                                     520554.1                      \n",
       "3       0.0                                     520554.1                      \n",
       "4       0.0                                          0.0                      \n",
       "5       0.0                                          0.0                      \n",
       "6       0.0                                          0.0                      \n",
       "7       0.0                                          0.0                      \n",
       "8       0.0                                          0.0                      \n",
       "9       0.0                                          0.0                      \n",
       "10      0.0                                          0.0                      \n",
       "11      0.0                                          0.0                      \n",
       "12      0.0                                          0.0                      \n",
       "13      0.0                                          0.0                      \n",
       "14      0.0                                   17272421.0                      \n",
       "15      0.0                                          0.0                      \n",
       "16      0.0                                   16741378.8                      \n",
       "17      0.0                                          0.0                      \n",
       "18      0.0                                          0.0                      \n",
       "19      0.0                                          0.0                      \n",
       "20      0.0                                     423587.7                      \n",
       "21      0.0                                          0.0                      \n",
       "22      0.0                                          0.0                      \n",
       "23      0.0                                          0.0                      \n",
       "24      0.0                                          0.0                      \n",
       "25      0.0                                          0.0                      \n",
       "26      0.0                                     107454.5                      \n",
       "27      0.0                                          0.0                      \n",
       "28      0.0                                          0.0                      \n",
       "29      0.0                                          0.0                      \n",
       "30      0.0                                          0.0                      \n",
       "⋮   ⋮                                         ⋮                               \n",
       "147  0                                               0.00                     \n",
       "148  0                                        13027543.85                     \n",
       "149  0                                               0.00                     \n",
       "150  0                                               0.00                     \n",
       "151  0                                               0.00                     \n",
       "152  0                                               0.00                     \n",
       "153  0                                           48988.78                     \n",
       "154  0                                               0.00                     \n",
       "155  0                                           48988.78                     \n",
       "156  0                                               0.00                     \n",
       "157  0                                               0.00                     \n",
       "158  0                                           64613.41                     \n",
       "159  0                                               0.00                     \n",
       "160  0                                               0.00                     \n",
       "161  0                                           64613.41                     \n",
       "162  0                                               0.00                     \n",
       "163  0                                               0.00                     \n",
       "164  0                                               0.00                     \n",
       "165  0                                               0.00                     \n",
       "166  0                                               0.00                     \n",
       "167  0                                         4218096.87                     \n",
       "168 NA                                                 NA                     \n",
       "169 NA                                                 NA                     \n",
       "170 NA                                                 NA                     \n",
       "171 NA                                                 NA                     \n",
       "172 NA                                                 NA                     \n",
       "173 NA                                                 NA                     \n",
       "174 NA                                                 NA                     \n",
       "175 NA                                                 NA                     \n",
       "176 NA                                                 NA                     \n",
       "    Restos a Pagar Processados Cancelados\n",
       "1   32295.9                              \n",
       "2       0.0                              \n",
       "3       0.0                              \n",
       "4       0.0                              \n",
       "5       0.0                              \n",
       "6       0.0                              \n",
       "7       0.0                              \n",
       "8       0.0                              \n",
       "9       0.0                              \n",
       "10      0.0                              \n",
       "11      0.0                              \n",
       "12      0.0                              \n",
       "13      0.0                              \n",
       "14      0.0                              \n",
       "15      0.0                              \n",
       "16      0.0                              \n",
       "17      0.0                              \n",
       "18      0.0                              \n",
       "19      0.0                              \n",
       "20      0.0                              \n",
       "21      0.0                              \n",
       "22      0.0                              \n",
       "23      0.0                              \n",
       "24      0.0                              \n",
       "25      0.0                              \n",
       "26      0.0                              \n",
       "27      0.0                              \n",
       "28      0.0                              \n",
       "29      0.0                              \n",
       "30      0.0                              \n",
       "⋮   ⋮                                    \n",
       "147  0                                   \n",
       "148  0                                   \n",
       "149  0                                   \n",
       "150  0                                   \n",
       "151  0                                   \n",
       "152  0                                   \n",
       "153  0                                   \n",
       "154  0                                   \n",
       "155  0                                   \n",
       "156  0                                   \n",
       "157  0                                   \n",
       "158  0                                   \n",
       "159  0                                   \n",
       "160  0                                   \n",
       "161  0                                   \n",
       "162  0                                   \n",
       "163  0                                   \n",
       "164  0                                   \n",
       "165  0                                   \n",
       "166  0                                   \n",
       "167  0                                   \n",
       "168 NA                                   \n",
       "169 NA                                   \n",
       "170 NA                                   \n",
       "171 NA                                   \n",
       "172 NA                                   \n",
       "173 NA                                   \n",
       "174 NA                                   \n",
       "175 NA                                   \n",
       "176 NA                                   "
      ]
     },
     "metadata": {},
     "output_type": "display_data"
    }
   ],
   "source": [
    "library(\"readxl\")\n",
    "\n",
    "filename <- \"SICONFI_DCA_6561_ANUAL_1.xls\"\n",
    "\n",
    "SICONFIData <- read_excel(filename, skip=17, sheet = \"DCA-Anexo I-G\")\n",
    "\n",
    "# Rename first column to 'Despesas por Função'\n",
    "colnames(SICONFIData)[1] = 'Despesas por Função'\n",
    "\n",
    "SICONFIData"
   ]
  },
  {
   "cell_type": "markdown",
   "metadata": {},
   "source": [
    "### Exercício 2.6\n",
    "\n",
    "O R dispõe dos conjuntos de dados rock e ToothGrowth. Exporte estes dados para um arquivo do Excel, de forma que cada conjunto de dados fique em uma planilha diferente."
   ]
  },
  {
   "cell_type": "code",
   "execution_count": 54,
   "metadata": {
    "collapsed": true
   },
   "outputs": [
    {
     "ename": "ERROR",
     "evalue": "Error in library(\"xlsx\"): there is no package called ‘xlsx’\n",
     "output_type": "error",
     "traceback": [
      "Error in library(\"xlsx\"): there is no package called ‘xlsx’\nTraceback:\n",
      "1. library(\"xlsx\")",
      "2. stop(txt, domain = NA)"
     ]
    }
   ],
   "source": [
    "library(\"xlsx\")\n",
    "\n",
    "write.xlsx(x = ToothGrowth, file = \"data.xlsx\",\n",
    "           sheetName = \"ToothGrowth\", row.names = FALSE)\n",
    "\n",
    "write.xlsx(x = rock, file = \"data.xlsx\",\n",
    "           sheetName = \"Rock\", row.names = FALSE, append=TRUE)"
   ]
  },
  {
   "cell_type": "markdown",
   "metadata": {},
   "source": [
    "### Exercício 2.7\n",
    "\n",
    "Importe os dados contidos no arquivo 14SerieRouboVeiculo2015.xls obtido no site do Instituto de Segurança Pública (ISP). Ignore a coluna e linha de totalizações."
   ]
  },
  {
   "cell_type": "code",
   "execution_count": 55,
   "metadata": {},
   "outputs": [
    {
     "data": {
      "text/html": [
       "<table>\n",
       "<thead><tr><th scope=col>UOp</th><th scope=col>UNIDADES POLICIAIS</th><th scope=col>JAN</th><th scope=col>FEV</th><th scope=col>MAR</th><th scope=col>ABR</th><th scope=col>MAI</th><th scope=col>JUN</th><th scope=col>JUL</th><th scope=col>AGO</th><th scope=col>SET</th><th scope=col>OUT</th><th scope=col>NOV</th><th scope=col>DEZ</th></tr></thead>\n",
       "<tbody>\n",
       "\t<tr><td>5º BPM                   </td><td>001a. Praça Mauá         </td><td>  1                      </td><td>  1                      </td><td>  0                      </td><td> 2                       </td><td> 1                       </td><td>  0                      </td><td>  0                      </td><td> 2                       </td><td> 2                       </td><td>0                        </td><td>0                        </td><td>0                        </td></tr>\n",
       "\t<tr><td>5º BPM                   </td><td>004a. Praça da República </td><td>  7                      </td><td>  8                      </td><td>  5                      </td><td>12                       </td><td> 6                       </td><td>  2                      </td><td>  9                      </td><td> 3                       </td><td> 8                       </td><td>0                        </td><td>0                        </td><td>0                        </td></tr>\n",
       "\t<tr><td>5º BPM                   </td><td>005a. Mem de Sá          </td><td>  5                      </td><td>  0                      </td><td>  7                      </td><td> 1                       </td><td> 0                       </td><td>  1                      </td><td>  3                      </td><td> 1                       </td><td> 2                       </td><td>0                        </td><td>0                        </td><td>0                        </td></tr>\n",
       "\t<tr><td>4º BPM                   </td><td>006a. Cidade Nova        </td><td>  9                      </td><td>  4                      </td><td>  6                      </td><td> 7                       </td><td>14                       </td><td>  3                      </td><td>  8                      </td><td> 2                       </td><td> 8                       </td><td>0                        </td><td>0                        </td><td>0                        </td></tr>\n",
       "\t<tr><td>5º BPM                   </td><td>007a. Santa Tereza       </td><td> 12                      </td><td>  3                      </td><td>  5                      </td><td> 1                       </td><td> 3                       </td><td>  2                      </td><td>  2                      </td><td> 1                       </td><td> 1                       </td><td>0                        </td><td>0                        </td><td>0                        </td></tr>\n",
       "\t<tr><td>2º BPM                   </td><td>009a. Catete             </td><td> 14                      </td><td>  7                      </td><td> 12                      </td><td>10                       </td><td>11                       </td><td>  4                      </td><td> 12                      </td><td> 3                       </td><td> 9                       </td><td>0                        </td><td>0                        </td><td>0                        </td></tr>\n",
       "\t<tr><td>2º BPM                   </td><td>010a. Botafogo           </td><td>  4                      </td><td>  4                      </td><td>  8                      </td><td>15                       </td><td> 4                       </td><td> 11                      </td><td>  3                      </td><td> 3                       </td><td> 5                       </td><td>0                        </td><td>0                        </td><td>0                        </td></tr>\n",
       "\t<tr><td>23º BPM                  </td><td>011a. Rocinha            </td><td>  0                      </td><td>  0                      </td><td>  0                      </td><td> 0                       </td><td> 0                       </td><td>  0                      </td><td>  0                      </td><td> 0                       </td><td> 0                       </td><td>0                        </td><td>0                        </td><td>0                        </td></tr>\n",
       "\t<tr><td>19º BPM                  </td><td>012a. Copacabana         </td><td>  0                      </td><td>  0                      </td><td>  0                      </td><td> 1                       </td><td> 0                       </td><td>  0                      </td><td>  0                      </td><td> 0                       </td><td> 0                       </td><td>0                        </td><td>0                        </td><td>0                        </td></tr>\n",
       "\t<tr><td>19º BPM                  </td><td>013a. Ipanema            </td><td>  3                      </td><td>  0                      </td><td>  1                      </td><td> 1                       </td><td> 0                       </td><td>  0                      </td><td>  0                      </td><td> 0                       </td><td> 1                       </td><td>0                        </td><td>0                        </td><td>0                        </td></tr>\n",
       "\t<tr><td>23º BPM                  </td><td>014a. Leblon             </td><td>  3                      </td><td>  2                      </td><td>  2                      </td><td> 3                       </td><td> 1                       </td><td>  0                      </td><td>  0                      </td><td> 1                       </td><td> 1                       </td><td>0                        </td><td>0                        </td><td>0                        </td></tr>\n",
       "\t<tr><td>23º BPM                  </td><td>015a. Gávea              </td><td>  1                      </td><td>  5                      </td><td>  5                      </td><td> 2                       </td><td> 6                       </td><td>  3                      </td><td>  0                      </td><td> 1                       </td><td> 2                       </td><td>0                        </td><td>0                        </td><td>0                        </td></tr>\n",
       "\t<tr><td>31º BPM                  </td><td>016a. Barra da Tijuca    </td><td> 15                      </td><td> 13                      </td><td> 12                      </td><td>18                       </td><td>13                       </td><td> 11                      </td><td>  8                      </td><td> 8                       </td><td> 4                       </td><td>0                        </td><td>0                        </td><td>0                        </td></tr>\n",
       "\t<tr><td>4º BPM                   </td><td>017a. São Cristóvão      </td><td> 15                      </td><td> 18                      </td><td> 22                      </td><td>22                       </td><td>27                       </td><td> 25                      </td><td> 17                      </td><td>15                       </td><td>18                       </td><td>0                        </td><td>0                        </td><td>0                        </td></tr>\n",
       "\t<tr><td>4º BPM                   </td><td>018a. Praça da Bandeira  </td><td> 10                      </td><td> 15                      </td><td> 13                      </td><td>14                       </td><td>21                       </td><td> 20                      </td><td> 19                      </td><td>16                       </td><td> 8                       </td><td>0                        </td><td>0                        </td><td>0                        </td></tr>\n",
       "\t<tr><td>6º BPM                   </td><td>019a. Tijuca             </td><td>  7                      </td><td>  4                      </td><td> 12                      </td><td> 7                       </td><td> 9                       </td><td>  6                      </td><td> 13                      </td><td> 8                       </td><td> 5                       </td><td>0                        </td><td>0                        </td><td>0                        </td></tr>\n",
       "\t<tr><td>6º BPM                   </td><td>020a. Grajaú             </td><td> 13                      </td><td> 16                      </td><td> 15                      </td><td>17                       </td><td> 8                       </td><td>  4                      </td><td> 18                      </td><td>10                       </td><td>16                       </td><td>0                        </td><td>0                        </td><td>0                        </td></tr>\n",
       "\t<tr><td>22º BPM                  </td><td>021a. Bonsucesso         </td><td> 34                      </td><td> 23                      </td><td> 28                      </td><td>29                       </td><td>21                       </td><td> 19                      </td><td> 20                      </td><td>20                       </td><td>29                       </td><td>0                        </td><td>0                        </td><td>0                        </td></tr>\n",
       "\t<tr><td>16º BPM                  </td><td>022a. Penha              </td><td> 33                      </td><td> 25                      </td><td> 36                      </td><td>43                       </td><td>42                       </td><td> 37                      </td><td> 41                      </td><td>32                       </td><td>31                       </td><td>0                        </td><td>0                        </td><td>0                        </td></tr>\n",
       "\t<tr><td>3º BPM                   </td><td>023a. Meier              </td><td> 38                      </td><td> 32                      </td><td> 30                      </td><td>20                       </td><td>16                       </td><td> 14                      </td><td> 21                      </td><td>18                       </td><td>15                       </td><td>0                        </td><td>0                        </td><td>0                        </td></tr>\n",
       "\t<tr><td>3º BPM                   </td><td>024a. Piedade            </td><td> 27                      </td><td> 24                      </td><td> 24                      </td><td>27                       </td><td>29                       </td><td> 25                      </td><td> 30                      </td><td>27                       </td><td>24                       </td><td>0                        </td><td>0                        </td><td>0                        </td></tr>\n",
       "\t<tr><td>3º BPM                   </td><td>025a. Engenho Novo       </td><td> 19                      </td><td> 19                      </td><td> 33                      </td><td>28                       </td><td>20                       </td><td> 15                      </td><td> 11                      </td><td>20                       </td><td>30                       </td><td>0                        </td><td>0                        </td><td>0                        </td></tr>\n",
       "\t<tr><td>3º BPM                   </td><td>026a. Todos os Santos    </td><td> 35                      </td><td> 23                      </td><td> 26                      </td><td>29                       </td><td>33                       </td><td> 24                      </td><td> 23                      </td><td>32                       </td><td>26                       </td><td>0                        </td><td>0                        </td><td>0                        </td></tr>\n",
       "\t<tr><td>41º BPM                  </td><td>027a. Vicente de Carvalho</td><td>112                      </td><td> 95                      </td><td>102                      </td><td>97                       </td><td>92                       </td><td>113                      </td><td>105                      </td><td>74                       </td><td>80                       </td><td>0                        </td><td>0                        </td><td>0                        </td></tr>\n",
       "\t<tr><td>9º BPM                   </td><td>028a. Campinho           </td><td> 61                      </td><td> 60                      </td><td> 68                      </td><td>89                       </td><td>80                       </td><td> 49                      </td><td> 48                      </td><td>62                       </td><td>58                       </td><td>0                        </td><td>0                        </td><td>0                        </td></tr>\n",
       "\t<tr><td>9º BPM                   </td><td>029a. Madureira          </td><td> 64                      </td><td> 67                      </td><td> 89                      </td><td>59                       </td><td>59                       </td><td> 76                      </td><td> 54                      </td><td>40                       </td><td>57                       </td><td>0                        </td><td>0                        </td><td>0                        </td></tr>\n",
       "\t<tr><td>9º BPM                   </td><td>030a. Marechal Hermes    </td><td> 49                      </td><td> 49                      </td><td> 70                      </td><td>52                       </td><td>70                       </td><td> 51                      </td><td> 62                      </td><td>45                       </td><td>45                       </td><td>0                        </td><td>0                        </td><td>0                        </td></tr>\n",
       "\t<tr><td>41º BPM                  </td><td>031a. Ricardo Albuquerque</td><td>101                      </td><td>133                      </td><td>107                      </td><td>92                       </td><td>76                       </td><td> 81                      </td><td> 81                      </td><td>87                       </td><td>61                       </td><td>0                        </td><td>0                        </td><td>0                        </td></tr>\n",
       "\t<tr><td>18º BPM                  </td><td>032a. Taquara            </td><td> 27                      </td><td> 22                      </td><td> 32                      </td><td>36                       </td><td>33                       </td><td> 11                      </td><td> 16                      </td><td>14                       </td><td> 7                       </td><td>0                        </td><td>0                        </td><td>0                        </td></tr>\n",
       "\t<tr><td>14º BPM                  </td><td>033a. Realengo           </td><td>110                      </td><td> 84                      </td><td>110                      </td><td>76                       </td><td>45                       </td><td> 55                      </td><td> 62                      </td><td>58                       </td><td>77                       </td><td>0                        </td><td>0                        </td><td>0                        </td></tr>\n",
       "\t<tr><td>⋮</td><td>⋮</td><td>⋮</td><td>⋮</td><td>⋮</td><td>⋮</td><td>⋮</td><td>⋮</td><td>⋮</td><td>⋮</td><td>⋮</td><td>⋮</td><td>⋮</td><td>⋮</td></tr>\n",
       "\t<tr><td>32º BPM                          </td><td>130a. Quissamã                   </td><td> 3                               </td><td>4                                </td><td> 1                               </td><td> 3                               </td><td>0                                </td><td>3                                </td><td>1                                </td><td>1                                </td><td> 2                               </td><td>0                                </td><td>0                                </td><td>0                                </td></tr>\n",
       "\t<tr><td>25º BPM                          </td><td>132a. Arraial do Cabo            </td><td> 0                               </td><td>0                                </td><td> 0                               </td><td> 0                               </td><td>0                                </td><td>1                                </td><td>1                                </td><td>1                                </td><td> 0                               </td><td>0                                </td><td>0                                </td><td>0                                </td></tr>\n",
       "\t<tr><td>8º BPM                           </td><td>134a. Campos                     </td><td>19                               </td><td>6                                </td><td>11                               </td><td>10                               </td><td>4                                </td><td>4                                </td><td>8                                </td><td>4                                </td><td>10                               </td><td>0                                </td><td>0                                </td><td>0                                </td></tr>\n",
       "\t<tr><td>36º BPM                          </td><td>135a. Itaocara                   </td><td> 0                               </td><td>0                                </td><td> 0                               </td><td> 0                               </td><td>0                                </td><td>0                                </td><td>0                                </td><td>0                                </td><td> 0                               </td><td>0                                </td><td>0                                </td><td>0                                </td></tr>\n",
       "\t<tr><td>36º BPM                          </td><td>136a. Santo Antonio de Pádua     </td><td> 0                               </td><td>0                                </td><td> 0                               </td><td> 1                               </td><td>0                                </td><td>0                                </td><td>0                                </td><td>0                                </td><td> 0                               </td><td>0                                </td><td>0                                </td><td>0                                </td></tr>\n",
       "\t<tr><td>36º BPM                          </td><td>137a. Miracema                   </td><td> 0                               </td><td>0                                </td><td> 0                               </td><td> 0                               </td><td>0                                </td><td>0                                </td><td>0                                </td><td>0                                </td><td> 0                               </td><td>0                                </td><td>0                                </td><td>0                                </td></tr>\n",
       "\t<tr><td>29º BPM                          </td><td>138a. Lajes de Muriaré           </td><td> 0                               </td><td>0                                </td><td> 0                               </td><td> 0                               </td><td>0                                </td><td>0                                </td><td>0                                </td><td>0                                </td><td> 0                               </td><td>0                                </td><td>0                                </td><td>0                                </td></tr>\n",
       "\t<tr><td>29º BPM                          </td><td>139a. Porciúncula                </td><td> 0                               </td><td>0                                </td><td> 0                               </td><td> 0                               </td><td>0                                </td><td>0                                </td><td>0                                </td><td>0                                </td><td> 0                               </td><td>0                                </td><td>0                                </td><td>0                                </td></tr>\n",
       "\t<tr><td>29º BPM                          </td><td>140a. Natividade                 </td><td> 0                               </td><td>0                                </td><td> 0                               </td><td> 0                               </td><td>0                                </td><td>0                                </td><td>0                                </td><td>0                                </td><td> 0                               </td><td>0                                </td><td>0                                </td><td>0                                </td></tr>\n",
       "\t<tr><td>8º BPM                           </td><td>141a. São Fidelis                </td><td> 2                               </td><td>0                                </td><td> 0                               </td><td> 1                               </td><td>0                                </td><td>0                                </td><td>0                                </td><td>0                                </td><td> 1                               </td><td>0                                </td><td>0                                </td><td>0                                </td></tr>\n",
       "\t<tr><td>36º BPM                          </td><td>142a. Cambucí                    </td><td> 1                               </td><td>0                                </td><td> 0                               </td><td> 0                               </td><td>0                                </td><td>0                                </td><td>0                                </td><td>0                                </td><td> 0                               </td><td>0                                </td><td>0                                </td><td>0                                </td></tr>\n",
       "\t<tr><td>29º BPM                          </td><td>143a. Itaperuna                  </td><td> 0                               </td><td>0                                </td><td> 0                               </td><td> 1                               </td><td>0                                </td><td>0                                </td><td>0                                </td><td>0                                </td><td> 1                               </td><td>0                                </td><td>0                                </td><td>0                                </td></tr>\n",
       "\t<tr><td>29º BPM                          </td><td>144a. Bom Jesus Itabapoana       </td><td> 0                               </td><td>0                                </td><td> 0                               </td><td> 0                               </td><td>0                                </td><td>0                                </td><td>0                                </td><td>0                                </td><td> 0                               </td><td>0                                </td><td>0                                </td><td>0                                </td></tr>\n",
       "\t<tr><td>8º BPM                           </td><td>145a. São João da Barra          </td><td> 0                               </td><td>2                                </td><td> 0                               </td><td> 0                               </td><td>2                                </td><td>1                                </td><td>1                                </td><td>1                                </td><td> 0                               </td><td>0                                </td><td>0                                </td><td>0                                </td></tr>\n",
       "\t<tr><td>8º BPM                           </td><td>146a. Guarus                     </td><td> 8                               </td><td>2                                </td><td> 8                               </td><td> 5                               </td><td>3                                </td><td>3                                </td><td>1                                </td><td>4                                </td><td> 2                               </td><td>0                                </td><td>0                                </td><td>0                                </td></tr>\n",
       "\t<tr><td>8º BPM                           </td><td>147a. São Francisco de Itabapoana</td><td> 5                               </td><td>1                                </td><td> 1                               </td><td> 1                               </td><td>1                                </td><td>0                                </td><td>1                                </td><td>1                                </td><td> 1                               </td><td>0                                </td><td>0                                </td><td>0                                </td></tr>\n",
       "\t<tr><td>29º BPM                          </td><td>148a. Italva                     </td><td> 1                               </td><td>0                                </td><td> 0                               </td><td> 0                               </td><td>0                                </td><td>0                                </td><td>0                                </td><td>2                                </td><td> 0                               </td><td>0                                </td><td>0                                </td><td>0                                </td></tr>\n",
       "\t<tr><td>11º BPM                          </td><td>151a. Nova Friburgo              </td><td> 1                               </td><td>0                                </td><td> 0                               </td><td> 0                               </td><td>0                                </td><td>1                                </td><td>2                                </td><td>0                                </td><td> 0                               </td><td>0                                </td><td>0                                </td><td>0                                </td></tr>\n",
       "\t<tr><td>11º BPM                          </td><td>152a. Duas Barras                </td><td> 0                               </td><td>0                                </td><td> 0                               </td><td> 0                               </td><td>0                                </td><td>0                                </td><td>0                                </td><td>0                                </td><td> 0                               </td><td>0                                </td><td>0                                </td><td>0                                </td></tr>\n",
       "\t<tr><td>11º BPM                          </td><td>153a. Cantagalo                  </td><td> 0                               </td><td>0                                </td><td> 0                               </td><td> 0                               </td><td>2                                </td><td>1                                </td><td>1                                </td><td>1                                </td><td> 0                               </td><td>0                                </td><td>0                                </td><td>0                                </td></tr>\n",
       "\t<tr><td>11º BPM                          </td><td>154a. Cordeiro                   </td><td> 0                               </td><td>1                                </td><td> 0                               </td><td> 0                               </td><td>0                                </td><td>0                                </td><td>0                                </td><td>0                                </td><td> 0                               </td><td>0                                </td><td>0                                </td><td>0                                </td></tr>\n",
       "\t<tr><td>36º BPM                          </td><td>155a. São Sebastião do Alto      </td><td> 0                               </td><td>0                                </td><td> 0                               </td><td> 0                               </td><td>0                                </td><td>0                                </td><td>0                                </td><td>0                                </td><td> 0                               </td><td>0                                </td><td>0                                </td><td>0                                </td></tr>\n",
       "\t<tr><td>11º BPM                          </td><td>156a. Santa Maria Madalena       </td><td> 0                               </td><td>0                                </td><td> 0                               </td><td> 0                               </td><td>0                                </td><td>0                                </td><td>0                                </td><td>0                                </td><td> 0                               </td><td>0                                </td><td>0                                </td><td>0                                </td></tr>\n",
       "\t<tr><td>11º BPM                          </td><td>157a. Trajano de Morais          </td><td> 0                               </td><td>0                                </td><td> 0                               </td><td> 0                               </td><td>0                                </td><td>0                                </td><td>0                                </td><td>0                                </td><td> 0                               </td><td>0                                </td><td>0                                </td><td>0                                </td></tr>\n",
       "\t<tr><td>11º BPM                          </td><td>158a. Bom Jardim                 </td><td> 0                               </td><td>0                                </td><td> 0                               </td><td> 0                               </td><td>0                                </td><td>0                                </td><td>0                                </td><td>0                                </td><td> 0                               </td><td>0                                </td><td>0                                </td><td>0                                </td></tr>\n",
       "\t<tr><td>35º BPM                          </td><td>159a. Cachoeira de Macacú        </td><td> 0                               </td><td>0                                </td><td> 0                               </td><td> 1                               </td><td>0                                </td><td>0                                </td><td>0                                </td><td>0                                </td><td> 0                               </td><td>0                                </td><td>0                                </td><td>0                                </td></tr>\n",
       "\t<tr><td>33º BPM                          </td><td>165a. Mangaratiba                </td><td> 1                               </td><td>9                                </td><td> 2                               </td><td> 2                               </td><td>2                                </td><td>1                                </td><td>1                                </td><td>2                                </td><td> 1                               </td><td>0                                </td><td>0                                </td><td>0                                </td></tr>\n",
       "\t<tr><td>33º BPM                          </td><td>166a. Angra dos Reis             </td><td>10                               </td><td>3                                </td><td> 5                               </td><td> 3                               </td><td>5                                </td><td>1                                </td><td>1                                </td><td>5                                </td><td> 5                               </td><td>0                                </td><td>0                                </td><td>0                                </td></tr>\n",
       "\t<tr><td>33º BPM                          </td><td>167a. Paratí                     </td><td> 0                               </td><td>0                                </td><td> 2                               </td><td> 0                               </td><td>1                                </td><td>0                                </td><td>0                                </td><td>0                                </td><td> 1                               </td><td>0                                </td><td>0                                </td><td>0                                </td></tr>\n",
       "\t<tr><td>33º BPM                          </td><td>168a. Rio Claro                  </td><td> 0                               </td><td>0                                </td><td> 0                               </td><td> 0                               </td><td>0                                </td><td>0                                </td><td>0                                </td><td>0                                </td><td> 1                               </td><td>0                                </td><td>0                                </td><td>0                                </td></tr>\n",
       "</tbody>\n",
       "</table>\n"
      ],
      "text/latex": [
       "\\begin{tabular}{r|llllllllllllll}\n",
       " UOp & UNIDADES POLICIAIS & JAN & FEV & MAR & ABR & MAI & JUN & JUL & AGO & SET & OUT & NOV & DEZ\\\\\n",
       "\\hline\n",
       "\t 5º BPM                    & 001a. Praça Mauá          &   1                       &   1                       &   0                       &  2                        &  1                        &   0                       &   0                       &  2                        &  2                        & 0                         & 0                         & 0                        \\\\\n",
       "\t 5º BPM                    & 004a. Praça da República  &   7                       &   8                       &   5                       & 12                        &  6                        &   2                       &   9                       &  3                        &  8                        & 0                         & 0                         & 0                        \\\\\n",
       "\t 5º BPM                    & 005a. Mem de Sá           &   5                       &   0                       &   7                       &  1                        &  0                        &   1                       &   3                       &  1                        &  2                        & 0                         & 0                         & 0                        \\\\\n",
       "\t 4º BPM                    & 006a. Cidade Nova         &   9                       &   4                       &   6                       &  7                        & 14                        &   3                       &   8                       &  2                        &  8                        & 0                         & 0                         & 0                        \\\\\n",
       "\t 5º BPM                    & 007a. Santa Tereza        &  12                       &   3                       &   5                       &  1                        &  3                        &   2                       &   2                       &  1                        &  1                        & 0                         & 0                         & 0                        \\\\\n",
       "\t 2º BPM                    & 009a. Catete              &  14                       &   7                       &  12                       & 10                        & 11                        &   4                       &  12                       &  3                        &  9                        & 0                         & 0                         & 0                        \\\\\n",
       "\t 2º BPM                    & 010a. Botafogo            &   4                       &   4                       &   8                       & 15                        &  4                        &  11                       &   3                       &  3                        &  5                        & 0                         & 0                         & 0                        \\\\\n",
       "\t 23º BPM                   & 011a. Rocinha             &   0                       &   0                       &   0                       &  0                        &  0                        &   0                       &   0                       &  0                        &  0                        & 0                         & 0                         & 0                        \\\\\n",
       "\t 19º BPM                   & 012a. Copacabana          &   0                       &   0                       &   0                       &  1                        &  0                        &   0                       &   0                       &  0                        &  0                        & 0                         & 0                         & 0                        \\\\\n",
       "\t 19º BPM                   & 013a. Ipanema             &   3                       &   0                       &   1                       &  1                        &  0                        &   0                       &   0                       &  0                        &  1                        & 0                         & 0                         & 0                        \\\\\n",
       "\t 23º BPM                   & 014a. Leblon              &   3                       &   2                       &   2                       &  3                        &  1                        &   0                       &   0                       &  1                        &  1                        & 0                         & 0                         & 0                        \\\\\n",
       "\t 23º BPM                   & 015a. Gávea               &   1                       &   5                       &   5                       &  2                        &  6                        &   3                       &   0                       &  1                        &  2                        & 0                         & 0                         & 0                        \\\\\n",
       "\t 31º BPM                   & 016a. Barra da Tijuca     &  15                       &  13                       &  12                       & 18                        & 13                        &  11                       &   8                       &  8                        &  4                        & 0                         & 0                         & 0                        \\\\\n",
       "\t 4º BPM                    & 017a. São Cristóvão       &  15                       &  18                       &  22                       & 22                        & 27                        &  25                       &  17                       & 15                        & 18                        & 0                         & 0                         & 0                        \\\\\n",
       "\t 4º BPM                    & 018a. Praça da Bandeira   &  10                       &  15                       &  13                       & 14                        & 21                        &  20                       &  19                       & 16                        &  8                        & 0                         & 0                         & 0                        \\\\\n",
       "\t 6º BPM                    & 019a. Tijuca              &   7                       &   4                       &  12                       &  7                        &  9                        &   6                       &  13                       &  8                        &  5                        & 0                         & 0                         & 0                        \\\\\n",
       "\t 6º BPM                    & 020a. Grajaú              &  13                       &  16                       &  15                       & 17                        &  8                        &   4                       &  18                       & 10                        & 16                        & 0                         & 0                         & 0                        \\\\\n",
       "\t 22º BPM                   & 021a. Bonsucesso          &  34                       &  23                       &  28                       & 29                        & 21                        &  19                       &  20                       & 20                        & 29                        & 0                         & 0                         & 0                        \\\\\n",
       "\t 16º BPM                   & 022a. Penha               &  33                       &  25                       &  36                       & 43                        & 42                        &  37                       &  41                       & 32                        & 31                        & 0                         & 0                         & 0                        \\\\\n",
       "\t 3º BPM                    & 023a. Meier               &  38                       &  32                       &  30                       & 20                        & 16                        &  14                       &  21                       & 18                        & 15                        & 0                         & 0                         & 0                        \\\\\n",
       "\t 3º BPM                    & 024a. Piedade             &  27                       &  24                       &  24                       & 27                        & 29                        &  25                       &  30                       & 27                        & 24                        & 0                         & 0                         & 0                        \\\\\n",
       "\t 3º BPM                    & 025a. Engenho Novo        &  19                       &  19                       &  33                       & 28                        & 20                        &  15                       &  11                       & 20                        & 30                        & 0                         & 0                         & 0                        \\\\\n",
       "\t 3º BPM                    & 026a. Todos os Santos     &  35                       &  23                       &  26                       & 29                        & 33                        &  24                       &  23                       & 32                        & 26                        & 0                         & 0                         & 0                        \\\\\n",
       "\t 41º BPM                   & 027a. Vicente de Carvalho & 112                       &  95                       & 102                       & 97                        & 92                        & 113                       & 105                       & 74                        & 80                        & 0                         & 0                         & 0                        \\\\\n",
       "\t 9º BPM                    & 028a. Campinho            &  61                       &  60                       &  68                       & 89                        & 80                        &  49                       &  48                       & 62                        & 58                        & 0                         & 0                         & 0                        \\\\\n",
       "\t 9º BPM                    & 029a. Madureira           &  64                       &  67                       &  89                       & 59                        & 59                        &  76                       &  54                       & 40                        & 57                        & 0                         & 0                         & 0                        \\\\\n",
       "\t 9º BPM                    & 030a. Marechal Hermes     &  49                       &  49                       &  70                       & 52                        & 70                        &  51                       &  62                       & 45                        & 45                        & 0                         & 0                         & 0                        \\\\\n",
       "\t 41º BPM                   & 031a. Ricardo Albuquerque & 101                       & 133                       & 107                       & 92                        & 76                        &  81                       &  81                       & 87                        & 61                        & 0                         & 0                         & 0                        \\\\\n",
       "\t 18º BPM                   & 032a. Taquara             &  27                       &  22                       &  32                       & 36                        & 33                        &  11                       &  16                       & 14                        &  7                        & 0                         & 0                         & 0                        \\\\\n",
       "\t 14º BPM                   & 033a. Realengo            & 110                       &  84                       & 110                       & 76                        & 45                        &  55                       &  62                       & 58                        & 77                        & 0                         & 0                         & 0                        \\\\\n",
       "\t ⋮ & ⋮ & ⋮ & ⋮ & ⋮ & ⋮ & ⋮ & ⋮ & ⋮ & ⋮ & ⋮ & ⋮ & ⋮ & ⋮\\\\\n",
       "\t 32º BPM                           & 130a. Quissamã                    &  3                                & 4                                 &  1                                &  3                                & 0                                 & 3                                 & 1                                 & 1                                 &  2                                & 0                                 & 0                                 & 0                                \\\\\n",
       "\t 25º BPM                           & 132a. Arraial do Cabo             &  0                                & 0                                 &  0                                &  0                                & 0                                 & 1                                 & 1                                 & 1                                 &  0                                & 0                                 & 0                                 & 0                                \\\\\n",
       "\t 8º BPM                            & 134a. Campos                      & 19                                & 6                                 & 11                                & 10                                & 4                                 & 4                                 & 8                                 & 4                                 & 10                                & 0                                 & 0                                 & 0                                \\\\\n",
       "\t 36º BPM                           & 135a. Itaocara                    &  0                                & 0                                 &  0                                &  0                                & 0                                 & 0                                 & 0                                 & 0                                 &  0                                & 0                                 & 0                                 & 0                                \\\\\n",
       "\t 36º BPM                           & 136a. Santo Antonio de Pádua      &  0                                & 0                                 &  0                                &  1                                & 0                                 & 0                                 & 0                                 & 0                                 &  0                                & 0                                 & 0                                 & 0                                \\\\\n",
       "\t 36º BPM                           & 137a. Miracema                    &  0                                & 0                                 &  0                                &  0                                & 0                                 & 0                                 & 0                                 & 0                                 &  0                                & 0                                 & 0                                 & 0                                \\\\\n",
       "\t 29º BPM                           & 138a. Lajes de Muriaré            &  0                                & 0                                 &  0                                &  0                                & 0                                 & 0                                 & 0                                 & 0                                 &  0                                & 0                                 & 0                                 & 0                                \\\\\n",
       "\t 29º BPM                           & 139a. Porciúncula                 &  0                                & 0                                 &  0                                &  0                                & 0                                 & 0                                 & 0                                 & 0                                 &  0                                & 0                                 & 0                                 & 0                                \\\\\n",
       "\t 29º BPM                           & 140a. Natividade                  &  0                                & 0                                 &  0                                &  0                                & 0                                 & 0                                 & 0                                 & 0                                 &  0                                & 0                                 & 0                                 & 0                                \\\\\n",
       "\t 8º BPM                            & 141a. São Fidelis                 &  2                                & 0                                 &  0                                &  1                                & 0                                 & 0                                 & 0                                 & 0                                 &  1                                & 0                                 & 0                                 & 0                                \\\\\n",
       "\t 36º BPM                           & 142a. Cambucí                     &  1                                & 0                                 &  0                                &  0                                & 0                                 & 0                                 & 0                                 & 0                                 &  0                                & 0                                 & 0                                 & 0                                \\\\\n",
       "\t 29º BPM                           & 143a. Itaperuna                   &  0                                & 0                                 &  0                                &  1                                & 0                                 & 0                                 & 0                                 & 0                                 &  1                                & 0                                 & 0                                 & 0                                \\\\\n",
       "\t 29º BPM                           & 144a. Bom Jesus Itabapoana        &  0                                & 0                                 &  0                                &  0                                & 0                                 & 0                                 & 0                                 & 0                                 &  0                                & 0                                 & 0                                 & 0                                \\\\\n",
       "\t 8º BPM                            & 145a. São João da Barra           &  0                                & 2                                 &  0                                &  0                                & 2                                 & 1                                 & 1                                 & 1                                 &  0                                & 0                                 & 0                                 & 0                                \\\\\n",
       "\t 8º BPM                            & 146a. Guarus                      &  8                                & 2                                 &  8                                &  5                                & 3                                 & 3                                 & 1                                 & 4                                 &  2                                & 0                                 & 0                                 & 0                                \\\\\n",
       "\t 8º BPM                            & 147a. São Francisco de Itabapoana &  5                                & 1                                 &  1                                &  1                                & 1                                 & 0                                 & 1                                 & 1                                 &  1                                & 0                                 & 0                                 & 0                                \\\\\n",
       "\t 29º BPM                           & 148a. Italva                      &  1                                & 0                                 &  0                                &  0                                & 0                                 & 0                                 & 0                                 & 2                                 &  0                                & 0                                 & 0                                 & 0                                \\\\\n",
       "\t 11º BPM                           & 151a. Nova Friburgo               &  1                                & 0                                 &  0                                &  0                                & 0                                 & 1                                 & 2                                 & 0                                 &  0                                & 0                                 & 0                                 & 0                                \\\\\n",
       "\t 11º BPM                           & 152a. Duas Barras                 &  0                                & 0                                 &  0                                &  0                                & 0                                 & 0                                 & 0                                 & 0                                 &  0                                & 0                                 & 0                                 & 0                                \\\\\n",
       "\t 11º BPM                           & 153a. Cantagalo                   &  0                                & 0                                 &  0                                &  0                                & 2                                 & 1                                 & 1                                 & 1                                 &  0                                & 0                                 & 0                                 & 0                                \\\\\n",
       "\t 11º BPM                           & 154a. Cordeiro                    &  0                                & 1                                 &  0                                &  0                                & 0                                 & 0                                 & 0                                 & 0                                 &  0                                & 0                                 & 0                                 & 0                                \\\\\n",
       "\t 36º BPM                           & 155a. São Sebastião do Alto       &  0                                & 0                                 &  0                                &  0                                & 0                                 & 0                                 & 0                                 & 0                                 &  0                                & 0                                 & 0                                 & 0                                \\\\\n",
       "\t 11º BPM                           & 156a. Santa Maria Madalena        &  0                                & 0                                 &  0                                &  0                                & 0                                 & 0                                 & 0                                 & 0                                 &  0                                & 0                                 & 0                                 & 0                                \\\\\n",
       "\t 11º BPM                           & 157a. Trajano de Morais           &  0                                & 0                                 &  0                                &  0                                & 0                                 & 0                                 & 0                                 & 0                                 &  0                                & 0                                 & 0                                 & 0                                \\\\\n",
       "\t 11º BPM                           & 158a. Bom Jardim                  &  0                                & 0                                 &  0                                &  0                                & 0                                 & 0                                 & 0                                 & 0                                 &  0                                & 0                                 & 0                                 & 0                                \\\\\n",
       "\t 35º BPM                           & 159a. Cachoeira de Macacú         &  0                                & 0                                 &  0                                &  1                                & 0                                 & 0                                 & 0                                 & 0                                 &  0                                & 0                                 & 0                                 & 0                                \\\\\n",
       "\t 33º BPM                           & 165a. Mangaratiba                 &  1                                & 9                                 &  2                                &  2                                & 2                                 & 1                                 & 1                                 & 2                                 &  1                                & 0                                 & 0                                 & 0                                \\\\\n",
       "\t 33º BPM                           & 166a. Angra dos Reis              & 10                                & 3                                 &  5                                &  3                                & 5                                 & 1                                 & 1                                 & 5                                 &  5                                & 0                                 & 0                                 & 0                                \\\\\n",
       "\t 33º BPM                           & 167a. Paratí                      &  0                                & 0                                 &  2                                &  0                                & 1                                 & 0                                 & 0                                 & 0                                 &  1                                & 0                                 & 0                                 & 0                                \\\\\n",
       "\t 33º BPM                           & 168a. Rio Claro                   &  0                                & 0                                 &  0                                &  0                                & 0                                 & 0                                 & 0                                 & 0                                 &  1                                & 0                                 & 0                                 & 0                                \\\\\n",
       "\\end{tabular}\n"
      ],
      "text/markdown": [
       "\n",
       "UOp | UNIDADES POLICIAIS | JAN | FEV | MAR | ABR | MAI | JUN | JUL | AGO | SET | OUT | NOV | DEZ | \n",
       "|---|---|---|---|---|---|---|---|---|---|---|---|---|---|---|---|---|---|---|---|---|---|---|---|---|---|---|---|---|---|---|---|---|---|---|---|---|---|---|---|---|---|---|---|---|---|---|---|---|---|---|---|---|---|---|---|---|---|---|---|---|\n",
       "| 5º BPM                    | 001a. Praça Mauá          |   1                       |   1                       |   0                       |  2                        |  1                        |   0                       |   0                       |  2                        |  2                        | 0                         | 0                         | 0                         | \n",
       "| 5º BPM                    | 004a. Praça da República  |   7                       |   8                       |   5                       | 12                        |  6                        |   2                       |   9                       |  3                        |  8                        | 0                         | 0                         | 0                         | \n",
       "| 5º BPM                    | 005a. Mem de Sá           |   5                       |   0                       |   7                       |  1                        |  0                        |   1                       |   3                       |  1                        |  2                        | 0                         | 0                         | 0                         | \n",
       "| 4º BPM                    | 006a. Cidade Nova         |   9                       |   4                       |   6                       |  7                        | 14                        |   3                       |   8                       |  2                        |  8                        | 0                         | 0                         | 0                         | \n",
       "| 5º BPM                    | 007a. Santa Tereza        |  12                       |   3                       |   5                       |  1                        |  3                        |   2                       |   2                       |  1                        |  1                        | 0                         | 0                         | 0                         | \n",
       "| 2º BPM                    | 009a. Catete              |  14                       |   7                       |  12                       | 10                        | 11                        |   4                       |  12                       |  3                        |  9                        | 0                         | 0                         | 0                         | \n",
       "| 2º BPM                    | 010a. Botafogo            |   4                       |   4                       |   8                       | 15                        |  4                        |  11                       |   3                       |  3                        |  5                        | 0                         | 0                         | 0                         | \n",
       "| 23º BPM                   | 011a. Rocinha             |   0                       |   0                       |   0                       |  0                        |  0                        |   0                       |   0                       |  0                        |  0                        | 0                         | 0                         | 0                         | \n",
       "| 19º BPM                   | 012a. Copacabana          |   0                       |   0                       |   0                       |  1                        |  0                        |   0                       |   0                       |  0                        |  0                        | 0                         | 0                         | 0                         | \n",
       "| 19º BPM                   | 013a. Ipanema             |   3                       |   0                       |   1                       |  1                        |  0                        |   0                       |   0                       |  0                        |  1                        | 0                         | 0                         | 0                         | \n",
       "| 23º BPM                   | 014a. Leblon              |   3                       |   2                       |   2                       |  3                        |  1                        |   0                       |   0                       |  1                        |  1                        | 0                         | 0                         | 0                         | \n",
       "| 23º BPM                   | 015a. Gávea               |   1                       |   5                       |   5                       |  2                        |  6                        |   3                       |   0                       |  1                        |  2                        | 0                         | 0                         | 0                         | \n",
       "| 31º BPM                   | 016a. Barra da Tijuca     |  15                       |  13                       |  12                       | 18                        | 13                        |  11                       |   8                       |  8                        |  4                        | 0                         | 0                         | 0                         | \n",
       "| 4º BPM                    | 017a. São Cristóvão       |  15                       |  18                       |  22                       | 22                        | 27                        |  25                       |  17                       | 15                        | 18                        | 0                         | 0                         | 0                         | \n",
       "| 4º BPM                    | 018a. Praça da Bandeira   |  10                       |  15                       |  13                       | 14                        | 21                        |  20                       |  19                       | 16                        |  8                        | 0                         | 0                         | 0                         | \n",
       "| 6º BPM                    | 019a. Tijuca              |   7                       |   4                       |  12                       |  7                        |  9                        |   6                       |  13                       |  8                        |  5                        | 0                         | 0                         | 0                         | \n",
       "| 6º BPM                    | 020a. Grajaú              |  13                       |  16                       |  15                       | 17                        |  8                        |   4                       |  18                       | 10                        | 16                        | 0                         | 0                         | 0                         | \n",
       "| 22º BPM                   | 021a. Bonsucesso          |  34                       |  23                       |  28                       | 29                        | 21                        |  19                       |  20                       | 20                        | 29                        | 0                         | 0                         | 0                         | \n",
       "| 16º BPM                   | 022a. Penha               |  33                       |  25                       |  36                       | 43                        | 42                        |  37                       |  41                       | 32                        | 31                        | 0                         | 0                         | 0                         | \n",
       "| 3º BPM                    | 023a. Meier               |  38                       |  32                       |  30                       | 20                        | 16                        |  14                       |  21                       | 18                        | 15                        | 0                         | 0                         | 0                         | \n",
       "| 3º BPM                    | 024a. Piedade             |  27                       |  24                       |  24                       | 27                        | 29                        |  25                       |  30                       | 27                        | 24                        | 0                         | 0                         | 0                         | \n",
       "| 3º BPM                    | 025a. Engenho Novo        |  19                       |  19                       |  33                       | 28                        | 20                        |  15                       |  11                       | 20                        | 30                        | 0                         | 0                         | 0                         | \n",
       "| 3º BPM                    | 026a. Todos os Santos     |  35                       |  23                       |  26                       | 29                        | 33                        |  24                       |  23                       | 32                        | 26                        | 0                         | 0                         | 0                         | \n",
       "| 41º BPM                   | 027a. Vicente de Carvalho | 112                       |  95                       | 102                       | 97                        | 92                        | 113                       | 105                       | 74                        | 80                        | 0                         | 0                         | 0                         | \n",
       "| 9º BPM                    | 028a. Campinho            |  61                       |  60                       |  68                       | 89                        | 80                        |  49                       |  48                       | 62                        | 58                        | 0                         | 0                         | 0                         | \n",
       "| 9º BPM                    | 029a. Madureira           |  64                       |  67                       |  89                       | 59                        | 59                        |  76                       |  54                       | 40                        | 57                        | 0                         | 0                         | 0                         | \n",
       "| 9º BPM                    | 030a. Marechal Hermes     |  49                       |  49                       |  70                       | 52                        | 70                        |  51                       |  62                       | 45                        | 45                        | 0                         | 0                         | 0                         | \n",
       "| 41º BPM                   | 031a. Ricardo Albuquerque | 101                       | 133                       | 107                       | 92                        | 76                        |  81                       |  81                       | 87                        | 61                        | 0                         | 0                         | 0                         | \n",
       "| 18º BPM                   | 032a. Taquara             |  27                       |  22                       |  32                       | 36                        | 33                        |  11                       |  16                       | 14                        |  7                        | 0                         | 0                         | 0                         | \n",
       "| 14º BPM                   | 033a. Realengo            | 110                       |  84                       | 110                       | 76                        | 45                        |  55                       |  62                       | 58                        | 77                        | 0                         | 0                         | 0                         | \n",
       "| ⋮ | ⋮ | ⋮ | ⋮ | ⋮ | ⋮ | ⋮ | ⋮ | ⋮ | ⋮ | ⋮ | ⋮ | ⋮ | ⋮ | \n",
       "| 32º BPM                           | 130a. Quissamã                    |  3                                | 4                                 |  1                                |  3                                | 0                                 | 3                                 | 1                                 | 1                                 |  2                                | 0                                 | 0                                 | 0                                 | \n",
       "| 25º BPM                           | 132a. Arraial do Cabo             |  0                                | 0                                 |  0                                |  0                                | 0                                 | 1                                 | 1                                 | 1                                 |  0                                | 0                                 | 0                                 | 0                                 | \n",
       "| 8º BPM                            | 134a. Campos                      | 19                                | 6                                 | 11                                | 10                                | 4                                 | 4                                 | 8                                 | 4                                 | 10                                | 0                                 | 0                                 | 0                                 | \n",
       "| 36º BPM                           | 135a. Itaocara                    |  0                                | 0                                 |  0                                |  0                                | 0                                 | 0                                 | 0                                 | 0                                 |  0                                | 0                                 | 0                                 | 0                                 | \n",
       "| 36º BPM                           | 136a. Santo Antonio de Pádua      |  0                                | 0                                 |  0                                |  1                                | 0                                 | 0                                 | 0                                 | 0                                 |  0                                | 0                                 | 0                                 | 0                                 | \n",
       "| 36º BPM                           | 137a. Miracema                    |  0                                | 0                                 |  0                                |  0                                | 0                                 | 0                                 | 0                                 | 0                                 |  0                                | 0                                 | 0                                 | 0                                 | \n",
       "| 29º BPM                           | 138a. Lajes de Muriaré            |  0                                | 0                                 |  0                                |  0                                | 0                                 | 0                                 | 0                                 | 0                                 |  0                                | 0                                 | 0                                 | 0                                 | \n",
       "| 29º BPM                           | 139a. Porciúncula                 |  0                                | 0                                 |  0                                |  0                                | 0                                 | 0                                 | 0                                 | 0                                 |  0                                | 0                                 | 0                                 | 0                                 | \n",
       "| 29º BPM                           | 140a. Natividade                  |  0                                | 0                                 |  0                                |  0                                | 0                                 | 0                                 | 0                                 | 0                                 |  0                                | 0                                 | 0                                 | 0                                 | \n",
       "| 8º BPM                            | 141a. São Fidelis                 |  2                                | 0                                 |  0                                |  1                                | 0                                 | 0                                 | 0                                 | 0                                 |  1                                | 0                                 | 0                                 | 0                                 | \n",
       "| 36º BPM                           | 142a. Cambucí                     |  1                                | 0                                 |  0                                |  0                                | 0                                 | 0                                 | 0                                 | 0                                 |  0                                | 0                                 | 0                                 | 0                                 | \n",
       "| 29º BPM                           | 143a. Itaperuna                   |  0                                | 0                                 |  0                                |  1                                | 0                                 | 0                                 | 0                                 | 0                                 |  1                                | 0                                 | 0                                 | 0                                 | \n",
       "| 29º BPM                           | 144a. Bom Jesus Itabapoana        |  0                                | 0                                 |  0                                |  0                                | 0                                 | 0                                 | 0                                 | 0                                 |  0                                | 0                                 | 0                                 | 0                                 | \n",
       "| 8º BPM                            | 145a. São João da Barra           |  0                                | 2                                 |  0                                |  0                                | 2                                 | 1                                 | 1                                 | 1                                 |  0                                | 0                                 | 0                                 | 0                                 | \n",
       "| 8º BPM                            | 146a. Guarus                      |  8                                | 2                                 |  8                                |  5                                | 3                                 | 3                                 | 1                                 | 4                                 |  2                                | 0                                 | 0                                 | 0                                 | \n",
       "| 8º BPM                            | 147a. São Francisco de Itabapoana |  5                                | 1                                 |  1                                |  1                                | 1                                 | 0                                 | 1                                 | 1                                 |  1                                | 0                                 | 0                                 | 0                                 | \n",
       "| 29º BPM                           | 148a. Italva                      |  1                                | 0                                 |  0                                |  0                                | 0                                 | 0                                 | 0                                 | 2                                 |  0                                | 0                                 | 0                                 | 0                                 | \n",
       "| 11º BPM                           | 151a. Nova Friburgo               |  1                                | 0                                 |  0                                |  0                                | 0                                 | 1                                 | 2                                 | 0                                 |  0                                | 0                                 | 0                                 | 0                                 | \n",
       "| 11º BPM                           | 152a. Duas Barras                 |  0                                | 0                                 |  0                                |  0                                | 0                                 | 0                                 | 0                                 | 0                                 |  0                                | 0                                 | 0                                 | 0                                 | \n",
       "| 11º BPM                           | 153a. Cantagalo                   |  0                                | 0                                 |  0                                |  0                                | 2                                 | 1                                 | 1                                 | 1                                 |  0                                | 0                                 | 0                                 | 0                                 | \n",
       "| 11º BPM                           | 154a. Cordeiro                    |  0                                | 1                                 |  0                                |  0                                | 0                                 | 0                                 | 0                                 | 0                                 |  0                                | 0                                 | 0                                 | 0                                 | \n",
       "| 36º BPM                           | 155a. São Sebastião do Alto       |  0                                | 0                                 |  0                                |  0                                | 0                                 | 0                                 | 0                                 | 0                                 |  0                                | 0                                 | 0                                 | 0                                 | \n",
       "| 11º BPM                           | 156a. Santa Maria Madalena        |  0                                | 0                                 |  0                                |  0                                | 0                                 | 0                                 | 0                                 | 0                                 |  0                                | 0                                 | 0                                 | 0                                 | \n",
       "| 11º BPM                           | 157a. Trajano de Morais           |  0                                | 0                                 |  0                                |  0                                | 0                                 | 0                                 | 0                                 | 0                                 |  0                                | 0                                 | 0                                 | 0                                 | \n",
       "| 11º BPM                           | 158a. Bom Jardim                  |  0                                | 0                                 |  0                                |  0                                | 0                                 | 0                                 | 0                                 | 0                                 |  0                                | 0                                 | 0                                 | 0                                 | \n",
       "| 35º BPM                           | 159a. Cachoeira de Macacú         |  0                                | 0                                 |  0                                |  1                                | 0                                 | 0                                 | 0                                 | 0                                 |  0                                | 0                                 | 0                                 | 0                                 | \n",
       "| 33º BPM                           | 165a. Mangaratiba                 |  1                                | 9                                 |  2                                |  2                                | 2                                 | 1                                 | 1                                 | 2                                 |  1                                | 0                                 | 0                                 | 0                                 | \n",
       "| 33º BPM                           | 166a. Angra dos Reis              | 10                                | 3                                 |  5                                |  3                                | 5                                 | 1                                 | 1                                 | 5                                 |  5                                | 0                                 | 0                                 | 0                                 | \n",
       "| 33º BPM                           | 167a. Paratí                      |  0                                | 0                                 |  2                                |  0                                | 1                                 | 0                                 | 0                                 | 0                                 |  1                                | 0                                 | 0                                 | 0                                 | \n",
       "| 33º BPM                           | 168a. Rio Claro                   |  0                                | 0                                 |  0                                |  0                                | 0                                 | 0                                 | 0                                 | 0                                 |  1                                | 0                                 | 0                                 | 0                                 | \n",
       "\n",
       "\n"
      ],
      "text/plain": [
       "    UOp     UNIDADES POLICIAIS                JAN FEV MAR ABR MAI JUN JUL AGO\n",
       "1   5º BPM  001a. Praça Mauá                    1   1   0  2   1    0   0  2 \n",
       "2   5º BPM  004a. Praça da República            7   8   5 12   6    2   9  3 \n",
       "3   5º BPM  005a. Mem de Sá                     5   0   7  1   0    1   3  1 \n",
       "4   4º BPM  006a. Cidade Nova                   9   4   6  7  14    3   8  2 \n",
       "5   5º BPM  007a. Santa Tereza                 12   3   5  1   3    2   2  1 \n",
       "6   2º BPM  009a. Catete                       14   7  12 10  11    4  12  3 \n",
       "7   2º BPM  010a. Botafogo                      4   4   8 15   4   11   3  3 \n",
       "8   23º BPM 011a. Rocinha                       0   0   0  0   0    0   0  0 \n",
       "9   19º BPM 012a. Copacabana                    0   0   0  1   0    0   0  0 \n",
       "10  19º BPM 013a. Ipanema                       3   0   1  1   0    0   0  0 \n",
       "11  23º BPM 014a. Leblon                        3   2   2  3   1    0   0  1 \n",
       "12  23º BPM 015a. Gávea                         1   5   5  2   6    3   0  1 \n",
       "13  31º BPM 016a. Barra da Tijuca              15  13  12 18  13   11   8  8 \n",
       "14  4º BPM  017a. São Cristóvão                15  18  22 22  27   25  17 15 \n",
       "15  4º BPM  018a. Praça da Bandeira            10  15  13 14  21   20  19 16 \n",
       "16  6º BPM  019a. Tijuca                        7   4  12  7   9    6  13  8 \n",
       "17  6º BPM  020a. Grajaú                       13  16  15 17   8    4  18 10 \n",
       "18  22º BPM 021a. Bonsucesso                   34  23  28 29  21   19  20 20 \n",
       "19  16º BPM 022a. Penha                        33  25  36 43  42   37  41 32 \n",
       "20  3º BPM  023a. Meier                        38  32  30 20  16   14  21 18 \n",
       "21  3º BPM  024a. Piedade                      27  24  24 27  29   25  30 27 \n",
       "22  3º BPM  025a. Engenho Novo                 19  19  33 28  20   15  11 20 \n",
       "23  3º BPM  026a. Todos os Santos              35  23  26 29  33   24  23 32 \n",
       "24  41º BPM 027a. Vicente de Carvalho         112  95 102 97  92  113 105 74 \n",
       "25  9º BPM  028a. Campinho                     61  60  68 89  80   49  48 62 \n",
       "26  9º BPM  029a. Madureira                    64  67  89 59  59   76  54 40 \n",
       "27  9º BPM  030a. Marechal Hermes              49  49  70 52  70   51  62 45 \n",
       "28  41º BPM 031a. Ricardo Albuquerque         101 133 107 92  76   81  81 87 \n",
       "29  18º BPM 032a. Taquara                      27  22  32 36  33   11  16 14 \n",
       "30  14º BPM 033a. Realengo                    110  84 110 76  45   55  62 58 \n",
       "⋮   ⋮       ⋮                                 ⋮   ⋮   ⋮   ⋮   ⋮   ⋮   ⋮   ⋮  \n",
       "110 32º BPM 130a. Quissamã                     3  4    1   3  0   3   1   1  \n",
       "111 25º BPM 132a. Arraial do Cabo              0  0    0   0  0   1   1   1  \n",
       "112 8º BPM  134a. Campos                      19  6   11  10  4   4   8   4  \n",
       "113 36º BPM 135a. Itaocara                     0  0    0   0  0   0   0   0  \n",
       "114 36º BPM 136a. Santo Antonio de Pádua       0  0    0   1  0   0   0   0  \n",
       "115 36º BPM 137a. Miracema                     0  0    0   0  0   0   0   0  \n",
       "116 29º BPM 138a. Lajes de Muriaré             0  0    0   0  0   0   0   0  \n",
       "117 29º BPM 139a. Porciúncula                  0  0    0   0  0   0   0   0  \n",
       "118 29º BPM 140a. Natividade                   0  0    0   0  0   0   0   0  \n",
       "119 8º BPM  141a. São Fidelis                  2  0    0   1  0   0   0   0  \n",
       "120 36º BPM 142a. Cambucí                      1  0    0   0  0   0   0   0  \n",
       "121 29º BPM 143a. Itaperuna                    0  0    0   1  0   0   0   0  \n",
       "122 29º BPM 144a. Bom Jesus Itabapoana         0  0    0   0  0   0   0   0  \n",
       "123 8º BPM  145a. São João da Barra            0  2    0   0  2   1   1   1  \n",
       "124 8º BPM  146a. Guarus                       8  2    8   5  3   3   1   4  \n",
       "125 8º BPM  147a. São Francisco de Itabapoana  5  1    1   1  1   0   1   1  \n",
       "126 29º BPM 148a. Italva                       1  0    0   0  0   0   0   2  \n",
       "127 11º BPM 151a. Nova Friburgo                1  0    0   0  0   1   2   0  \n",
       "128 11º BPM 152a. Duas Barras                  0  0    0   0  0   0   0   0  \n",
       "129 11º BPM 153a. Cantagalo                    0  0    0   0  2   1   1   1  \n",
       "130 11º BPM 154a. Cordeiro                     0  1    0   0  0   0   0   0  \n",
       "131 36º BPM 155a. São Sebastião do Alto        0  0    0   0  0   0   0   0  \n",
       "132 11º BPM 156a. Santa Maria Madalena         0  0    0   0  0   0   0   0  \n",
       "133 11º BPM 157a. Trajano de Morais            0  0    0   0  0   0   0   0  \n",
       "134 11º BPM 158a. Bom Jardim                   0  0    0   0  0   0   0   0  \n",
       "135 35º BPM 159a. Cachoeira de Macacú          0  0    0   1  0   0   0   0  \n",
       "136 33º BPM 165a. Mangaratiba                  1  9    2   2  2   1   1   2  \n",
       "137 33º BPM 166a. Angra dos Reis              10  3    5   3  5   1   1   5  \n",
       "138 33º BPM 167a. Paratí                       0  0    2   0  1   0   0   0  \n",
       "139 33º BPM 168a. Rio Claro                    0  0    0   0  0   0   0   0  \n",
       "    SET OUT NOV DEZ\n",
       "1    2  0   0   0  \n",
       "2    8  0   0   0  \n",
       "3    2  0   0   0  \n",
       "4    8  0   0   0  \n",
       "5    1  0   0   0  \n",
       "6    9  0   0   0  \n",
       "7    5  0   0   0  \n",
       "8    0  0   0   0  \n",
       "9    0  0   0   0  \n",
       "10   1  0   0   0  \n",
       "11   1  0   0   0  \n",
       "12   2  0   0   0  \n",
       "13   4  0   0   0  \n",
       "14  18  0   0   0  \n",
       "15   8  0   0   0  \n",
       "16   5  0   0   0  \n",
       "17  16  0   0   0  \n",
       "18  29  0   0   0  \n",
       "19  31  0   0   0  \n",
       "20  15  0   0   0  \n",
       "21  24  0   0   0  \n",
       "22  30  0   0   0  \n",
       "23  26  0   0   0  \n",
       "24  80  0   0   0  \n",
       "25  58  0   0   0  \n",
       "26  57  0   0   0  \n",
       "27  45  0   0   0  \n",
       "28  61  0   0   0  \n",
       "29   7  0   0   0  \n",
       "30  77  0   0   0  \n",
       "⋮   ⋮   ⋮   ⋮   ⋮  \n",
       "110  2  0   0   0  \n",
       "111  0  0   0   0  \n",
       "112 10  0   0   0  \n",
       "113  0  0   0   0  \n",
       "114  0  0   0   0  \n",
       "115  0  0   0   0  \n",
       "116  0  0   0   0  \n",
       "117  0  0   0   0  \n",
       "118  0  0   0   0  \n",
       "119  1  0   0   0  \n",
       "120  0  0   0   0  \n",
       "121  1  0   0   0  \n",
       "122  0  0   0   0  \n",
       "123  0  0   0   0  \n",
       "124  2  0   0   0  \n",
       "125  1  0   0   0  \n",
       "126  0  0   0   0  \n",
       "127  0  0   0   0  \n",
       "128  0  0   0   0  \n",
       "129  0  0   0   0  \n",
       "130  0  0   0   0  \n",
       "131  0  0   0   0  \n",
       "132  0  0   0   0  \n",
       "133  0  0   0   0  \n",
       "134  0  0   0   0  \n",
       "135  0  0   0   0  \n",
       "136  1  0   0   0  \n",
       "137  5  0   0   0  \n",
       "138  1  0   0   0  \n",
       "139  1  0   0   0  "
      ]
     },
     "metadata": {},
     "output_type": "display_data"
    }
   ],
   "source": [
    "library(\"readxl\")\n",
    "\n",
    "filename <- \"14SerieRouboVeiculo2015.xls\"\n",
    "\n",
    "SerieRouboData <- read_excel(filename, range = \"B7:O146\")\n",
    "\n",
    "SerieRouboData"
   ]
  },
  {
   "cell_type": "markdown",
   "metadata": {},
   "source": [
    "## Lista de Exercícios 3"
   ]
  },
  {
   "cell_type": "markdown",
   "metadata": {},
   "source": [
    "### Exercício 3.1\n",
    "\n",
    "Coloque o conjunto de dados mtcars na área de trabalho;"
   ]
  },
  {
   "cell_type": "code",
   "execution_count": 56,
   "metadata": {},
   "outputs": [
    {
     "data": {
      "text/html": [
       "<table>\n",
       "<thead><tr><th></th><th scope=col>mpg</th><th scope=col>cyl</th><th scope=col>disp</th><th scope=col>hp</th><th scope=col>drat</th><th scope=col>wt</th><th scope=col>qsec</th><th scope=col>vs</th><th scope=col>am</th><th scope=col>gear</th><th scope=col>carb</th></tr></thead>\n",
       "<tbody>\n",
       "\t<tr><th scope=row>Mazda RX4</th><td>21.0 </td><td>6    </td><td>160.0</td><td>110  </td><td>3.90 </td><td>2.620</td><td>16.46</td><td>0    </td><td>1    </td><td>4    </td><td>4    </td></tr>\n",
       "\t<tr><th scope=row>Mazda RX4 Wag</th><td>21.0 </td><td>6    </td><td>160.0</td><td>110  </td><td>3.90 </td><td>2.875</td><td>17.02</td><td>0    </td><td>1    </td><td>4    </td><td>4    </td></tr>\n",
       "\t<tr><th scope=row>Datsun 710</th><td>22.8 </td><td>4    </td><td>108.0</td><td> 93  </td><td>3.85 </td><td>2.320</td><td>18.61</td><td>1    </td><td>1    </td><td>4    </td><td>1    </td></tr>\n",
       "\t<tr><th scope=row>Hornet 4 Drive</th><td>21.4 </td><td>6    </td><td>258.0</td><td>110  </td><td>3.08 </td><td>3.215</td><td>19.44</td><td>1    </td><td>0    </td><td>3    </td><td>1    </td></tr>\n",
       "\t<tr><th scope=row>Hornet Sportabout</th><td>18.7 </td><td>8    </td><td>360.0</td><td>175  </td><td>3.15 </td><td>3.440</td><td>17.02</td><td>0    </td><td>0    </td><td>3    </td><td>2    </td></tr>\n",
       "\t<tr><th scope=row>Valiant</th><td>18.1 </td><td>6    </td><td>225.0</td><td>105  </td><td>2.76 </td><td>3.460</td><td>20.22</td><td>1    </td><td>0    </td><td>3    </td><td>1    </td></tr>\n",
       "\t<tr><th scope=row>Duster 360</th><td>14.3 </td><td>8    </td><td>360.0</td><td>245  </td><td>3.21 </td><td>3.570</td><td>15.84</td><td>0    </td><td>0    </td><td>3    </td><td>4    </td></tr>\n",
       "\t<tr><th scope=row>Merc 240D</th><td>24.4 </td><td>4    </td><td>146.7</td><td> 62  </td><td>3.69 </td><td>3.190</td><td>20.00</td><td>1    </td><td>0    </td><td>4    </td><td>2    </td></tr>\n",
       "\t<tr><th scope=row>Merc 230</th><td>22.8 </td><td>4    </td><td>140.8</td><td> 95  </td><td>3.92 </td><td>3.150</td><td>22.90</td><td>1    </td><td>0    </td><td>4    </td><td>2    </td></tr>\n",
       "\t<tr><th scope=row>Merc 280</th><td>19.2 </td><td>6    </td><td>167.6</td><td>123  </td><td>3.92 </td><td>3.440</td><td>18.30</td><td>1    </td><td>0    </td><td>4    </td><td>4    </td></tr>\n",
       "\t<tr><th scope=row>Merc 280C</th><td>17.8 </td><td>6    </td><td>167.6</td><td>123  </td><td>3.92 </td><td>3.440</td><td>18.90</td><td>1    </td><td>0    </td><td>4    </td><td>4    </td></tr>\n",
       "\t<tr><th scope=row>Merc 450SE</th><td>16.4 </td><td>8    </td><td>275.8</td><td>180  </td><td>3.07 </td><td>4.070</td><td>17.40</td><td>0    </td><td>0    </td><td>3    </td><td>3    </td></tr>\n",
       "\t<tr><th scope=row>Merc 450SL</th><td>17.3 </td><td>8    </td><td>275.8</td><td>180  </td><td>3.07 </td><td>3.730</td><td>17.60</td><td>0    </td><td>0    </td><td>3    </td><td>3    </td></tr>\n",
       "\t<tr><th scope=row>Merc 450SLC</th><td>15.2 </td><td>8    </td><td>275.8</td><td>180  </td><td>3.07 </td><td>3.780</td><td>18.00</td><td>0    </td><td>0    </td><td>3    </td><td>3    </td></tr>\n",
       "\t<tr><th scope=row>Cadillac Fleetwood</th><td>10.4 </td><td>8    </td><td>472.0</td><td>205  </td><td>2.93 </td><td>5.250</td><td>17.98</td><td>0    </td><td>0    </td><td>3    </td><td>4    </td></tr>\n",
       "\t<tr><th scope=row>Lincoln Continental</th><td>10.4 </td><td>8    </td><td>460.0</td><td>215  </td><td>3.00 </td><td>5.424</td><td>17.82</td><td>0    </td><td>0    </td><td>3    </td><td>4    </td></tr>\n",
       "\t<tr><th scope=row>Chrysler Imperial</th><td>14.7 </td><td>8    </td><td>440.0</td><td>230  </td><td>3.23 </td><td>5.345</td><td>17.42</td><td>0    </td><td>0    </td><td>3    </td><td>4    </td></tr>\n",
       "\t<tr><th scope=row>Fiat 128</th><td>32.4 </td><td>4    </td><td> 78.7</td><td> 66  </td><td>4.08 </td><td>2.200</td><td>19.47</td><td>1    </td><td>1    </td><td>4    </td><td>1    </td></tr>\n",
       "\t<tr><th scope=row>Honda Civic</th><td>30.4 </td><td>4    </td><td> 75.7</td><td> 52  </td><td>4.93 </td><td>1.615</td><td>18.52</td><td>1    </td><td>1    </td><td>4    </td><td>2    </td></tr>\n",
       "\t<tr><th scope=row>Toyota Corolla</th><td>33.9 </td><td>4    </td><td> 71.1</td><td> 65  </td><td>4.22 </td><td>1.835</td><td>19.90</td><td>1    </td><td>1    </td><td>4    </td><td>1    </td></tr>\n",
       "\t<tr><th scope=row>Toyota Corona</th><td>21.5 </td><td>4    </td><td>120.1</td><td> 97  </td><td>3.70 </td><td>2.465</td><td>20.01</td><td>1    </td><td>0    </td><td>3    </td><td>1    </td></tr>\n",
       "\t<tr><th scope=row>Dodge Challenger</th><td>15.5 </td><td>8    </td><td>318.0</td><td>150  </td><td>2.76 </td><td>3.520</td><td>16.87</td><td>0    </td><td>0    </td><td>3    </td><td>2    </td></tr>\n",
       "\t<tr><th scope=row>AMC Javelin</th><td>15.2 </td><td>8    </td><td>304.0</td><td>150  </td><td>3.15 </td><td>3.435</td><td>17.30</td><td>0    </td><td>0    </td><td>3    </td><td>2    </td></tr>\n",
       "\t<tr><th scope=row>Camaro Z28</th><td>13.3 </td><td>8    </td><td>350.0</td><td>245  </td><td>3.73 </td><td>3.840</td><td>15.41</td><td>0    </td><td>0    </td><td>3    </td><td>4    </td></tr>\n",
       "\t<tr><th scope=row>Pontiac Firebird</th><td>19.2 </td><td>8    </td><td>400.0</td><td>175  </td><td>3.08 </td><td>3.845</td><td>17.05</td><td>0    </td><td>0    </td><td>3    </td><td>2    </td></tr>\n",
       "\t<tr><th scope=row>Fiat X1-9</th><td>27.3 </td><td>4    </td><td> 79.0</td><td> 66  </td><td>4.08 </td><td>1.935</td><td>18.90</td><td>1    </td><td>1    </td><td>4    </td><td>1    </td></tr>\n",
       "\t<tr><th scope=row>Porsche 914-2</th><td>26.0 </td><td>4    </td><td>120.3</td><td> 91  </td><td>4.43 </td><td>2.140</td><td>16.70</td><td>0    </td><td>1    </td><td>5    </td><td>2    </td></tr>\n",
       "\t<tr><th scope=row>Lotus Europa</th><td>30.4 </td><td>4    </td><td> 95.1</td><td>113  </td><td>3.77 </td><td>1.513</td><td>16.90</td><td>1    </td><td>1    </td><td>5    </td><td>2    </td></tr>\n",
       "\t<tr><th scope=row>Ford Pantera L</th><td>15.8 </td><td>8    </td><td>351.0</td><td>264  </td><td>4.22 </td><td>3.170</td><td>14.50</td><td>0    </td><td>1    </td><td>5    </td><td>4    </td></tr>\n",
       "\t<tr><th scope=row>Ferrari Dino</th><td>19.7 </td><td>6    </td><td>145.0</td><td>175  </td><td>3.62 </td><td>2.770</td><td>15.50</td><td>0    </td><td>1    </td><td>5    </td><td>6    </td></tr>\n",
       "\t<tr><th scope=row>Maserati Bora</th><td>15.0 </td><td>8    </td><td>301.0</td><td>335  </td><td>3.54 </td><td>3.570</td><td>14.60</td><td>0    </td><td>1    </td><td>5    </td><td>8    </td></tr>\n",
       "\t<tr><th scope=row>Volvo 142E</th><td>21.4 </td><td>4    </td><td>121.0</td><td>109  </td><td>4.11 </td><td>2.780</td><td>18.60</td><td>1    </td><td>1    </td><td>4    </td><td>2    </td></tr>\n",
       "</tbody>\n",
       "</table>\n"
      ],
      "text/latex": [
       "\\begin{tabular}{r|lllllllllll}\n",
       "  & mpg & cyl & disp & hp & drat & wt & qsec & vs & am & gear & carb\\\\\n",
       "\\hline\n",
       "\tMazda RX4 & 21.0  & 6     & 160.0 & 110   & 3.90  & 2.620 & 16.46 & 0     & 1     & 4     & 4    \\\\\n",
       "\tMazda RX4 Wag & 21.0  & 6     & 160.0 & 110   & 3.90  & 2.875 & 17.02 & 0     & 1     & 4     & 4    \\\\\n",
       "\tDatsun 710 & 22.8  & 4     & 108.0 &  93   & 3.85  & 2.320 & 18.61 & 1     & 1     & 4     & 1    \\\\\n",
       "\tHornet 4 Drive & 21.4  & 6     & 258.0 & 110   & 3.08  & 3.215 & 19.44 & 1     & 0     & 3     & 1    \\\\\n",
       "\tHornet Sportabout & 18.7  & 8     & 360.0 & 175   & 3.15  & 3.440 & 17.02 & 0     & 0     & 3     & 2    \\\\\n",
       "\tValiant & 18.1  & 6     & 225.0 & 105   & 2.76  & 3.460 & 20.22 & 1     & 0     & 3     & 1    \\\\\n",
       "\tDuster 360 & 14.3  & 8     & 360.0 & 245   & 3.21  & 3.570 & 15.84 & 0     & 0     & 3     & 4    \\\\\n",
       "\tMerc 240D & 24.4  & 4     & 146.7 &  62   & 3.69  & 3.190 & 20.00 & 1     & 0     & 4     & 2    \\\\\n",
       "\tMerc 230 & 22.8  & 4     & 140.8 &  95   & 3.92  & 3.150 & 22.90 & 1     & 0     & 4     & 2    \\\\\n",
       "\tMerc 280 & 19.2  & 6     & 167.6 & 123   & 3.92  & 3.440 & 18.30 & 1     & 0     & 4     & 4    \\\\\n",
       "\tMerc 280C & 17.8  & 6     & 167.6 & 123   & 3.92  & 3.440 & 18.90 & 1     & 0     & 4     & 4    \\\\\n",
       "\tMerc 450SE & 16.4  & 8     & 275.8 & 180   & 3.07  & 4.070 & 17.40 & 0     & 0     & 3     & 3    \\\\\n",
       "\tMerc 450SL & 17.3  & 8     & 275.8 & 180   & 3.07  & 3.730 & 17.60 & 0     & 0     & 3     & 3    \\\\\n",
       "\tMerc 450SLC & 15.2  & 8     & 275.8 & 180   & 3.07  & 3.780 & 18.00 & 0     & 0     & 3     & 3    \\\\\n",
       "\tCadillac Fleetwood & 10.4  & 8     & 472.0 & 205   & 2.93  & 5.250 & 17.98 & 0     & 0     & 3     & 4    \\\\\n",
       "\tLincoln Continental & 10.4  & 8     & 460.0 & 215   & 3.00  & 5.424 & 17.82 & 0     & 0     & 3     & 4    \\\\\n",
       "\tChrysler Imperial & 14.7  & 8     & 440.0 & 230   & 3.23  & 5.345 & 17.42 & 0     & 0     & 3     & 4    \\\\\n",
       "\tFiat 128 & 32.4  & 4     &  78.7 &  66   & 4.08  & 2.200 & 19.47 & 1     & 1     & 4     & 1    \\\\\n",
       "\tHonda Civic & 30.4  & 4     &  75.7 &  52   & 4.93  & 1.615 & 18.52 & 1     & 1     & 4     & 2    \\\\\n",
       "\tToyota Corolla & 33.9  & 4     &  71.1 &  65   & 4.22  & 1.835 & 19.90 & 1     & 1     & 4     & 1    \\\\\n",
       "\tToyota Corona & 21.5  & 4     & 120.1 &  97   & 3.70  & 2.465 & 20.01 & 1     & 0     & 3     & 1    \\\\\n",
       "\tDodge Challenger & 15.5  & 8     & 318.0 & 150   & 2.76  & 3.520 & 16.87 & 0     & 0     & 3     & 2    \\\\\n",
       "\tAMC Javelin & 15.2  & 8     & 304.0 & 150   & 3.15  & 3.435 & 17.30 & 0     & 0     & 3     & 2    \\\\\n",
       "\tCamaro Z28 & 13.3  & 8     & 350.0 & 245   & 3.73  & 3.840 & 15.41 & 0     & 0     & 3     & 4    \\\\\n",
       "\tPontiac Firebird & 19.2  & 8     & 400.0 & 175   & 3.08  & 3.845 & 17.05 & 0     & 0     & 3     & 2    \\\\\n",
       "\tFiat X1-9 & 27.3  & 4     &  79.0 &  66   & 4.08  & 1.935 & 18.90 & 1     & 1     & 4     & 1    \\\\\n",
       "\tPorsche 914-2 & 26.0  & 4     & 120.3 &  91   & 4.43  & 2.140 & 16.70 & 0     & 1     & 5     & 2    \\\\\n",
       "\tLotus Europa & 30.4  & 4     &  95.1 & 113   & 3.77  & 1.513 & 16.90 & 1     & 1     & 5     & 2    \\\\\n",
       "\tFord Pantera L & 15.8  & 8     & 351.0 & 264   & 4.22  & 3.170 & 14.50 & 0     & 1     & 5     & 4    \\\\\n",
       "\tFerrari Dino & 19.7  & 6     & 145.0 & 175   & 3.62  & 2.770 & 15.50 & 0     & 1     & 5     & 6    \\\\\n",
       "\tMaserati Bora & 15.0  & 8     & 301.0 & 335   & 3.54  & 3.570 & 14.60 & 0     & 1     & 5     & 8    \\\\\n",
       "\tVolvo 142E & 21.4  & 4     & 121.0 & 109   & 4.11  & 2.780 & 18.60 & 1     & 1     & 4     & 2    \\\\\n",
       "\\end{tabular}\n"
      ],
      "text/markdown": [
       "\n",
       "| <!--/--> | mpg | cyl | disp | hp | drat | wt | qsec | vs | am | gear | carb | \n",
       "|---|---|---|---|---|---|---|---|---|---|---|---|---|---|---|---|---|---|---|---|---|---|---|---|---|---|---|---|---|---|---|---|\n",
       "| Mazda RX4 | 21.0  | 6     | 160.0 | 110   | 3.90  | 2.620 | 16.46 | 0     | 1     | 4     | 4     | \n",
       "| Mazda RX4 Wag | 21.0  | 6     | 160.0 | 110   | 3.90  | 2.875 | 17.02 | 0     | 1     | 4     | 4     | \n",
       "| Datsun 710 | 22.8  | 4     | 108.0 |  93   | 3.85  | 2.320 | 18.61 | 1     | 1     | 4     | 1     | \n",
       "| Hornet 4 Drive | 21.4  | 6     | 258.0 | 110   | 3.08  | 3.215 | 19.44 | 1     | 0     | 3     | 1     | \n",
       "| Hornet Sportabout | 18.7  | 8     | 360.0 | 175   | 3.15  | 3.440 | 17.02 | 0     | 0     | 3     | 2     | \n",
       "| Valiant | 18.1  | 6     | 225.0 | 105   | 2.76  | 3.460 | 20.22 | 1     | 0     | 3     | 1     | \n",
       "| Duster 360 | 14.3  | 8     | 360.0 | 245   | 3.21  | 3.570 | 15.84 | 0     | 0     | 3     | 4     | \n",
       "| Merc 240D | 24.4  | 4     | 146.7 |  62   | 3.69  | 3.190 | 20.00 | 1     | 0     | 4     | 2     | \n",
       "| Merc 230 | 22.8  | 4     | 140.8 |  95   | 3.92  | 3.150 | 22.90 | 1     | 0     | 4     | 2     | \n",
       "| Merc 280 | 19.2  | 6     | 167.6 | 123   | 3.92  | 3.440 | 18.30 | 1     | 0     | 4     | 4     | \n",
       "| Merc 280C | 17.8  | 6     | 167.6 | 123   | 3.92  | 3.440 | 18.90 | 1     | 0     | 4     | 4     | \n",
       "| Merc 450SE | 16.4  | 8     | 275.8 | 180   | 3.07  | 4.070 | 17.40 | 0     | 0     | 3     | 3     | \n",
       "| Merc 450SL | 17.3  | 8     | 275.8 | 180   | 3.07  | 3.730 | 17.60 | 0     | 0     | 3     | 3     | \n",
       "| Merc 450SLC | 15.2  | 8     | 275.8 | 180   | 3.07  | 3.780 | 18.00 | 0     | 0     | 3     | 3     | \n",
       "| Cadillac Fleetwood | 10.4  | 8     | 472.0 | 205   | 2.93  | 5.250 | 17.98 | 0     | 0     | 3     | 4     | \n",
       "| Lincoln Continental | 10.4  | 8     | 460.0 | 215   | 3.00  | 5.424 | 17.82 | 0     | 0     | 3     | 4     | \n",
       "| Chrysler Imperial | 14.7  | 8     | 440.0 | 230   | 3.23  | 5.345 | 17.42 | 0     | 0     | 3     | 4     | \n",
       "| Fiat 128 | 32.4  | 4     |  78.7 |  66   | 4.08  | 2.200 | 19.47 | 1     | 1     | 4     | 1     | \n",
       "| Honda Civic | 30.4  | 4     |  75.7 |  52   | 4.93  | 1.615 | 18.52 | 1     | 1     | 4     | 2     | \n",
       "| Toyota Corolla | 33.9  | 4     |  71.1 |  65   | 4.22  | 1.835 | 19.90 | 1     | 1     | 4     | 1     | \n",
       "| Toyota Corona | 21.5  | 4     | 120.1 |  97   | 3.70  | 2.465 | 20.01 | 1     | 0     | 3     | 1     | \n",
       "| Dodge Challenger | 15.5  | 8     | 318.0 | 150   | 2.76  | 3.520 | 16.87 | 0     | 0     | 3     | 2     | \n",
       "| AMC Javelin | 15.2  | 8     | 304.0 | 150   | 3.15  | 3.435 | 17.30 | 0     | 0     | 3     | 2     | \n",
       "| Camaro Z28 | 13.3  | 8     | 350.0 | 245   | 3.73  | 3.840 | 15.41 | 0     | 0     | 3     | 4     | \n",
       "| Pontiac Firebird | 19.2  | 8     | 400.0 | 175   | 3.08  | 3.845 | 17.05 | 0     | 0     | 3     | 2     | \n",
       "| Fiat X1-9 | 27.3  | 4     |  79.0 |  66   | 4.08  | 1.935 | 18.90 | 1     | 1     | 4     | 1     | \n",
       "| Porsche 914-2 | 26.0  | 4     | 120.3 |  91   | 4.43  | 2.140 | 16.70 | 0     | 1     | 5     | 2     | \n",
       "| Lotus Europa | 30.4  | 4     |  95.1 | 113   | 3.77  | 1.513 | 16.90 | 1     | 1     | 5     | 2     | \n",
       "| Ford Pantera L | 15.8  | 8     | 351.0 | 264   | 4.22  | 3.170 | 14.50 | 0     | 1     | 5     | 4     | \n",
       "| Ferrari Dino | 19.7  | 6     | 145.0 | 175   | 3.62  | 2.770 | 15.50 | 0     | 1     | 5     | 6     | \n",
       "| Maserati Bora | 15.0  | 8     | 301.0 | 335   | 3.54  | 3.570 | 14.60 | 0     | 1     | 5     | 8     | \n",
       "| Volvo 142E | 21.4  | 4     | 121.0 | 109   | 4.11  | 2.780 | 18.60 | 1     | 1     | 4     | 2     | \n",
       "\n",
       "\n"
      ],
      "text/plain": [
       "                    mpg  cyl disp  hp  drat wt    qsec  vs am gear carb\n",
       "Mazda RX4           21.0 6   160.0 110 3.90 2.620 16.46 0  1  4    4   \n",
       "Mazda RX4 Wag       21.0 6   160.0 110 3.90 2.875 17.02 0  1  4    4   \n",
       "Datsun 710          22.8 4   108.0  93 3.85 2.320 18.61 1  1  4    1   \n",
       "Hornet 4 Drive      21.4 6   258.0 110 3.08 3.215 19.44 1  0  3    1   \n",
       "Hornet Sportabout   18.7 8   360.0 175 3.15 3.440 17.02 0  0  3    2   \n",
       "Valiant             18.1 6   225.0 105 2.76 3.460 20.22 1  0  3    1   \n",
       "Duster 360          14.3 8   360.0 245 3.21 3.570 15.84 0  0  3    4   \n",
       "Merc 240D           24.4 4   146.7  62 3.69 3.190 20.00 1  0  4    2   \n",
       "Merc 230            22.8 4   140.8  95 3.92 3.150 22.90 1  0  4    2   \n",
       "Merc 280            19.2 6   167.6 123 3.92 3.440 18.30 1  0  4    4   \n",
       "Merc 280C           17.8 6   167.6 123 3.92 3.440 18.90 1  0  4    4   \n",
       "Merc 450SE          16.4 8   275.8 180 3.07 4.070 17.40 0  0  3    3   \n",
       "Merc 450SL          17.3 8   275.8 180 3.07 3.730 17.60 0  0  3    3   \n",
       "Merc 450SLC         15.2 8   275.8 180 3.07 3.780 18.00 0  0  3    3   \n",
       "Cadillac Fleetwood  10.4 8   472.0 205 2.93 5.250 17.98 0  0  3    4   \n",
       "Lincoln Continental 10.4 8   460.0 215 3.00 5.424 17.82 0  0  3    4   \n",
       "Chrysler Imperial   14.7 8   440.0 230 3.23 5.345 17.42 0  0  3    4   \n",
       "Fiat 128            32.4 4    78.7  66 4.08 2.200 19.47 1  1  4    1   \n",
       "Honda Civic         30.4 4    75.7  52 4.93 1.615 18.52 1  1  4    2   \n",
       "Toyota Corolla      33.9 4    71.1  65 4.22 1.835 19.90 1  1  4    1   \n",
       "Toyota Corona       21.5 4   120.1  97 3.70 2.465 20.01 1  0  3    1   \n",
       "Dodge Challenger    15.5 8   318.0 150 2.76 3.520 16.87 0  0  3    2   \n",
       "AMC Javelin         15.2 8   304.0 150 3.15 3.435 17.30 0  0  3    2   \n",
       "Camaro Z28          13.3 8   350.0 245 3.73 3.840 15.41 0  0  3    4   \n",
       "Pontiac Firebird    19.2 8   400.0 175 3.08 3.845 17.05 0  0  3    2   \n",
       "Fiat X1-9           27.3 4    79.0  66 4.08 1.935 18.90 1  1  4    1   \n",
       "Porsche 914-2       26.0 4   120.3  91 4.43 2.140 16.70 0  1  5    2   \n",
       "Lotus Europa        30.4 4    95.1 113 3.77 1.513 16.90 1  1  5    2   \n",
       "Ford Pantera L      15.8 8   351.0 264 4.22 3.170 14.50 0  1  5    4   \n",
       "Ferrari Dino        19.7 6   145.0 175 3.62 2.770 15.50 0  1  5    6   \n",
       "Maserati Bora       15.0 8   301.0 335 3.54 3.570 14.60 0  1  5    8   \n",
       "Volvo 142E          21.4 4   121.0 109 4.11 2.780 18.60 1  1  4    2   "
      ]
     },
     "metadata": {},
     "output_type": "display_data"
    }
   ],
   "source": [
    "df <- mtcars\n",
    "df"
   ]
  },
  {
   "cell_type": "markdown",
   "metadata": {},
   "source": [
    "### Exercício 3.2\n",
    "\n",
    "Obter os nomes das variáiveis do conjunto de dados;\n",
    "\n"
   ]
  },
  {
   "cell_type": "code",
   "execution_count": 57,
   "metadata": {},
   "outputs": [
    {
     "data": {
      "text/html": [
       "<ol class=list-inline>\n",
       "\t<li>'mpg'</li>\n",
       "\t<li>'cyl'</li>\n",
       "\t<li>'disp'</li>\n",
       "\t<li>'hp'</li>\n",
       "\t<li>'drat'</li>\n",
       "\t<li>'wt'</li>\n",
       "\t<li>'qsec'</li>\n",
       "\t<li>'vs'</li>\n",
       "\t<li>'am'</li>\n",
       "\t<li>'gear'</li>\n",
       "\t<li>'carb'</li>\n",
       "</ol>\n"
      ],
      "text/latex": [
       "\\begin{enumerate*}\n",
       "\\item 'mpg'\n",
       "\\item 'cyl'\n",
       "\\item 'disp'\n",
       "\\item 'hp'\n",
       "\\item 'drat'\n",
       "\\item 'wt'\n",
       "\\item 'qsec'\n",
       "\\item 'vs'\n",
       "\\item 'am'\n",
       "\\item 'gear'\n",
       "\\item 'carb'\n",
       "\\end{enumerate*}\n"
      ],
      "text/markdown": [
       "1. 'mpg'\n",
       "2. 'cyl'\n",
       "3. 'disp'\n",
       "4. 'hp'\n",
       "5. 'drat'\n",
       "6. 'wt'\n",
       "7. 'qsec'\n",
       "8. 'vs'\n",
       "9. 'am'\n",
       "10. 'gear'\n",
       "11. 'carb'\n",
       "\n",
       "\n"
      ],
      "text/plain": [
       " [1] \"mpg\"  \"cyl\"  \"disp\" \"hp\"   \"drat\" \"wt\"   \"qsec\" \"vs\"   \"am\"   \"gear\"\n",
       "[11] \"carb\""
      ]
     },
     "metadata": {},
     "output_type": "display_data"
    }
   ],
   "source": [
    "colnames(df)"
   ]
  },
  {
   "cell_type": "markdown",
   "metadata": {},
   "source": [
    "### Exercício 3.3\n",
    "\n",
    "Obter a quantidade de linhas e colunas do conjunto de dados;"
   ]
  },
  {
   "cell_type": "code",
   "execution_count": 58,
   "metadata": {},
   "outputs": [
    {
     "data": {
      "text/html": [
       "'O número de linhas é equivalente à 32'"
      ],
      "text/latex": [
       "'O número de linhas é equivalente à 32'"
      ],
      "text/markdown": [
       "'O número de linhas é equivalente à 32'"
      ],
      "text/plain": [
       "[1] \"O número de linhas é equivalente à 32\""
      ]
     },
     "metadata": {},
     "output_type": "display_data"
    },
    {
     "data": {
      "text/html": [
       "'O número de colunas é equivalente à 11'"
      ],
      "text/latex": [
       "'O número de colunas é equivalente à 11'"
      ],
      "text/markdown": [
       "'O número de colunas é equivalente à 11'"
      ],
      "text/plain": [
       "[1] \"O número de colunas é equivalente à 11\""
      ]
     },
     "metadata": {},
     "output_type": "display_data"
    }
   ],
   "source": [
    "sprintf(\"O número de linhas é equivalente à %i\", nrow(df))\n",
    "sprintf(\"O número de colunas é equivalente à %i\", ncol(df))"
   ]
  },
  {
   "cell_type": "markdown",
   "metadata": {},
   "source": [
    "### Exercício 3.4\n",
    "\n",
    "Calcule a média da variável mpg;"
   ]
  },
  {
   "cell_type": "code",
   "execution_count": 59,
   "metadata": {},
   "outputs": [
    {
     "data": {
      "text/html": [
       "20.090625"
      ],
      "text/latex": [
       "20.090625"
      ],
      "text/markdown": [
       "20.090625"
      ],
      "text/plain": [
       "[1] 20.09062"
      ]
     },
     "metadata": {},
     "output_type": "display_data"
    }
   ],
   "source": [
    "mean(df[, 'mpg'])"
   ]
  },
  {
   "cell_type": "markdown",
   "metadata": {},
   "source": [
    "### Exercício 3.5\n",
    "\n",
    "Obtenha os valores máximo e mínimo da variável disp;"
   ]
  },
  {
   "cell_type": "code",
   "execution_count": 60,
   "metadata": {},
   "outputs": [
    {
     "data": {
      "text/html": [
       "'O valor máximo é equivalente à 472.00'"
      ],
      "text/latex": [
       "'O valor máximo é equivalente à 472.00'"
      ],
      "text/markdown": [
       "'O valor máximo é equivalente à 472.00'"
      ],
      "text/plain": [
       "[1] \"O valor máximo é equivalente à 472.00\""
      ]
     },
     "metadata": {},
     "output_type": "display_data"
    },
    {
     "data": {
      "text/html": [
       "'O valor máximo é equivalente à 71.10'"
      ],
      "text/latex": [
       "'O valor máximo é equivalente à 71.10'"
      ],
      "text/markdown": [
       "'O valor máximo é equivalente à 71.10'"
      ],
      "text/plain": [
       "[1] \"O valor máximo é equivalente à 71.10\""
      ]
     },
     "metadata": {},
     "output_type": "display_data"
    }
   ],
   "source": [
    "sprintf(\"O valor máximo é equivalente à %.2f\", max(df[, 'disp']))\n",
    "sprintf(\"O valor máximo é equivalente à %.2f\", min(df[, 'disp']))"
   ]
  },
  {
   "cell_type": "markdown",
   "metadata": {},
   "source": [
    "### Exercício 3.6\n",
    "\n",
    "Calcule a correlação entre as variáveis mpg e wt;"
   ]
  },
  {
   "cell_type": "code",
   "execution_count": 61,
   "metadata": {},
   "outputs": [
    {
     "data": {
      "text/html": [
       "-0.867659376517228"
      ],
      "text/latex": [
       "-0.867659376517228"
      ],
      "text/markdown": [
       "-0.867659376517228"
      ],
      "text/plain": [
       "[1] -0.8676594"
      ]
     },
     "metadata": {},
     "output_type": "display_data"
    }
   ],
   "source": [
    "cor(df$mpg, df$wt)"
   ]
  },
  {
   "cell_type": "markdown",
   "metadata": {},
   "source": [
    "### Exercício 3.7\n",
    "\n",
    "Obtenha os registros para os quais a variável mpg é maior que 20 e hp é maior que 90;"
   ]
  },
  {
   "cell_type": "code",
   "execution_count": 62,
   "metadata": {},
   "outputs": [
    {
     "data": {
      "text/html": [
       "<table>\n",
       "<thead><tr><th></th><th scope=col>mpg</th><th scope=col>cyl</th><th scope=col>disp</th><th scope=col>hp</th><th scope=col>drat</th><th scope=col>wt</th><th scope=col>qsec</th><th scope=col>vs</th><th scope=col>am</th><th scope=col>gear</th><th scope=col>carb</th></tr></thead>\n",
       "<tbody>\n",
       "\t<tr><th scope=row>Mazda RX4</th><td>21.0 </td><td>6    </td><td>160.0</td><td>110  </td><td>3.90 </td><td>2.620</td><td>16.46</td><td>0    </td><td>1    </td><td>4    </td><td>4    </td></tr>\n",
       "\t<tr><th scope=row>Mazda RX4 Wag</th><td>21.0 </td><td>6    </td><td>160.0</td><td>110  </td><td>3.90 </td><td>2.875</td><td>17.02</td><td>0    </td><td>1    </td><td>4    </td><td>4    </td></tr>\n",
       "\t<tr><th scope=row>Datsun 710</th><td>22.8 </td><td>4    </td><td>108.0</td><td> 93  </td><td>3.85 </td><td>2.320</td><td>18.61</td><td>1    </td><td>1    </td><td>4    </td><td>1    </td></tr>\n",
       "\t<tr><th scope=row>Hornet 4 Drive</th><td>21.4 </td><td>6    </td><td>258.0</td><td>110  </td><td>3.08 </td><td>3.215</td><td>19.44</td><td>1    </td><td>0    </td><td>3    </td><td>1    </td></tr>\n",
       "\t<tr><th scope=row>Merc 230</th><td>22.8 </td><td>4    </td><td>140.8</td><td> 95  </td><td>3.92 </td><td>3.150</td><td>22.90</td><td>1    </td><td>0    </td><td>4    </td><td>2    </td></tr>\n",
       "\t<tr><th scope=row>Toyota Corona</th><td>21.5 </td><td>4    </td><td>120.1</td><td> 97  </td><td>3.70 </td><td>2.465</td><td>20.01</td><td>1    </td><td>0    </td><td>3    </td><td>1    </td></tr>\n",
       "\t<tr><th scope=row>Porsche 914-2</th><td>26.0 </td><td>4    </td><td>120.3</td><td> 91  </td><td>4.43 </td><td>2.140</td><td>16.70</td><td>0    </td><td>1    </td><td>5    </td><td>2    </td></tr>\n",
       "\t<tr><th scope=row>Lotus Europa</th><td>30.4 </td><td>4    </td><td> 95.1</td><td>113  </td><td>3.77 </td><td>1.513</td><td>16.90</td><td>1    </td><td>1    </td><td>5    </td><td>2    </td></tr>\n",
       "\t<tr><th scope=row>Volvo 142E</th><td>21.4 </td><td>4    </td><td>121.0</td><td>109  </td><td>4.11 </td><td>2.780</td><td>18.60</td><td>1    </td><td>1    </td><td>4    </td><td>2    </td></tr>\n",
       "</tbody>\n",
       "</table>\n"
      ],
      "text/latex": [
       "\\begin{tabular}{r|lllllllllll}\n",
       "  & mpg & cyl & disp & hp & drat & wt & qsec & vs & am & gear & carb\\\\\n",
       "\\hline\n",
       "\tMazda RX4 & 21.0  & 6     & 160.0 & 110   & 3.90  & 2.620 & 16.46 & 0     & 1     & 4     & 4    \\\\\n",
       "\tMazda RX4 Wag & 21.0  & 6     & 160.0 & 110   & 3.90  & 2.875 & 17.02 & 0     & 1     & 4     & 4    \\\\\n",
       "\tDatsun 710 & 22.8  & 4     & 108.0 &  93   & 3.85  & 2.320 & 18.61 & 1     & 1     & 4     & 1    \\\\\n",
       "\tHornet 4 Drive & 21.4  & 6     & 258.0 & 110   & 3.08  & 3.215 & 19.44 & 1     & 0     & 3     & 1    \\\\\n",
       "\tMerc 230 & 22.8  & 4     & 140.8 &  95   & 3.92  & 3.150 & 22.90 & 1     & 0     & 4     & 2    \\\\\n",
       "\tToyota Corona & 21.5  & 4     & 120.1 &  97   & 3.70  & 2.465 & 20.01 & 1     & 0     & 3     & 1    \\\\\n",
       "\tPorsche 914-2 & 26.0  & 4     & 120.3 &  91   & 4.43  & 2.140 & 16.70 & 0     & 1     & 5     & 2    \\\\\n",
       "\tLotus Europa & 30.4  & 4     &  95.1 & 113   & 3.77  & 1.513 & 16.90 & 1     & 1     & 5     & 2    \\\\\n",
       "\tVolvo 142E & 21.4  & 4     & 121.0 & 109   & 4.11  & 2.780 & 18.60 & 1     & 1     & 4     & 2    \\\\\n",
       "\\end{tabular}\n"
      ],
      "text/markdown": [
       "\n",
       "| <!--/--> | mpg | cyl | disp | hp | drat | wt | qsec | vs | am | gear | carb | \n",
       "|---|---|---|---|---|---|---|---|---|\n",
       "| Mazda RX4 | 21.0  | 6     | 160.0 | 110   | 3.90  | 2.620 | 16.46 | 0     | 1     | 4     | 4     | \n",
       "| Mazda RX4 Wag | 21.0  | 6     | 160.0 | 110   | 3.90  | 2.875 | 17.02 | 0     | 1     | 4     | 4     | \n",
       "| Datsun 710 | 22.8  | 4     | 108.0 |  93   | 3.85  | 2.320 | 18.61 | 1     | 1     | 4     | 1     | \n",
       "| Hornet 4 Drive | 21.4  | 6     | 258.0 | 110   | 3.08  | 3.215 | 19.44 | 1     | 0     | 3     | 1     | \n",
       "| Merc 230 | 22.8  | 4     | 140.8 |  95   | 3.92  | 3.150 | 22.90 | 1     | 0     | 4     | 2     | \n",
       "| Toyota Corona | 21.5  | 4     | 120.1 |  97   | 3.70  | 2.465 | 20.01 | 1     | 0     | 3     | 1     | \n",
       "| Porsche 914-2 | 26.0  | 4     | 120.3 |  91   | 4.43  | 2.140 | 16.70 | 0     | 1     | 5     | 2     | \n",
       "| Lotus Europa | 30.4  | 4     |  95.1 | 113   | 3.77  | 1.513 | 16.90 | 1     | 1     | 5     | 2     | \n",
       "| Volvo 142E | 21.4  | 4     | 121.0 | 109   | 4.11  | 2.780 | 18.60 | 1     | 1     | 4     | 2     | \n",
       "\n",
       "\n"
      ],
      "text/plain": [
       "               mpg  cyl disp  hp  drat wt    qsec  vs am gear carb\n",
       "Mazda RX4      21.0 6   160.0 110 3.90 2.620 16.46 0  1  4    4   \n",
       "Mazda RX4 Wag  21.0 6   160.0 110 3.90 2.875 17.02 0  1  4    4   \n",
       "Datsun 710     22.8 4   108.0  93 3.85 2.320 18.61 1  1  4    1   \n",
       "Hornet 4 Drive 21.4 6   258.0 110 3.08 3.215 19.44 1  0  3    1   \n",
       "Merc 230       22.8 4   140.8  95 3.92 3.150 22.90 1  0  4    2   \n",
       "Toyota Corona  21.5 4   120.1  97 3.70 2.465 20.01 1  0  3    1   \n",
       "Porsche 914-2  26.0 4   120.3  91 4.43 2.140 16.70 0  1  5    2   \n",
       "Lotus Europa   30.4 4    95.1 113 3.77 1.513 16.90 1  1  5    2   \n",
       "Volvo 142E     21.4 4   121.0 109 4.11 2.780 18.60 1  1  4    2   "
      ]
     },
     "metadata": {},
     "output_type": "display_data"
    }
   ],
   "source": [
    "df[which(df$mpg > 20 & df$hp > 90),]"
   ]
  },
  {
   "cell_type": "markdown",
   "metadata": {},
   "source": [
    "### Exercício 3.8\n",
    "\n",
    "Substitua o nome da variável carb por qtd_carburadores;\n"
   ]
  },
  {
   "cell_type": "code",
   "execution_count": 63,
   "metadata": {},
   "outputs": [
    {
     "data": {
      "text/html": [
       "<ol class=list-inline>\n",
       "\t<li>'mpg'</li>\n",
       "\t<li>'cyl'</li>\n",
       "\t<li>'disp'</li>\n",
       "\t<li>'hp'</li>\n",
       "\t<li>'drat'</li>\n",
       "\t<li>'wt'</li>\n",
       "\t<li>'qsec'</li>\n",
       "\t<li>'vs'</li>\n",
       "\t<li>'am'</li>\n",
       "\t<li>'gear'</li>\n",
       "\t<li>'qtd_carburadores'</li>\n",
       "</ol>\n"
      ],
      "text/latex": [
       "\\begin{enumerate*}\n",
       "\\item 'mpg'\n",
       "\\item 'cyl'\n",
       "\\item 'disp'\n",
       "\\item 'hp'\n",
       "\\item 'drat'\n",
       "\\item 'wt'\n",
       "\\item 'qsec'\n",
       "\\item 'vs'\n",
       "\\item 'am'\n",
       "\\item 'gear'\n",
       "\\item 'qtd\\_carburadores'\n",
       "\\end{enumerate*}\n"
      ],
      "text/markdown": [
       "1. 'mpg'\n",
       "2. 'cyl'\n",
       "3. 'disp'\n",
       "4. 'hp'\n",
       "5. 'drat'\n",
       "6. 'wt'\n",
       "7. 'qsec'\n",
       "8. 'vs'\n",
       "9. 'am'\n",
       "10. 'gear'\n",
       "11. 'qtd_carburadores'\n",
       "\n",
       "\n"
      ],
      "text/plain": [
       " [1] \"mpg\"              \"cyl\"              \"disp\"             \"hp\"              \n",
       " [5] \"drat\"             \"wt\"               \"qsec\"             \"vs\"              \n",
       " [9] \"am\"               \"gear\"             \"qtd_carburadores\""
      ]
     },
     "metadata": {},
     "output_type": "display_data"
    }
   ],
   "source": [
    "colnames(df)[11] <- \"qtd_carburadores\"\n",
    "colnames(df)"
   ]
  },
  {
   "cell_type": "markdown",
   "metadata": {},
   "source": [
    "### Exercício 3.9\n",
    "\n",
    "Remova a variável qsec do cojunto de dados;"
   ]
  },
  {
   "cell_type": "code",
   "execution_count": 64,
   "metadata": {},
   "outputs": [
    {
     "data": {
      "text/html": [
       "<table>\n",
       "<thead><tr><th></th><th scope=col>mpg</th><th scope=col>cyl</th><th scope=col>disp</th><th scope=col>hp</th><th scope=col>drat</th><th scope=col>wt</th><th scope=col>vs</th><th scope=col>am</th><th scope=col>gear</th><th scope=col>qtd_carburadores</th></tr></thead>\n",
       "<tbody>\n",
       "\t<tr><th scope=row>Mazda RX4</th><td>21.0 </td><td>6    </td><td>160.0</td><td>110  </td><td>3.90 </td><td>2.620</td><td>0    </td><td>1    </td><td>4    </td><td>4    </td></tr>\n",
       "\t<tr><th scope=row>Mazda RX4 Wag</th><td>21.0 </td><td>6    </td><td>160.0</td><td>110  </td><td>3.90 </td><td>2.875</td><td>0    </td><td>1    </td><td>4    </td><td>4    </td></tr>\n",
       "\t<tr><th scope=row>Datsun 710</th><td>22.8 </td><td>4    </td><td>108.0</td><td> 93  </td><td>3.85 </td><td>2.320</td><td>1    </td><td>1    </td><td>4    </td><td>1    </td></tr>\n",
       "\t<tr><th scope=row>Hornet 4 Drive</th><td>21.4 </td><td>6    </td><td>258.0</td><td>110  </td><td>3.08 </td><td>3.215</td><td>1    </td><td>0    </td><td>3    </td><td>1    </td></tr>\n",
       "\t<tr><th scope=row>Hornet Sportabout</th><td>18.7 </td><td>8    </td><td>360.0</td><td>175  </td><td>3.15 </td><td>3.440</td><td>0    </td><td>0    </td><td>3    </td><td>2    </td></tr>\n",
       "\t<tr><th scope=row>Valiant</th><td>18.1 </td><td>6    </td><td>225.0</td><td>105  </td><td>2.76 </td><td>3.460</td><td>1    </td><td>0    </td><td>3    </td><td>1    </td></tr>\n",
       "\t<tr><th scope=row>Duster 360</th><td>14.3 </td><td>8    </td><td>360.0</td><td>245  </td><td>3.21 </td><td>3.570</td><td>0    </td><td>0    </td><td>3    </td><td>4    </td></tr>\n",
       "\t<tr><th scope=row>Merc 240D</th><td>24.4 </td><td>4    </td><td>146.7</td><td> 62  </td><td>3.69 </td><td>3.190</td><td>1    </td><td>0    </td><td>4    </td><td>2    </td></tr>\n",
       "\t<tr><th scope=row>Merc 230</th><td>22.8 </td><td>4    </td><td>140.8</td><td> 95  </td><td>3.92 </td><td>3.150</td><td>1    </td><td>0    </td><td>4    </td><td>2    </td></tr>\n",
       "\t<tr><th scope=row>Merc 280</th><td>19.2 </td><td>6    </td><td>167.6</td><td>123  </td><td>3.92 </td><td>3.440</td><td>1    </td><td>0    </td><td>4    </td><td>4    </td></tr>\n",
       "\t<tr><th scope=row>Merc 280C</th><td>17.8 </td><td>6    </td><td>167.6</td><td>123  </td><td>3.92 </td><td>3.440</td><td>1    </td><td>0    </td><td>4    </td><td>4    </td></tr>\n",
       "\t<tr><th scope=row>Merc 450SE</th><td>16.4 </td><td>8    </td><td>275.8</td><td>180  </td><td>3.07 </td><td>4.070</td><td>0    </td><td>0    </td><td>3    </td><td>3    </td></tr>\n",
       "\t<tr><th scope=row>Merc 450SL</th><td>17.3 </td><td>8    </td><td>275.8</td><td>180  </td><td>3.07 </td><td>3.730</td><td>0    </td><td>0    </td><td>3    </td><td>3    </td></tr>\n",
       "\t<tr><th scope=row>Merc 450SLC</th><td>15.2 </td><td>8    </td><td>275.8</td><td>180  </td><td>3.07 </td><td>3.780</td><td>0    </td><td>0    </td><td>3    </td><td>3    </td></tr>\n",
       "\t<tr><th scope=row>Cadillac Fleetwood</th><td>10.4 </td><td>8    </td><td>472.0</td><td>205  </td><td>2.93 </td><td>5.250</td><td>0    </td><td>0    </td><td>3    </td><td>4    </td></tr>\n",
       "\t<tr><th scope=row>Lincoln Continental</th><td>10.4 </td><td>8    </td><td>460.0</td><td>215  </td><td>3.00 </td><td>5.424</td><td>0    </td><td>0    </td><td>3    </td><td>4    </td></tr>\n",
       "\t<tr><th scope=row>Chrysler Imperial</th><td>14.7 </td><td>8    </td><td>440.0</td><td>230  </td><td>3.23 </td><td>5.345</td><td>0    </td><td>0    </td><td>3    </td><td>4    </td></tr>\n",
       "\t<tr><th scope=row>Fiat 128</th><td>32.4 </td><td>4    </td><td> 78.7</td><td> 66  </td><td>4.08 </td><td>2.200</td><td>1    </td><td>1    </td><td>4    </td><td>1    </td></tr>\n",
       "\t<tr><th scope=row>Honda Civic</th><td>30.4 </td><td>4    </td><td> 75.7</td><td> 52  </td><td>4.93 </td><td>1.615</td><td>1    </td><td>1    </td><td>4    </td><td>2    </td></tr>\n",
       "\t<tr><th scope=row>Toyota Corolla</th><td>33.9 </td><td>4    </td><td> 71.1</td><td> 65  </td><td>4.22 </td><td>1.835</td><td>1    </td><td>1    </td><td>4    </td><td>1    </td></tr>\n",
       "\t<tr><th scope=row>Toyota Corona</th><td>21.5 </td><td>4    </td><td>120.1</td><td> 97  </td><td>3.70 </td><td>2.465</td><td>1    </td><td>0    </td><td>3    </td><td>1    </td></tr>\n",
       "\t<tr><th scope=row>Dodge Challenger</th><td>15.5 </td><td>8    </td><td>318.0</td><td>150  </td><td>2.76 </td><td>3.520</td><td>0    </td><td>0    </td><td>3    </td><td>2    </td></tr>\n",
       "\t<tr><th scope=row>AMC Javelin</th><td>15.2 </td><td>8    </td><td>304.0</td><td>150  </td><td>3.15 </td><td>3.435</td><td>0    </td><td>0    </td><td>3    </td><td>2    </td></tr>\n",
       "\t<tr><th scope=row>Camaro Z28</th><td>13.3 </td><td>8    </td><td>350.0</td><td>245  </td><td>3.73 </td><td>3.840</td><td>0    </td><td>0    </td><td>3    </td><td>4    </td></tr>\n",
       "\t<tr><th scope=row>Pontiac Firebird</th><td>19.2 </td><td>8    </td><td>400.0</td><td>175  </td><td>3.08 </td><td>3.845</td><td>0    </td><td>0    </td><td>3    </td><td>2    </td></tr>\n",
       "\t<tr><th scope=row>Fiat X1-9</th><td>27.3 </td><td>4    </td><td> 79.0</td><td> 66  </td><td>4.08 </td><td>1.935</td><td>1    </td><td>1    </td><td>4    </td><td>1    </td></tr>\n",
       "\t<tr><th scope=row>Porsche 914-2</th><td>26.0 </td><td>4    </td><td>120.3</td><td> 91  </td><td>4.43 </td><td>2.140</td><td>0    </td><td>1    </td><td>5    </td><td>2    </td></tr>\n",
       "\t<tr><th scope=row>Lotus Europa</th><td>30.4 </td><td>4    </td><td> 95.1</td><td>113  </td><td>3.77 </td><td>1.513</td><td>1    </td><td>1    </td><td>5    </td><td>2    </td></tr>\n",
       "\t<tr><th scope=row>Ford Pantera L</th><td>15.8 </td><td>8    </td><td>351.0</td><td>264  </td><td>4.22 </td><td>3.170</td><td>0    </td><td>1    </td><td>5    </td><td>4    </td></tr>\n",
       "\t<tr><th scope=row>Ferrari Dino</th><td>19.7 </td><td>6    </td><td>145.0</td><td>175  </td><td>3.62 </td><td>2.770</td><td>0    </td><td>1    </td><td>5    </td><td>6    </td></tr>\n",
       "\t<tr><th scope=row>Maserati Bora</th><td>15.0 </td><td>8    </td><td>301.0</td><td>335  </td><td>3.54 </td><td>3.570</td><td>0    </td><td>1    </td><td>5    </td><td>8    </td></tr>\n",
       "\t<tr><th scope=row>Volvo 142E</th><td>21.4 </td><td>4    </td><td>121.0</td><td>109  </td><td>4.11 </td><td>2.780</td><td>1    </td><td>1    </td><td>4    </td><td>2    </td></tr>\n",
       "</tbody>\n",
       "</table>\n"
      ],
      "text/latex": [
       "\\begin{tabular}{r|llllllllll}\n",
       "  & mpg & cyl & disp & hp & drat & wt & vs & am & gear & qtd\\_carburadores\\\\\n",
       "\\hline\n",
       "\tMazda RX4 & 21.0  & 6     & 160.0 & 110   & 3.90  & 2.620 & 0     & 1     & 4     & 4    \\\\\n",
       "\tMazda RX4 Wag & 21.0  & 6     & 160.0 & 110   & 3.90  & 2.875 & 0     & 1     & 4     & 4    \\\\\n",
       "\tDatsun 710 & 22.8  & 4     & 108.0 &  93   & 3.85  & 2.320 & 1     & 1     & 4     & 1    \\\\\n",
       "\tHornet 4 Drive & 21.4  & 6     & 258.0 & 110   & 3.08  & 3.215 & 1     & 0     & 3     & 1    \\\\\n",
       "\tHornet Sportabout & 18.7  & 8     & 360.0 & 175   & 3.15  & 3.440 & 0     & 0     & 3     & 2    \\\\\n",
       "\tValiant & 18.1  & 6     & 225.0 & 105   & 2.76  & 3.460 & 1     & 0     & 3     & 1    \\\\\n",
       "\tDuster 360 & 14.3  & 8     & 360.0 & 245   & 3.21  & 3.570 & 0     & 0     & 3     & 4    \\\\\n",
       "\tMerc 240D & 24.4  & 4     & 146.7 &  62   & 3.69  & 3.190 & 1     & 0     & 4     & 2    \\\\\n",
       "\tMerc 230 & 22.8  & 4     & 140.8 &  95   & 3.92  & 3.150 & 1     & 0     & 4     & 2    \\\\\n",
       "\tMerc 280 & 19.2  & 6     & 167.6 & 123   & 3.92  & 3.440 & 1     & 0     & 4     & 4    \\\\\n",
       "\tMerc 280C & 17.8  & 6     & 167.6 & 123   & 3.92  & 3.440 & 1     & 0     & 4     & 4    \\\\\n",
       "\tMerc 450SE & 16.4  & 8     & 275.8 & 180   & 3.07  & 4.070 & 0     & 0     & 3     & 3    \\\\\n",
       "\tMerc 450SL & 17.3  & 8     & 275.8 & 180   & 3.07  & 3.730 & 0     & 0     & 3     & 3    \\\\\n",
       "\tMerc 450SLC & 15.2  & 8     & 275.8 & 180   & 3.07  & 3.780 & 0     & 0     & 3     & 3    \\\\\n",
       "\tCadillac Fleetwood & 10.4  & 8     & 472.0 & 205   & 2.93  & 5.250 & 0     & 0     & 3     & 4    \\\\\n",
       "\tLincoln Continental & 10.4  & 8     & 460.0 & 215   & 3.00  & 5.424 & 0     & 0     & 3     & 4    \\\\\n",
       "\tChrysler Imperial & 14.7  & 8     & 440.0 & 230   & 3.23  & 5.345 & 0     & 0     & 3     & 4    \\\\\n",
       "\tFiat 128 & 32.4  & 4     &  78.7 &  66   & 4.08  & 2.200 & 1     & 1     & 4     & 1    \\\\\n",
       "\tHonda Civic & 30.4  & 4     &  75.7 &  52   & 4.93  & 1.615 & 1     & 1     & 4     & 2    \\\\\n",
       "\tToyota Corolla & 33.9  & 4     &  71.1 &  65   & 4.22  & 1.835 & 1     & 1     & 4     & 1    \\\\\n",
       "\tToyota Corona & 21.5  & 4     & 120.1 &  97   & 3.70  & 2.465 & 1     & 0     & 3     & 1    \\\\\n",
       "\tDodge Challenger & 15.5  & 8     & 318.0 & 150   & 2.76  & 3.520 & 0     & 0     & 3     & 2    \\\\\n",
       "\tAMC Javelin & 15.2  & 8     & 304.0 & 150   & 3.15  & 3.435 & 0     & 0     & 3     & 2    \\\\\n",
       "\tCamaro Z28 & 13.3  & 8     & 350.0 & 245   & 3.73  & 3.840 & 0     & 0     & 3     & 4    \\\\\n",
       "\tPontiac Firebird & 19.2  & 8     & 400.0 & 175   & 3.08  & 3.845 & 0     & 0     & 3     & 2    \\\\\n",
       "\tFiat X1-9 & 27.3  & 4     &  79.0 &  66   & 4.08  & 1.935 & 1     & 1     & 4     & 1    \\\\\n",
       "\tPorsche 914-2 & 26.0  & 4     & 120.3 &  91   & 4.43  & 2.140 & 0     & 1     & 5     & 2    \\\\\n",
       "\tLotus Europa & 30.4  & 4     &  95.1 & 113   & 3.77  & 1.513 & 1     & 1     & 5     & 2    \\\\\n",
       "\tFord Pantera L & 15.8  & 8     & 351.0 & 264   & 4.22  & 3.170 & 0     & 1     & 5     & 4    \\\\\n",
       "\tFerrari Dino & 19.7  & 6     & 145.0 & 175   & 3.62  & 2.770 & 0     & 1     & 5     & 6    \\\\\n",
       "\tMaserati Bora & 15.0  & 8     & 301.0 & 335   & 3.54  & 3.570 & 0     & 1     & 5     & 8    \\\\\n",
       "\tVolvo 142E & 21.4  & 4     & 121.0 & 109   & 4.11  & 2.780 & 1     & 1     & 4     & 2    \\\\\n",
       "\\end{tabular}\n"
      ],
      "text/markdown": [
       "\n",
       "| <!--/--> | mpg | cyl | disp | hp | drat | wt | vs | am | gear | qtd_carburadores | \n",
       "|---|---|---|---|---|---|---|---|---|---|---|---|---|---|---|---|---|---|---|---|---|---|---|---|---|---|---|---|---|---|---|---|\n",
       "| Mazda RX4 | 21.0  | 6     | 160.0 | 110   | 3.90  | 2.620 | 0     | 1     | 4     | 4     | \n",
       "| Mazda RX4 Wag | 21.0  | 6     | 160.0 | 110   | 3.90  | 2.875 | 0     | 1     | 4     | 4     | \n",
       "| Datsun 710 | 22.8  | 4     | 108.0 |  93   | 3.85  | 2.320 | 1     | 1     | 4     | 1     | \n",
       "| Hornet 4 Drive | 21.4  | 6     | 258.0 | 110   | 3.08  | 3.215 | 1     | 0     | 3     | 1     | \n",
       "| Hornet Sportabout | 18.7  | 8     | 360.0 | 175   | 3.15  | 3.440 | 0     | 0     | 3     | 2     | \n",
       "| Valiant | 18.1  | 6     | 225.0 | 105   | 2.76  | 3.460 | 1     | 0     | 3     | 1     | \n",
       "| Duster 360 | 14.3  | 8     | 360.0 | 245   | 3.21  | 3.570 | 0     | 0     | 3     | 4     | \n",
       "| Merc 240D | 24.4  | 4     | 146.7 |  62   | 3.69  | 3.190 | 1     | 0     | 4     | 2     | \n",
       "| Merc 230 | 22.8  | 4     | 140.8 |  95   | 3.92  | 3.150 | 1     | 0     | 4     | 2     | \n",
       "| Merc 280 | 19.2  | 6     | 167.6 | 123   | 3.92  | 3.440 | 1     | 0     | 4     | 4     | \n",
       "| Merc 280C | 17.8  | 6     | 167.6 | 123   | 3.92  | 3.440 | 1     | 0     | 4     | 4     | \n",
       "| Merc 450SE | 16.4  | 8     | 275.8 | 180   | 3.07  | 4.070 | 0     | 0     | 3     | 3     | \n",
       "| Merc 450SL | 17.3  | 8     | 275.8 | 180   | 3.07  | 3.730 | 0     | 0     | 3     | 3     | \n",
       "| Merc 450SLC | 15.2  | 8     | 275.8 | 180   | 3.07  | 3.780 | 0     | 0     | 3     | 3     | \n",
       "| Cadillac Fleetwood | 10.4  | 8     | 472.0 | 205   | 2.93  | 5.250 | 0     | 0     | 3     | 4     | \n",
       "| Lincoln Continental | 10.4  | 8     | 460.0 | 215   | 3.00  | 5.424 | 0     | 0     | 3     | 4     | \n",
       "| Chrysler Imperial | 14.7  | 8     | 440.0 | 230   | 3.23  | 5.345 | 0     | 0     | 3     | 4     | \n",
       "| Fiat 128 | 32.4  | 4     |  78.7 |  66   | 4.08  | 2.200 | 1     | 1     | 4     | 1     | \n",
       "| Honda Civic | 30.4  | 4     |  75.7 |  52   | 4.93  | 1.615 | 1     | 1     | 4     | 2     | \n",
       "| Toyota Corolla | 33.9  | 4     |  71.1 |  65   | 4.22  | 1.835 | 1     | 1     | 4     | 1     | \n",
       "| Toyota Corona | 21.5  | 4     | 120.1 |  97   | 3.70  | 2.465 | 1     | 0     | 3     | 1     | \n",
       "| Dodge Challenger | 15.5  | 8     | 318.0 | 150   | 2.76  | 3.520 | 0     | 0     | 3     | 2     | \n",
       "| AMC Javelin | 15.2  | 8     | 304.0 | 150   | 3.15  | 3.435 | 0     | 0     | 3     | 2     | \n",
       "| Camaro Z28 | 13.3  | 8     | 350.0 | 245   | 3.73  | 3.840 | 0     | 0     | 3     | 4     | \n",
       "| Pontiac Firebird | 19.2  | 8     | 400.0 | 175   | 3.08  | 3.845 | 0     | 0     | 3     | 2     | \n",
       "| Fiat X1-9 | 27.3  | 4     |  79.0 |  66   | 4.08  | 1.935 | 1     | 1     | 4     | 1     | \n",
       "| Porsche 914-2 | 26.0  | 4     | 120.3 |  91   | 4.43  | 2.140 | 0     | 1     | 5     | 2     | \n",
       "| Lotus Europa | 30.4  | 4     |  95.1 | 113   | 3.77  | 1.513 | 1     | 1     | 5     | 2     | \n",
       "| Ford Pantera L | 15.8  | 8     | 351.0 | 264   | 4.22  | 3.170 | 0     | 1     | 5     | 4     | \n",
       "| Ferrari Dino | 19.7  | 6     | 145.0 | 175   | 3.62  | 2.770 | 0     | 1     | 5     | 6     | \n",
       "| Maserati Bora | 15.0  | 8     | 301.0 | 335   | 3.54  | 3.570 | 0     | 1     | 5     | 8     | \n",
       "| Volvo 142E | 21.4  | 4     | 121.0 | 109   | 4.11  | 2.780 | 1     | 1     | 4     | 2     | \n",
       "\n",
       "\n"
      ],
      "text/plain": [
       "                    mpg  cyl disp  hp  drat wt    vs am gear qtd_carburadores\n",
       "Mazda RX4           21.0 6   160.0 110 3.90 2.620 0  1  4    4               \n",
       "Mazda RX4 Wag       21.0 6   160.0 110 3.90 2.875 0  1  4    4               \n",
       "Datsun 710          22.8 4   108.0  93 3.85 2.320 1  1  4    1               \n",
       "Hornet 4 Drive      21.4 6   258.0 110 3.08 3.215 1  0  3    1               \n",
       "Hornet Sportabout   18.7 8   360.0 175 3.15 3.440 0  0  3    2               \n",
       "Valiant             18.1 6   225.0 105 2.76 3.460 1  0  3    1               \n",
       "Duster 360          14.3 8   360.0 245 3.21 3.570 0  0  3    4               \n",
       "Merc 240D           24.4 4   146.7  62 3.69 3.190 1  0  4    2               \n",
       "Merc 230            22.8 4   140.8  95 3.92 3.150 1  0  4    2               \n",
       "Merc 280            19.2 6   167.6 123 3.92 3.440 1  0  4    4               \n",
       "Merc 280C           17.8 6   167.6 123 3.92 3.440 1  0  4    4               \n",
       "Merc 450SE          16.4 8   275.8 180 3.07 4.070 0  0  3    3               \n",
       "Merc 450SL          17.3 8   275.8 180 3.07 3.730 0  0  3    3               \n",
       "Merc 450SLC         15.2 8   275.8 180 3.07 3.780 0  0  3    3               \n",
       "Cadillac Fleetwood  10.4 8   472.0 205 2.93 5.250 0  0  3    4               \n",
       "Lincoln Continental 10.4 8   460.0 215 3.00 5.424 0  0  3    4               \n",
       "Chrysler Imperial   14.7 8   440.0 230 3.23 5.345 0  0  3    4               \n",
       "Fiat 128            32.4 4    78.7  66 4.08 2.200 1  1  4    1               \n",
       "Honda Civic         30.4 4    75.7  52 4.93 1.615 1  1  4    2               \n",
       "Toyota Corolla      33.9 4    71.1  65 4.22 1.835 1  1  4    1               \n",
       "Toyota Corona       21.5 4   120.1  97 3.70 2.465 1  0  3    1               \n",
       "Dodge Challenger    15.5 8   318.0 150 2.76 3.520 0  0  3    2               \n",
       "AMC Javelin         15.2 8   304.0 150 3.15 3.435 0  0  3    2               \n",
       "Camaro Z28          13.3 8   350.0 245 3.73 3.840 0  0  3    4               \n",
       "Pontiac Firebird    19.2 8   400.0 175 3.08 3.845 0  0  3    2               \n",
       "Fiat X1-9           27.3 4    79.0  66 4.08 1.935 1  1  4    1               \n",
       "Porsche 914-2       26.0 4   120.3  91 4.43 2.140 0  1  5    2               \n",
       "Lotus Europa        30.4 4    95.1 113 3.77 1.513 1  1  5    2               \n",
       "Ford Pantera L      15.8 8   351.0 264 4.22 3.170 0  1  5    4               \n",
       "Ferrari Dino        19.7 6   145.0 175 3.62 2.770 0  1  5    6               \n",
       "Maserati Bora       15.0 8   301.0 335 3.54 3.570 0  1  5    8               \n",
       "Volvo 142E          21.4 4   121.0 109 4.11 2.780 1  1  4    2               "
      ]
     },
     "metadata": {},
     "output_type": "display_data"
    }
   ],
   "source": [
    "within(df, rm('qsec'))"
   ]
  },
  {
   "cell_type": "markdown",
   "metadata": {},
   "source": [
    "### Exercício 3.10\n",
    "\n",
    "Obtenha um novo data frame contendo apenas as variáveis mpg, wt e cyl;"
   ]
  },
  {
   "cell_type": "code",
   "execution_count": 65,
   "metadata": {},
   "outputs": [
    {
     "data": {
      "text/html": [
       "<table>\n",
       "<thead><tr><th></th><th scope=col>mpg</th><th scope=col>wt</th><th scope=col>cyl</th></tr></thead>\n",
       "<tbody>\n",
       "\t<tr><th scope=row>Mazda RX4</th><td>21.0 </td><td>2.620</td><td>6    </td></tr>\n",
       "\t<tr><th scope=row>Mazda RX4 Wag</th><td>21.0 </td><td>2.875</td><td>6    </td></tr>\n",
       "\t<tr><th scope=row>Datsun 710</th><td>22.8 </td><td>2.320</td><td>4    </td></tr>\n",
       "\t<tr><th scope=row>Hornet 4 Drive</th><td>21.4 </td><td>3.215</td><td>6    </td></tr>\n",
       "\t<tr><th scope=row>Hornet Sportabout</th><td>18.7 </td><td>3.440</td><td>8    </td></tr>\n",
       "\t<tr><th scope=row>Valiant</th><td>18.1 </td><td>3.460</td><td>6    </td></tr>\n",
       "\t<tr><th scope=row>Duster 360</th><td>14.3 </td><td>3.570</td><td>8    </td></tr>\n",
       "\t<tr><th scope=row>Merc 240D</th><td>24.4 </td><td>3.190</td><td>4    </td></tr>\n",
       "\t<tr><th scope=row>Merc 230</th><td>22.8 </td><td>3.150</td><td>4    </td></tr>\n",
       "\t<tr><th scope=row>Merc 280</th><td>19.2 </td><td>3.440</td><td>6    </td></tr>\n",
       "\t<tr><th scope=row>Merc 280C</th><td>17.8 </td><td>3.440</td><td>6    </td></tr>\n",
       "\t<tr><th scope=row>Merc 450SE</th><td>16.4 </td><td>4.070</td><td>8    </td></tr>\n",
       "\t<tr><th scope=row>Merc 450SL</th><td>17.3 </td><td>3.730</td><td>8    </td></tr>\n",
       "\t<tr><th scope=row>Merc 450SLC</th><td>15.2 </td><td>3.780</td><td>8    </td></tr>\n",
       "\t<tr><th scope=row>Cadillac Fleetwood</th><td>10.4 </td><td>5.250</td><td>8    </td></tr>\n",
       "\t<tr><th scope=row>Lincoln Continental</th><td>10.4 </td><td>5.424</td><td>8    </td></tr>\n",
       "\t<tr><th scope=row>Chrysler Imperial</th><td>14.7 </td><td>5.345</td><td>8    </td></tr>\n",
       "\t<tr><th scope=row>Fiat 128</th><td>32.4 </td><td>2.200</td><td>4    </td></tr>\n",
       "\t<tr><th scope=row>Honda Civic</th><td>30.4 </td><td>1.615</td><td>4    </td></tr>\n",
       "\t<tr><th scope=row>Toyota Corolla</th><td>33.9 </td><td>1.835</td><td>4    </td></tr>\n",
       "\t<tr><th scope=row>Toyota Corona</th><td>21.5 </td><td>2.465</td><td>4    </td></tr>\n",
       "\t<tr><th scope=row>Dodge Challenger</th><td>15.5 </td><td>3.520</td><td>8    </td></tr>\n",
       "\t<tr><th scope=row>AMC Javelin</th><td>15.2 </td><td>3.435</td><td>8    </td></tr>\n",
       "\t<tr><th scope=row>Camaro Z28</th><td>13.3 </td><td>3.840</td><td>8    </td></tr>\n",
       "\t<tr><th scope=row>Pontiac Firebird</th><td>19.2 </td><td>3.845</td><td>8    </td></tr>\n",
       "\t<tr><th scope=row>Fiat X1-9</th><td>27.3 </td><td>1.935</td><td>4    </td></tr>\n",
       "\t<tr><th scope=row>Porsche 914-2</th><td>26.0 </td><td>2.140</td><td>4    </td></tr>\n",
       "\t<tr><th scope=row>Lotus Europa</th><td>30.4 </td><td>1.513</td><td>4    </td></tr>\n",
       "\t<tr><th scope=row>Ford Pantera L</th><td>15.8 </td><td>3.170</td><td>8    </td></tr>\n",
       "\t<tr><th scope=row>Ferrari Dino</th><td>19.7 </td><td>2.770</td><td>6    </td></tr>\n",
       "\t<tr><th scope=row>Maserati Bora</th><td>15.0 </td><td>3.570</td><td>8    </td></tr>\n",
       "\t<tr><th scope=row>Volvo 142E</th><td>21.4 </td><td>2.780</td><td>4    </td></tr>\n",
       "</tbody>\n",
       "</table>\n"
      ],
      "text/latex": [
       "\\begin{tabular}{r|lll}\n",
       "  & mpg & wt & cyl\\\\\n",
       "\\hline\n",
       "\tMazda RX4 & 21.0  & 2.620 & 6    \\\\\n",
       "\tMazda RX4 Wag & 21.0  & 2.875 & 6    \\\\\n",
       "\tDatsun 710 & 22.8  & 2.320 & 4    \\\\\n",
       "\tHornet 4 Drive & 21.4  & 3.215 & 6    \\\\\n",
       "\tHornet Sportabout & 18.7  & 3.440 & 8    \\\\\n",
       "\tValiant & 18.1  & 3.460 & 6    \\\\\n",
       "\tDuster 360 & 14.3  & 3.570 & 8    \\\\\n",
       "\tMerc 240D & 24.4  & 3.190 & 4    \\\\\n",
       "\tMerc 230 & 22.8  & 3.150 & 4    \\\\\n",
       "\tMerc 280 & 19.2  & 3.440 & 6    \\\\\n",
       "\tMerc 280C & 17.8  & 3.440 & 6    \\\\\n",
       "\tMerc 450SE & 16.4  & 4.070 & 8    \\\\\n",
       "\tMerc 450SL & 17.3  & 3.730 & 8    \\\\\n",
       "\tMerc 450SLC & 15.2  & 3.780 & 8    \\\\\n",
       "\tCadillac Fleetwood & 10.4  & 5.250 & 8    \\\\\n",
       "\tLincoln Continental & 10.4  & 5.424 & 8    \\\\\n",
       "\tChrysler Imperial & 14.7  & 5.345 & 8    \\\\\n",
       "\tFiat 128 & 32.4  & 2.200 & 4    \\\\\n",
       "\tHonda Civic & 30.4  & 1.615 & 4    \\\\\n",
       "\tToyota Corolla & 33.9  & 1.835 & 4    \\\\\n",
       "\tToyota Corona & 21.5  & 2.465 & 4    \\\\\n",
       "\tDodge Challenger & 15.5  & 3.520 & 8    \\\\\n",
       "\tAMC Javelin & 15.2  & 3.435 & 8    \\\\\n",
       "\tCamaro Z28 & 13.3  & 3.840 & 8    \\\\\n",
       "\tPontiac Firebird & 19.2  & 3.845 & 8    \\\\\n",
       "\tFiat X1-9 & 27.3  & 1.935 & 4    \\\\\n",
       "\tPorsche 914-2 & 26.0  & 2.140 & 4    \\\\\n",
       "\tLotus Europa & 30.4  & 1.513 & 4    \\\\\n",
       "\tFord Pantera L & 15.8  & 3.170 & 8    \\\\\n",
       "\tFerrari Dino & 19.7  & 2.770 & 6    \\\\\n",
       "\tMaserati Bora & 15.0  & 3.570 & 8    \\\\\n",
       "\tVolvo 142E & 21.4  & 2.780 & 4    \\\\\n",
       "\\end{tabular}\n"
      ],
      "text/markdown": [
       "\n",
       "| <!--/--> | mpg | wt | cyl | \n",
       "|---|---|---|---|---|---|---|---|---|---|---|---|---|---|---|---|---|---|---|---|---|---|---|---|---|---|---|---|---|---|---|---|\n",
       "| Mazda RX4 | 21.0  | 2.620 | 6     | \n",
       "| Mazda RX4 Wag | 21.0  | 2.875 | 6     | \n",
       "| Datsun 710 | 22.8  | 2.320 | 4     | \n",
       "| Hornet 4 Drive | 21.4  | 3.215 | 6     | \n",
       "| Hornet Sportabout | 18.7  | 3.440 | 8     | \n",
       "| Valiant | 18.1  | 3.460 | 6     | \n",
       "| Duster 360 | 14.3  | 3.570 | 8     | \n",
       "| Merc 240D | 24.4  | 3.190 | 4     | \n",
       "| Merc 230 | 22.8  | 3.150 | 4     | \n",
       "| Merc 280 | 19.2  | 3.440 | 6     | \n",
       "| Merc 280C | 17.8  | 3.440 | 6     | \n",
       "| Merc 450SE | 16.4  | 4.070 | 8     | \n",
       "| Merc 450SL | 17.3  | 3.730 | 8     | \n",
       "| Merc 450SLC | 15.2  | 3.780 | 8     | \n",
       "| Cadillac Fleetwood | 10.4  | 5.250 | 8     | \n",
       "| Lincoln Continental | 10.4  | 5.424 | 8     | \n",
       "| Chrysler Imperial | 14.7  | 5.345 | 8     | \n",
       "| Fiat 128 | 32.4  | 2.200 | 4     | \n",
       "| Honda Civic | 30.4  | 1.615 | 4     | \n",
       "| Toyota Corolla | 33.9  | 1.835 | 4     | \n",
       "| Toyota Corona | 21.5  | 2.465 | 4     | \n",
       "| Dodge Challenger | 15.5  | 3.520 | 8     | \n",
       "| AMC Javelin | 15.2  | 3.435 | 8     | \n",
       "| Camaro Z28 | 13.3  | 3.840 | 8     | \n",
       "| Pontiac Firebird | 19.2  | 3.845 | 8     | \n",
       "| Fiat X1-9 | 27.3  | 1.935 | 4     | \n",
       "| Porsche 914-2 | 26.0  | 2.140 | 4     | \n",
       "| Lotus Europa | 30.4  | 1.513 | 4     | \n",
       "| Ford Pantera L | 15.8  | 3.170 | 8     | \n",
       "| Ferrari Dino | 19.7  | 2.770 | 6     | \n",
       "| Maserati Bora | 15.0  | 3.570 | 8     | \n",
       "| Volvo 142E | 21.4  | 2.780 | 4     | \n",
       "\n",
       "\n"
      ],
      "text/plain": [
       "                    mpg  wt    cyl\n",
       "Mazda RX4           21.0 2.620 6  \n",
       "Mazda RX4 Wag       21.0 2.875 6  \n",
       "Datsun 710          22.8 2.320 4  \n",
       "Hornet 4 Drive      21.4 3.215 6  \n",
       "Hornet Sportabout   18.7 3.440 8  \n",
       "Valiant             18.1 3.460 6  \n",
       "Duster 360          14.3 3.570 8  \n",
       "Merc 240D           24.4 3.190 4  \n",
       "Merc 230            22.8 3.150 4  \n",
       "Merc 280            19.2 3.440 6  \n",
       "Merc 280C           17.8 3.440 6  \n",
       "Merc 450SE          16.4 4.070 8  \n",
       "Merc 450SL          17.3 3.730 8  \n",
       "Merc 450SLC         15.2 3.780 8  \n",
       "Cadillac Fleetwood  10.4 5.250 8  \n",
       "Lincoln Continental 10.4 5.424 8  \n",
       "Chrysler Imperial   14.7 5.345 8  \n",
       "Fiat 128            32.4 2.200 4  \n",
       "Honda Civic         30.4 1.615 4  \n",
       "Toyota Corolla      33.9 1.835 4  \n",
       "Toyota Corona       21.5 2.465 4  \n",
       "Dodge Challenger    15.5 3.520 8  \n",
       "AMC Javelin         15.2 3.435 8  \n",
       "Camaro Z28          13.3 3.840 8  \n",
       "Pontiac Firebird    19.2 3.845 8  \n",
       "Fiat X1-9           27.3 1.935 4  \n",
       "Porsche 914-2       26.0 2.140 4  \n",
       "Lotus Europa        30.4 1.513 4  \n",
       "Ford Pantera L      15.8 3.170 8  \n",
       "Ferrari Dino        19.7 2.770 6  \n",
       "Maserati Bora       15.0 3.570 8  \n",
       "Volvo 142E          21.4 2.780 4  "
      ]
     },
     "metadata": {},
     "output_type": "display_data"
    }
   ],
   "source": [
    "new_df <- df[c(\"mpg\", \"wt\", \"cyl\")]\n",
    "new_df"
   ]
  },
  {
   "cell_type": "markdown",
   "metadata": {},
   "source": [
    "### Exercício 3.11\n",
    "\n",
    "No data frame obtido na questão anterior reordene as colunas de forma que as variáveis apareçam na seguinte ordem: cyl, mpg, wt;"
   ]
  },
  {
   "cell_type": "code",
   "execution_count": 66,
   "metadata": {},
   "outputs": [
    {
     "data": {
      "text/html": [
       "<table>\n",
       "<thead><tr><th></th><th scope=col>cyl</th><th scope=col>mpg</th><th scope=col>wt</th></tr></thead>\n",
       "<tbody>\n",
       "\t<tr><th scope=row>Mazda RX4</th><td>6    </td><td>21.0 </td><td>2.620</td></tr>\n",
       "\t<tr><th scope=row>Mazda RX4 Wag</th><td>6    </td><td>21.0 </td><td>2.875</td></tr>\n",
       "\t<tr><th scope=row>Datsun 710</th><td>4    </td><td>22.8 </td><td>2.320</td></tr>\n",
       "\t<tr><th scope=row>Hornet 4 Drive</th><td>6    </td><td>21.4 </td><td>3.215</td></tr>\n",
       "\t<tr><th scope=row>Hornet Sportabout</th><td>8    </td><td>18.7 </td><td>3.440</td></tr>\n",
       "\t<tr><th scope=row>Valiant</th><td>6    </td><td>18.1 </td><td>3.460</td></tr>\n",
       "\t<tr><th scope=row>Duster 360</th><td>8    </td><td>14.3 </td><td>3.570</td></tr>\n",
       "\t<tr><th scope=row>Merc 240D</th><td>4    </td><td>24.4 </td><td>3.190</td></tr>\n",
       "\t<tr><th scope=row>Merc 230</th><td>4    </td><td>22.8 </td><td>3.150</td></tr>\n",
       "\t<tr><th scope=row>Merc 280</th><td>6    </td><td>19.2 </td><td>3.440</td></tr>\n",
       "\t<tr><th scope=row>Merc 280C</th><td>6    </td><td>17.8 </td><td>3.440</td></tr>\n",
       "\t<tr><th scope=row>Merc 450SE</th><td>8    </td><td>16.4 </td><td>4.070</td></tr>\n",
       "\t<tr><th scope=row>Merc 450SL</th><td>8    </td><td>17.3 </td><td>3.730</td></tr>\n",
       "\t<tr><th scope=row>Merc 450SLC</th><td>8    </td><td>15.2 </td><td>3.780</td></tr>\n",
       "\t<tr><th scope=row>Cadillac Fleetwood</th><td>8    </td><td>10.4 </td><td>5.250</td></tr>\n",
       "\t<tr><th scope=row>Lincoln Continental</th><td>8    </td><td>10.4 </td><td>5.424</td></tr>\n",
       "\t<tr><th scope=row>Chrysler Imperial</th><td>8    </td><td>14.7 </td><td>5.345</td></tr>\n",
       "\t<tr><th scope=row>Fiat 128</th><td>4    </td><td>32.4 </td><td>2.200</td></tr>\n",
       "\t<tr><th scope=row>Honda Civic</th><td>4    </td><td>30.4 </td><td>1.615</td></tr>\n",
       "\t<tr><th scope=row>Toyota Corolla</th><td>4    </td><td>33.9 </td><td>1.835</td></tr>\n",
       "\t<tr><th scope=row>Toyota Corona</th><td>4    </td><td>21.5 </td><td>2.465</td></tr>\n",
       "\t<tr><th scope=row>Dodge Challenger</th><td>8    </td><td>15.5 </td><td>3.520</td></tr>\n",
       "\t<tr><th scope=row>AMC Javelin</th><td>8    </td><td>15.2 </td><td>3.435</td></tr>\n",
       "\t<tr><th scope=row>Camaro Z28</th><td>8    </td><td>13.3 </td><td>3.840</td></tr>\n",
       "\t<tr><th scope=row>Pontiac Firebird</th><td>8    </td><td>19.2 </td><td>3.845</td></tr>\n",
       "\t<tr><th scope=row>Fiat X1-9</th><td>4    </td><td>27.3 </td><td>1.935</td></tr>\n",
       "\t<tr><th scope=row>Porsche 914-2</th><td>4    </td><td>26.0 </td><td>2.140</td></tr>\n",
       "\t<tr><th scope=row>Lotus Europa</th><td>4    </td><td>30.4 </td><td>1.513</td></tr>\n",
       "\t<tr><th scope=row>Ford Pantera L</th><td>8    </td><td>15.8 </td><td>3.170</td></tr>\n",
       "\t<tr><th scope=row>Ferrari Dino</th><td>6    </td><td>19.7 </td><td>2.770</td></tr>\n",
       "\t<tr><th scope=row>Maserati Bora</th><td>8    </td><td>15.0 </td><td>3.570</td></tr>\n",
       "\t<tr><th scope=row>Volvo 142E</th><td>4    </td><td>21.4 </td><td>2.780</td></tr>\n",
       "</tbody>\n",
       "</table>\n"
      ],
      "text/latex": [
       "\\begin{tabular}{r|lll}\n",
       "  & cyl & mpg & wt\\\\\n",
       "\\hline\n",
       "\tMazda RX4 & 6     & 21.0  & 2.620\\\\\n",
       "\tMazda RX4 Wag & 6     & 21.0  & 2.875\\\\\n",
       "\tDatsun 710 & 4     & 22.8  & 2.320\\\\\n",
       "\tHornet 4 Drive & 6     & 21.4  & 3.215\\\\\n",
       "\tHornet Sportabout & 8     & 18.7  & 3.440\\\\\n",
       "\tValiant & 6     & 18.1  & 3.460\\\\\n",
       "\tDuster 360 & 8     & 14.3  & 3.570\\\\\n",
       "\tMerc 240D & 4     & 24.4  & 3.190\\\\\n",
       "\tMerc 230 & 4     & 22.8  & 3.150\\\\\n",
       "\tMerc 280 & 6     & 19.2  & 3.440\\\\\n",
       "\tMerc 280C & 6     & 17.8  & 3.440\\\\\n",
       "\tMerc 450SE & 8     & 16.4  & 4.070\\\\\n",
       "\tMerc 450SL & 8     & 17.3  & 3.730\\\\\n",
       "\tMerc 450SLC & 8     & 15.2  & 3.780\\\\\n",
       "\tCadillac Fleetwood & 8     & 10.4  & 5.250\\\\\n",
       "\tLincoln Continental & 8     & 10.4  & 5.424\\\\\n",
       "\tChrysler Imperial & 8     & 14.7  & 5.345\\\\\n",
       "\tFiat 128 & 4     & 32.4  & 2.200\\\\\n",
       "\tHonda Civic & 4     & 30.4  & 1.615\\\\\n",
       "\tToyota Corolla & 4     & 33.9  & 1.835\\\\\n",
       "\tToyota Corona & 4     & 21.5  & 2.465\\\\\n",
       "\tDodge Challenger & 8     & 15.5  & 3.520\\\\\n",
       "\tAMC Javelin & 8     & 15.2  & 3.435\\\\\n",
       "\tCamaro Z28 & 8     & 13.3  & 3.840\\\\\n",
       "\tPontiac Firebird & 8     & 19.2  & 3.845\\\\\n",
       "\tFiat X1-9 & 4     & 27.3  & 1.935\\\\\n",
       "\tPorsche 914-2 & 4     & 26.0  & 2.140\\\\\n",
       "\tLotus Europa & 4     & 30.4  & 1.513\\\\\n",
       "\tFord Pantera L & 8     & 15.8  & 3.170\\\\\n",
       "\tFerrari Dino & 6     & 19.7  & 2.770\\\\\n",
       "\tMaserati Bora & 8     & 15.0  & 3.570\\\\\n",
       "\tVolvo 142E & 4     & 21.4  & 2.780\\\\\n",
       "\\end{tabular}\n"
      ],
      "text/markdown": [
       "\n",
       "| <!--/--> | cyl | mpg | wt | \n",
       "|---|---|---|---|---|---|---|---|---|---|---|---|---|---|---|---|---|---|---|---|---|---|---|---|---|---|---|---|---|---|---|---|\n",
       "| Mazda RX4 | 6     | 21.0  | 2.620 | \n",
       "| Mazda RX4 Wag | 6     | 21.0  | 2.875 | \n",
       "| Datsun 710 | 4     | 22.8  | 2.320 | \n",
       "| Hornet 4 Drive | 6     | 21.4  | 3.215 | \n",
       "| Hornet Sportabout | 8     | 18.7  | 3.440 | \n",
       "| Valiant | 6     | 18.1  | 3.460 | \n",
       "| Duster 360 | 8     | 14.3  | 3.570 | \n",
       "| Merc 240D | 4     | 24.4  | 3.190 | \n",
       "| Merc 230 | 4     | 22.8  | 3.150 | \n",
       "| Merc 280 | 6     | 19.2  | 3.440 | \n",
       "| Merc 280C | 6     | 17.8  | 3.440 | \n",
       "| Merc 450SE | 8     | 16.4  | 4.070 | \n",
       "| Merc 450SL | 8     | 17.3  | 3.730 | \n",
       "| Merc 450SLC | 8     | 15.2  | 3.780 | \n",
       "| Cadillac Fleetwood | 8     | 10.4  | 5.250 | \n",
       "| Lincoln Continental | 8     | 10.4  | 5.424 | \n",
       "| Chrysler Imperial | 8     | 14.7  | 5.345 | \n",
       "| Fiat 128 | 4     | 32.4  | 2.200 | \n",
       "| Honda Civic | 4     | 30.4  | 1.615 | \n",
       "| Toyota Corolla | 4     | 33.9  | 1.835 | \n",
       "| Toyota Corona | 4     | 21.5  | 2.465 | \n",
       "| Dodge Challenger | 8     | 15.5  | 3.520 | \n",
       "| AMC Javelin | 8     | 15.2  | 3.435 | \n",
       "| Camaro Z28 | 8     | 13.3  | 3.840 | \n",
       "| Pontiac Firebird | 8     | 19.2  | 3.845 | \n",
       "| Fiat X1-9 | 4     | 27.3  | 1.935 | \n",
       "| Porsche 914-2 | 4     | 26.0  | 2.140 | \n",
       "| Lotus Europa | 4     | 30.4  | 1.513 | \n",
       "| Ford Pantera L | 8     | 15.8  | 3.170 | \n",
       "| Ferrari Dino | 6     | 19.7  | 2.770 | \n",
       "| Maserati Bora | 8     | 15.0  | 3.570 | \n",
       "| Volvo 142E | 4     | 21.4  | 2.780 | \n",
       "\n",
       "\n"
      ],
      "text/plain": [
       "                    cyl mpg  wt   \n",
       "Mazda RX4           6   21.0 2.620\n",
       "Mazda RX4 Wag       6   21.0 2.875\n",
       "Datsun 710          4   22.8 2.320\n",
       "Hornet 4 Drive      6   21.4 3.215\n",
       "Hornet Sportabout   8   18.7 3.440\n",
       "Valiant             6   18.1 3.460\n",
       "Duster 360          8   14.3 3.570\n",
       "Merc 240D           4   24.4 3.190\n",
       "Merc 230            4   22.8 3.150\n",
       "Merc 280            6   19.2 3.440\n",
       "Merc 280C           6   17.8 3.440\n",
       "Merc 450SE          8   16.4 4.070\n",
       "Merc 450SL          8   17.3 3.730\n",
       "Merc 450SLC         8   15.2 3.780\n",
       "Cadillac Fleetwood  8   10.4 5.250\n",
       "Lincoln Continental 8   10.4 5.424\n",
       "Chrysler Imperial   8   14.7 5.345\n",
       "Fiat 128            4   32.4 2.200\n",
       "Honda Civic         4   30.4 1.615\n",
       "Toyota Corolla      4   33.9 1.835\n",
       "Toyota Corona       4   21.5 2.465\n",
       "Dodge Challenger    8   15.5 3.520\n",
       "AMC Javelin         8   15.2 3.435\n",
       "Camaro Z28          8   13.3 3.840\n",
       "Pontiac Firebird    8   19.2 3.845\n",
       "Fiat X1-9           4   27.3 1.935\n",
       "Porsche 914-2       4   26.0 2.140\n",
       "Lotus Europa        4   30.4 1.513\n",
       "Ford Pantera L      8   15.8 3.170\n",
       "Ferrari Dino        6   19.7 2.770\n",
       "Maserati Bora       8   15.0 3.570\n",
       "Volvo 142E          4   21.4 2.780"
      ]
     },
     "metadata": {},
     "output_type": "display_data"
    }
   ],
   "source": [
    "cols_ordered = order(names(new_df))\n",
    "new_df[cols_ordered]"
   ]
  },
  {
   "cell_type": "markdown",
   "metadata": {},
   "source": [
    "### Exercício 3.12\n",
    "\n",
    "Obenha os nomes das linhas do conjunto de dados;"
   ]
  },
  {
   "cell_type": "code",
   "execution_count": 67,
   "metadata": {},
   "outputs": [
    {
     "data": {
      "text/html": [
       "<ol class=list-inline>\n",
       "\t<li>'Mazda RX4'</li>\n",
       "\t<li>'Mazda RX4 Wag'</li>\n",
       "\t<li>'Datsun 710'</li>\n",
       "\t<li>'Hornet 4 Drive'</li>\n",
       "\t<li>'Hornet Sportabout'</li>\n",
       "\t<li>'Valiant'</li>\n",
       "\t<li>'Duster 360'</li>\n",
       "\t<li>'Merc 240D'</li>\n",
       "\t<li>'Merc 230'</li>\n",
       "\t<li>'Merc 280'</li>\n",
       "\t<li>'Merc 280C'</li>\n",
       "\t<li>'Merc 450SE'</li>\n",
       "\t<li>'Merc 450SL'</li>\n",
       "\t<li>'Merc 450SLC'</li>\n",
       "\t<li>'Cadillac Fleetwood'</li>\n",
       "\t<li>'Lincoln Continental'</li>\n",
       "\t<li>'Chrysler Imperial'</li>\n",
       "\t<li>'Fiat 128'</li>\n",
       "\t<li>'Honda Civic'</li>\n",
       "\t<li>'Toyota Corolla'</li>\n",
       "\t<li>'Toyota Corona'</li>\n",
       "\t<li>'Dodge Challenger'</li>\n",
       "\t<li>'AMC Javelin'</li>\n",
       "\t<li>'Camaro Z28'</li>\n",
       "\t<li>'Pontiac Firebird'</li>\n",
       "\t<li>'Fiat X1-9'</li>\n",
       "\t<li>'Porsche 914-2'</li>\n",
       "\t<li>'Lotus Europa'</li>\n",
       "\t<li>'Ford Pantera L'</li>\n",
       "\t<li>'Ferrari Dino'</li>\n",
       "\t<li>'Maserati Bora'</li>\n",
       "\t<li>'Volvo 142E'</li>\n",
       "</ol>\n"
      ],
      "text/latex": [
       "\\begin{enumerate*}\n",
       "\\item 'Mazda RX4'\n",
       "\\item 'Mazda RX4 Wag'\n",
       "\\item 'Datsun 710'\n",
       "\\item 'Hornet 4 Drive'\n",
       "\\item 'Hornet Sportabout'\n",
       "\\item 'Valiant'\n",
       "\\item 'Duster 360'\n",
       "\\item 'Merc 240D'\n",
       "\\item 'Merc 230'\n",
       "\\item 'Merc 280'\n",
       "\\item 'Merc 280C'\n",
       "\\item 'Merc 450SE'\n",
       "\\item 'Merc 450SL'\n",
       "\\item 'Merc 450SLC'\n",
       "\\item 'Cadillac Fleetwood'\n",
       "\\item 'Lincoln Continental'\n",
       "\\item 'Chrysler Imperial'\n",
       "\\item 'Fiat 128'\n",
       "\\item 'Honda Civic'\n",
       "\\item 'Toyota Corolla'\n",
       "\\item 'Toyota Corona'\n",
       "\\item 'Dodge Challenger'\n",
       "\\item 'AMC Javelin'\n",
       "\\item 'Camaro Z28'\n",
       "\\item 'Pontiac Firebird'\n",
       "\\item 'Fiat X1-9'\n",
       "\\item 'Porsche 914-2'\n",
       "\\item 'Lotus Europa'\n",
       "\\item 'Ford Pantera L'\n",
       "\\item 'Ferrari Dino'\n",
       "\\item 'Maserati Bora'\n",
       "\\item 'Volvo 142E'\n",
       "\\end{enumerate*}\n"
      ],
      "text/markdown": [
       "1. 'Mazda RX4'\n",
       "2. 'Mazda RX4 Wag'\n",
       "3. 'Datsun 710'\n",
       "4. 'Hornet 4 Drive'\n",
       "5. 'Hornet Sportabout'\n",
       "6. 'Valiant'\n",
       "7. 'Duster 360'\n",
       "8. 'Merc 240D'\n",
       "9. 'Merc 230'\n",
       "10. 'Merc 280'\n",
       "11. 'Merc 280C'\n",
       "12. 'Merc 450SE'\n",
       "13. 'Merc 450SL'\n",
       "14. 'Merc 450SLC'\n",
       "15. 'Cadillac Fleetwood'\n",
       "16. 'Lincoln Continental'\n",
       "17. 'Chrysler Imperial'\n",
       "18. 'Fiat 128'\n",
       "19. 'Honda Civic'\n",
       "20. 'Toyota Corolla'\n",
       "21. 'Toyota Corona'\n",
       "22. 'Dodge Challenger'\n",
       "23. 'AMC Javelin'\n",
       "24. 'Camaro Z28'\n",
       "25. 'Pontiac Firebird'\n",
       "26. 'Fiat X1-9'\n",
       "27. 'Porsche 914-2'\n",
       "28. 'Lotus Europa'\n",
       "29. 'Ford Pantera L'\n",
       "30. 'Ferrari Dino'\n",
       "31. 'Maserati Bora'\n",
       "32. 'Volvo 142E'\n",
       "\n",
       "\n"
      ],
      "text/plain": [
       " [1] \"Mazda RX4\"           \"Mazda RX4 Wag\"       \"Datsun 710\"         \n",
       " [4] \"Hornet 4 Drive\"      \"Hornet Sportabout\"   \"Valiant\"            \n",
       " [7] \"Duster 360\"          \"Merc 240D\"           \"Merc 230\"           \n",
       "[10] \"Merc 280\"            \"Merc 280C\"           \"Merc 450SE\"         \n",
       "[13] \"Merc 450SL\"          \"Merc 450SLC\"         \"Cadillac Fleetwood\" \n",
       "[16] \"Lincoln Continental\" \"Chrysler Imperial\"   \"Fiat 128\"           \n",
       "[19] \"Honda Civic\"         \"Toyota Corolla\"      \"Toyota Corona\"      \n",
       "[22] \"Dodge Challenger\"    \"AMC Javelin\"         \"Camaro Z28\"         \n",
       "[25] \"Pontiac Firebird\"    \"Fiat X1-9\"           \"Porsche 914-2\"      \n",
       "[28] \"Lotus Europa\"        \"Ford Pantera L\"      \"Ferrari Dino\"       \n",
       "[31] \"Maserati Bora\"       \"Volvo 142E\"         "
      ]
     },
     "metadata": {},
     "output_type": "display_data"
    }
   ],
   "source": [
    "rownames(new_df)"
   ]
  },
  {
   "cell_type": "markdown",
   "metadata": {},
   "source": [
    "### Exercício 3.13\n",
    "\n",
    "Qual o valor da variável hp na linha 15 da base de dados?;"
   ]
  },
  {
   "cell_type": "code",
   "execution_count": 68,
   "metadata": {},
   "outputs": [
    {
     "data": {
      "text/html": [
       "205"
      ],
      "text/latex": [
       "205"
      ],
      "text/markdown": [
       "205"
      ],
      "text/plain": [
       "[1] 205"
      ]
     },
     "metadata": {},
     "output_type": "display_data"
    }
   ],
   "source": [
    "df[15, \"hp\"]"
   ]
  },
  {
   "cell_type": "markdown",
   "metadata": {},
   "source": [
    "### Exercício 3.14\n",
    "\n",
    "Qual a média dos valores da variável mpg quando a variável cyl é 6?;"
   ]
  },
  {
   "cell_type": "code",
   "execution_count": 69,
   "metadata": {},
   "outputs": [
    {
     "data": {
      "text/html": [
       "15.1"
      ],
      "text/latex": [
       "15.1"
      ],
      "text/markdown": [
       "15.1"
      ],
      "text/plain": [
       "[1] 15.1"
      ]
     },
     "metadata": {},
     "output_type": "display_data"
    }
   ],
   "source": [
    "df_x = df[which(df$cyl > 6),]\n",
    "mean(df_x[, \"mpg\"])"
   ]
  },
  {
   "cell_type": "markdown",
   "metadata": {},
   "source": [
    "### Exercício 3.15\n",
    "\n",
    "Qual é o produto do valor máximo de cyl com o valor mínimo de wt?;\n"
   ]
  },
  {
   "cell_type": "code",
   "execution_count": 70,
   "metadata": {},
   "outputs": [
    {
     "data": {
      "text/html": [
       "140"
      ],
      "text/latex": [
       "140"
      ],
      "text/markdown": [
       "140"
      ],
      "text/plain": [
       "[1] 140"
      ]
     },
     "metadata": {},
     "output_type": "display_data"
    }
   ],
   "source": [
    "wt_min_value = which.min(df$wt)\n",
    "cyl_max_value = which.max(df$cyl)\n",
    "\n",
    "wt_min_value * cyl_max_value"
   ]
  },
  {
   "cell_type": "markdown",
   "metadata": {},
   "source": [
    "### Exercício 3.16\n",
    "\n",
    "Obtenha as linhas 4, 10 e 19 e as colunas mpg, drat e vs do conjunto de dados;"
   ]
  },
  {
   "cell_type": "code",
   "execution_count": 71,
   "metadata": {},
   "outputs": [
    {
     "data": {
      "text/html": [
       "<table>\n",
       "<thead><tr><th></th><th scope=col>mpg</th><th scope=col>drat</th><th scope=col>vs</th></tr></thead>\n",
       "<tbody>\n",
       "\t<tr><th scope=row>Hornet 4 Drive</th><td>21.4</td><td>3.08</td><td>1   </td></tr>\n",
       "\t<tr><th scope=row>Merc 280</th><td>19.2</td><td>3.92</td><td>1   </td></tr>\n",
       "\t<tr><th scope=row>Honda Civic</th><td>30.4</td><td>4.93</td><td>1   </td></tr>\n",
       "</tbody>\n",
       "</table>\n"
      ],
      "text/latex": [
       "\\begin{tabular}{r|lll}\n",
       "  & mpg & drat & vs\\\\\n",
       "\\hline\n",
       "\tHornet 4 Drive & 21.4 & 3.08 & 1   \\\\\n",
       "\tMerc 280 & 19.2 & 3.92 & 1   \\\\\n",
       "\tHonda Civic & 30.4 & 4.93 & 1   \\\\\n",
       "\\end{tabular}\n"
      ],
      "text/markdown": [
       "\n",
       "| <!--/--> | mpg | drat | vs | \n",
       "|---|---|---|\n",
       "| Hornet 4 Drive | 21.4 | 3.08 | 1    | \n",
       "| Merc 280 | 19.2 | 3.92 | 1    | \n",
       "| Honda Civic | 30.4 | 4.93 | 1    | \n",
       "\n",
       "\n"
      ],
      "text/plain": [
       "               mpg  drat vs\n",
       "Hornet 4 Drive 21.4 3.08 1 \n",
       "Merc 280       19.2 3.92 1 \n",
       "Honda Civic    30.4 4.93 1 "
      ]
     },
     "metadata": {},
     "output_type": "display_data"
    }
   ],
   "source": [
    "selected_cols = c(\"mpg\", \"drat\", \"vs\")\n",
    "df[c(4, 10, 19), selected_cols]"
   ]
  },
  {
   "cell_type": "markdown",
   "metadata": {},
   "source": [
    "### Exercício 3.17\n",
    "\n",
    "Obtenha um vetor que seja a soma da variável cyl com a variável qtd_carburadoes. Qual é a soma dos valores deste novo vetor?"
   ]
  },
  {
   "cell_type": "code",
   "execution_count": 72,
   "metadata": {},
   "outputs": [
    {
     "data": {
      "text/html": [
       "<ol class=list-inline>\n",
       "\t<li>10</li>\n",
       "\t<li>10</li>\n",
       "\t<li>5</li>\n",
       "\t<li>7</li>\n",
       "\t<li>10</li>\n",
       "\t<li>7</li>\n",
       "\t<li>12</li>\n",
       "\t<li>6</li>\n",
       "\t<li>6</li>\n",
       "\t<li>10</li>\n",
       "\t<li>10</li>\n",
       "\t<li>11</li>\n",
       "\t<li>11</li>\n",
       "\t<li>11</li>\n",
       "\t<li>12</li>\n",
       "\t<li>12</li>\n",
       "\t<li>12</li>\n",
       "\t<li>5</li>\n",
       "\t<li>6</li>\n",
       "\t<li>5</li>\n",
       "\t<li>5</li>\n",
       "\t<li>10</li>\n",
       "\t<li>10</li>\n",
       "\t<li>12</li>\n",
       "\t<li>10</li>\n",
       "\t<li>5</li>\n",
       "\t<li>6</li>\n",
       "\t<li>6</li>\n",
       "\t<li>12</li>\n",
       "\t<li>12</li>\n",
       "\t<li>16</li>\n",
       "\t<li>6</li>\n",
       "</ol>\n"
      ],
      "text/latex": [
       "\\begin{enumerate*}\n",
       "\\item 10\n",
       "\\item 10\n",
       "\\item 5\n",
       "\\item 7\n",
       "\\item 10\n",
       "\\item 7\n",
       "\\item 12\n",
       "\\item 6\n",
       "\\item 6\n",
       "\\item 10\n",
       "\\item 10\n",
       "\\item 11\n",
       "\\item 11\n",
       "\\item 11\n",
       "\\item 12\n",
       "\\item 12\n",
       "\\item 12\n",
       "\\item 5\n",
       "\\item 6\n",
       "\\item 5\n",
       "\\item 5\n",
       "\\item 10\n",
       "\\item 10\n",
       "\\item 12\n",
       "\\item 10\n",
       "\\item 5\n",
       "\\item 6\n",
       "\\item 6\n",
       "\\item 12\n",
       "\\item 12\n",
       "\\item 16\n",
       "\\item 6\n",
       "\\end{enumerate*}\n"
      ],
      "text/markdown": [
       "1. 10\n",
       "2. 10\n",
       "3. 5\n",
       "4. 7\n",
       "5. 10\n",
       "6. 7\n",
       "7. 12\n",
       "8. 6\n",
       "9. 6\n",
       "10. 10\n",
       "11. 10\n",
       "12. 11\n",
       "13. 11\n",
       "14. 11\n",
       "15. 12\n",
       "16. 12\n",
       "17. 12\n",
       "18. 5\n",
       "19. 6\n",
       "20. 5\n",
       "21. 5\n",
       "22. 10\n",
       "23. 10\n",
       "24. 12\n",
       "25. 10\n",
       "26. 5\n",
       "27. 6\n",
       "28. 6\n",
       "29. 12\n",
       "30. 12\n",
       "31. 16\n",
       "32. 6\n",
       "\n",
       "\n"
      ],
      "text/plain": [
       " [1] 10 10  5  7 10  7 12  6  6 10 10 11 11 11 12 12 12  5  6  5  5 10 10 12 10\n",
       "[26]  5  6  6 12 12 16  6"
      ]
     },
     "metadata": {},
     "output_type": "display_data"
    }
   ],
   "source": [
    "new_df[, \"cyl\"] + df[, \"qtd_carburadores\"]"
   ]
  }
 ],
 "metadata": {
  "kernelspec": {
   "display_name": "R",
   "language": "R",
   "name": "ir"
  },
  "language_info": {
   "codemirror_mode": "r",
   "file_extension": ".r",
   "mimetype": "text/x-r-source",
   "name": "R",
   "pygments_lexer": "r",
   "version": "3.3.2"
  }
 },
 "nbformat": 4,
 "nbformat_minor": 2
}
